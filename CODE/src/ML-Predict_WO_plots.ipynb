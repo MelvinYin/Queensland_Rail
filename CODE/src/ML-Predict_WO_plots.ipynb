{
 "cells": [
  {
   "cell_type": "code",
   "execution_count": 91,
   "metadata": {},
   "outputs": [],
   "source": [
    "import pandas as pd\n",
    "import numpy as np\n",
    "from ast import literal_eval\n",
    "import pickle\n",
    "from sklearn.utils import resample\n",
    "from sklearn.ensemble import RandomForestClassifier\n",
    "from sklearn import metrics\n",
    "import matplotlib.pyplot as plt\n",
    "import seaborn as sns"
   ]
  },
  {
   "cell_type": "code",
   "execution_count": 4,
   "metadata": {},
   "outputs": [],
   "source": [
    "df = pd.read_csv('TRC_195_16Nov/combined_195.csv')"
   ]
  },
  {
   "cell_type": "code",
   "execution_count": 6,
   "metadata": {},
   "outputs": [
    {
     "data": {
      "text/plain": [
       "Index(['Unnamed: 0', 'METRAGE', 'Date', 'AC LN', 'AC VT', 'CON F', 'GAUGE',\n",
       "       'GR HT', 'OV HT', 'SUPER', 'TOP L', 'TOP R', 'TR ST', 'TW 10', 'TW 3',\n",
       "       'VER L', 'VER R', 'VOLT', 'Track_code', 'Work_orders',\n",
       "       'Work_order_type', 'culvert', 'speed_description',\n",
       "       'speed_char_val_from', 'speed_char_val_to', 'speed_value_units',\n",
       "       'has_wo'],\n",
       "      dtype='object')"
      ]
     },
     "execution_count": 6,
     "metadata": {},
     "output_type": "execute_result"
    }
   ],
   "source": [
    "df.columns"
   ]
  },
  {
   "cell_type": "code",
   "execution_count": 7,
   "metadata": {},
   "outputs": [],
   "source": [
    "def presence_of_wo(x):\n",
    "    num_wo = len(literal_eval(x))\n",
    "    if num_wo >0:\n",
    "        ans = 1\n",
    "    else:\n",
    "        ans = 0\n",
    "    return ans\n",
    "\n",
    "df['has_wo'] = df['Work_order_type'].apply(lambda x: presence_of_wo(x))\n",
    "\n",
    "def morethan1(x):\n",
    "    if x > 1:\n",
    "        return 2\n",
    "    else:\n",
    "        return x\n",
    "num_wo = df['Work_orders'].apply(lambda x: len(literal_eval(x)))\n",
    "df['num_wo'] = num_wo.apply(lambda x: morethan1(x))"
   ]
  },
  {
   "cell_type": "code",
   "execution_count": 8,
   "metadata": {},
   "outputs": [],
   "source": [
    "def contains_ballast(x):\n",
    "    workorders = literal_eval(x)\n",
    "    ans = 0\n",
    "    for work in workorders:\n",
    "        if 'ballast' in work.lower():\n",
    "            ans = 1\n",
    "    return ans\n",
    "df['Ballast_work'] = df['Work_order_type'].apply(lambda x: contains_ballast(x))"
   ]
  },
  {
   "cell_type": "code",
   "execution_count": 9,
   "metadata": {},
   "outputs": [],
   "source": [
    "## test on final two dates\n",
    "test_set = df.loc[(df['Date']== '2019-05-28') | (df['Date']== '2019-03-05')]\n",
    "train_set = df.loc[~((df['Date']== '2019-05-28') | (df['Date']== '2019-03-05'))]"
   ]
  },
  {
   "cell_type": "code",
   "execution_count": 10,
   "metadata": {},
   "outputs": [],
   "source": [
    "\n",
    "df_noB = train_set[train_set['Ballast_work']==0]\n",
    "df_B = train_set[train_set['Ballast_work']==1]\n",
    "\n",
    "downsampled_noB = resample(df_noB, replace = True, n_samples = 63341)\n",
    "downsampled_B = resample(df_B, replace = True, n_samples = 63341)\n",
    "\n",
    "downsampled_df = pd.concat([downsampled_noB,downsampled_B])"
   ]
  },
  {
   "cell_type": "code",
   "execution_count": 14,
   "metadata": {},
   "outputs": [],
   "source": [
    "from sklearn.model_selection import train_test_split\n",
    "measures = ['AC LN', 'AC VT', 'CON F', 'GAUGE', 'GR HT', 'OV HT', 'SUPER', 'TOP L', 'TOP R', 'TR ST',\n",
    "       'TW 10', 'TW 3', 'VER L', 'VOLT']\n",
    "\n",
    "X_train, X_test, y_train, y_test = train_test_split(downsampled_df[measures], downsampled_df['Ballast_work'], test_size=0.4, random_state=0)"
   ]
  },
  {
   "cell_type": "code",
   "execution_count": 39,
   "metadata": {},
   "outputs": [
    {
     "name": "stdout",
     "output_type": "stream",
     "text": [
      "0.999447433856517\n"
     ]
    }
   ],
   "source": [
    "\n",
    "rf = RandomForestClassifier(n_estimators = 20, max_depth= 100).fit(X_train, y_train)\n",
    "rf_pred = rf.predict(X_train)\n",
    "rf_acc = metrics.accuracy_score(rf_pred, y_train)\n",
    "print(rf_acc)"
   ]
  },
  {
   "cell_type": "code",
   "execution_count": 40,
   "metadata": {},
   "outputs": [
    {
     "name": "stdout",
     "output_type": "stream",
     "text": [
      "0.8890730763917668\n"
     ]
    }
   ],
   "source": [
    "rf_test_pred = rf.predict(X_test)\n",
    "rf_test_acc = metrics.accuracy_score(rf_test_pred, y_test)\n",
    "\n",
    "print(rf_test_acc)"
   ]
  },
  {
   "cell_type": "code",
   "execution_count": 41,
   "metadata": {},
   "outputs": [
    {
     "name": "stdout",
     "output_type": "stream",
     "text": [
      "Sorted feature importance:\n",
      "[0.1337754258266437, 0.132926770707862, 0.1009071227965543, 0.08949595654829005, 0.08936033726036055, 0.06833579271970339, 0.05757547688952704, 0.05355676765338039, 0.05264183303387635, 0.05015743569459088, 0.047873764281864004, 0.04165808567486777, 0.04094301604187119, 0.04079221487060843]\n",
      "Fetaure number\n",
      "[13, 5, 6, 12, 3, 2, 4, 9, 10, 1, 0, 11, 7, 8]\n"
     ]
    }
   ],
   "source": [
    "feat_importance = rf.feature_importances_\n",
    "indices = np.argsort(feat_importance)[::-1]\n",
    "print('Sorted feature importance:')\n",
    "print(sorted(feat_importance, reverse = True))\n",
    "\n",
    "print('Fetaure number')\n",
    "print(indices.tolist())"
   ]
  },
  {
   "cell_type": "code",
   "execution_count": 42,
   "metadata": {},
   "outputs": [
    {
     "data": {
      "text/plain": [
       "'VOLT'"
      ]
     },
     "execution_count": 42,
     "metadata": {},
     "output_type": "execute_result"
    }
   ],
   "source": [
    "measures[13]"
   ]
  },
  {
   "cell_type": "code",
   "execution_count": null,
   "metadata": {},
   "outputs": [],
   "source": []
  },
  {
   "cell_type": "code",
   "execution_count": 45,
   "metadata": {},
   "outputs": [],
   "source": [
    "# pickle\n",
    "rf_out =  open('rf_20_100.pickle','wb')\n",
    "pickle.dump(rf, rf_out)\n",
    "rf_out.close()"
   ]
  },
  {
   "cell_type": "markdown",
   "metadata": {},
   "source": [
    "## now plot"
   ]
  },
  {
   "cell_type": "code",
   "execution_count": 46,
   "metadata": {},
   "outputs": [],
   "source": [
    "import pandas as pd\n",
    "import matplotlib.pyplot as plt\n",
    "import descartes\n",
    "from shapely.geometry import Point, Polygon\n",
    "import geopandas as gpd\n",
    "import numpy as np\n",
    "import matplotlib as mpl\n",
    "from utils import paths\n",
    "import os"
   ]
  },
  {
   "cell_type": "code",
   "execution_count": 50,
   "metadata": {},
   "outputs": [],
   "source": [
    "from to_gps_coords import *"
   ]
  },
  {
   "cell_type": "code",
   "execution_count": 47,
   "metadata": {},
   "outputs": [],
   "source": [
    "## first combine data\n",
    "infile = open('rf_20_100.pickle', 'rb')\n",
    "model = pickle.load(infile)\n",
    "infile.close()"
   ]
  },
  {
   "cell_type": "code",
   "execution_count": 49,
   "metadata": {},
   "outputs": [],
   "source": [
    "## smoothing function\n",
    "def smooth_preds(x,thresh):\n",
    "    if x > thresh:\n",
    "        ans = 1\n",
    "    else:\n",
    "        ans =0\n",
    "    return ans"
   ]
  },
  {
   "cell_type": "code",
   "execution_count": 77,
   "metadata": {},
   "outputs": [
    {
     "name": "stderr",
     "output_type": "stream",
     "text": [
      "j:\\shared\\omsa\\sem3\\dva\\lib\\site-packages\\ipykernel_launcher.py:2: SettingWithCopyWarning: \n",
      "A value is trying to be set on a copy of a slice from a DataFrame.\n",
      "Try using .loc[row_indexer,col_indexer] = value instead\n",
      "\n",
      "See the caveats in the documentation: http://pandas.pydata.org/pandas-docs/stable/user_guide/indexing.html#returning-a-view-versus-a-copy\n",
      "  \n",
      "j:\\shared\\omsa\\sem3\\dva\\lib\\site-packages\\ipykernel_launcher.py:3: SettingWithCopyWarning: \n",
      "A value is trying to be set on a copy of a slice from a DataFrame.\n",
      "Try using .loc[row_indexer,col_indexer] = value instead\n",
      "\n",
      "See the caveats in the documentation: http://pandas.pydata.org/pandas-docs/stable/user_guide/indexing.html#returning-a-view-versus-a-copy\n",
      "  This is separate from the ipykernel package so we can avoid doing imports until\n"
     ]
    }
   ],
   "source": [
    "pred = model.predict(test_set[measures])\n",
    "test_set['wo_prediction'] = pred\n",
    "test_set['wo_prediction_smoothed'] = test_set['wo_prediction'].rolling(10).mean().apply(lambda x: str(smooth_preds(x, 0.5)))"
   ]
  },
  {
   "cell_type": "code",
   "execution_count": 78,
   "metadata": {},
   "outputs": [
    {
     "name": "stderr",
     "output_type": "stream",
     "text": [
      "J:\\Shared\\OMSA\\sem3\\DVA\\dva_project\\src\\to_gps_coords.py:141: SettingWithCopyWarning: \n",
      "A value is trying to be set on a copy of a slice from a DataFrame.\n",
      "Try using .loc[row_indexer,col_indexer] = value instead\n",
      "\n",
      "See the caveats in the documentation: http://pandas.pydata.org/pandas-docs/stable/user_guide/indexing.html#returning-a-view-versus-a-copy\n",
      "  self.df_to_match['Latitude'] = self.df_to_match['METRAGE'].apply(lambda x: np.interp(x, dist, lat))\n",
      "J:\\Shared\\OMSA\\sem3\\DVA\\dva_project\\src\\to_gps_coords.py:142: SettingWithCopyWarning: \n",
      "A value is trying to be set on a copy of a slice from a DataFrame.\n",
      "Try using .loc[row_indexer,col_indexer] = value instead\n",
      "\n",
      "See the caveats in the documentation: http://pandas.pydata.org/pandas-docs/stable/user_guide/indexing.html#returning-a-view-versus-a-copy\n",
      "  self.df_to_match['Longitude'] = self.df_to_match['METRAGE'].apply(lambda x: np.interp(x, dist, long))\n"
     ]
    }
   ],
   "source": [
    "gps_data = pd.read_csv(os.path.join(paths.DATA_DERIVED, 'C138_C195_coords.csv'))\n",
    "to_concat = []\n",
    "for tc in test_set['Track_code'].unique():\n",
    "    output = Match_gps(gps_data, test_set[test_set['Track_code'] == tc], track_code = str(tc)[:3]).TRC_to_gps()\n",
    "    to_concat.append(output)"
   ]
  },
  {
   "cell_type": "code",
   "execution_count": 79,
   "metadata": {},
   "outputs": [],
   "source": [
    "comb_df = pd.concat(to_concat)"
   ]
  },
  {
   "cell_type": "code",
   "execution_count": 80,
   "metadata": {},
   "outputs": [
    {
     "data": {
      "text/plain": [
       "Index(['Unnamed: 0', 'METRAGE', 'Date', 'AC LN', 'AC VT', 'CON F', 'GAUGE',\n",
       "       'GR HT', 'OV HT', 'SUPER', 'TOP L', 'TOP R', 'TR ST', 'TW 10', 'TW 3',\n",
       "       'VER L', 'VER R', 'VOLT', 'Track_code', 'Work_orders',\n",
       "       'Work_order_type', 'culvert', 'speed_description',\n",
       "       'speed_char_val_from', 'speed_char_val_to', 'speed_value_units',\n",
       "       'has_wo', 'num_wo', 'Ballast_work', 'wo_prediction',\n",
       "       'wo_prediction_smoothed', 'Latitude', 'Longitude', 'geometry'],\n",
       "      dtype='object')"
      ]
     },
     "execution_count": 80,
     "metadata": {},
     "output_type": "execute_result"
    }
   ],
   "source": [
    "geometry = [Point(xy) for xy in zip(comb_df['Longitude'], comb_df['Latitude'])] ## state geometry\n",
    "geo_df = gpd.GeoDataFrame(comb_df, crs = {'init':'epsg:4326'}, geometry = geometry) # create geopandas df\n",
    "geo_df.columns"
   ]
  },
  {
   "cell_type": "code",
   "execution_count": 131,
   "metadata": {},
   "outputs": [
    {
     "data": {
      "text/html": [
       "<div>\n",
       "<style scoped>\n",
       "    .dataframe tbody tr th:only-of-type {\n",
       "        vertical-align: middle;\n",
       "    }\n",
       "\n",
       "    .dataframe tbody tr th {\n",
       "        vertical-align: top;\n",
       "    }\n",
       "\n",
       "    .dataframe thead th {\n",
       "        text-align: right;\n",
       "    }\n",
       "</style>\n",
       "<table border=\"1\" class=\"dataframe\">\n",
       "  <thead>\n",
       "    <tr style=\"text-align: right;\">\n",
       "      <th></th>\n",
       "      <th>Unnamed: 0</th>\n",
       "      <th>METRAGE</th>\n",
       "      <th>Date</th>\n",
       "      <th>AC LN</th>\n",
       "      <th>AC VT</th>\n",
       "      <th>CON F</th>\n",
       "      <th>GAUGE</th>\n",
       "      <th>GR HT</th>\n",
       "      <th>OV HT</th>\n",
       "      <th>SUPER</th>\n",
       "      <th>...</th>\n",
       "      <th>speed_char_val_to</th>\n",
       "      <th>speed_value_units</th>\n",
       "      <th>has_wo</th>\n",
       "      <th>num_wo</th>\n",
       "      <th>Ballast_work</th>\n",
       "      <th>wo_prediction</th>\n",
       "      <th>wo_prediction_smoothed</th>\n",
       "      <th>Latitude</th>\n",
       "      <th>Longitude</th>\n",
       "      <th>geometry</th>\n",
       "    </tr>\n",
       "  </thead>\n",
       "  <tbody>\n",
       "    <tr>\n",
       "      <td>235</td>\n",
       "      <td>235</td>\n",
       "      <td>207.013</td>\n",
       "      <td>2019-05-28</td>\n",
       "      <td>0.1</td>\n",
       "      <td>0.3</td>\n",
       "      <td>-46.9</td>\n",
       "      <td>1067.0</td>\n",
       "      <td>7.4</td>\n",
       "      <td>774.0</td>\n",
       "      <td>3.5</td>\n",
       "      <td>...</td>\n",
       "      <td>NaN</td>\n",
       "      <td>NaN</td>\n",
       "      <td>0</td>\n",
       "      <td>0</td>\n",
       "      <td>0</td>\n",
       "      <td>0</td>\n",
       "      <td>0</td>\n",
       "      <td>-25.950832</td>\n",
       "      <td>152.542934</td>\n",
       "      <td>POINT (152.54293 -25.95083)</td>\n",
       "    </tr>\n",
       "    <tr>\n",
       "      <td>253</td>\n",
       "      <td>253</td>\n",
       "      <td>207.014</td>\n",
       "      <td>2019-05-28</td>\n",
       "      <td>0.6</td>\n",
       "      <td>0.4</td>\n",
       "      <td>-46.9</td>\n",
       "      <td>1067.5</td>\n",
       "      <td>6.6</td>\n",
       "      <td>774.8</td>\n",
       "      <td>2.3</td>\n",
       "      <td>...</td>\n",
       "      <td>NaN</td>\n",
       "      <td>NaN</td>\n",
       "      <td>0</td>\n",
       "      <td>0</td>\n",
       "      <td>0</td>\n",
       "      <td>0</td>\n",
       "      <td>0</td>\n",
       "      <td>-25.950823</td>\n",
       "      <td>152.542938</td>\n",
       "      <td>POINT (152.54294 -25.95082)</td>\n",
       "    </tr>\n",
       "    <tr>\n",
       "      <td>271</td>\n",
       "      <td>271</td>\n",
       "      <td>207.015</td>\n",
       "      <td>2019-05-28</td>\n",
       "      <td>0.5</td>\n",
       "      <td>0.4</td>\n",
       "      <td>-46.3</td>\n",
       "      <td>1067.5</td>\n",
       "      <td>5.8</td>\n",
       "      <td>775.9</td>\n",
       "      <td>3.1</td>\n",
       "      <td>...</td>\n",
       "      <td>NaN</td>\n",
       "      <td>NaN</td>\n",
       "      <td>0</td>\n",
       "      <td>0</td>\n",
       "      <td>0</td>\n",
       "      <td>0</td>\n",
       "      <td>0</td>\n",
       "      <td>-25.950815</td>\n",
       "      <td>152.542942</td>\n",
       "      <td>POINT (152.54294 -25.95081)</td>\n",
       "    </tr>\n",
       "    <tr>\n",
       "      <td>289</td>\n",
       "      <td>289</td>\n",
       "      <td>207.016</td>\n",
       "      <td>2019-05-28</td>\n",
       "      <td>0.5</td>\n",
       "      <td>0.3</td>\n",
       "      <td>-42.6</td>\n",
       "      <td>1066.0</td>\n",
       "      <td>4.0</td>\n",
       "      <td>769.9</td>\n",
       "      <td>3.4</td>\n",
       "      <td>...</td>\n",
       "      <td>NaN</td>\n",
       "      <td>NaN</td>\n",
       "      <td>0</td>\n",
       "      <td>0</td>\n",
       "      <td>0</td>\n",
       "      <td>0</td>\n",
       "      <td>0</td>\n",
       "      <td>-25.950806</td>\n",
       "      <td>152.542946</td>\n",
       "      <td>POINT (152.54295 -25.95081)</td>\n",
       "    </tr>\n",
       "    <tr>\n",
       "      <td>307</td>\n",
       "      <td>307</td>\n",
       "      <td>207.017</td>\n",
       "      <td>2019-05-28</td>\n",
       "      <td>0.5</td>\n",
       "      <td>0.4</td>\n",
       "      <td>-40.9</td>\n",
       "      <td>1067.0</td>\n",
       "      <td>3.4</td>\n",
       "      <td>768.8</td>\n",
       "      <td>2.0</td>\n",
       "      <td>...</td>\n",
       "      <td>NaN</td>\n",
       "      <td>NaN</td>\n",
       "      <td>0</td>\n",
       "      <td>0</td>\n",
       "      <td>0</td>\n",
       "      <td>0</td>\n",
       "      <td>0</td>\n",
       "      <td>-25.950798</td>\n",
       "      <td>152.542950</td>\n",
       "      <td>POINT (152.54295 -25.95080)</td>\n",
       "    </tr>\n",
       "  </tbody>\n",
       "</table>\n",
       "<p>5 rows × 34 columns</p>\n",
       "</div>"
      ],
      "text/plain": [
       "     Unnamed: 0  METRAGE        Date  AC LN  AC VT  CON F   GAUGE  GR HT  \\\n",
       "235         235  207.013  2019-05-28    0.1    0.3  -46.9  1067.0    7.4   \n",
       "253         253  207.014  2019-05-28    0.6    0.4  -46.9  1067.5    6.6   \n",
       "271         271  207.015  2019-05-28    0.5    0.4  -46.3  1067.5    5.8   \n",
       "289         289  207.016  2019-05-28    0.5    0.3  -42.6  1066.0    4.0   \n",
       "307         307  207.017  2019-05-28    0.5    0.4  -40.9  1067.0    3.4   \n",
       "\n",
       "     OV HT  SUPER  ...  speed_char_val_to  speed_value_units  has_wo  num_wo  \\\n",
       "235  774.0    3.5  ...                NaN                NaN       0       0   \n",
       "253  774.8    2.3  ...                NaN                NaN       0       0   \n",
       "271  775.9    3.1  ...                NaN                NaN       0       0   \n",
       "289  769.9    3.4  ...                NaN                NaN       0       0   \n",
       "307  768.8    2.0  ...                NaN                NaN       0       0   \n",
       "\n",
       "     Ballast_work  wo_prediction  wo_prediction_smoothed   Latitude  \\\n",
       "235             0              0                       0 -25.950832   \n",
       "253             0              0                       0 -25.950823   \n",
       "271             0              0                       0 -25.950815   \n",
       "289             0              0                       0 -25.950806   \n",
       "307             0              0                       0 -25.950798   \n",
       "\n",
       "      Longitude                     geometry  \n",
       "235  152.542934  POINT (152.54293 -25.95083)  \n",
       "253  152.542938  POINT (152.54294 -25.95082)  \n",
       "271  152.542942  POINT (152.54294 -25.95081)  \n",
       "289  152.542946  POINT (152.54295 -25.95081)  \n",
       "307  152.542950  POINT (152.54295 -25.95080)  \n",
       "\n",
       "[5 rows x 34 columns]"
      ]
     },
     "execution_count": 131,
     "metadata": {},
     "output_type": "execute_result"
    }
   ],
   "source": [
    "geo_df.head()"
   ]
  },
  {
   "cell_type": "code",
   "execution_count": 90,
   "metadata": {},
   "outputs": [
    {
     "data": {
      "text/plain": [
       "<matplotlib.axes._subplots.AxesSubplot at 0x1ae0a0a8748>"
      ]
     },
     "execution_count": 90,
     "metadata": {},
     "output_type": "execute_result"
    },
    {
     "data": {
      "image/png": "[encoded data removed]",
      "text/plain": [
       "<Figure size 1080x1080 with 1 Axes>"
      ]
     },
     "metadata": {
      "needs_background": "light"
     },
     "output_type": "display_data"
    }
   ],
   "source": [
    "## plot lines according to subdivision\n",
    "fig,ax = plt.subplots(figsize = (15,15))\n",
    "geo_df.plot(ax = ax, column = 'wo_prediction_smoothed', markersize = 4, cmap = 'Oranges', legend = True, alpha = 0.5)"
   ]
  },
  {
   "cell_type": "code",
   "execution_count": 130,
   "metadata": {},
   "outputs": [
    {
     "name": "stderr",
     "output_type": "stream",
     "text": [
      "j:\\shared\\omsa\\sem3\\dva\\lib\\site-packages\\ipykernel_launcher.py:1: SettingWithCopyWarning: \n",
      "A value is trying to be set on a copy of a slice from a DataFrame.\n",
      "Try using .loc[row_indexer,col_indexer] = value instead\n",
      "\n",
      "See the caveats in the documentation: http://pandas.pydata.org/pandas-docs/stable/user_guide/indexing.html#returning-a-view-versus-a-copy\n",
      "  \"\"\"Entry point for launching an IPython kernel.\n"
     ]
    },
    {
     "data": {
      "text/plain": [
       "Date        Track_code  METRAGE\n",
       "2019-03-05  728001      263.277    0.0\n",
       "                        263.278    0.0\n",
       "                        263.279    0.0\n",
       "                        263.280    0.0\n",
       "                        263.281    0.0\n",
       "                                  ... \n",
       "2019-05-28  729001      348.896    0.0\n",
       "                        348.897    0.0\n",
       "                        348.898    0.0\n",
       "                        348.899    0.0\n",
       "                        348.900    0.0\n",
       "Name: wo_prediction_smoothed, Length: 227308, dtype: float64"
      ]
     },
     "execution_count": 130,
     "metadata": {},
     "output_type": "execute_result"
    }
   ],
   "source": [
    "test_set['wo_prediction_smoothed'] = test_set['wo_prediction_smoothed'].astype(float)\n",
    "test_set.reset_index().groupby(['Date', 'Track_code', 'METRAGE'])['wo_prediction_smoothed'].mean().round()"
   ]
  },
  {
   "cell_type": "code",
   "execution_count": 114,
   "metadata": {},
   "outputs": [
    {
     "data": {
      "image/png": "[encoded data removed]",
      "text/plain": [
       "<Figure size 360x1440 with 2 Axes>"
      ]
     },
     "metadata": {
      "needs_background": "light"
     },
     "output_type": "display_data"
    }
   ],
   "source": [
    "fig, ax = plt.subplots(figsize = (5,20))\n",
    "test_set.set_index('METRAGE')\n",
    "ax = sns.heatmap(test_set[['wo_prediction_smoothed']].astype(float), cmap = 'Oranges')\n",
    "plt.show()"
   ]
  },
  {
   "cell_type": "code",
   "execution_count": null,
   "metadata": {},
   "outputs": [],
   "source": []
  }
 ],
 "metadata": {
  "kernelspec": {
   "display_name": "Python 3",
   "language": "python",
   "name": "python3"
  },
  "language_info": {
   "codemirror_mode": {
    "name": "ipython",
    "version": 3
   },
   "file_extension": ".py",
   "mimetype": "text/x-python",
   "name": "python",
   "nbconvert_exporter": "python",
   "pygments_lexer": "ipython3",
   "version": "3.6.0"
  }
 },
 "nbformat": 4,
 "nbformat_minor": 2
}
