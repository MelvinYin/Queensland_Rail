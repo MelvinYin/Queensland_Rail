{
 "cells": [
  {
   "cell_type": "markdown",
   "metadata": {},
   "source": [
    "# ML Models Using GPR and TRC SF 401"
   ]
  },
  {
   "cell_type": "code",
   "execution_count": 9,
   "metadata": {},
   "outputs": [],
   "source": [
    "import pandas as pd\n",
    "import numpy as np\n",
    "import matplotlib.pyplot as plt\n",
    "\n",
    "from sklearn.model_selection import train_test_split\n",
    "from sklearn import preprocessing\n",
    "from sklearn.model_selection import cross_val_score\n",
    "from sklearn.model_selection import GridSearchCV\n",
    "import scipy.stats\n",
    "\n",
    "# Linear Regression\n",
    "from sklearn.linear_model import LinearRegression\n",
    "from sklearn import linear_model\n",
    "from sklearn import metrics\n",
    "import statsmodels.api as sms\n",
    "\n",
    "# Random Forest Regression\n",
    "from sklearn.ensemble import RandomForestRegressor\n",
    "\n",
    "# Support Vector Regression\n",
    "from sklearn.svm import SVR\n",
    "\n",
    "#####ADDED TO SUPPRESS WARNINGS\n",
    "import warnings\n",
    "warnings.filterwarnings(\"ignore\")\n",
    "#####ADDED TO SUPPRESS WARNINGS\n"
   ]
  },
  {
   "cell_type": "code",
   "execution_count": 10,
   "metadata": {},
   "outputs": [],
   "source": [
    "# Global variables\n",
    "FeatureFile = '.\\Data\\SF401OUT_V2.xlsx'\n",
    "random_state = 1234 "
   ]
  },
  {
   "cell_type": "code",
   "execution_count": 11,
   "metadata": {},
   "outputs": [],
   "source": [
    "# Read feature file\n",
    "featureDF_all = pd.read_excel(FeatureFile)\n",
    "\n",
    "# Drop rows with Nan\n",
    "featureDF = featureDF_all.dropna()\n",
    "\n",
    "#featureDF"
   ]
  },
  {
   "cell_type": "markdown",
   "metadata": {},
   "source": [
    "## Initial Model Params"
   ]
  },
  {
   "cell_type": "code",
   "execution_count": 12,
   "metadata": {},
   "outputs": [],
   "source": [
    "## The following columns are not included as features\n",
    "# METRAGE = not a predictor of defect\n",
    "# Start Km = not a predictor of defect\n",
    "# End Km = not a predictor of defect\n",
    "# SDTopLeft4 = the 4th (most recent) TRC data used as a predictor, so assume not available to train\n",
    "# SDTopRight4 = the 4th (most recent) TRC data used as a predictor, so assume not available to train\n",
    "# SDTwist104 = the 4th (most recent) TRC data used as a predictor, so assume not available to train\n",
    "# SDTwist34 = the 4th (most recent) TRC data used as a predictor, so assume not available to train\n",
    "# SDVersL4 = the 4th (most recent) TRC data used as a predictor, so assume not available to train\n",
    "# SDVersR4 = the 4th (most recent) TRC data used as a predictor, so assume not available to train\n",
    "# Combined1 = derived from other predictors (eg SDTwist3)\n",
    "# Combined2 = derived from other predictors (eg SDTwist3)\n",
    "# Combined3 = derived from other predictors (eg SDTwist3)\n",
    "# Combined4 = response\n",
    "\n",
    "## The following are predictors\n",
    "# PVCLeft\n",
    "# PVCCentre\n",
    "# PVCRight\n",
    "# LRILeft\n",
    "# LRICentre\n",
    "# LRIRight\n",
    "# BTILeft\n",
    "# BTICentre\n",
    "# BTIRight\n",
    "# MLILeft\n",
    "# MLICentre\n",
    "# MLIRight\n",
    "# SMLILeft\n",
    "# SMLICentre\n",
    "# SMLIRight\n",
    "# FDLLeft\n",
    "# FDLCentre\n",
    "# FDLRight\n",
    "# CTQILeft\n",
    "# CTQICentre\n",
    "# CTQIRight\n",
    "# BVMLeftVolume\n",
    "# BVMLeftCategory\n",
    "# BVMCentreVolume\n",
    "# BVMCentreCategory\n",
    "# BVMRightVolume\n",
    "# BVMRightCategory\n",
    "# SMI\n",
    "# SDTopLeft1\n",
    "# SDTopLeft2\n",
    "# SDTopLeft3\n",
    "# SDTopRight1\n",
    "# SDTopRight2\n",
    "# SDTopRight3\n",
    "# SDTwist101\n",
    "# SDTwist102\n",
    "# SDTwist103\n",
    "# SDTwist31\n",
    "# SDTwist32\n",
    "# SDTwist33\n",
    "# SDVersL1\n",
    "# SDVersL2\n",
    "# SDVersL3\n",
    "# SDVersR1\n",
    "# SDVersR2\n",
    "# SDVersR3\n",
    "\n",
    "## Response variable\n",
    "# Combined4 = response\n"
   ]
  },
  {
   "cell_type": "code",
   "execution_count": 13,
   "metadata": {},
   "outputs": [],
   "source": [
    "# Create train and test datsets\n",
    "test_proportion = 0.25\n",
    "nSamples = featureDF.shape[0] # number of observations\n",
    "non_features = ['METRAGE', 'Start Km', 'End Km', 'SDTopLeft4', 'SDTopRight4', 'Combined1','SDTwist104', \n",
    "                'SDTwist34','SDVersL4', 'SDVersR4', 'Combined1', 'Combined2', 'Combined3', 'Combined4']\n",
    "\n",
    "indices = range(nSamples)\n",
    "X_train, X_test, y_train, y_test, indices_train, indices_test = train_test_split(featureDF, featureDF['Combined4'],\n",
    "                            indices, test_size=test_proportion, random_state = random_state)\n",
    "\n",
    "# Drop non-feature columns\n",
    "X_train = X_train.drop(non_features, axis=1)\n",
    "X_test = X_test.drop(non_features, axis=1)\n",
    "nFeatures = X_train.shape[1] # number of features\n",
    "\n",
    "# For use in cross validation - do not split training and test\n",
    "X = featureDF.drop(non_features, axis=1)\n",
    "y = featureDF['Combined4']\n",
    "\n",
    "# Get mean of y_test for model assessment\n",
    "y_test_mean = np.mean(y_test)\n",
    "\n",
    "# Normalise features\n",
    "scaler = preprocessing.StandardScaler()\n",
    "X_train_scaled = scaler.fit_transform(X_train)\n",
    "X_train_scaled = pd.DataFrame(X_train_scaled, columns=X_train.columns)\n",
    "X_test_scaled = scaler.fit_transform(X_test)\n",
    "X_test_scaled = pd.DataFrame(X_test_scaled, columns=X_train.columns)\n",
    "X_scaled = scaler.fit_transform(X)\n",
    "X_scaled = pd.DataFrame(X_scaled, columns=X_train.columns)"
   ]
  },
  {
   "cell_type": "markdown",
   "metadata": {},
   "source": [
    "### Linear Regression \n"
   ]
  },
  {
   "cell_type": "markdown",
   "metadata": {},
   "source": [
    "#### Not Normalised"
   ]
  },
  {
   "cell_type": "code",
   "execution_count": 14,
   "metadata": {},
   "outputs": [
    {
     "name": "stdout",
     "output_type": "stream",
     "text": [
      "Coefficient of determination: 0.8105\n",
      "LR accuracy: 84.72 %.\n"
     ]
    },
    {
     "data": {
      "text/html": [
       "<div>\n",
       "<style scoped>\n",
       "    .dataframe tbody tr th:only-of-type {\n",
       "        vertical-align: middle;\n",
       "    }\n",
       "\n",
       "    .dataframe tbody tr th {\n",
       "        vertical-align: top;\n",
       "    }\n",
       "\n",
       "    .dataframe thead th {\n",
       "        text-align: right;\n",
       "    }\n",
       "</style>\n",
       "<table border=\"1\" class=\"dataframe\">\n",
       "  <thead>\n",
       "    <tr style=\"text-align: right;\">\n",
       "      <th></th>\n",
       "      <th>Coefficient</th>\n",
       "    </tr>\n",
       "  </thead>\n",
       "  <tbody>\n",
       "    <tr>\n",
       "      <th>PVCLeft</th>\n",
       "      <td>0.000079</td>\n",
       "    </tr>\n",
       "    <tr>\n",
       "      <th>PVCCentre</th>\n",
       "      <td>-0.000229</td>\n",
       "    </tr>\n",
       "    <tr>\n",
       "      <th>PVCRight</th>\n",
       "      <td>-0.000280</td>\n",
       "    </tr>\n",
       "    <tr>\n",
       "      <th>LRILeft</th>\n",
       "      <td>-0.014777</td>\n",
       "    </tr>\n",
       "    <tr>\n",
       "      <th>LRICentre</th>\n",
       "      <td>0.026097</td>\n",
       "    </tr>\n",
       "    <tr>\n",
       "      <th>LRIRight</th>\n",
       "      <td>0.034725</td>\n",
       "    </tr>\n",
       "    <tr>\n",
       "      <th>BTILeft</th>\n",
       "      <td>-0.089233</td>\n",
       "    </tr>\n",
       "    <tr>\n",
       "      <th>BTICentre</th>\n",
       "      <td>0.068832</td>\n",
       "    </tr>\n",
       "    <tr>\n",
       "      <th>BTIRight</th>\n",
       "      <td>-0.006599</td>\n",
       "    </tr>\n",
       "    <tr>\n",
       "      <th>MLILeft</th>\n",
       "      <td>0.102366</td>\n",
       "    </tr>\n",
       "    <tr>\n",
       "      <th>MLICentre</th>\n",
       "      <td>-0.118490</td>\n",
       "    </tr>\n",
       "    <tr>\n",
       "      <th>MLIRight</th>\n",
       "      <td>-0.003301</td>\n",
       "    </tr>\n",
       "    <tr>\n",
       "      <th>SMLILeft</th>\n",
       "      <td>-0.056824</td>\n",
       "    </tr>\n",
       "    <tr>\n",
       "      <th>SMLICentre</th>\n",
       "      <td>0.095977</td>\n",
       "    </tr>\n",
       "    <tr>\n",
       "      <th>SMLIRight</th>\n",
       "      <td>-0.006205</td>\n",
       "    </tr>\n",
       "    <tr>\n",
       "      <th>FDLLeft</th>\n",
       "      <td>0.005649</td>\n",
       "    </tr>\n",
       "    <tr>\n",
       "      <th>FDLCentre</th>\n",
       "      <td>0.109669</td>\n",
       "    </tr>\n",
       "    <tr>\n",
       "      <th>FDLRight</th>\n",
       "      <td>0.060181</td>\n",
       "    </tr>\n",
       "    <tr>\n",
       "      <th>CTQILeft</th>\n",
       "      <td>-0.003509</td>\n",
       "    </tr>\n",
       "    <tr>\n",
       "      <th>CTQICentre</th>\n",
       "      <td>-0.097187</td>\n",
       "    </tr>\n",
       "    <tr>\n",
       "      <th>CTQIRight</th>\n",
       "      <td>0.113344</td>\n",
       "    </tr>\n",
       "    <tr>\n",
       "      <th>BVMLeftVolume</th>\n",
       "      <td>0.026760</td>\n",
       "    </tr>\n",
       "    <tr>\n",
       "      <th>BVMLeftCategory</th>\n",
       "      <td>0.072602</td>\n",
       "    </tr>\n",
       "    <tr>\n",
       "      <th>BVMCentreVolume</th>\n",
       "      <td>-0.085258</td>\n",
       "    </tr>\n",
       "    <tr>\n",
       "      <th>BVMCentreCategory</th>\n",
       "      <td>-0.012856</td>\n",
       "    </tr>\n",
       "    <tr>\n",
       "      <th>BVMRightVolume</th>\n",
       "      <td>0.018536</td>\n",
       "    </tr>\n",
       "    <tr>\n",
       "      <th>BVMRightCategory</th>\n",
       "      <td>0.100412</td>\n",
       "    </tr>\n",
       "    <tr>\n",
       "      <th>SMI</th>\n",
       "      <td>-0.023269</td>\n",
       "    </tr>\n",
       "    <tr>\n",
       "      <th>SDTopLeft1</th>\n",
       "      <td>0.077153</td>\n",
       "    </tr>\n",
       "    <tr>\n",
       "      <th>SDTopLeft2</th>\n",
       "      <td>0.132858</td>\n",
       "    </tr>\n",
       "    <tr>\n",
       "      <th>SDTopLeft3</th>\n",
       "      <td>0.074410</td>\n",
       "    </tr>\n",
       "    <tr>\n",
       "      <th>SDTopRight1</th>\n",
       "      <td>0.057976</td>\n",
       "    </tr>\n",
       "    <tr>\n",
       "      <th>SDTopRight2</th>\n",
       "      <td>-0.105212</td>\n",
       "    </tr>\n",
       "    <tr>\n",
       "      <th>SDTopRight3</th>\n",
       "      <td>0.597468</td>\n",
       "    </tr>\n",
       "    <tr>\n",
       "      <th>SDTwist101</th>\n",
       "      <td>0.034806</td>\n",
       "    </tr>\n",
       "    <tr>\n",
       "      <th>SDTwist102</th>\n",
       "      <td>-0.086853</td>\n",
       "    </tr>\n",
       "    <tr>\n",
       "      <th>SDTwist103</th>\n",
       "      <td>0.064044</td>\n",
       "    </tr>\n",
       "    <tr>\n",
       "      <th>SDTwist31</th>\n",
       "      <td>-0.109199</td>\n",
       "    </tr>\n",
       "    <tr>\n",
       "      <th>SDTwist32</th>\n",
       "      <td>0.588687</td>\n",
       "    </tr>\n",
       "    <tr>\n",
       "      <th>SDTwist33</th>\n",
       "      <td>0.452370</td>\n",
       "    </tr>\n",
       "    <tr>\n",
       "      <th>SDVersL1</th>\n",
       "      <td>-0.083507</td>\n",
       "    </tr>\n",
       "    <tr>\n",
       "      <th>SDVersL2</th>\n",
       "      <td>0.050018</td>\n",
       "    </tr>\n",
       "    <tr>\n",
       "      <th>SDVersL3</th>\n",
       "      <td>-0.054983</td>\n",
       "    </tr>\n",
       "    <tr>\n",
       "      <th>SDVersR1</th>\n",
       "      <td>0.045969</td>\n",
       "    </tr>\n",
       "    <tr>\n",
       "      <th>SDVersR2</th>\n",
       "      <td>0.003069</td>\n",
       "    </tr>\n",
       "    <tr>\n",
       "      <th>SDVersR3</th>\n",
       "      <td>0.063265</td>\n",
       "    </tr>\n",
       "  </tbody>\n",
       "</table>\n",
       "</div>"
      ],
      "text/plain": [
       "                   Coefficient\n",
       "PVCLeft               0.000079\n",
       "PVCCentre            -0.000229\n",
       "PVCRight             -0.000280\n",
       "LRILeft              -0.014777\n",
       "LRICentre             0.026097\n",
       "LRIRight              0.034725\n",
       "BTILeft              -0.089233\n",
       "BTICentre             0.068832\n",
       "BTIRight             -0.006599\n",
       "MLILeft               0.102366\n",
       "MLICentre            -0.118490\n",
       "MLIRight             -0.003301\n",
       "SMLILeft             -0.056824\n",
       "SMLICentre            0.095977\n",
       "SMLIRight            -0.006205\n",
       "FDLLeft               0.005649\n",
       "FDLCentre             0.109669\n",
       "FDLRight              0.060181\n",
       "CTQILeft             -0.003509\n",
       "CTQICentre           -0.097187\n",
       "CTQIRight             0.113344\n",
       "BVMLeftVolume         0.026760\n",
       "BVMLeftCategory       0.072602\n",
       "BVMCentreVolume      -0.085258\n",
       "BVMCentreCategory    -0.012856\n",
       "BVMRightVolume        0.018536\n",
       "BVMRightCategory      0.100412\n",
       "SMI                  -0.023269\n",
       "SDTopLeft1            0.077153\n",
       "SDTopLeft2            0.132858\n",
       "SDTopLeft3            0.074410\n",
       "SDTopRight1           0.057976\n",
       "SDTopRight2          -0.105212\n",
       "SDTopRight3           0.597468\n",
       "SDTwist101            0.034806\n",
       "SDTwist102           -0.086853\n",
       "SDTwist103            0.064044\n",
       "SDTwist31            -0.109199\n",
       "SDTwist32             0.588687\n",
       "SDTwist33             0.452370\n",
       "SDVersL1             -0.083507\n",
       "SDVersL2              0.050018\n",
       "SDVersL3             -0.054983\n",
       "SDVersR1              0.045969\n",
       "SDVersR2              0.003069\n",
       "SDVersR3              0.063265"
      ]
     },
     "execution_count": 14,
     "metadata": {},
     "output_type": "execute_result"
    }
   ],
   "source": [
    "# Create linear regression model\n",
    "LRmodel = LinearRegression(fit_intercept = True, normalize = False)\n",
    "LRmodel.fit(X_train, y_train)\n",
    "\n",
    "r2 = LRmodel.score(X_train, y_train)\n",
    "print('Coefficient of determination:', round(r2,4))\n",
    "\n",
    "# Generate predictions and assess accuracy\n",
    "LR_pred = LRmodel.predict(X_test)\n",
    "LRerrors = abs(LR_pred - y_test)\n",
    "\n",
    "# Calculate mean absolute percentage error (MAPE)\n",
    "LRmape = 100 * (LRerrors / y_test)\n",
    "LRaccuracy = 100 - np.mean(LRmape)\n",
    "print('LR accuracy:', round(LRaccuracy, 2), '%.')\n",
    "\n",
    "# Obtain coefficients\n",
    "coeff_df = pd.DataFrame(LRmodel.coef_, X_train.columns, columns=['Coefficient'])  \n",
    "coeff_df"
   ]
  },
  {
   "cell_type": "markdown",
   "metadata": {},
   "source": [
    "#### Normalised"
   ]
  },
  {
   "cell_type": "code",
   "execution_count": 15,
   "metadata": {},
   "outputs": [
    {
     "name": "stdout",
     "output_type": "stream",
     "text": [
      "LR coefficient of determination: 0.8105\n",
      "LR accuracy: 84.62 %.\n"
     ]
    }
   ],
   "source": [
    "# Create linear regression model\n",
    "LRmodel_scaled = LinearRegression(fit_intercept = True, normalize = True)\n",
    "LRmodel_scaled.fit(X_train_scaled, y_train)\n",
    "\n",
    "r2 = LRmodel_scaled.score(X_train_scaled, y_train)\n",
    "print('LR coefficient of determination:', round(r2,4))\n",
    "\n",
    "# Generate predictions and assess accuracy\n",
    "LR_pred_scaled = LRmodel_scaled.predict(X_test_scaled)\n",
    "LRerrors = abs(LR_pred_scaled - y_test)\n",
    "\n",
    "# Calculate mean absolute percentage error (MAPE)\n",
    "LRmape = 100 * (LRerrors / y_test)\n",
    "LRaccuracy = 100 - np.mean(LRmape)\n",
    "print('LR accuracy:', round(LRaccuracy, 2), '%.')"
   ]
  },
  {
   "cell_type": "markdown",
   "metadata": {},
   "source": [
    "#### Plot predicted vs. actual"
   ]
  },
  {
   "cell_type": "code",
   "execution_count": 17,
   "metadata": {},
   "outputs": [
    {
     "data": {
      "image/png": "[encoded data removed]",
      "text/plain": [
       "<Figure size 432x288 with 1 Axes>"
      ]
     },
     "metadata": {
      "needs_background": "light"
     },
     "output_type": "display_data"
    }
   ],
   "source": [
    "plt.scatter(LR_pred, y_test)\n",
    "plt.title('Linear Regression (unscaled): predicted vs. actual', fontsize=12)\n",
    "plt.xlabel('Predicted (test)', fontsize=10)\n",
    "plt.ylabel('Actual (test)', fontsize=10)\n",
    "\n",
    "# Plot line of best fit\n",
    "plt.plot(np.unique(LR_pred), np.poly1d(np.polyfit(LR_pred, y_test, 1))(np.unique(LR_pred)), color='red')\n",
    "slope, intercept, r_value, p_value, std_err = scipy.stats.linregress(LR_pred, y_test)\n",
    "M_string = 'M = ' + str(round(slope,2)) + ', R = ' + str(round(r_value,2))# Extract gradient ~1.0\n",
    "plt.text(4,7,M_string, color='red')               \n",
    "plt.show()"
   ]
  },
  {
   "cell_type": "code",
   "execution_count": 18,
   "metadata": {},
   "outputs": [
    {
     "name": "stdout",
     "output_type": "stream",
     "text": [
      "                                 OLS Regression Results                                \n",
      "=======================================================================================\n",
      "Dep. Variable:              Combined4   R-squared (uncentered):                   0.970\n",
      "Model:                            OLS   Adj. R-squared (uncentered):              0.969\n",
      "Method:                 Least Squares   F-statistic:                              972.5\n",
      "Date:                Fri, 15 Nov 2019   Prob (F-statistic):                        0.00\n",
      "Time:                        10:30:58   Log-Likelihood:                         -1161.8\n",
      "No. Observations:                1433   AIC:                                      2416.\n",
      "Df Residuals:                    1387   BIC:                                      2658.\n",
      "Df Model:                          46                                                  \n",
      "Covariance Type:            nonrobust                                                  \n",
      "=====================================================================================\n",
      "                        coef    std err          t      P>|t|      [0.025      0.975]\n",
      "-------------------------------------------------------------------------------------\n",
      "PVCLeft               0.0001   9.73e-05      1.032      0.302   -9.04e-05       0.000\n",
      "PVCCentre            -0.0002      0.000     -0.905      0.366      -0.000       0.000\n",
      "PVCRight             -0.0003   9.74e-05     -2.639      0.008      -0.000    -6.6e-05\n",
      "LRILeft              -0.0123      0.031     -0.401      0.689      -0.073       0.048\n",
      "LRICentre             0.0261      0.029      0.914      0.361      -0.030       0.082\n",
      "LRIRight              0.0336      0.029      1.164      0.245      -0.023       0.090\n",
      "BTILeft              -0.0929      0.042     -2.210      0.027      -0.175      -0.010\n",
      "BTICentre             0.0641      0.039      1.638      0.102      -0.013       0.141\n",
      "BTIRight             -0.0082      0.040     -0.204      0.838      -0.087       0.071\n",
      "MLILeft               0.1026      0.047      2.203      0.028       0.011       0.194\n",
      "MLICentre            -0.1178      0.044     -2.685      0.007      -0.204      -0.032\n",
      "MLIRight             -0.0027      0.042     -0.065      0.948      -0.086       0.080\n",
      "SMLILeft             -0.0583      0.025     -2.348      0.019      -0.107      -0.010\n",
      "SMLICentre            0.0867      0.021      4.139      0.000       0.046       0.128\n",
      "SMLIRight            -0.0077      0.024     -0.316      0.752      -0.055       0.040\n",
      "FDLLeft             9.88e-05      0.032      0.003      0.998      -0.063       0.063\n",
      "FDLCentre             0.1014      0.036      2.807      0.005       0.031       0.172\n",
      "FDLRight              0.0611      0.037      1.664      0.096      -0.011       0.133\n",
      "CTQILeft             -0.0099      0.034     -0.297      0.767      -0.076       0.056\n",
      "CTQICentre           -0.1181      0.039     -3.067      0.002      -0.194      -0.043\n",
      "CTQIRight             0.1095      0.034      3.264      0.001       0.044       0.175\n",
      "BVMLeftVolume         0.0279      0.015      1.914      0.056      -0.001       0.056\n",
      "BVMLeftCategory       0.0674      0.023      2.935      0.003       0.022       0.112\n",
      "BVMCentreVolume       0.3250      0.372      0.873      0.383      -0.405       1.055\n",
      "BVMCentreCategory    -0.2791      0.078     -3.578      0.000      -0.432      -0.126\n",
      "BVMRightVolume        0.0286      0.025      1.158      0.247      -0.020       0.077\n",
      "BVMRightCategory      0.0913      0.035      2.616      0.009       0.023       0.160\n",
      "SMI                  -0.0385      0.103     -0.373      0.710      -0.241       0.164\n",
      "SDTopLeft1            0.0771      0.047      1.644      0.100      -0.015       0.169\n",
      "SDTopLeft2            0.1323      0.044      2.979      0.003       0.045       0.219\n",
      "SDTopLeft3            0.0711      0.042      1.704      0.089      -0.011       0.153\n",
      "SDTopRight1           0.0598      0.046      1.304      0.193      -0.030       0.150\n",
      "SDTopRight2          -0.1091      0.044     -2.455      0.014      -0.196      -0.022\n",
      "SDTopRight3           0.6021      0.041     14.754      0.000       0.522       0.682\n",
      "SDTwist101            0.0366      0.029      1.248      0.212      -0.021       0.094\n",
      "SDTwist102           -0.0886      0.032     -2.756      0.006      -0.152      -0.026\n",
      "SDTwist103            0.0648      0.026      2.448      0.014       0.013       0.117\n",
      "SDTwist31            -0.1131      0.059     -1.921      0.055      -0.229       0.002\n",
      "SDTwist32             0.5977      0.063      9.544      0.000       0.475       0.721\n",
      "SDTwist33             0.4438      0.049      8.997      0.000       0.347       0.541\n",
      "SDVersL1             -0.0809      0.039     -2.066      0.039      -0.158      -0.004\n",
      "SDVersL2              0.0473      0.042      1.121      0.262      -0.035       0.130\n",
      "SDVersL3             -0.0542      0.026     -2.053      0.040      -0.106      -0.002\n",
      "SDVersR1              0.0435      0.039      1.125      0.261      -0.032       0.119\n",
      "SDVersR2              0.0057      0.043      0.132      0.895      -0.079       0.090\n",
      "SDVersR3              0.0636      0.030      2.085      0.037       0.004       0.123\n",
      "==============================================================================\n",
      "Omnibus:                       94.003   Durbin-Watson:                   2.099\n",
      "Prob(Omnibus):                  0.000   Jarque-Bera (JB):              414.273\n",
      "Skew:                          -0.055   Prob(JB):                     1.10e-90\n",
      "Kurtosis:                       5.632   Cond. No.                     9.72e+03\n",
      "==============================================================================\n",
      "\n",
      "Warnings:\n",
      "[1] Standard Errors assume that the covariance matrix of the errors is correctly specified.\n",
      "[2] The condition number is large, 9.72e+03. This might indicate that there are\n",
      "strong multicollinearity or other numerical problems.\n"
     ]
    }
   ],
   "source": [
    "# Rerun using OLS to obtain P-values\n",
    "X_train_features = sms.add_constant(X_train) # Ensure an intercept is provided\n",
    "OLSmodel = sms.OLS(y_train, X_train)\n",
    "OLSresults = OLSmodel.fit()\n",
    "print(OLSresults.summary())"
   ]
  },
  {
   "cell_type": "markdown",
   "metadata": {},
   "source": [
    "#### Cross validation score all features"
   ]
  },
  {
   "cell_type": "code",
   "execution_count": 19,
   "metadata": {},
   "outputs": [
    {
     "name": "stdout",
     "output_type": "stream",
     "text": [
      "LR 10 fold CV average score: 63.77 %\n"
     ]
    }
   ],
   "source": [
    "# Cross Validation\n",
    "k_folds = 10\n",
    "LRmodel_scaled_CV = LinearRegression(fit_intercept = True, normalize = True)\n",
    "LRmodel_scaled_CV.fit(X_scaled, y)\n",
    "\n",
    "LRscores = cross_val_score(LRmodel_scaled_CV, X=X_scaled, y=y, cv=k_folds)\n",
    "print('LR',k_folds,'fold CV average score:', round(np.mean(LRscores)*100,2),'%')"
   ]
  },
  {
   "cell_type": "markdown",
   "metadata": {},
   "source": [
    "#### LASSO"
   ]
  },
  {
   "cell_type": "code",
   "execution_count": 20,
   "metadata": {},
   "outputs": [
    {
     "name": "stdout",
     "output_type": "stream",
     "text": [
      "\n",
      "alpha: 1e-06\n",
      "LASSO accuracy: 84.72 %.\n",
      "LASSO test score: 0.753\n",
      "LASSO coefficients used: 46\n",
      "\n",
      "alpha: 1e-05\n",
      "LASSO accuracy: 84.72 %.\n",
      "LASSO test score: 0.753\n",
      "LASSO coefficients used: 46\n",
      "\n",
      "alpha: 0.0001\n",
      "LASSO accuracy: 84.73 %.\n",
      "LASSO test score: 0.754\n",
      "LASSO coefficients used: 46\n",
      "\n",
      "alpha: 0.01\n",
      "LASSO accuracy: 84.99 %.\n",
      "LASSO test score: 0.75\n",
      "LASSO coefficients used: 28\n",
      "\n",
      "alpha: 0.1\n",
      "LASSO accuracy: 83.38 %.\n",
      "LASSO test score: 0.724\n",
      "LASSO coefficients used: 12\n",
      "\n",
      "alpha: 0.5\n",
      "LASSO accuracy: 71.87 %.\n",
      "LASSO test score: 0.376\n",
      "LASSO coefficients used: 5\n",
      "\n",
      "alpha: 1.0\n",
      "LASSO accuracy: 65.09 %.\n",
      "LASSO test score: 0.052\n",
      "LASSO coefficients used: 3\n",
      "\n",
      "alpha: 5.0\n",
      "LASSO accuracy: 65.08 %.\n",
      "LASSO test score: 0.049\n",
      "LASSO coefficients used: 3\n",
      "\n",
      "alpha: 10\n",
      "LASSO accuracy: 65.04 %.\n",
      "LASSO test score: 0.048\n",
      "LASSO coefficients used: 2\n",
      "\n",
      "alpha: 50\n",
      "LASSO accuracy: 64.46 %.\n",
      "LASSO test score: 0.021\n",
      "LASSO coefficients used: 1\n",
      "\n",
      "alpha: 100\n",
      "LASSO accuracy: 64.19 %.\n",
      "LASSO test score: -0.0\n",
      "LASSO coefficients used: 0\n"
     ]
    }
   ],
   "source": [
    "# Vary alpha to optimise LASSO NB alpha=0 = OLS\n",
    "alpha_array = [1e-6, 1e-5, 0.0001, 0.01, 0.1, 0.5, 1.0, 5.0, 10, 50, 100]\n",
    "LASSO_array = [] # array will store alpha, test accuracy, test score and # params\n",
    "\n",
    "for alpha_iter in alpha_array:\n",
    "    print('\\nalpha:', alpha_iter)\n",
    "    \n",
    "    # Create LASSO model\n",
    "    LASSOmodel = linear_model.Lasso(alpha=alpha_iter, max_iter=10e5)\n",
    "    LASSOmodel.fit(X_train, y_train)\n",
    "    LASSOtrain_score = LASSOmodel.score(X_train, y_train)\n",
    "\n",
    "    # Generate predictions and assess accuracy\n",
    "    LASSO_pred = LASSOmodel.predict(X_test)\n",
    "    LASSOerrors = abs(LASSO_pred - y_test)\n",
    "\n",
    "    # Calculate mean absolute percentage error (MAPE)\n",
    "    LASSOmape = 100 * (LASSOerrors / y_test)\n",
    "    LASSOaccuracy = 100 - np.mean(LASSOmape)\n",
    "    print('LASSO accuracy:', round(LASSOaccuracy, 2), '%.')\n",
    "\n",
    "    # Obtain test score\n",
    "    LASSOtest_score = LASSOmodel.score(X_test, y_test)\n",
    "    LASSOcoeff_used = np.sum(LASSOmodel.coef_!=0)\n",
    "    print('LASSO test score:', round(LASSOtest_score, 3))\n",
    "    print('LASSO coefficients used:', LASSOcoeff_used)\n",
    "    LASSO_array.append([alpha_iter, LASSOaccuracy, LASSOtest_score, LASSOcoeff_used])\n",
    "\n",
    "LASSO_array = np.asarray(LASSO_array)    "
   ]
  },
  {
   "cell_type": "code",
   "execution_count": 21,
   "metadata": {},
   "outputs": [
    {
     "data": {
      "image/png": "[encoded data removed]",
      "text/plain": [
       "<Figure size 432x288 with 1 Axes>"
      ]
     },
     "metadata": {
      "needs_background": "light"
     },
     "output_type": "display_data"
    }
   ],
   "source": [
    "# Plot alpha vs test scores\n",
    "plt.scatter(LASSO_array[:,0], LASSO_array[:,2])\n",
    "plt.title('LASSO Test Scores', fontsize=12)\n",
    "plt.xlabel('alpha', fontsize=10)\n",
    "plt.ylabel('Test score', fontsize=10)\n",
    "plt.show()"
   ]
  },
  {
   "cell_type": "code",
   "execution_count": 22,
   "metadata": {},
   "outputs": [
    {
     "name": "stdout",
     "output_type": "stream",
     "text": [
      "Optimal alpha based on test accuracy and score: 0.0001\n",
      "Optimal alpha based on test accuracy and #coefficents: 0.1\n"
     ]
    }
   ],
   "source": [
    "# Consider optimal alpha as test accuracy x test score\n",
    "LASSO_optimal_index = np.where(LASSO_array[:,1]*LASSO_array[:,2] ==np.max(LASSO_array[:,1]*LASSO_array[:,2]))[0][0]\n",
    "LASSO_optimal_alpha = LASSO_array[LASSO_optimal_index, 0]\n",
    "print('Optimal alpha based on test accuracy and score:',LASSO_optimal_alpha)\n",
    "\n",
    "# Consider optimal alpha as test accuracy x test score / # coefficients\n",
    "LASSO_min_score = 0.6 # minimum test score to qualify\n",
    "LASSO_min_coef = 6 # minimum number of coefficients\n",
    "LASSO_best_score = 0 # Initialise score\n",
    "for LASSO_iter in range(LASSO_array.shape[0]):\n",
    "        if ((LASSO_array[LASSO_iter, 2] >= LASSO_min_score) & (LASSO_array[LASSO_iter, 3] >= LASSO_min_coef)):\n",
    "            LASSO_working = LASSO_array[LASSO_iter,1]*LASSO_array[LASSO_iter,2]/LASSO_array[LASSO_iter,3] \n",
    "            if (LASSO_working > LASSO_best_score):\n",
    "                LASSO_best_score = LASSO_working\n",
    "                LASSO_best_alpha = LASSO_array[LASSO_iter,0]\n",
    "print('Optimal alpha based on test accuracy and #coefficents:',LASSO_best_alpha)"
   ]
  },
  {
   "cell_type": "code",
   "execution_count": 23,
   "metadata": {
    "scrolled": true
   },
   "outputs": [
    {
     "name": "stdout",
     "output_type": "stream",
     "text": [
      "LASSO coefficients with alpha: 0.0001\n",
      "LASSO coefficients used: 46\n",
      "                   Coefficient\n",
      "PVCLeft               0.000079\n",
      "PVCCentre            -0.000230\n",
      "PVCRight             -0.000278\n",
      "LRILeft              -0.013640\n",
      "LRICentre             0.025961\n",
      "LRIRight              0.033677\n",
      "BTILeft              -0.087470\n",
      "BTICentre             0.067161\n",
      "BTIRight             -0.007119\n",
      "MLILeft               0.100063\n",
      "MLICentre            -0.116828\n",
      "MLIRight             -0.002045\n",
      "SMLILeft             -0.056601\n",
      "SMLICentre            0.094775\n",
      "SMLIRight            -0.005740\n",
      "FDLLeft               0.005595\n",
      "FDLCentre             0.109849\n",
      "FDLRight              0.060332\n",
      "CTQILeft             -0.002944\n",
      "CTQICentre           -0.098075\n",
      "CTQIRight             0.113194\n",
      "BVMLeftVolume         0.026605\n",
      "BVMLeftCategory       0.072191\n",
      "BVMCentreVolume      -0.015633\n",
      "BVMCentreCategory    -0.020625\n",
      "BVMRightVolume        0.018973\n",
      "BVMRightCategory      0.099655\n",
      "SMI                  -0.013175\n",
      "SDTopLeft1            0.076870\n",
      "SDTopLeft2            0.131975\n",
      "SDTopLeft3            0.074874\n",
      "SDTopRight1           0.057210\n",
      "SDTopRight2          -0.103674\n",
      "SDTopRight3           0.597732\n",
      "SDTwist101            0.033435\n",
      "SDTwist102           -0.085383\n",
      "SDTwist103            0.063943\n",
      "SDTwist31            -0.105229\n",
      "SDTwist32             0.585728\n",
      "SDTwist33             0.451263\n",
      "SDVersL1             -0.082362\n",
      "SDVersL2              0.049483\n",
      "SDVersL3             -0.054851\n",
      "SDVersR1              0.044888\n",
      "SDVersR2              0.003408\n",
      "SDVersR3              0.063246\n"
     ]
    }
   ],
   "source": [
    "# Investigate coefficients\n",
    "# Using highest test score and test accuracy\n",
    "LASSOmodel = linear_model.Lasso(alpha=LASSO_optimal_alpha, max_iter=10e5)\n",
    "LASSOmodel.fit(X_train, y_train)\n",
    "print('LASSO coefficients with alpha:', LASSO_optimal_alpha)\n",
    "LASSOcoeff_used = np.sum(LASSOmodel.coef_!=0)\n",
    "print('LASSO coefficients used:', LASSOcoeff_used)\n",
    "print(pd.DataFrame(LASSOmodel.coef_, X_train.columns, columns=['Coefficient']))\n",
    "\n",
    "# Generate predictions and assess accuracy\n",
    "LASSO_pred = LASSOmodel.predict(X_test)\n"
   ]
  },
  {
   "cell_type": "markdown",
   "metadata": {},
   "source": [
    "#### Plot predicted vs. actual"
   ]
  },
  {
   "cell_type": "code",
   "execution_count": 24,
   "metadata": {},
   "outputs": [
    {
     "data": {
      "image/png": "[encoded data removed]",
      "text/plain": [
       "<Figure size 432x288 with 1 Axes>"
      ]
     },
     "metadata": {
      "needs_background": "light"
     },
     "output_type": "display_data"
    }
   ],
   "source": [
    "plt.scatter(LASSO_pred, y_test)\n",
    "LASSO_title = 'LASSO: predicted vs. actual. Alpha:'+str(LASSO_optimal_alpha)\n",
    "plt.title(LASSO_title, fontsize=12)\n",
    "plt.xlabel('Predicted (test)', fontsize=10)\n",
    "plt.ylabel('Actual (test)', fontsize=10)\n",
    "\n",
    "# Plot line of best fit\n",
    "plt.plot(np.unique(LASSO_pred), np.poly1d(np.polyfit(LASSO_pred, y_test, 1))(np.unique(LASSO_pred)), color='red')\n",
    "slope, intercept, r_value, p_value, std_err = scipy.stats.linregress(LASSO_pred, y_test)\n",
    "M_string = 'M = ' + str(round(slope,2)) + ', R = ' + str(round(r_value,2))# Extract gradient ~1.0\n",
    "plt.text(4,7,M_string, color='red')               \n",
    "plt.show()"
   ]
  },
  {
   "cell_type": "code",
   "execution_count": 25,
   "metadata": {
    "scrolled": true
   },
   "outputs": [
    {
     "name": "stdout",
     "output_type": "stream",
     "text": [
      "\n",
      "LASSO coefficients with alpha: 0.1\n",
      "LASSO coefficients used: 12\n",
      "                   Coefficient\n",
      "PVCLeft               0.000079\n",
      "PVCCentre            -0.000265\n",
      "PVCRight             -0.000122\n",
      "LRILeft               0.000000\n",
      "LRICentre             0.000000\n",
      "LRIRight             -0.000000\n",
      "BTILeft              -0.000000\n",
      "BTICentre            -0.000000\n",
      "BTIRight             -0.000000\n",
      "MLILeft               0.000000\n",
      "MLICentre            -0.000000\n",
      "MLIRight             -0.000000\n",
      "SMLILeft             -0.000000\n",
      "SMLICentre            0.000000\n",
      "SMLIRight            -0.000000\n",
      "FDLLeft              -0.000000\n",
      "FDLCentre             0.000000\n",
      "FDLRight             -0.000000\n",
      "CTQILeft              0.000000\n",
      "CTQICentre           -0.000000\n",
      "CTQIRight             0.000000\n",
      "BVMLeftVolume         0.000000\n",
      "BVMLeftCategory       0.000000\n",
      "BVMCentreVolume      -0.000000\n",
      "BVMCentreCategory    -0.000000\n",
      "BVMRightVolume        0.000000\n",
      "BVMRightCategory      0.000000\n",
      "SMI                   0.000000\n",
      "SDTopLeft1            0.037849\n",
      "SDTopLeft2            0.026335\n",
      "SDTopLeft3            0.108823\n",
      "SDTopRight1           0.000000\n",
      "SDTopRight2           0.000000\n",
      "SDTopRight3           0.518723\n",
      "SDTwist101            0.000000\n",
      "SDTwist102            0.000000\n",
      "SDTwist103            0.104964\n",
      "SDTwist31             0.000000\n",
      "SDTwist32             0.328428\n",
      "SDTwist33             0.294373\n",
      "SDVersL1              0.000000\n",
      "SDVersL2              0.000000\n",
      "SDVersL3              0.000000\n",
      "SDVersR1              0.000000\n",
      "SDVersR2              0.000359\n",
      "SDVersR3              0.011116\n"
     ]
    }
   ],
   "source": [
    "# Investigate coefficients\n",
    "# Using highest test score and test accuracy / # coefficients\n",
    "LASSOmodel = linear_model.Lasso(alpha=LASSO_best_alpha, max_iter=10e5)\n",
    "LASSOmodel.fit(X_train, y_train)\n",
    "print('\\nLASSO coefficients with alpha:', LASSO_best_alpha)\n",
    "LASSOcoeff_used = np.sum(LASSOmodel.coef_!=0)\n",
    "print('LASSO coefficients used:', LASSOcoeff_used)\n",
    "print(pd.DataFrame(LASSOmodel.coef_, X_train.columns, columns=['Coefficient']))\n",
    "\n",
    "# Generate predictions and assess accuracy\n",
    "LASSO_pred = LASSOmodel.predict(X_test)\n"
   ]
  },
  {
   "cell_type": "markdown",
   "metadata": {},
   "source": [
    "#### Plot predicted vs. actual"
   ]
  },
  {
   "cell_type": "code",
   "execution_count": 26,
   "metadata": {},
   "outputs": [
    {
     "data": {
      "image/png": "[encoded data removed]",
      "text/plain": [
       "<Figure size 432x288 with 1 Axes>"
      ]
     },
     "metadata": {
      "needs_background": "light"
     },
     "output_type": "display_data"
    }
   ],
   "source": [
    "plt.scatter(LASSO_pred, y_test)\n",
    "LASSO_title = 'LASSO: predicted vs. actual. Alpha:'+str(LASSO_best_alpha)\n",
    "plt.title(LASSO_title, fontsize=12)\n",
    "plt.xlabel('Predicted (test)', fontsize=10)\n",
    "plt.ylabel('Actual (test)', fontsize=10)\n",
    "\n",
    "# Plot line of best fit\n",
    "plt.plot(np.unique(LASSO_pred), np.poly1d(np.polyfit(LASSO_pred, y_test, 1))(np.unique(LASSO_pred)), color='red')\n",
    "slope, intercept, r_value, p_value, std_err = scipy.stats.linregress(LASSO_pred, y_test)\n",
    "M_string = 'M = ' + str(round(slope,2)) + ', R = ' + str(round(r_value,2))# Extract gradient ~1.0\n",
    "plt.text(4,7,M_string, color='red')               \n",
    "plt.show()"
   ]
  },
  {
   "cell_type": "code",
   "execution_count": 27,
   "metadata": {
    "scrolled": true
   },
   "outputs": [
    {
     "name": "stdout",
     "output_type": "stream",
     "text": [
      "\n",
      "LASSO coefficients with alpha: 0.1\n",
      "LASSO coefficients used: 28\n",
      "                   Coefficient\n",
      "PVCLeft               0.000078\n",
      "PVCCentre            -0.000298\n",
      "PVCRight             -0.000170\n",
      "LRILeft               0.000000\n",
      "LRICentre             0.005900\n",
      "LRIRight              0.007718\n",
      "BTILeft              -0.002158\n",
      "BTICentre            -0.000000\n",
      "BTIRight             -0.000000\n",
      "MLILeft               0.008815\n",
      "MLICentre            -0.013559\n",
      "MLIRight              0.000000\n",
      "SMLILeft             -0.025651\n",
      "SMLICentre            0.080177\n",
      "SMLIRight            -0.000000\n",
      "FDLLeft               0.000000\n",
      "FDLCentre             0.086816\n",
      "FDLRight              0.000000\n",
      "CTQILeft              0.000000\n",
      "CTQICentre           -0.062342\n",
      "CTQIRight             0.067741\n",
      "BVMLeftVolume         0.019539\n",
      "BVMLeftCategory       0.076157\n",
      "BVMCentreVolume      -0.000000\n",
      "BVMCentreCategory    -0.000000\n",
      "BVMRightVolume        0.007406\n",
      "BVMRightCategory      0.078067\n",
      "SMI                  -0.000000\n",
      "SDTopLeft1            0.090009\n",
      "SDTopLeft2            0.060849\n",
      "SDTopLeft3            0.096126\n",
      "SDTopRight1           0.000000\n",
      "SDTopRight2          -0.000000\n",
      "SDTopRight3           0.573366\n",
      "SDTwist101           -0.000000\n",
      "SDTwist102           -0.000000\n",
      "SDTwist103            0.035061\n",
      "SDTwist31             0.000000\n",
      "SDTwist32             0.434493\n",
      "SDTwist33             0.441843\n",
      "SDVersL1             -0.034126\n",
      "SDVersL2              0.000000\n",
      "SDVersL3             -0.005336\n",
      "SDVersR1              0.000000\n",
      "SDVersR2              0.032710\n",
      "SDVersR3              0.027439\n"
     ]
    }
   ],
   "source": [
    "# Investigate coefficients\n",
    "# Using alpha = 0.01\n",
    "LASSOmodel = linear_model.Lasso(alpha=0.01, max_iter=10e5)\n",
    "LASSOmodel.fit(X_train, y_train)\n",
    "print('\\nLASSO coefficients with alpha:', LASSO_best_alpha)\n",
    "LASSOcoeff_used = np.sum(LASSOmodel.coef_!=0)\n",
    "print('LASSO coefficients used:', LASSOcoeff_used)\n",
    "print(pd.DataFrame(LASSOmodel.coef_, X_train.columns, columns=['Coefficient']))\n",
    "\n",
    "\n",
    "# Generate predictions and assess accuracy\n",
    "LASSO_pred = LASSOmodel.predict(X_test)"
   ]
  },
  {
   "cell_type": "markdown",
   "metadata": {},
   "source": [
    "#### Plot pedicted vs. actual"
   ]
  },
  {
   "cell_type": "code",
   "execution_count": 28,
   "metadata": {},
   "outputs": [
    {
     "data": {
      "image/png": "[encoded data removed]",
      "text/plain": [
       "<Figure size 432x288 with 1 Axes>"
      ]
     },
     "metadata": {
      "needs_background": "light"
     },
     "output_type": "display_data"
    }
   ],
   "source": [
    "plt.scatter(LASSO_pred, y_test)\n",
    "LASSO_title = 'LASSO: predicted vs. actual. Alpha: 0.01'\n",
    "plt.title(LASSO_title, fontsize=12)\n",
    "plt.xlabel('Predicted (test)', fontsize=10)\n",
    "plt.ylabel('Actual (test)', fontsize=10)\n",
    "\n",
    "# Plot line of best fit\n",
    "plt.plot(np.unique(LASSO_pred), np.poly1d(np.polyfit(LASSO_pred, y_test, 1))(np.unique(LASSO_pred)), color='red')\n",
    "slope, intercept, r_value, p_value, std_err = scipy.stats.linregress(LASSO_pred, y_test)\n",
    "M_string = 'M = ' + str(round(slope,2)) + ', R = ' + str(round(r_value,2))# Extract gradient ~1.0\n",
    "plt.text(4,7,M_string, color='red')               \n",
    "plt.show()"
   ]
  },
  {
   "cell_type": "markdown",
   "metadata": {},
   "source": [
    "#### Create subset of features based on LASSO"
   ]
  },
  {
   "cell_type": "code",
   "execution_count": 29,
   "metadata": {},
   "outputs": [],
   "source": [
    "# Highly reduced based on optimal alpha\n",
    "# Retained some features where there was a corresponding Right/Left\n",
    "LASSO_drop_features_14 = ['LRILeft', 'LRICentre', 'LRIRight', 'BTILeft', 'BTICentre', 'BTIRight',\n",
    "                          'MLILeft', 'MLICentre', 'MLIRight', 'SMLILeft', 'SMLICentre', 'SMLIRight',\n",
    "                          'BVMCentreVolume', 'BVMCentreCategory', 'SMI', 'SDTwist101', 'SDTwist102', \n",
    "                          'FDLLeft', 'FDLCentre', 'FDLRight', 'CTQILeft', 'CTQICentre', 'CTQIRight',\n",
    "                          'BVMLeftVolume', 'BVMLeftCategory', 'BVMCentreVolume', 'BVMCentreCategory',\n",
    "                          'BVMRightVolume', 'BVMRightCategory', 'SMI', 'SDTwist101', 'SDTwist102', \n",
    "                          'SDTwist31','SDVersL1', 'SDVersR1', 'SDVersR2', 'SDVersR3']\n",
    "X_train_14 = X_train.drop(LASSO_drop_features_14, axis=1) \n",
    "X_test_14 = X_test.drop(LASSO_drop_features_14, axis=1) \n",
    "X_14 = X.drop(LASSO_drop_features_14, axis=1) \n",
    "X_train_scaled_14 = X_train_scaled.drop(LASSO_drop_features_14, axis=1) \n",
    "X_test_scaled_14 = X_test_scaled.drop(LASSO_drop_features_14, axis=1) \n",
    "X_scaled_14 = X_scaled.drop(LASSO_drop_features_14, axis=1) "
   ]
  },
  {
   "cell_type": "code",
   "execution_count": 30,
   "metadata": {},
   "outputs": [],
   "source": [
    "# Slightly reduced based on balance between performance and retaining features\n",
    "LASSO_drop_features_36 = ['BVMCentreVolume', 'BVMCentreCategory', 'SMI', 'SDTwist101', 'SDTwist102', \n",
    "                          'SDTwist31', 'SDVersL1', 'SDVersR1', 'SDVersR2', 'SDVersR3']\n",
    "X_train_36 = X_train.drop(LASSO_drop_features_36, axis=1) \n",
    "X_test_36 = X_test.drop(LASSO_drop_features_36, axis=1) \n",
    "X_36 = X.drop(LASSO_drop_features_36, axis=1) \n",
    "X_train_scaled_36 = X_train_scaled.drop(LASSO_drop_features_36, axis=1) \n",
    "X_test_scaled_36 = X_test_scaled.drop(LASSO_drop_features_36, axis=1) \n",
    "X_scaled_36 = X_scaled.drop(LASSO_drop_features_36, axis=1) "
   ]
  },
  {
   "cell_type": "markdown",
   "metadata": {},
   "source": [
    "#### Linear Regression Cross validation score reduced features"
   ]
  },
  {
   "cell_type": "code",
   "execution_count": 31,
   "metadata": {},
   "outputs": [
    {
     "name": "stdout",
     "output_type": "stream",
     "text": [
      "LR 10 fold CV average score: 63.38 %\n"
     ]
    }
   ],
   "source": [
    "# Cross Validation\n",
    "k_folds = 10\n",
    "LRmodel_scaled_CV_14 = LinearRegression(fit_intercept = True, normalize = True)\n",
    "LRmodel_scaled_CV_14.fit(X_scaled_14, y)\n",
    "\n",
    "LRscores = cross_val_score(LRmodel_scaled_CV_14, X=X_scaled_14, y=y, cv=k_folds)\n",
    "print('LR',k_folds,'fold CV average score:', round(np.mean(LRscores)*100,2),'%')"
   ]
  },
  {
   "cell_type": "markdown",
   "metadata": {},
   "source": [
    "#### Elastic Net"
   ]
  },
  {
   "cell_type": "code",
   "execution_count": 32,
   "metadata": {},
   "outputs": [
    {
     "name": "stdout",
     "output_type": "stream",
     "text": [
      "Optimal Elastic Net paramaters: {'alpha': 0.01, 'l1_ratio': 0.2}\n"
     ]
    }
   ],
   "source": [
    "ENmodel = linear_model.ElasticNet(random_state = random_state)\n",
    "ENmodel.fit(X_train, y_train) \n",
    "ENsearch = GridSearchCV(estimator=ENmodel, \n",
    "                        param_grid={'alpha':np.logspace(-5,2,8),'l1_ratio':[.2,.4,.6,.8]},\n",
    "                        scoring='neg_mean_squared_error',n_jobs=1,refit=True,cv=10)\n",
    "ENsearch.fit(X_train, y_train)\n",
    "print('Optimal Elastic Net paramaters:', ENsearch.best_params_)"
   ]
  },
  {
   "cell_type": "code",
   "execution_count": 33,
   "metadata": {},
   "outputs": [
    {
     "name": "stdout",
     "output_type": "stream",
     "text": [
      "Elastic Net accuracy: 84.84 %.\n",
      "Elastic Net test score: 0.753\n",
      "Elastic Net coefficients used: 37\n",
      "\n",
      "Elastic Net coefficients with alpha: 0.01 and L1 ratio: 0.2\n",
      "                   Coefficient\n",
      "PVCLeft               0.000089\n",
      "PVCCentre            -0.000247\n",
      "PVCRight             -0.000241\n",
      "LRILeft              -0.000000\n",
      "LRICentre             0.020092\n",
      "LRIRight              0.024266\n",
      "BTILeft              -0.059212\n",
      "BTICentre             0.029813\n",
      "BTIRight             -0.005748\n",
      "MLILeft               0.064081\n",
      "MLICentre            -0.073111\n",
      "MLIRight              0.000000\n",
      "SMLILeft             -0.052045\n",
      "SMLICentre            0.092748\n",
      "SMLIRight            -0.000000\n",
      "FDLLeft               0.002893\n",
      "FDLCentre             0.103140\n",
      "FDLRight              0.037452\n",
      "CTQILeft              0.000000\n",
      "CTQICentre           -0.096023\n",
      "CTQIRight             0.098852\n",
      "BVMLeftVolume         0.024527\n",
      "BVMLeftCategory       0.072384\n",
      "BVMCentreVolume      -0.000000\n",
      "BVMCentreCategory    -0.000000\n",
      "BVMRightVolume        0.014993\n",
      "BVMRightCategory      0.093998\n",
      "SMI                  -0.000000\n",
      "SDTopLeft1            0.079718\n",
      "SDTopLeft2            0.104064\n",
      "SDTopLeft3            0.100802\n",
      "SDTopRight1           0.037665\n",
      "SDTopRight2          -0.053642\n",
      "SDTopRight3           0.564330\n",
      "SDTwist101            0.000000\n",
      "SDTwist102           -0.044988\n",
      "SDTwist103            0.065210\n",
      "SDTwist31            -0.000000\n",
      "SDTwist32             0.477405\n",
      "SDTwist33             0.428975\n",
      "SDVersL1             -0.054965\n",
      "SDVersL2              0.021595\n",
      "SDVersL3             -0.043280\n",
      "SDVersR1              0.014211\n",
      "SDVersR2              0.026377\n",
      "SDVersR3              0.058551\n"
     ]
    }
   ],
   "source": [
    "# Refit using optimal paramaters\n",
    "EN_optimal_alpha = ENsearch.best_params_['alpha']\n",
    "EN_optimal_l1_ratio = ENsearch.best_params_['l1_ratio']\n",
    "ENmodel = linear_model.ElasticNet(alpha=EN_optimal_alpha, l1_ratio=EN_optimal_l1_ratio, random_state = random_state)\n",
    "ENmodel.fit(X_train, y_train) \n",
    "\n",
    "# Generate predictions and assess accuracy\n",
    "EN_pred =ENmodel.predict(X_test)\n",
    "ENerrors = abs(EN_pred - y_test)\n",
    "\n",
    "# Calculate mean absolute percentage error (MAPE)\n",
    "ENmape = 100 * (ENerrors / y_test)\n",
    "ENaccuracy = 100 - np.mean(ENmape)\n",
    "print('Elastic Net accuracy:', round(ENaccuracy, 2), '%.')\n",
    "\n",
    "# Obtain test score\n",
    "ENtest_score = ENmodel.score(X_test, y_test)\n",
    "ENcoeff_used = np.sum(ENmodel.coef_!=0)\n",
    "print('Elastic Net test score:', round(ENtest_score, 3))\n",
    "print('Elastic Net coefficients used:', ENcoeff_used)\n",
    "\n",
    "# Investigate coefficients used\n",
    "print('\\nElastic Net coefficients with alpha:', EN_optimal_alpha, 'and L1 ratio:', EN_optimal_l1_ratio)\n",
    "print(pd.DataFrame(ENmodel.coef_, X_train.columns, columns=['Coefficient']))\n"
   ]
  },
  {
   "cell_type": "markdown",
   "metadata": {},
   "source": [
    "#### Plot predicted vs. actual"
   ]
  },
  {
   "cell_type": "code",
   "execution_count": 34,
   "metadata": {},
   "outputs": [
    {
     "data": {
      "image/png": "[encoded data removed]",
      "text/plain": [
       "<Figure size 432x288 with 1 Axes>"
      ]
     },
     "metadata": {
      "needs_background": "light"
     },
     "output_type": "display_data"
    }
   ],
   "source": [
    "plt.scatter(EN_pred, y_test)\n",
    "plt.title('Elastic Net: predicted vs. actual', fontsize=12)\n",
    "plt.xlabel('Predicted (test)', fontsize=10)\n",
    "plt.ylabel('Actual (test)', fontsize=10)\n",
    "\n",
    "# Plot line of best fit\n",
    "plt.plot(np.unique(EN_pred), np.poly1d(np.polyfit(EN_pred, y_test, 1))(np.unique(EN_pred)), color='red')\n",
    "slope, intercept, r_value, p_value, std_err = scipy.stats.linregress(EN_pred, y_test)\n",
    "M_string = 'M = ' + str(round(slope,2)) + ', R = ' + str(round(r_value,2))# Extract gradient ~1.0\n",
    "plt.text(4,7,M_string, color='red')               \n",
    "plt.show()"
   ]
  },
  {
   "cell_type": "markdown",
   "metadata": {},
   "source": [
    "## Linear Regression with reduced features"
   ]
  },
  {
   "cell_type": "markdown",
   "metadata": {},
   "source": [
    "#### Reduced features: 14"
   ]
  },
  {
   "cell_type": "code",
   "execution_count": 35,
   "metadata": {},
   "outputs": [
    {
     "name": "stdout",
     "output_type": "stream",
     "text": [
      "LR coefficient of determination (features= 14 ) 0.7851\n",
      "LR accuracy: 84.71 %.\n"
     ]
    }
   ],
   "source": [
    "# Create linear regression model\n",
    "LRmodel_scaled_14 = LinearRegression(fit_intercept = True, normalize = True)\n",
    "LRmodel_scaled_14.fit(X_train_scaled_14, y_train)\n",
    "\n",
    "r2 = LRmodel_scaled_14.score(X_train_scaled_14, y_train)\n",
    "print('LR coefficient of determination (features=', X_14.shape[1],')',round(r2,4))\n",
    "\n",
    "# Generate predictions and assess accuracy\n",
    "LR_pred_scaled_14 = LRmodel_scaled_14.predict(X_test_scaled_14)\n",
    "LRerrors = abs(LR_pred_scaled_14 - y_test)\n",
    "\n",
    "# Calculate mean absolute percentage error (MAPE)\n",
    "LRmape = 100 * (LRerrors / y_test)\n",
    "LRaccuracy = 100 - np.mean(LRmape)\n",
    "print('LR accuracy:', round(LRaccuracy, 2), '%.')"
   ]
  },
  {
   "cell_type": "markdown",
   "metadata": {},
   "source": [
    "#### Reduced features: 36"
   ]
  },
  {
   "cell_type": "code",
   "execution_count": 36,
   "metadata": {},
   "outputs": [
    {
     "name": "stdout",
     "output_type": "stream",
     "text": [
      "LR coefficient of determination (features= 36 ) 0.8065\n",
      "LR accuracy: 84.68 %.\n"
     ]
    }
   ],
   "source": [
    "# Create linear regression model\n",
    "LRmodel_scaled_36 = LinearRegression(fit_intercept = True, normalize = True)\n",
    "LRmodel_scaled_36.fit(X_train_scaled_36, y_train)\n",
    "\n",
    "r2 = LRmodel_scaled_36.score(X_train_scaled_36, y_train)\n",
    "print('LR coefficient of determination (features=', X_36.shape[1],')',round(r2,4))\n",
    "\n",
    "# Generate predictions and assess accuracy\n",
    "LR_pred_scaled_36 = LRmodel_scaled_36.predict(X_test_scaled_36)\n",
    "LRerrors = abs(LR_pred_scaled_36 - y_test)\n",
    "\n",
    "# Calculate mean absolute percentage error (MAPE)\n",
    "LRmape = 100 * (LRerrors / y_test)\n",
    "LRaccuracy = 100 - np.mean(LRmape)\n",
    "print('LR accuracy:', round(LRaccuracy, 2), '%.')"
   ]
  },
  {
   "cell_type": "markdown",
   "metadata": {},
   "source": [
    "### Random Forest Regression"
   ]
  },
  {
   "cell_type": "markdown",
   "metadata": {},
   "source": [
    "#### Unscaled"
   ]
  },
  {
   "cell_type": "code",
   "execution_count": 37,
   "metadata": {},
   "outputs": [
    {
     "name": "stdout",
     "output_type": "stream",
     "text": [
      "RF accuracy (unscaled features): 87.38 %.\n",
      "RF test score: 0.815\n",
      "Out of bag score: 0.8373\n"
     ]
    }
   ],
   "source": [
    "num_trees = 1000\n",
    "# Instantiate model with num_trees decision trees\n",
    "RFmodel = RandomForestRegressor(n_estimators = num_trees, oob_score = True, random_state = random_state)\n",
    "\n",
    "# Train the model on training data\n",
    "RFmodel.fit(X_train, y_train)\n",
    "\n",
    "# Generate predictions to assess performance\n",
    "RF_pred = RFmodel.predict(X_test)# Calculate the absolute errors\n",
    "RFerrors = abs(RF_pred - y_test)\n",
    "\n",
    "# Calculate mean absolute percentage error (MAPE)\n",
    "RFmape = 100 * (RFerrors / y_test)\n",
    "RFaccuracy = 100 - np.mean(RFmape)\n",
    "print('RF accuracy (unscaled features):', round(RFaccuracy, 2), '%.')\n",
    "RFtest_score = RFmodel.score(X_test, y_test)\n",
    "print('RF test score:', round(RFtest_score, 3))\n",
    "print('Out of bag score:', round(RFmodel.oob_score_,4))"
   ]
  },
  {
   "cell_type": "markdown",
   "metadata": {},
   "source": [
    "#### Scaled"
   ]
  },
  {
   "cell_type": "code",
   "execution_count": 38,
   "metadata": {},
   "outputs": [
    {
     "name": "stdout",
     "output_type": "stream",
     "text": [
      "RF accuracy (scaled features): 87.09 %.\n",
      "RF test score: 0.813\n",
      "Out of bag score: 0.8373\n"
     ]
    }
   ],
   "source": [
    "num_trees = 1000\n",
    "# Instantiate model with num_trees decision trees\n",
    "RFmodel = RandomForestRegressor(n_estimators = num_trees, oob_score = True, random_state = random_state)\n",
    "\n",
    "# Train the model on training data\n",
    "RFmodel.fit(X_train_scaled, y_train)\n",
    "\n",
    "# Generate predictions to assess performance\n",
    "RF_pred = RFmodel.predict(X_test_scaled)# Calculate the absolute errors\n",
    "RFerrors = abs(RF_pred - y_test)\n",
    "\n",
    "# Calculate mean absolute percentage error (MAPE)\n",
    "RFmape = 100 * (RFerrors / y_test)\n",
    "RFaccuracy = 100 - np.mean(RFmape)\n",
    "print('RF accuracy (scaled features):', round(RFaccuracy, 2), '%.')\n",
    "RFtest_score = RFmodel.score(X_test_scaled, y_test)\n",
    "print('RF test score:', round(RFtest_score, 3))\n",
    "print('Out of bag score:', round(RFmodel.oob_score_,4))"
   ]
  },
  {
   "cell_type": "markdown",
   "metadata": {},
   "source": [
    "#### Cross validation score"
   ]
  },
  {
   "cell_type": "code",
   "execution_count": 39,
   "metadata": {},
   "outputs": [
    {
     "name": "stdout",
     "output_type": "stream",
     "text": [
      "RF 10 fold CV average score: 61.26 %\n"
     ]
    }
   ],
   "source": [
    "# Cross Validation\n",
    "num_trees = 1000\n",
    "# Instantiate model with num_trees decision trees\n",
    "RFmodel_CV = RandomForestRegressor(n_estimators = num_trees, oob_score = True, random_state = random_state)\n",
    "\n",
    "# Train the model on training data\n",
    "RFmodel_CV.fit(X_train, y_train)\n",
    "\n",
    "k_folds = 10\n",
    "RFscores = cross_val_score(RFmodel, X, y, cv=k_folds)\n",
    "print('RF',k_folds,'fold CV average score:', round(np.mean(RFscores)*100,2),'%')"
   ]
  },
  {
   "cell_type": "markdown",
   "metadata": {},
   "source": [
    "#### Plot predicted and test"
   ]
  },
  {
   "cell_type": "code",
   "execution_count": 40,
   "metadata": {},
   "outputs": [
    {
     "data": {
      "image/png": "[encoded data removed]",
      "text/plain": [
       "<Figure size 432x288 with 1 Axes>"
      ]
     },
     "metadata": {
      "needs_background": "light"
     },
     "output_type": "display_data"
    }
   ],
   "source": [
    "plt.scatter(RF_pred, y_test)\n",
    "plt.title('Random Forest: predicted vs. actual', fontsize=12)\n",
    "plt.xlabel('Predicted (test)', fontsize=10)\n",
    "plt.ylabel('Actual (test)', fontsize=10)\n",
    "\n",
    "# Plot line of best fit\n",
    "plt.plot(np.unique(RF_pred), np.poly1d(np.polyfit(RF_pred, y_test, 1))(np.unique(RF_pred)), color='red')\n",
    "slope, intercept, r_value, p_value, std_err = scipy.stats.linregress(RF_pred, y_test)\n",
    "M_string = 'M = ' + str(round(slope,2)) + ', R = ' + str(round(r_value,2))# Extract gradient ~1.0\n",
    "plt.text(4,7,M_string, color='red')               \n",
    "plt.show()"
   ]
  },
  {
   "cell_type": "markdown",
   "metadata": {},
   "source": [
    "#### RF with reduced features"
   ]
  },
  {
   "cell_type": "code",
   "execution_count": 41,
   "metadata": {},
   "outputs": [
    {
     "name": "stdout",
     "output_type": "stream",
     "text": [
      "RF accuracy (unscaled, reduced features): 86.55 %.\n",
      "RF test score: 0.797\n",
      "Out of bag score: 0.8166\n"
     ]
    }
   ],
   "source": [
    "num_trees = 1000\n",
    "# Instantiate model with num_trees decision trees\n",
    "RFmodel_reduced = RandomForestRegressor(n_estimators = num_trees, oob_score = True, random_state = random_state)\n",
    "\n",
    "# Train the model on training data\n",
    "RFmodel_reduced.fit(X_train_14, y_train)\n",
    "\n",
    "# Generate predictions to assess performance\n",
    "RF_pred_reduced = RFmodel_reduced.predict(X_test_14)# Calculate the absolute errors\n",
    "RFerrors = abs(RF_pred_reduced - y_test)\n",
    "\n",
    "# Calculate mean absolute percentage error (MAPE)\n",
    "RFmape = 100 * (RFerrors / y_test)\n",
    "RFaccuracy = 100 - np.mean(RFmape)\n",
    "print('RF accuracy (unscaled, reduced features):', round(RFaccuracy, 2), '%.')\n",
    "RFtest_score = RFmodel_reduced.score(X_test_14, y_test)\n",
    "print('RF test score:', round(RFtest_score, 3))\n",
    "print('Out of bag score:', round(RFmodel_reduced.oob_score_,4))"
   ]
  },
  {
   "cell_type": "markdown",
   "metadata": {},
   "source": [
    "### Support Vector Regression"
   ]
  },
  {
   "cell_type": "markdown",
   "metadata": {},
   "source": [
    "#### RBF Kernel"
   ]
  },
  {
   "cell_type": "code",
   "execution_count": 42,
   "metadata": {},
   "outputs": [
    {
     "name": "stdout",
     "output_type": "stream",
     "text": [
      "\n",
      "C: 0.01\n",
      "SVR accuracy: 75.57 %.\n",
      "SVR test score: 0.273\n",
      "\n",
      "C: 0.1\n",
      "SVR accuracy: 83.32 %.\n",
      "SVR test score: 0.588\n",
      "\n",
      "C: 1.0\n",
      "SVR accuracy: 87.6 %.\n",
      "SVR test score: 0.754\n",
      "\n",
      "C: 10\n",
      "SVR accuracy: 88.41 %.\n",
      "SVR test score: 0.809\n",
      "\n",
      "C: 100\n",
      "SVR accuracy: 86.55 %.\n",
      "SVR test score: 0.781\n",
      "\n",
      "C: 1000\n",
      "SVR accuracy: 86.42 %.\n",
      "SVR test score: 0.777\n"
     ]
    }
   ],
   "source": [
    "# Vary C to optimise SVR NB C=0 = no penalty\n",
    "C_array = [0.01, 0.1, 1.0, 10, 100, 1000]\n",
    "SVR_array = [] # array will store C, test accuracy and test score\n",
    "\n",
    "for C_iter in C_array:\n",
    "    print('\\nC:', C_iter)\n",
    "\n",
    "    SVRmodel = SVR(C=C_iter, kernel='rbf', gamma='auto', epsilon=0.01)\n",
    "    SVRmodel.fit(X_train_scaled,y_train)\n",
    "\n",
    "    # Generate predictions to assess performance\n",
    "    SVR_pred = SVRmodel.predict(X_test_scaled)# Calculate the absolute errors\n",
    "    SVRerrors = abs(SVR_pred - y_test)\n",
    "\n",
    "    # Calculate mean absolute percentage error (MAPE)\n",
    "    SVRmape = 100 * (SVRerrors / y_test)\n",
    "    SVRaccuracy = 100 - np.mean(SVRmape)\n",
    "    print('SVR accuracy:', round(SVRaccuracy, 2), '%.')\n",
    "    SVRtest_score = SVRmodel.score(X_test_scaled, y_test)\n",
    "    print('SVR test score:', round(SVRtest_score, 3))\n",
    "    SVR_array.append([C_iter, SVRaccuracy, SVRtest_score])\n",
    "\n",
    "SVR_array = np.asarray(SVR_array)    "
   ]
  },
  {
   "cell_type": "code",
   "execution_count": 43,
   "metadata": {},
   "outputs": [],
   "source": [
    "# Refit using optimal params\n",
    "SVR_best_C = 10\n",
    "SVR_best_epsilon = 0.01\n",
    "\n",
    "SVRmodel = SVR(C=SVR_best_C, kernel='rbf', gamma='auto', epsilon=SVR_best_epsilon)\n",
    "SVRmodel.fit(X_train_scaled,y_train)\n",
    "\n",
    "# Generate predictions to plot predicted and actuals\n",
    "SVR_pred = SVRmodel.predict(X_test_scaled)"
   ]
  },
  {
   "cell_type": "markdown",
   "metadata": {},
   "source": [
    "#### Plot predicted vs. actual"
   ]
  },
  {
   "cell_type": "code",
   "execution_count": 44,
   "metadata": {},
   "outputs": [
    {
     "data": {
      "image/png": "[encoded data removed]",
      "text/plain": [
       "<Figure size 432x288 with 1 Axes>"
      ]
     },
     "metadata": {
      "needs_background": "light"
     },
     "output_type": "display_data"
    }
   ],
   "source": [
    "plt.scatter(SVR_pred, y_test)\n",
    "plt.title('Support Vector Regression: predicted vs. actual', fontsize=12)\n",
    "plt.xlabel('Predicted (test)', fontsize=10)\n",
    "plt.ylabel('Actual (test)', fontsize=10)\n",
    "\n",
    "# Plot line of best fit\n",
    "plt.plot(np.unique(SVR_pred), np.poly1d(np.polyfit(SVR_pred, y_test, 1))(np.unique(SVR_pred)), color='red')\n",
    "slope, intercept, r_value, p_value, std_err = scipy.stats.linregress(SVR_pred, y_test)\n",
    "M_string = 'M = ' + str(round(slope,2)) + ', R = ' + str(round(r_value,2))# Extract gradient ~1.0\n",
    "plt.text(4,7,M_string, color='red')               \n",
    "plt.show()"
   ]
  },
  {
   "cell_type": "markdown",
   "metadata": {},
   "source": [
    "#### Reduced features 14"
   ]
  },
  {
   "cell_type": "code",
   "execution_count": 45,
   "metadata": {},
   "outputs": [
    {
     "name": "stdout",
     "output_type": "stream",
     "text": [
      "SVR accuracy (features= 14 ): 86.39 %.\n",
      "SVR test score: 0.764\n"
     ]
    }
   ],
   "source": [
    "# Refit using optimal params\n",
    "SVR_best_C = 10\n",
    "SVR_best_epsilon = 0.01\n",
    "\n",
    "SVRmodel_reduced = SVR(C=SVR_best_C, kernel='rbf', gamma='auto', epsilon=SVR_best_epsilon)\n",
    "SVRmodel_reduced.fit(X_train_scaled_14, y_train)\n",
    "\n",
    "# Generate predictions to plot predicted and actuals\n",
    "SVR_pred_reduced = SVRmodel_reduced.predict(X_test_scaled_14)\n",
    "SVRerrors = abs(SVR_pred_reduced - y_test)\n",
    "\n",
    "# Calculate mean absolute percentage error (MAPE)\n",
    "SVRmape = 100 * (SVRerrors / y_test)\n",
    "SVRaccuracy = 100 - np.mean(SVRmape)\n",
    "print('SVR accuracy (features=', X_14.shape[1],'):', round(SVRaccuracy, 2), '%.')\n",
    "SVRtest_score = SVRmodel_reduced.score(X_test_scaled_14, y_test)\n",
    "print('SVR test score:', round(SVRtest_score, 3))"
   ]
  },
  {
   "cell_type": "markdown",
   "metadata": {},
   "source": [
    "#### Reduced features 36"
   ]
  },
  {
   "cell_type": "code",
   "execution_count": 46,
   "metadata": {},
   "outputs": [
    {
     "name": "stdout",
     "output_type": "stream",
     "text": [
      "SVR accuracy (features= 36 ): 87.98 %.\n",
      "SVR test score: 0.797\n"
     ]
    }
   ],
   "source": [
    "# Refit using optimal params\n",
    "SVR_best_C = 10\n",
    "SVR_best_epsilon = 0.01\n",
    "\n",
    "SVRmodel_reduced = SVR(C=SVR_best_C, kernel='rbf', gamma='auto', epsilon=SVR_best_epsilon)\n",
    "SVRmodel_reduced.fit(X_train_scaled_36, y_train)\n",
    "\n",
    "# Generate predictions to plot predicted and actuals\n",
    "SVR_pred_reduced = SVRmodel_reduced.predict(X_test_scaled_36)\n",
    "SVRerrors = abs(SVR_pred_reduced - y_test)\n",
    "\n",
    "# Calculate mean absolute percentage error (MAPE)\n",
    "SVRmape = 100 * (SVRerrors / y_test)\n",
    "SVRaccuracy = 100 - np.mean(SVRmape)\n",
    "print('SVR accuracy (features=', X_36.shape[1],'):', round(SVRaccuracy, 2), '%.')\n",
    "SVRtest_score = SVRmodel_reduced.score(X_test_scaled_36, y_test)\n",
    "print('SVR test score:', round(SVRtest_score, 3))"
   ]
  },
  {
   "cell_type": "markdown",
   "metadata": {},
   "source": [
    "#### Sigmoid Kernel"
   ]
  },
  {
   "cell_type": "code",
   "execution_count": 47,
   "metadata": {},
   "outputs": [
    {
     "name": "stdout",
     "output_type": "stream",
     "text": [
      "\n",
      "C: 0.01\n",
      "SVR accuracy: 80.64 %.\n",
      "SVR test score: 0.594\n",
      "\n",
      "C: 0.1\n",
      "SVR accuracy: 77.85 %.\n",
      "SVR test score: -0.193\n",
      "\n",
      "C: 1.0\n",
      "SVR accuracy: -60.35 %.\n",
      "SVR test score: -180.0\n",
      "\n",
      "C: 10\n",
      "SVR accuracy: -1496.73 %.\n",
      "SVR test score: -18649.935\n",
      "\n",
      "C: 100\n",
      "SVR accuracy: -15883.89 %.\n",
      "SVR test score: -1868641.421\n",
      "\n",
      "C: 1000\n",
      "SVR accuracy: -159779.95 %.\n",
      "SVR test score: -186895435.672\n"
     ]
    }
   ],
   "source": [
    "# Vary C to optimise SVR NB C=0 = no penalty\n",
    "C_array = [0.01, 0.1, 1.0, 10, 100, 1000]\n",
    "SVR_array = [] # array will store C, test accuracy and test score\n",
    "\n",
    "for C_iter in C_array:\n",
    "    print('\\nC:', C_iter)\n",
    "\n",
    "    SVRmodel = SVR(C=C_iter, kernel='sigmoid', gamma='auto', epsilon=0.01)\n",
    "    SVRmodel.fit(X_train_scaled,y_train)\n",
    "\n",
    "    # Generate predictions to assess performance\n",
    "    SVR_pred = SVRmodel.predict(X_test_scaled)# Calculate the absolute errors\n",
    "    SVRerrors = abs(SVR_pred - y_test)\n",
    "\n",
    "    # Calculate mean absolute percentage error (MAPE)\n",
    "    SVRmape = 100 * (SVRerrors / y_test)\n",
    "    SVRaccuracy = 100 - np.mean(SVRmape)\n",
    "    print('SVR accuracy:', round(SVRaccuracy, 2), '%.')\n",
    "    SVRtest_score = SVRmodel.score(X_test_scaled, y_test)\n",
    "    print('SVR test score:', round(SVRtest_score, 3))\n",
    "    SVR_array.append([C_iter, SVRaccuracy, SVRtest_score])\n",
    "\n",
    "SVR_array = np.asarray(SVR_array) "
   ]
  },
  {
   "cell_type": "markdown",
   "metadata": {},
   "source": [
    "#### Polynomial Kernel"
   ]
  },
  {
   "cell_type": "code",
   "execution_count": 48,
   "metadata": {},
   "outputs": [
    {
     "name": "stdout",
     "output_type": "stream",
     "text": [
      "\n",
      "C: 0.01\n",
      "SVR accuracy: 73.26 %.\n",
      "SVR test score: 0.323\n",
      "\n",
      "C: 0.1\n",
      "SVR accuracy: 79.01 %.\n",
      "SVR test score: 0.467\n",
      "\n",
      "C: 1.0\n",
      "SVR accuracy: 83.89 %.\n",
      "SVR test score: 0.513\n",
      "\n",
      "C: 10\n",
      "SVR accuracy: 83.35 %.\n",
      "SVR test score: -0.593\n",
      "\n",
      "C: 100\n",
      "SVR accuracy: 80.44 %.\n",
      "SVR test score: -2.144\n",
      "\n",
      "C: 1000\n",
      "SVR accuracy: 80.19 %.\n",
      "SVR test score: -2.022\n"
     ]
    }
   ],
   "source": [
    "# Vary C to optimise SVR NB C=0 = no penalty\n",
    "C_array = [0.01, 0.1, 1.0, 10, 100, 1000]\n",
    "SVR_array = [] # array will store C, test accuracy and test score\n",
    "\n",
    "for C_iter in C_array:\n",
    "    print('\\nC:', C_iter)\n",
    "\n",
    "    SVRmodel = SVR(C=C_iter, kernel='poly', degree=3, gamma='auto', epsilon=0.1)\n",
    "    SVRmodel.fit(X_train_scaled,y_train)\n",
    "\n",
    "    # Generate predictions to assess performance\n",
    "    SVR_pred = SVRmodel.predict(X_test_scaled)# Calculate the absolute errors\n",
    "    SVRerrors = abs(SVR_pred - y_test)\n",
    "\n",
    "    # Calculate mean absolute percentage error (MAPE)\n",
    "    SVRmape = 100 * (SVRerrors / y_test)\n",
    "    SVRaccuracy = 100 - np.mean(SVRmape)\n",
    "    print('SVR accuracy:', round(SVRaccuracy, 2), '%.')\n",
    "    SVRtest_score = SVRmodel.score(X_test_scaled, y_test)\n",
    "    print('SVR test score:', round(SVRtest_score, 3))\n",
    "    SVR_array.append([C_iter, SVRaccuracy, SVRtest_score])\n",
    "\n",
    "SVR_array = np.asarray(SVR_array) "
   ]
  },
  {
   "cell_type": "markdown",
   "metadata": {},
   "source": [
    "### Replace time-series TRC features with gradient type measure"
   ]
  },
  {
   "cell_type": "markdown",
   "metadata": {},
   "source": [
    "#### Reduced features 14"
   ]
  },
  {
   "cell_type": "code",
   "execution_count": 103,
   "metadata": {},
   "outputs": [
    {
     "data": {
      "text/html": [
       "<div>\n",
       "<style scoped>\n",
       "    .dataframe tbody tr th:only-of-type {\n",
       "        vertical-align: middle;\n",
       "    }\n",
       "\n",
       "    .dataframe tbody tr th {\n",
       "        vertical-align: top;\n",
       "    }\n",
       "\n",
       "    .dataframe thead th {\n",
       "        text-align: right;\n",
       "    }\n",
       "</style>\n",
       "<table border=\"1\" class=\"dataframe\">\n",
       "  <thead>\n",
       "    <tr style=\"text-align: right;\">\n",
       "      <th></th>\n",
       "      <th>PVCLeft</th>\n",
       "      <th>PVCCentre</th>\n",
       "      <th>PVCRight</th>\n",
       "      <th>SDTopLeft3</th>\n",
       "      <th>SDTopRight3</th>\n",
       "      <th>SDTwist103</th>\n",
       "      <th>SDTwist33</th>\n",
       "      <th>SDVersL3</th>\n",
       "      <th>SDTopLeftDelta</th>\n",
       "      <th>SDTopRightDelta</th>\n",
       "      <th>SDTwist10Delta</th>\n",
       "      <th>SDTwist3Delta</th>\n",
       "      <th>SDVersLDelta</th>\n",
       "    </tr>\n",
       "  </thead>\n",
       "  <tbody>\n",
       "    <tr>\n",
       "      <th>0</th>\n",
       "      <td>0.230827</td>\n",
       "      <td>0.315035</td>\n",
       "      <td>0.212221</td>\n",
       "      <td>0.339402</td>\n",
       "      <td>0.166120</td>\n",
       "      <td>-0.260394</td>\n",
       "      <td>-0.826501</td>\n",
       "      <td>0.596559</td>\n",
       "      <td>-0.511710</td>\n",
       "      <td>-0.844357</td>\n",
       "      <td>-0.168006</td>\n",
       "      <td>-0.355335</td>\n",
       "      <td>-0.034790</td>\n",
       "    </tr>\n",
       "    <tr>\n",
       "      <th>1</th>\n",
       "      <td>-3.604872</td>\n",
       "      <td>-4.782464</td>\n",
       "      <td>0.226196</td>\n",
       "      <td>-0.349926</td>\n",
       "      <td>-0.491818</td>\n",
       "      <td>-0.389099</td>\n",
       "      <td>-0.116260</td>\n",
       "      <td>0.650469</td>\n",
       "      <td>-0.470105</td>\n",
       "      <td>-0.462395</td>\n",
       "      <td>-0.050285</td>\n",
       "      <td>-0.093117</td>\n",
       "      <td>-0.197209</td>\n",
       "    </tr>\n",
       "    <tr>\n",
       "      <th>2</th>\n",
       "      <td>0.281919</td>\n",
       "      <td>-0.088962</td>\n",
       "      <td>0.460762</td>\n",
       "      <td>-0.198518</td>\n",
       "      <td>0.258341</td>\n",
       "      <td>-0.634697</td>\n",
       "      <td>-0.365389</td>\n",
       "      <td>3.659908</td>\n",
       "      <td>-0.189760</td>\n",
       "      <td>0.253275</td>\n",
       "      <td>0.112163</td>\n",
       "      <td>0.140653</td>\n",
       "      <td>3.055686</td>\n",
       "    </tr>\n",
       "    <tr>\n",
       "      <th>3</th>\n",
       "      <td>-3.604872</td>\n",
       "      <td>-4.782464</td>\n",
       "      <td>-3.598617</td>\n",
       "      <td>-0.577221</td>\n",
       "      <td>-1.260970</td>\n",
       "      <td>-1.119104</td>\n",
       "      <td>-1.441232</td>\n",
       "      <td>0.416061</td>\n",
       "      <td>-0.309309</td>\n",
       "      <td>-0.602234</td>\n",
       "      <td>0.113696</td>\n",
       "      <td>-0.082806</td>\n",
       "      <td>-0.274692</td>\n",
       "    </tr>\n",
       "    <tr>\n",
       "      <th>4</th>\n",
       "      <td>0.279632</td>\n",
       "      <td>0.160579</td>\n",
       "      <td>0.220153</td>\n",
       "      <td>-0.448052</td>\n",
       "      <td>0.416959</td>\n",
       "      <td>-0.593215</td>\n",
       "      <td>0.179833</td>\n",
       "      <td>0.276342</td>\n",
       "      <td>-1.041671</td>\n",
       "      <td>-0.222904</td>\n",
       "      <td>-0.058179</td>\n",
       "      <td>0.156920</td>\n",
       "      <td>-0.412389</td>\n",
       "    </tr>\n",
       "  </tbody>\n",
       "</table>\n",
       "</div>"
      ],
      "text/plain": [
       "    PVCLeft  PVCCentre  PVCRight  SDTopLeft3  SDTopRight3  SDTwist103  \\\n",
       "0  0.230827   0.315035  0.212221    0.339402     0.166120   -0.260394   \n",
       "1 -3.604872  -4.782464  0.226196   -0.349926    -0.491818   -0.389099   \n",
       "2  0.281919  -0.088962  0.460762   -0.198518     0.258341   -0.634697   \n",
       "3 -3.604872  -4.782464 -3.598617   -0.577221    -1.260970   -1.119104   \n",
       "4  0.279632   0.160579  0.220153   -0.448052     0.416959   -0.593215   \n",
       "\n",
       "   SDTwist33  SDVersL3  SDTopLeftDelta  SDTopRightDelta  SDTwist10Delta  \\\n",
       "0  -0.826501  0.596559       -0.511710        -0.844357       -0.168006   \n",
       "1  -0.116260  0.650469       -0.470105        -0.462395       -0.050285   \n",
       "2  -0.365389  3.659908       -0.189760         0.253275        0.112163   \n",
       "3  -1.441232  0.416061       -0.309309        -0.602234        0.113696   \n",
       "4   0.179833  0.276342       -1.041671        -0.222904       -0.058179   \n",
       "\n",
       "   SDTwist3Delta  SDVersLDelta  \n",
       "0      -0.355335     -0.034790  \n",
       "1      -0.093117     -0.197209  \n",
       "2       0.140653      3.055686  \n",
       "3      -0.082806     -0.274692  \n",
       "4       0.156920     -0.412389  "
      ]
     },
     "execution_count": 103,
     "metadata": {},
     "output_type": "execute_result"
    }
   ],
   "source": [
    "# Replace 3 prior TRC with trend\n",
    "# \n",
    "# num_TRC_periods_delta = 3\n",
    "delta_decay = 0.0 # rate at which changes in periods prior to last in training set\n",
    "\n",
    "X_train_scaled_13.head()"
   ]
  },
  {
   "cell_type": "code",
   "execution_count": 104,
   "metadata": {},
   "outputs": [],
   "source": [
    "# Calculate the change in TRC metrics between most recent feature (ie excluding the predictor period)\n",
    "# and prior TRC periods for num_TRC_periods_delta, NB for SF401 this is only 3 periods\n",
    "SDTopLeftDelta_train = (1.0*(X_train['SDTopLeft3']-X_train['SDTopLeft2'])+delta_decay*\n",
    "                  (X_train['SDTopLeft2']-X_train['SDTopLeft1']))/(1+delta_decay)\n",
    "SDTopRightDelta_train = (1.0*(X_train['SDTopRight3']-X_train['SDTopRight2'])+delta_decay*\n",
    "                   (X_train['SDTopRight2']-X_train['SDTopRight1']))/(1+delta_decay)\n",
    "SDTwist10Delta_train = (1.0*(X_train['SDTwist103']-X_train['SDTwist102'])+delta_decay*\n",
    "                  (X_train['SDTwist102']-X_train['SDTwist101']))/(1+delta_decay)\n",
    "SDTwist3Delta_train = (1.0*(X_train['SDTwist33']-X_train['SDTwist32'])+delta_decay*\n",
    "                 (X_train['SDTwist32']-X_train['SDTwist31']))/(1+delta_decay)\n",
    "SDVersLDelta_train = (1.0*(X_train['SDVersL3']-X_train['SDVersL2'])+delta_decay*\n",
    "                (X_train['SDVersL2']-X_train['SDVersL1']))/(1+delta_decay)\n",
    "\n",
    "delta_drop_features_13 = ['SDTopLeft1', 'SDTopLeft2', 'SDTopRight1', 'SDTopRight2', 'SDTwist32', 'SDVersL2']\n",
    "X_train_13 = X_train_14.drop(delta_drop_features_13, axis=1)\n",
    "X_train_13['SDTopLeftDelta'] = SDTopLeftDelta_train\n",
    "X_train_13['SDTopRightDelta'] = SDTopRightDelta_train\n",
    "X_train_13['SDTwist10Delta'] = SDTwist10Delta_train\n",
    "X_train_13['SDTwist3Delta'] = SDTwist3Delta_train\n",
    "X_train_13['SDVersLDelta'] = SDVersLDelta_train\n"
   ]
  },
  {
   "cell_type": "code",
   "execution_count": 105,
   "metadata": {},
   "outputs": [],
   "source": [
    "# Test data\n",
    "SDTopLeftDelta_test = (1.0*(X_test['SDTopLeft3']-X_test['SDTopLeft2'])+delta_decay*\n",
    "                  (X_test['SDTopLeft2']-X_test['SDTopLeft1']))/(1+delta_decay)\n",
    "SDTopRightDelta_test = (1.0*(X_test['SDTopRight3']-X_test['SDTopRight2'])+delta_decay*\n",
    "                   (X_test['SDTopRight2']-X_test['SDTopRight1']))/(1+delta_decay)\n",
    "SDTwist10Delta_test = (1.0*(X_test['SDTwist103']-X_test['SDTwist102'])+delta_decay*\n",
    "                  (X_test['SDTwist102']-X_test['SDTwist101']))/(1+delta_decay)\n",
    "SDTwist3Delta_test = (1.0*(X_test['SDTwist33']-X_test['SDTwist32'])+delta_decay*\n",
    "                 (X_test['SDTwist32']-X_test['SDTwist31']))/(1+delta_decay)\n",
    "SDVersLDelta_test = (1.0*(X_test['SDVersL3']-X_test['SDVersL2'])+delta_decay*\n",
    "                (X_test['SDVersL2']-X_test['SDVersL1']))/(1+delta_decay)\n",
    "\n",
    "X_test_13 = X_test_14.drop(delta_drop_features_13, axis=1)\n",
    "X_test_13['SDTopLeftDelta'] = SDTopLeftDelta_test\n",
    "X_test_13['SDTopRightDelta'] = SDTopRightDelta_test\n",
    "X_test_13['SDTwist10Delta'] = SDTwist10Delta_test\n",
    "X_test_13['SDTwist3Delta'] = SDTwist3Delta_test\n",
    "X_test_13['SDVersLDelta'] = SDVersLDelta_test\n"
   ]
  },
  {
   "cell_type": "code",
   "execution_count": 107,
   "metadata": {},
   "outputs": [],
   "source": [
    "# Train and scaled\n",
    "SDTopLeftDelta_train_scaled = (1.0*(X_train_scaled['SDTopLeft3']-X_train_scaled['SDTopLeft2'])+delta_decay*\n",
    "                  (X_train_scaled['SDTopLeft2']-X_train_scaled['SDTopLeft1']))/(1+delta_decay)\n",
    "SDTopRightDelta_train_scaled = (1.0*(X_train_scaled['SDTopRight3']-X_train_scaled['SDTopRight2'])+delta_decay*\n",
    "                   (X_train_scaled['SDTopRight2']-X_train_scaled['SDTopRight1']))/(1+delta_decay)\n",
    "SDTwist10Delta_train_scaled = (1.0*(X_train_scaled['SDTwist103']-X_train_scaled['SDTwist102'])+delta_decay*\n",
    "                  (X_train_scaled['SDTwist102']-X_train_scaled['SDTwist101']))/(1+delta_decay)\n",
    "SDTwist3Delta_train_scaled = (1.0*(X_train_scaled['SDTwist33']-X_train_scaled['SDTwist32'])+delta_decay*\n",
    "                 (X_train_scaled['SDTwist32']-X_train_scaled['SDTwist31']))/(1+delta_decay)\n",
    "SDVersLDelta_train_scaled = (1.0*(X_train_scaled['SDVersL3']-X_train_scaled['SDVersL2'])+delta_decay*\n",
    "                (X_train_scaled['SDVersL2']-X_train_scaled['SDVersL1']))/(1+delta_decay)\n",
    "\n",
    "X_train_scaled_13 = X_train_scaled_14.drop(delta_drop_features_13, axis=1)\n",
    "X_train_scaled_13['SDTopLeftDelta'] = SDTopLeftDelta_train_scaled\n",
    "X_train_scaled_13['SDTopRightDelta'] = SDTopRightDelta_train_scaled\n",
    "X_train_scaled_13['SDTwist10Delta'] = SDTwist10Delta_train_scaled\n",
    "X_train_scaled_13['SDTwist3Delta'] = SDTwist3Delta_train_scaled\n",
    "X_train_scaled_13['SDVersLDelta'] = SDVersLDelta_train_scaled\n"
   ]
  },
  {
   "cell_type": "code",
   "execution_count": 108,
   "metadata": {},
   "outputs": [],
   "source": [
    "# Test and scaled\n",
    "SDTopLeftDelta_test_scaled = (1.0*(X_test_scaled['SDTopLeft3']-X_test_scaled['SDTopLeft2'])+delta_decay*\n",
    "                  (X_test_scaled['SDTopLeft2']-X_test_scaled['SDTopLeft1']))/(1+delta_decay)\n",
    "SDTopRightDelta_test_scaled = (1.0*(X_test_scaled['SDTopRight3']-X_test_scaled['SDTopRight2'])+delta_decay*\n",
    "                   (X_test_scaled['SDTopRight2']-X_test_scaled['SDTopRight1']))/(1+delta_decay)\n",
    "SDTwist10Delta_test_scaled = (1.0*(X_test_scaled['SDTwist103']-X_test_scaled['SDTwist102'])+delta_decay*\n",
    "                  (X_test_scaled['SDTwist102']-X_test_scaled['SDTwist101']))/(1+delta_decay)\n",
    "SDTwist3Delta_test_scaled = (1.0*(X_test_scaled['SDTwist33']-X_test_scaled['SDTwist32'])+delta_decay*\n",
    "                 (X_test_scaled['SDTwist32']-X_test_scaled['SDTwist31']))/(1+delta_decay)\n",
    "SDVersLDelta_test_scaled = (1.0*(X_test_scaled['SDVersL3']-X_test_scaled['SDVersL2'])+delta_decay*\n",
    "                (X_test_scaled['SDVersL2']-X_test_scaled['SDVersL1']))/(1+delta_decay)\n",
    "\n",
    "X_test_scaled_13 = X_test_scaled_14.drop(delta_drop_features_13, axis=1)\n",
    "X_test_scaled_13['SDTopLeftDelta'] = SDTopLeftDelta_test_scaled\n",
    "X_test_scaled_13['SDTopRightDelta'] = SDTopRightDelta_test_scaled\n",
    "X_test_scaled_13['SDTwist10Delta'] = SDTwist10Delta_test_scaled\n",
    "X_test_scaled_13['SDTwist3Delta'] = SDTwist3Delta_test_scaled\n",
    "X_test_scaled_13['SDVersLDelta'] = SDVersLDelta_test_scaled\n"
   ]
  },
  {
   "cell_type": "markdown",
   "metadata": {},
   "source": [
    "#### Reduced features 36"
   ]
  },
  {
   "cell_type": "code",
   "execution_count": 109,
   "metadata": {},
   "outputs": [],
   "source": [
    "# Training data\n",
    "delta_drop_features_35 = ['SDTopLeft1', 'SDTopLeft2', 'SDTopRight1', 'SDTopRight2', 'SDTwist32', 'SDVersL2']\n",
    "X_train_35 = X_train_36.drop(delta_drop_features_35, axis=1)\n",
    "X_train_35['SDTopLeftDelta'] = SDTopLeftDelta_train\n",
    "X_train_35['SDTopRightDelta'] = SDTopRightDelta_train\n",
    "X_train_35['SDTwist10Delta'] = SDTwist10Delta_train\n",
    "X_train_35['SDTwist3Delta'] = SDTwist3Delta_train\n",
    "X_train_35['SDVersLDelta'] = SDVersLDelta_train\n",
    "\n",
    "# Testing data\n",
    "X_test_35 = X_test_36.drop(delta_drop_features_35, axis=1)\n",
    "X_test_35['SDTopLeftDelta'] = SDTopLeftDelta_test\n",
    "X_test_35['SDTopRightDelta'] = SDTopRightDelta_test\n",
    "X_test_35['SDTwist10Delta'] = SDTwist10Delta_test\n",
    "X_test_35['SDTwist3Delta'] = SDTwist3Delta_test\n",
    "X_test_35['SDVersLDelta'] = SDVersLDelta_test\n",
    "\n",
    "# Train and scaled\n",
    "X_train_scaled_35 = X_train_scaled_36.drop(delta_drop_features_35, axis=1)\n",
    "X_train_scaled_35['SDTopLeftDelta'] = SDTopLeftDelta_train_scaled\n",
    "X_train_scaled_35['SDTopRightDelta'] = SDTopRightDelta_train_scaled\n",
    "X_train_scaled_35['SDTwist10Delta'] = SDTwist10Delta_train_scaled\n",
    "X_train_scaled_35['SDTwist3Delta'] = SDTwist3Delta_train_scaled\n",
    "X_train_scaled_35['SDVersLDelta'] = SDVersLDelta_train_scaled\n",
    "\n",
    "# Test and scaled\n",
    "X_test_scaled_35 = X_test_scaled_36.drop(delta_drop_features_35, axis=1)\n",
    "X_test_scaled_35['SDTopLeftDelta'] = SDTopLeftDelta_test_scaled\n",
    "X_test_scaled_35['SDTopRightDelta'] = SDTopRightDelta_test_scaled\n",
    "X_test_scaled_35['SDTwist10Delta'] = SDTwist10Delta_test_scaled\n",
    "X_test_scaled_35['SDTwist3Delta'] = SDTwist3Delta_test_scaled\n",
    "X_test_scaled_35['SDVersLDelta'] = SDVersLDelta_test_scaled\n"
   ]
  },
  {
   "cell_type": "markdown",
   "metadata": {},
   "source": [
    "#### Random Forest using delta feature"
   ]
  },
  {
   "cell_type": "code",
   "execution_count": 110,
   "metadata": {},
   "outputs": [
    {
     "name": "stdout",
     "output_type": "stream",
     "text": [
      "RF accuracy (unscaled, reduced features): 86.85 %.\n",
      "RF test score: 0.798\n",
      "Out of bag score: 0.8261\n"
     ]
    }
   ],
   "source": [
    "# Using 35 features\n",
    "num_trees = 1000\n",
    "# Instantiate model with num_trees decision trees\n",
    "RFmodel_reduced = RandomForestRegressor(n_estimators = num_trees, oob_score = True, random_state = random_state)\n",
    "\n",
    "# Train the model on training data\n",
    "RFmodel_reduced.fit(X_train_35, y_train)\n",
    "\n",
    "# Generate predictions to assess performance\n",
    "RF_pred_reduced = RFmodel_reduced.predict(X_test_35)# Calculate the absolute errors\n",
    "RFerrors = abs(RF_pred_reduced - y_test)\n",
    "\n",
    "# Calculate mean absolute percentage error (MAPE)\n",
    "RFmape = 100 * (RFerrors / y_test)\n",
    "RFaccuracy = 100 - np.mean(RFmape)\n",
    "print('RF accuracy (unscaled, reduced features):', round(RFaccuracy, 2), '%.')\n",
    "RFtest_score = RFmodel_reduced.score(X_test_35, y_test)\n",
    "print('RF test score:', round(RFtest_score, 3))\n",
    "print('Out of bag score:', round(RFmodel_reduced.oob_score_,4))"
   ]
  },
  {
   "cell_type": "code",
   "execution_count": 111,
   "metadata": {},
   "outputs": [
    {
     "data": {
      "image/png": "[encoded data removed]",
      "text/plain": [
       "<Figure size 432x288 with 1 Axes>"
      ]
     },
     "metadata": {
      "needs_background": "light"
     },
     "output_type": "display_data"
    }
   ],
   "source": [
    "plt.scatter(RF_pred_reduced, y_test)\n",
    "plt.title('Random Forest: predicted vs. actual (delta feature)', fontsize=12)\n",
    "plt.xlabel('Predicted (test)', fontsize=10)\n",
    "plt.ylabel('Actual (test)', fontsize=10)\n",
    "\n",
    "# Plot line of best fit\n",
    "plt.plot(np.unique(RF_pred_reduced), np.poly1d(np.polyfit(RF_pred_reduced, y_test, 1))(np.unique(RF_pred_reduced)),\n",
    "         color='red')\n",
    "slope, intercept, r_value, p_value, std_err = scipy.stats.linregress(RF_pred_reduced, y_test)\n",
    "M_string = 'M = ' + str(round(slope,2)) + ', R = ' + str(round(r_value,2))# Extract gradient ~1.0\n",
    "plt.text(4,7,M_string, color='red')               \n",
    "plt.show()"
   ]
  },
  {
   "cell_type": "code",
   "execution_count": 112,
   "metadata": {},
   "outputs": [
    {
     "name": "stdout",
     "output_type": "stream",
     "text": [
      "RF accuracy (unscaled, reduced features): 86.06 %.\n",
      "RF test score: 0.779\n",
      "Out of bag score: 0.8045\n"
     ]
    }
   ],
   "source": [
    "# Using 13 features\n",
    "num_trees = 1000\n",
    "# Instantiate model with num_trees decision trees\n",
    "RFmodel_reduced = RandomForestRegressor(n_estimators = num_trees, oob_score = True, random_state = random_state)\n",
    "\n",
    "# Train the model on training data\n",
    "RFmodel_reduced.fit(X_train_13, y_train)\n",
    "\n",
    "# Generate predictions to assess performance\n",
    "RF_pred_reduced = RFmodel_reduced.predict(X_test_13)# Calculate the absolute errors\n",
    "RFerrors = abs(RF_pred_reduced - y_test)\n",
    "\n",
    "# Calculate mean absolute percentage error (MAPE)\n",
    "RFmape = 100 * (RFerrors / y_test)\n",
    "RFaccuracy = 100 - np.mean(RFmape)\n",
    "print('RF accuracy (unscaled, reduced features):', round(RFaccuracy, 2), '%.')\n",
    "RFtest_score = RFmodel_reduced.score(X_test_13, y_test)\n",
    "print('RF test score:', round(RFtest_score, 3))\n",
    "print('Out of bag score:', round(RFmodel_reduced.oob_score_,4))"
   ]
  },
  {
   "cell_type": "code",
   "execution_count": 113,
   "metadata": {},
   "outputs": [
    {
     "data": {
      "image/png": "[encoded data removed]",
      "text/plain": [
       "<Figure size 432x288 with 1 Axes>"
      ]
     },
     "metadata": {
      "needs_background": "light"
     },
     "output_type": "display_data"
    }
   ],
   "source": [
    "plt.scatter(RF_pred_reduced, y_test)\n",
    "plt.title('Random Forest: predicted vs. actual (delta feature)', fontsize=12)\n",
    "plt.xlabel('Predicted (test)', fontsize=10)\n",
    "plt.ylabel('Actual (test)', fontsize=10)\n",
    "\n",
    "# Plot line of best fit\n",
    "plt.plot(np.unique(RF_pred_reduced), np.poly1d(np.polyfit(RF_pred_reduced, y_test, 1))(np.unique(RF_pred_reduced)),\n",
    "         color='red')\n",
    "slope, intercept, r_value, p_value, std_err = scipy.stats.linregress(RF_pred_reduced, y_test)\n",
    "M_string = 'M = ' + str(round(slope,2)) + ', R = ' + str(round(r_value,2))# Extract gradient ~1.0\n",
    "plt.text(4,7,M_string, color='red')               \n",
    "plt.show()"
   ]
  },
  {
   "cell_type": "markdown",
   "metadata": {},
   "source": [
    "#### SVR using delta feature"
   ]
  },
  {
   "cell_type": "code",
   "execution_count": 114,
   "metadata": {},
   "outputs": [
    {
     "name": "stdout",
     "output_type": "stream",
     "text": [
      "SVR accuracy (features= 35 ): 88.02 %.\n",
      "SVR test score: 0.79\n"
     ]
    }
   ],
   "source": [
    "# Using 35 features\n",
    "# Fit using optimal params\n",
    "SVR_best_C = 10\n",
    "SVR_best_epsilon = 0.01\n",
    "\n",
    "SVRmodel_reduced = SVR(C=SVR_best_C, kernel='rbf', gamma='auto', epsilon=SVR_best_epsilon)\n",
    "SVRmodel_reduced.fit(X_train_scaled_35, y_train)\n",
    "\n",
    "# Generate predictions to plot predicted and actuals\n",
    "SVR_pred_reduced = SVRmodel_reduced.predict(X_test_scaled_35)\n",
    "SVRerrors = abs(SVR_pred_reduced - y_test)\n",
    "\n",
    "# Calculate mean absolute percentage error (MAPE)\n",
    "SVRmape = 100 * (SVRerrors / y_test)\n",
    "SVRaccuracy = 100 - np.mean(SVRmape)\n",
    "print('SVR accuracy (features=', X_train_scaled_35.shape[1],'):', round(SVRaccuracy, 2), '%.')\n",
    "SVRtest_score = SVRmodel_reduced.score(X_test_scaled_35, y_test)\n",
    "print('SVR test score:', round(SVRtest_score, 3))"
   ]
  },
  {
   "cell_type": "code",
   "execution_count": 115,
   "metadata": {},
   "outputs": [
    {
     "data": {
      "image/png": "[encoded data removed]",
      "text/plain": [
       "<Figure size 432x288 with 1 Axes>"
      ]
     },
     "metadata": {
      "needs_background": "light"
     },
     "output_type": "display_data"
    }
   ],
   "source": [
    "plt.scatter(SVR_pred_reduced, y_test)\n",
    "plt.title('Support Vector Regression: predicted vs. actual (delta feature)', fontsize=12)\n",
    "plt.xlabel('Predicted (test)', fontsize=10)\n",
    "plt.ylabel('Actual (test)', fontsize=10)\n",
    "\n",
    "# Plot line of best fit\n",
    "plt.plot(np.unique(SVR_pred_reduced), np.poly1d(np.polyfit(SVR_pred_reduced, y_test, 1))(np.unique(SVR_pred_reduced)), color='red')\n",
    "slope, intercept, r_value, p_value, std_err = scipy.stats.linregress(SVR_pred_reduced, y_test)\n",
    "M_string = 'M = ' + str(round(slope,2)) + ', R = ' + str(round(r_value,2))# Extract gradient ~1.0\n",
    "plt.text(4,7,M_string, color='red')               \n",
    "plt.show()"
   ]
  },
  {
   "cell_type": "code",
   "execution_count": 116,
   "metadata": {},
   "outputs": [
    {
     "name": "stdout",
     "output_type": "stream",
     "text": [
      "SVR accuracy (features= 13 ): 86.14 %.\n",
      "SVR test score: 0.731\n"
     ]
    }
   ],
   "source": [
    "# Using 13 features\n",
    "# Fit using optimal params\n",
    "SVR_best_C = 10\n",
    "SVR_best_epsilon = 0.01\n",
    "\n",
    "SVRmodel_reduced = SVR(C=SVR_best_C, kernel='rbf', gamma='auto', epsilon=SVR_best_epsilon)\n",
    "SVRmodel_reduced.fit(X_train_scaled_13, y_train)\n",
    "\n",
    "# Generate predictions to plot predicted and actuals\n",
    "SVR_pred_reduced = SVRmodel_reduced.predict(X_test_scaled_13)\n",
    "SVRerrors = abs(SVR_pred_reduced - y_test)\n",
    "\n",
    "# Calculate mean absolute percentage error (MAPE)\n",
    "SVRmape = 100 * (SVRerrors / y_test)\n",
    "SVRaccuracy = 100 - np.mean(SVRmape)\n",
    "print('SVR accuracy (features=', X_train_scaled_13.shape[1],'):', round(SVRaccuracy, 2), '%.')\n",
    "SVRtest_score = SVRmodel_reduced.score(X_test_scaled_13, y_test)\n",
    "print('SVR test score:', round(SVRtest_score, 3))"
   ]
  },
  {
   "cell_type": "code",
   "execution_count": 117,
   "metadata": {},
   "outputs": [
    {
     "data": {
      "image/png": "[encoded data removed]",
      "text/plain": [
       "<Figure size 432x288 with 1 Axes>"
      ]
     },
     "metadata": {
      "needs_background": "light"
     },
     "output_type": "display_data"
    }
   ],
   "source": [
    "plt.scatter(SVR_pred_reduced, y_test)\n",
    "plt.title('Support Vector Regression: predicted vs. actual (delta feature)', fontsize=12)\n",
    "plt.xlabel('Predicted (test)', fontsize=10)\n",
    "plt.ylabel('Actual (test)', fontsize=10)\n",
    "\n",
    "# Plot line of best fit\n",
    "plt.plot(np.unique(SVR_pred_reduced), np.poly1d(np.polyfit(SVR_pred_reduced, y_test, 1))(np.unique(SVR_pred_reduced)), color='red')\n",
    "slope, intercept, r_value, p_value, std_err = scipy.stats.linregress(SVR_pred_reduced, y_test)\n",
    "M_string = 'M = ' + str(round(slope,2)) + ', R = ' + str(round(r_value,2))# Extract gradient ~1.0\n",
    "plt.text(4,7,M_string, color='red')               \n",
    "plt.show()"
   ]
  },
  {
   "cell_type": "code",
   "execution_count": null,
   "metadata": {},
   "outputs": [],
   "source": []
  },
  {
   "cell_type": "code",
   "execution_count": null,
   "metadata": {},
   "outputs": [],
   "source": []
  }
 ],
 "metadata": {
  "kernelspec": {
   "display_name": "Python 3",
   "language": "python",
   "name": "python3"
  },
  "language_info": {
   "codemirror_mode": {
    "name": "ipython",
    "version": 3
   },
   "file_extension": ".py",
   "mimetype": "text/x-python",
   "name": "python",
   "nbconvert_exporter": "python",
   "pygments_lexer": "ipython3",
   "version": "3.7.4"
  }
 },
 "nbformat": 4,
 "nbformat_minor": 2
}
