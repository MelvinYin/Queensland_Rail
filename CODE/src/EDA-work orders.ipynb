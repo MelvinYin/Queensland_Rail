{
 "cells": [
  {
   "cell_type": "code",
   "execution_count": 1,
   "metadata": {},
   "outputs": [],
   "source": [
    "import pandas as pd\n",
    "import numpy as np\n",
    "import matplotlib.pyplot as plt\n",
    "import scipy\n",
    "from utils import paths\n",
    "import os"
   ]
  },
  {
   "cell_type": "code",
   "execution_count": 2,
   "metadata": {},
   "outputs": [
    {
     "data": {
      "text/plain": [
       "['4th Level LRP to 3 Digit Track Code.xlsx',\n",
       " '5th Level LRP to 4th Digit Track Code.xlsx.xlsx',\n",
       " 'BOM_Rainfall_History',\n",
       " 'BOM_Rainfall_History.zip',\n",
       " 'GPR Data for Corridor C138 Northgate to Caboolture.xlsx',\n",
       " 'GPR Data for NCL C195 Theebine to Bundaberg 2015.zip',\n",
       " 'LRP Details.xlsx',\n",
       " 'MAT Codes.docx',\n",
       " 'Notification and Activity Codes 10.10.2019.xlsx',\n",
       " 'Notification and Fault Codes 10.10.2019.xlsx',\n",
       " 'SEQ_MMY004_Exceptions Northgate to Caboolture .csv',\n",
       " 'Speed and Curve linear classification data.xls.xlsx',\n",
       " 'Track Code List.xlsx',\n",
       " 'Track Code List_2.xlsx',\n",
       " 'Track Culvert and Level Crossing data.xlsx',\n",
       " 'Translation Process.pptx',\n",
       " 'Work Orders for Corridors C138 and C195 10.10.2019 including costs.xlsx']"
      ]
     },
     "execution_count": 2,
     "metadata": {},
     "output_type": "execute_result"
    }
   ],
   "source": [
    "os.listdir(paths.DATA_OCT)"
   ]
  },
  {
   "cell_type": "code",
   "execution_count": 3,
   "metadata": {},
   "outputs": [],
   "source": [
    "df = pd.read_excel(os.path.join(paths.DATA_OCT, 'Work Orders for Corridors C138 and C195 10.10.2019 including costs.xlsx'))\n",
    "df_tc = pd.read_csv('track_code_translated.csv')"
   ]
  },
  {
   "cell_type": "code",
   "execution_count": 4,
   "metadata": {},
   "outputs": [
    {
     "data": {
      "text/html": [
       "<div>\n",
       "<style scoped>\n",
       "    .dataframe tbody tr th:only-of-type {\n",
       "        vertical-align: middle;\n",
       "    }\n",
       "\n",
       "    .dataframe tbody tr th {\n",
       "        vertical-align: top;\n",
       "    }\n",
       "\n",
       "    .dataframe thead th {\n",
       "        text-align: right;\n",
       "    }\n",
       "</style>\n",
       "<table border=\"1\" class=\"dataframe\">\n",
       "  <thead>\n",
       "    <tr style=\"text-align: right;\">\n",
       "      <th></th>\n",
       "      <th>Planner group</th>\n",
       "      <th>Order Type</th>\n",
       "      <th>Order</th>\n",
       "      <th>Description</th>\n",
       "      <th>Lin.Ref.Pattern</th>\n",
       "      <th>Start Point</th>\n",
       "      <th>End Point</th>\n",
       "      <th>Length</th>\n",
       "      <th>Bas. start date</th>\n",
       "      <th>Basic fin. date</th>\n",
       "      <th>...</th>\n",
       "      <th>TotalPlnndCosts</th>\n",
       "      <th>Total act.costs</th>\n",
       "      <th>SystemCondition</th>\n",
       "      <th>Notification</th>\n",
       "      <th>Notifcn Status</th>\n",
       "      <th>WBS element</th>\n",
       "      <th>Plant section</th>\n",
       "      <th>Main WorkCtr</th>\n",
       "      <th>MaintActivType</th>\n",
       "      <th>MAT descriptn</th>\n",
       "    </tr>\n",
       "  </thead>\n",
       "  <tbody>\n",
       "    <tr>\n",
       "      <td>0</td>\n",
       "      <td>SEQ</td>\n",
       "      <td>NS01</td>\n",
       "      <td>6100045277</td>\n",
       "      <td>Robinson Rd Overpass Splay 14-15</td>\n",
       "      <td>C138</td>\n",
       "      <td>14.595</td>\n",
       "      <td>14.605</td>\n",
       "      <td>0.010</td>\n",
       "      <td>2012-07-02</td>\n",
       "      <td>2015-03-31</td>\n",
       "      <td>...</td>\n",
       "      <td>1086.0</td>\n",
       "      <td>65265.05</td>\n",
       "      <td>1</td>\n",
       "      <td>NaN</td>\n",
       "      <td>NaN</td>\n",
       "      <td>NaN</td>\n",
       "      <td>STU</td>\n",
       "      <td>MRH03</td>\n",
       "      <td>N31</td>\n",
       "      <td>Mechanised Resleepering</td>\n",
       "    </tr>\n",
       "    <tr>\n",
       "      <td>1</td>\n",
       "      <td>RSS</td>\n",
       "      <td>NS04</td>\n",
       "      <td>6400003777</td>\n",
       "      <td>Lvl Xing Recon 13.350 - 13.400km Bilsen</td>\n",
       "      <td>C138</td>\n",
       "      <td>11.000</td>\n",
       "      <td>51.000</td>\n",
       "      <td>40.000</td>\n",
       "      <td>2014-07-01</td>\n",
       "      <td>2015-09-30</td>\n",
       "      <td>...</td>\n",
       "      <td>3896.6</td>\n",
       "      <td>14280.25</td>\n",
       "      <td>T</td>\n",
       "      <td>NaN</td>\n",
       "      <td>NaN</td>\n",
       "      <td>NaN</td>\n",
       "      <td>TRK</td>\n",
       "      <td>MSR01</td>\n",
       "      <td>N32</td>\n",
       "      <td>Mechanised Resurfacing</td>\n",
       "    </tr>\n",
       "    <tr>\n",
       "      <td>2</td>\n",
       "      <td>SEQ</td>\n",
       "      <td>NS01</td>\n",
       "      <td>6100037532</td>\n",
       "      <td>LIFT &amp; PACK 24.650 to 24.770km middle rd</td>\n",
       "      <td>C138</td>\n",
       "      <td>24.650</td>\n",
       "      <td>24.770</td>\n",
       "      <td>0.120</td>\n",
       "      <td>2015-01-12</td>\n",
       "      <td>2015-02-11</td>\n",
       "      <td>...</td>\n",
       "      <td>4170.0</td>\n",
       "      <td>3432.00</td>\n",
       "      <td>T</td>\n",
       "      <td>1100021790</td>\n",
       "      <td>NOCO ORAS</td>\n",
       "      <td>NaN</td>\n",
       "      <td>TRK</td>\n",
       "      <td>MSF11</td>\n",
       "      <td>N53</td>\n",
       "      <td>Top &amp; Line Spot Resurfacing</td>\n",
       "    </tr>\n",
       "    <tr>\n",
       "      <td>3</td>\n",
       "      <td>SEQ</td>\n",
       "      <td>NS01</td>\n",
       "      <td>6100048397</td>\n",
       "      <td>LIFT &amp; PACK 25.678 to 25.680km DOWN rd</td>\n",
       "      <td>C138</td>\n",
       "      <td>11.000</td>\n",
       "      <td>51.000</td>\n",
       "      <td>40.000</td>\n",
       "      <td>2015-01-12</td>\n",
       "      <td>2015-04-12</td>\n",
       "      <td>...</td>\n",
       "      <td>2514.0</td>\n",
       "      <td>799.20</td>\n",
       "      <td>T</td>\n",
       "      <td>1100021792</td>\n",
       "      <td>NOCO ORAS</td>\n",
       "      <td>NaN</td>\n",
       "      <td>TRK</td>\n",
       "      <td>MSF11</td>\n",
       "      <td>N53</td>\n",
       "      <td>Top &amp; Line Spot Resurfacing</td>\n",
       "    </tr>\n",
       "    <tr>\n",
       "      <td>4</td>\n",
       "      <td>SEQ</td>\n",
       "      <td>NS01</td>\n",
       "      <td>6100017640</td>\n",
       "      <td>lift and pack 780 points up road</td>\n",
       "      <td>C138</td>\n",
       "      <td>36.445</td>\n",
       "      <td>36.445</td>\n",
       "      <td>0.000</td>\n",
       "      <td>2015-02-02</td>\n",
       "      <td>2015-03-04</td>\n",
       "      <td>...</td>\n",
       "      <td>3432.0</td>\n",
       "      <td>3312.00</td>\n",
       "      <td>T</td>\n",
       "      <td>1100023230</td>\n",
       "      <td>NOCO ORAS</td>\n",
       "      <td>NaN</td>\n",
       "      <td>NaN</td>\n",
       "      <td>MSF06</td>\n",
       "      <td>N53</td>\n",
       "      <td>Top &amp; Line Spot Resurfacing</td>\n",
       "    </tr>\n",
       "  </tbody>\n",
       "</table>\n",
       "<p>5 rows × 29 columns</p>\n",
       "</div>"
      ],
      "text/plain": [
       "  Planner group Order Type       Order  \\\n",
       "0           SEQ       NS01  6100045277   \n",
       "1           RSS       NS04  6400003777   \n",
       "2           SEQ       NS01  6100037532   \n",
       "3           SEQ       NS01  6100048397   \n",
       "4           SEQ       NS01  6100017640   \n",
       "\n",
       "                                Description Lin.Ref.Pattern Start Point  \\\n",
       "0          Robinson Rd Overpass Splay 14-15            C138      14.595   \n",
       "1   Lvl Xing Recon 13.350 - 13.400km Bilsen            C138      11.000   \n",
       "2  LIFT & PACK 24.650 to 24.770km middle rd            C138      24.650   \n",
       "3    LIFT & PACK 25.678 to 25.680km DOWN rd            C138      11.000   \n",
       "4          lift and pack 780 points up road            C138      36.445   \n",
       "\n",
       "   End Point  Length Bas. start date Basic fin. date  ... TotalPlnndCosts  \\\n",
       "0     14.605   0.010      2012-07-02      2015-03-31  ...          1086.0   \n",
       "1     51.000  40.000      2014-07-01      2015-09-30  ...          3896.6   \n",
       "2     24.770   0.120      2015-01-12      2015-02-11  ...          4170.0   \n",
       "3     51.000  40.000      2015-01-12      2015-04-12  ...          2514.0   \n",
       "4     36.445   0.000      2015-02-02      2015-03-04  ...          3432.0   \n",
       "\n",
       "  Total act.costs SystemCondition Notification  Notifcn Status WBS element  \\\n",
       "0        65265.05               1          NaN             NaN         NaN   \n",
       "1        14280.25               T          NaN             NaN         NaN   \n",
       "2         3432.00               T   1100021790       NOCO ORAS         NaN   \n",
       "3          799.20               T   1100021792       NOCO ORAS         NaN   \n",
       "4         3312.00               T   1100023230       NOCO ORAS         NaN   \n",
       "\n",
       "  Plant section Main WorkCtr MaintActivType                MAT descriptn  \n",
       "0           STU        MRH03            N31      Mechanised Resleepering  \n",
       "1           TRK        MSR01            N32       Mechanised Resurfacing  \n",
       "2           TRK        MSF11            N53  Top & Line Spot Resurfacing  \n",
       "3           TRK        MSF11            N53  Top & Line Spot Resurfacing  \n",
       "4           NaN        MSF06            N53  Top & Line Spot Resurfacing  \n",
       "\n",
       "[5 rows x 29 columns]"
      ]
     },
     "execution_count": 4,
     "metadata": {},
     "output_type": "execute_result"
    }
   ],
   "source": [
    "df.head()"
   ]
  },
  {
   "cell_type": "code",
   "execution_count": 5,
   "metadata": {},
   "outputs": [],
   "source": [
    "df['Length'] = df['Length'].map(lambda x: float(str(x).replace(',', ''))).replace(0, 0.001)\n",
    "df['cost_per_length'] = df['Total act.costs']/df['Length']"
   ]
  },
  {
   "cell_type": "code",
   "execution_count": 11,
   "metadata": {
    "scrolled": false
   },
   "outputs": [
    {
     "data": {
      "text/plain": [
       "MAT descriptn\n",
       "Ballast Undercutting           AxesSubplot(0.125,0.125;0.775x0.755)\n",
       "Formation repairs              AxesSubplot(0.125,0.125;0.775x0.755)\n",
       "Maintenance Ballasting         AxesSubplot(0.125,0.125;0.775x0.755)\n",
       "Mechanised Resleepering        AxesSubplot(0.125,0.125;0.775x0.755)\n",
       "Mechanised Resurfacing         AxesSubplot(0.125,0.125;0.775x0.755)\n",
       "Top & Line Spot Resurfacing    AxesSubplot(0.125,0.125;0.775x0.755)\n",
       "dtype: object"
      ]
     },
     "execution_count": 11,
     "metadata": {},
     "output_type": "execute_result"
    },
    {
     "data": {
      "image/png": "[encoded data removed]",
      "text/plain": [
       "<Figure size 432x288 with 1 Axes>"
      ]
     },
     "metadata": {
      "needs_background": "light"
     },
     "output_type": "display_data"
    },
    {
     "data": {
      "image/png": "[encoded data removed]",
      "text/plain": [
       "<Figure size 432x288 with 1 Axes>"
      ]
     },
     "metadata": {
      "needs_background": "light"
     },
     "output_type": "display_data"
    },
    {
     "data": {
      "image/png": "[encoded data removed]",
      "text/plain": [
       "<Figure size 432x288 with 1 Axes>"
      ]
     },
     "metadata": {
      "needs_background": "light"
     },
     "output_type": "display_data"
    },
    {
     "data": {
      "image/png": "[encoded data removed]",
      "text/plain": [
       "<Figure size 432x288 with 1 Axes>"
      ]
     },
     "metadata": {
      "needs_background": "light"
     },
     "output_type": "display_data"
    },
    {
     "data": {
      "image/png": "[encoded data removed]",
      "text/plain": [
       "<Figure size 432x288 with 1 Axes>"
      ]
     },
     "metadata": {
      "needs_background": "light"
     },
     "output_type": "display_data"
    },
    {
     "data": {
      "image/png": "[encoded data removed]",
      "text/plain": [
       "<Figure size 432x288 with 1 Axes>"
      ]
     },
     "metadata": {
      "needs_background": "light"
     },
     "output_type": "display_data"
    }
   ],
   "source": [
    "df[['MAT descriptn', 'Total act.costs']].groupby('MAT descriptn').plot(kind = 'hist', legend = True)\n"
   ]
  },
  {
   "cell_type": "code",
   "execution_count": 12,
   "metadata": {
    "scrolled": false
   },
   "outputs": [
    {
     "data": {
      "text/plain": [
       "MAT descriptn\n",
       "Ballast Undercutting           [[AxesSubplot(0.125,0.125;0.775x0.755)]]\n",
       "Formation repairs              [[AxesSubplot(0.125,0.125;0.775x0.755)]]\n",
       "Maintenance Ballasting         [[AxesSubplot(0.125,0.125;0.775x0.755)]]\n",
       "Mechanised Resleepering        [[AxesSubplot(0.125,0.125;0.775x0.755)]]\n",
       "Mechanised Resurfacing         [[AxesSubplot(0.125,0.125;0.775x0.755)]]\n",
       "Top & Line Spot Resurfacing    [[AxesSubplot(0.125,0.125;0.775x0.755)]]\n",
       "dtype: object"
      ]
     },
     "execution_count": 12,
     "metadata": {},
     "output_type": "execute_result"
    },
    {
     "data": {
      "image/png": "[encoded data removed]",
      "text/plain": [
       "<Figure size 432x288 with 1 Axes>"
      ]
     },
     "metadata": {
      "needs_background": "light"
     },
     "output_type": "display_data"
    },
    {
     "data": {
      "image/png": "[encoded data removed]",
      "text/plain": [
       "<Figure size 432x288 with 1 Axes>"
      ]
     },
     "metadata": {
      "needs_background": "light"
     },
     "output_type": "display_data"
    },
    {
     "data": {
      "image/png": "[encoded data removed]",
      "text/plain": [
       "<Figure size 432x288 with 1 Axes>"
      ]
     },
     "metadata": {
      "needs_background": "light"
     },
     "output_type": "display_data"
    },
    {
     "data": {
      "image/png": "[encoded data removed]",
      "text/plain": [
       "<Figure size 432x288 with 1 Axes>"
      ]
     },
     "metadata": {
      "needs_background": "light"
     },
     "output_type": "display_data"
    },
    {
     "data": {
      "image/png": "[encoded data removed]",
      "text/plain": [
       "<Figure size 432x288 with 1 Axes>"
      ]
     },
     "metadata": {
      "needs_background": "light"
     },
     "output_type": "display_data"
    },
    {
     "data": {
      "image/png": "[encoded data removed]",
      "text/plain": [
       "<Figure size 432x288 with 1 Axes>"
      ]
     },
     "metadata": {
      "needs_background": "light"
     },
     "output_type": "display_data"
    }
   ],
   "source": [
    "df[df['Length']<200][['MAT descriptn', 'Length']].groupby('MAT descriptn').hist()"
   ]
  },
  {
   "cell_type": "code",
   "execution_count": 13,
   "metadata": {},
   "outputs": [
    {
     "data": {
      "text/html": [
       "<div>\n",
       "<style scoped>\n",
       "    .dataframe tbody tr th:only-of-type {\n",
       "        vertical-align: middle;\n",
       "    }\n",
       "\n",
       "    .dataframe tbody tr th {\n",
       "        vertical-align: top;\n",
       "    }\n",
       "\n",
       "    .dataframe thead tr th {\n",
       "        text-align: left;\n",
       "    }\n",
       "\n",
       "    .dataframe thead tr:last-of-type th {\n",
       "        text-align: right;\n",
       "    }\n",
       "</style>\n",
       "<table border=\"1\" class=\"dataframe\">\n",
       "  <thead>\n",
       "    <tr>\n",
       "      <th></th>\n",
       "      <th colspan=\"2\" halign=\"left\">cost_per_length</th>\n",
       "    </tr>\n",
       "    <tr>\n",
       "      <th></th>\n",
       "      <th>mean</th>\n",
       "      <th>std</th>\n",
       "    </tr>\n",
       "    <tr>\n",
       "      <th>MAT descriptn</th>\n",
       "      <th></th>\n",
       "      <th></th>\n",
       "    </tr>\n",
       "  </thead>\n",
       "  <tbody>\n",
       "    <tr>\n",
       "      <td>Ballast Undercutting</td>\n",
       "      <td>1.641376e+06</td>\n",
       "      <td>5.883315e+06</td>\n",
       "    </tr>\n",
       "    <tr>\n",
       "      <td>Formation repairs</td>\n",
       "      <td>2.808570e+06</td>\n",
       "      <td>1.799299e+07</td>\n",
       "    </tr>\n",
       "    <tr>\n",
       "      <td>Maintenance Ballasting</td>\n",
       "      <td>1.106776e+06</td>\n",
       "      <td>2.409907e+06</td>\n",
       "    </tr>\n",
       "    <tr>\n",
       "      <td>Mechanised Resleepering</td>\n",
       "      <td>6.539029e+06</td>\n",
       "      <td>1.518818e+07</td>\n",
       "    </tr>\n",
       "    <tr>\n",
       "      <td>Mechanised Resurfacing</td>\n",
       "      <td>1.207420e+06</td>\n",
       "      <td>3.736218e+06</td>\n",
       "    </tr>\n",
       "    <tr>\n",
       "      <td>Top &amp; Line Spot Resurfacing</td>\n",
       "      <td>9.434424e+05</td>\n",
       "      <td>2.938490e+06</td>\n",
       "    </tr>\n",
       "  </tbody>\n",
       "</table>\n",
       "</div>"
      ],
      "text/plain": [
       "                            cost_per_length              \n",
       "                                       mean           std\n",
       "MAT descriptn                                            \n",
       "Ballast Undercutting           1.641376e+06  5.883315e+06\n",
       "Formation repairs              2.808570e+06  1.799299e+07\n",
       "Maintenance Ballasting         1.106776e+06  2.409907e+06\n",
       "Mechanised Resleepering        6.539029e+06  1.518818e+07\n",
       "Mechanised Resurfacing         1.207420e+06  3.736218e+06\n",
       "Top & Line Spot Resurfacing    9.434424e+05  2.938490e+06"
      ]
     },
     "execution_count": 13,
     "metadata": {},
     "output_type": "execute_result"
    }
   ],
   "source": [
    "df[df['Length']<200][['MAT descriptn', 'cost_per_length']].groupby('MAT descriptn').agg({'cost_per_length': ['mean', 'std']})"
   ]
  },
  {
   "cell_type": "code",
   "execution_count": 14,
   "metadata": {},
   "outputs": [
    {
     "data": {
      "text/html": [
       "<div>\n",
       "<style scoped>\n",
       "    .dataframe tbody tr th:only-of-type {\n",
       "        vertical-align: middle;\n",
       "    }\n",
       "\n",
       "    .dataframe tbody tr th {\n",
       "        vertical-align: top;\n",
       "    }\n",
       "\n",
       "    .dataframe thead tr th {\n",
       "        text-align: left;\n",
       "    }\n",
       "\n",
       "    .dataframe thead tr:last-of-type th {\n",
       "        text-align: right;\n",
       "    }\n",
       "</style>\n",
       "<table border=\"1\" class=\"dataframe\">\n",
       "  <thead>\n",
       "    <tr>\n",
       "      <th></th>\n",
       "      <th colspan=\"3\" halign=\"left\">Total act.costs</th>\n",
       "    </tr>\n",
       "    <tr>\n",
       "      <th></th>\n",
       "      <th>median</th>\n",
       "      <th>amin</th>\n",
       "      <th>amax</th>\n",
       "    </tr>\n",
       "    <tr>\n",
       "      <th>MAT descriptn</th>\n",
       "      <th></th>\n",
       "      <th></th>\n",
       "      <th></th>\n",
       "    </tr>\n",
       "  </thead>\n",
       "  <tbody>\n",
       "    <tr>\n",
       "      <td>Ballast Undercutting</td>\n",
       "      <td>9388.430</td>\n",
       "      <td>0.0</td>\n",
       "      <td>458451.04</td>\n",
       "    </tr>\n",
       "    <tr>\n",
       "      <td>Formation repairs</td>\n",
       "      <td>3872.325</td>\n",
       "      <td>0.0</td>\n",
       "      <td>202456.71</td>\n",
       "    </tr>\n",
       "    <tr>\n",
       "      <td>Maintenance Ballasting</td>\n",
       "      <td>3812.480</td>\n",
       "      <td>0.0</td>\n",
       "      <td>251542.15</td>\n",
       "    </tr>\n",
       "    <tr>\n",
       "      <td>Mechanised Resleepering</td>\n",
       "      <td>3764.150</td>\n",
       "      <td>0.0</td>\n",
       "      <td>234805.35</td>\n",
       "    </tr>\n",
       "    <tr>\n",
       "      <td>Mechanised Resurfacing</td>\n",
       "      <td>6772.220</td>\n",
       "      <td>0.0</td>\n",
       "      <td>91526.32</td>\n",
       "    </tr>\n",
       "    <tr>\n",
       "      <td>Top &amp; Line Spot Resurfacing</td>\n",
       "      <td>1716.000</td>\n",
       "      <td>-116.2</td>\n",
       "      <td>69916.32</td>\n",
       "    </tr>\n",
       "  </tbody>\n",
       "</table>\n",
       "</div>"
      ],
      "text/plain": [
       "                            Total act.costs                  \n",
       "                                     median   amin       amax\n",
       "MAT descriptn                                                \n",
       "Ballast Undercutting               9388.430    0.0  458451.04\n",
       "Formation repairs                  3872.325    0.0  202456.71\n",
       "Maintenance Ballasting             3812.480    0.0  251542.15\n",
       "Mechanised Resleepering            3764.150    0.0  234805.35\n",
       "Mechanised Resurfacing             6772.220    0.0   91526.32\n",
       "Top & Line Spot Resurfacing        1716.000 -116.2   69916.32"
      ]
     },
     "execution_count": 14,
     "metadata": {},
     "output_type": "execute_result"
    }
   ],
   "source": [
    "df[df['Length']<200][['MAT descriptn', 'Total act.costs']].groupby('MAT descriptn').agg([np.median, np.min, np.max])"
   ]
  },
  {
   "cell_type": "code",
   "execution_count": 75,
   "metadata": {},
   "outputs": [
    {
     "data": {
      "text/html": [
       "<div>\n",
       "<style scoped>\n",
       "    .dataframe tbody tr th:only-of-type {\n",
       "        vertical-align: middle;\n",
       "    }\n",
       "\n",
       "    .dataframe tbody tr th {\n",
       "        vertical-align: top;\n",
       "    }\n",
       "\n",
       "    .dataframe thead tr th {\n",
       "        text-align: left;\n",
       "    }\n",
       "\n",
       "    .dataframe thead tr:last-of-type th {\n",
       "        text-align: right;\n",
       "    }\n",
       "</style>\n",
       "<table border=\"1\" class=\"dataframe\">\n",
       "  <thead>\n",
       "    <tr>\n",
       "      <th></th>\n",
       "      <th colspan=\"3\" halign=\"left\">TotalPlnndCosts</th>\n",
       "    </tr>\n",
       "    <tr>\n",
       "      <th></th>\n",
       "      <th>median</th>\n",
       "      <th>amin</th>\n",
       "      <th>amax</th>\n",
       "    </tr>\n",
       "    <tr>\n",
       "      <th>MAT descriptn</th>\n",
       "      <th></th>\n",
       "      <th></th>\n",
       "      <th></th>\n",
       "    </tr>\n",
       "  </thead>\n",
       "  <tbody>\n",
       "    <tr>\n",
       "      <td>Ballast Undercutting</td>\n",
       "      <td>9023.30</td>\n",
       "      <td>0.00</td>\n",
       "      <td>354516.95</td>\n",
       "    </tr>\n",
       "    <tr>\n",
       "      <td>Formation repairs</td>\n",
       "      <td>6240.48</td>\n",
       "      <td>422.70</td>\n",
       "      <td>238605.37</td>\n",
       "    </tr>\n",
       "    <tr>\n",
       "      <td>Maintenance Ballasting</td>\n",
       "      <td>2930.52</td>\n",
       "      <td>159.05</td>\n",
       "      <td>48802.00</td>\n",
       "    </tr>\n",
       "    <tr>\n",
       "      <td>Mechanised Resleepering</td>\n",
       "      <td>3840.00</td>\n",
       "      <td>128.01</td>\n",
       "      <td>226677.68</td>\n",
       "    </tr>\n",
       "    <tr>\n",
       "      <td>Mechanised Resurfacing</td>\n",
       "      <td>4525.63</td>\n",
       "      <td>0.00</td>\n",
       "      <td>69189.26</td>\n",
       "    </tr>\n",
       "    <tr>\n",
       "      <td>Top &amp; Line Spot Resurfacing</td>\n",
       "      <td>2349.54</td>\n",
       "      <td>0.00</td>\n",
       "      <td>40850.50</td>\n",
       "    </tr>\n",
       "  </tbody>\n",
       "</table>\n",
       "</div>"
      ],
      "text/plain": [
       "                            TotalPlnndCosts                   \n",
       "                                     median    amin       amax\n",
       "MAT descriptn                                                 \n",
       "Ballast Undercutting                9023.30    0.00  354516.95\n",
       "Formation repairs                   6240.48  422.70  238605.37\n",
       "Maintenance Ballasting              2930.52  159.05   48802.00\n",
       "Mechanised Resleepering             3840.00  128.01  226677.68\n",
       "Mechanised Resurfacing              4525.63    0.00   69189.26\n",
       "Top & Line Spot Resurfacing         2349.54    0.00   40850.50"
      ]
     },
     "execution_count": 75,
     "metadata": {},
     "output_type": "execute_result"
    }
   ],
   "source": [
    "df[df['Length']<200][['MAT descriptn', 'TotalPlnndCosts']].groupby('MAT descriptn').agg([np.median, np.min, np.max])"
   ]
  },
  {
   "cell_type": "code",
   "execution_count": 76,
   "metadata": {},
   "outputs": [],
   "source": [
    "a = pd.read_excel(pd.ExcelFile(os.path.join(paths.DATA_OCT,'track Code List_2.xlsx')))"
   ]
  },
  {
   "cell_type": "code",
   "execution_count": 80,
   "metadata": {},
   "outputs": [
    {
     "data": {
      "text/html": [
       "<div>\n",
       "<style scoped>\n",
       "    .dataframe tbody tr th:only-of-type {\n",
       "        vertical-align: middle;\n",
       "    }\n",
       "\n",
       "    .dataframe tbody tr th {\n",
       "        vertical-align: top;\n",
       "    }\n",
       "\n",
       "    .dataframe thead th {\n",
       "        text-align: right;\n",
       "    }\n",
       "</style>\n",
       "<table border=\"1\" class=\"dataframe\">\n",
       "  <thead>\n",
       "    <tr style=\"text-align: right;\">\n",
       "      <th></th>\n",
       "      <th>Track code</th>\n",
       "      <th>Start KM</th>\n",
       "    </tr>\n",
       "  </thead>\n",
       "  <tbody>\n",
       "    <tr>\n",
       "      <td>20</td>\n",
       "      <td>217011</td>\n",
       "      <td>11</td>\n",
       "    </tr>\n",
       "    <tr>\n",
       "      <td>43</td>\n",
       "      <td>354011</td>\n",
       "      <td>4</td>\n",
       "    </tr>\n",
       "    <tr>\n",
       "      <td>57</td>\n",
       "      <td>400011</td>\n",
       "      <td>8</td>\n",
       "    </tr>\n",
       "    <tr>\n",
       "      <td>63</td>\n",
       "      <td>401011</td>\n",
       "      <td>8</td>\n",
       "    </tr>\n",
       "    <tr>\n",
       "      <td>69</td>\n",
       "      <td>409011</td>\n",
       "      <td>3</td>\n",
       "    </tr>\n",
       "    <tr>\n",
       "      <td>75</td>\n",
       "      <td>417011</td>\n",
       "      <td>5</td>\n",
       "    </tr>\n",
       "    <tr>\n",
       "      <td>85</td>\n",
       "      <td>459401</td>\n",
       "      <td>5</td>\n",
       "    </tr>\n",
       "    <tr>\n",
       "      <td>131</td>\n",
       "      <td>522011</td>\n",
       "      <td>4</td>\n",
       "    </tr>\n",
       "    <tr>\n",
       "      <td>150</td>\n",
       "      <td>546011</td>\n",
       "      <td>3</td>\n",
       "    </tr>\n",
       "    <tr>\n",
       "      <td>154</td>\n",
       "      <td>551011</td>\n",
       "      <td>3</td>\n",
       "    </tr>\n",
       "    <tr>\n",
       "      <td>163</td>\n",
       "      <td>565011</td>\n",
       "      <td>4</td>\n",
       "    </tr>\n",
       "    <tr>\n",
       "      <td>167</td>\n",
       "      <td>568012</td>\n",
       "      <td>13</td>\n",
       "    </tr>\n",
       "    <tr>\n",
       "      <td>170</td>\n",
       "      <td>633401</td>\n",
       "      <td>6</td>\n",
       "    </tr>\n",
       "    <tr>\n",
       "      <td>172</td>\n",
       "      <td>637401</td>\n",
       "      <td>4</td>\n",
       "    </tr>\n",
       "    <tr>\n",
       "      <td>174</td>\n",
       "      <td>638401</td>\n",
       "      <td>7</td>\n",
       "    </tr>\n",
       "    <tr>\n",
       "      <td>186</td>\n",
       "      <td>680011</td>\n",
       "      <td>6</td>\n",
       "    </tr>\n",
       "    <tr>\n",
       "      <td>201</td>\n",
       "      <td>711011</td>\n",
       "      <td>5</td>\n",
       "    </tr>\n",
       "    <tr>\n",
       "      <td>218</td>\n",
       "      <td>725011</td>\n",
       "      <td>3</td>\n",
       "    </tr>\n",
       "    <tr>\n",
       "      <td>220</td>\n",
       "      <td>726011</td>\n",
       "      <td>7</td>\n",
       "    </tr>\n",
       "    <tr>\n",
       "      <td>226</td>\n",
       "      <td>729011</td>\n",
       "      <td>9</td>\n",
       "    </tr>\n",
       "    <tr>\n",
       "      <td>258</td>\n",
       "      <td>820011</td>\n",
       "      <td>4</td>\n",
       "    </tr>\n",
       "    <tr>\n",
       "      <td>275</td>\n",
       "      <td>833011</td>\n",
       "      <td>8</td>\n",
       "    </tr>\n",
       "    <tr>\n",
       "      <td>284</td>\n",
       "      <td>854011</td>\n",
       "      <td>6</td>\n",
       "    </tr>\n",
       "    <tr>\n",
       "      <td>286</td>\n",
       "      <td>855011</td>\n",
       "      <td>9</td>\n",
       "    </tr>\n",
       "    <tr>\n",
       "      <td>290</td>\n",
       "      <td>880401</td>\n",
       "      <td>5</td>\n",
       "    </tr>\n",
       "    <tr>\n",
       "      <td>292</td>\n",
       "      <td>881401</td>\n",
       "      <td>7</td>\n",
       "    </tr>\n",
       "    <tr>\n",
       "      <td>294</td>\n",
       "      <td>884401</td>\n",
       "      <td>3</td>\n",
       "    </tr>\n",
       "  </tbody>\n",
       "</table>\n",
       "</div>"
      ],
      "text/plain": [
       "     Track code  Start KM\n",
       "20       217011        11\n",
       "43       354011         4\n",
       "57       400011         8\n",
       "63       401011         8\n",
       "69       409011         3\n",
       "75       417011         5\n",
       "85       459401         5\n",
       "131      522011         4\n",
       "150      546011         3\n",
       "154      551011         3\n",
       "163      565011         4\n",
       "167      568012        13\n",
       "170      633401         6\n",
       "172      637401         4\n",
       "174      638401         7\n",
       "186      680011         6\n",
       "201      711011         5\n",
       "218      725011         3\n",
       "220      726011         7\n",
       "226      729011         9\n",
       "258      820011         4\n",
       "275      833011         8\n",
       "284      854011         6\n",
       "286      855011         9\n",
       "290      880401         5\n",
       "292      881401         7\n",
       "294      884401         3"
      ]
     },
     "execution_count": 80,
     "metadata": {},
     "output_type": "execute_result"
    }
   ],
   "source": [
    "b = a.groupby('Track code').count()['Start KM'].reset_index()\n",
    "b[b[\"Start KM\"]>2]"
   ]
  },
  {
   "cell_type": "code",
   "execution_count": null,
   "metadata": {},
   "outputs": [],
   "source": []
  }
 ],
 "metadata": {
  "kernelspec": {
   "display_name": "Python 3",
   "language": "python",
   "name": "python3"
  },
  "language_info": {
   "codemirror_mode": {
    "name": "ipython",
    "version": 3
   },
   "file_extension": ".py",
   "mimetype": "text/x-python",
   "name": "python",
   "nbconvert_exporter": "python",
   "pygments_lexer": "ipython3",
   "version": "3.6.0"
  }
 },
 "nbformat": 4,
 "nbformat_minor": 2
}
