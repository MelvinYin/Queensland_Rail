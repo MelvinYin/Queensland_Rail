{
 "cells": [
  {
   "cell_type": "markdown",
   "metadata": {},
   "source": [
    "This is where I house all the one-time converts. They wont be converted into classes since they are unlikely to be run again\n",
    "\n",
    "They are documented here just in case anyone wonders how those derived data were created"
   ]
  },
  {
   "cell_type": "code",
   "execution_count": 1,
   "metadata": {},
   "outputs": [],
   "source": [
    "import pandas as pd\n",
    "import matplotlib.pyplot as plt\n",
    "import descartes\n",
    "from shapely.geometry import Point, Polygon\n",
    "import geopandas as gpd\n",
    "import numpy as np\n",
    "import matplotlib as mpl\n",
    "from utils import paths\n",
    "import os"
   ]
  },
  {
   "cell_type": "markdown",
   "metadata": {},
   "source": [
    "## GPR data: combining C138 and C195\n",
    "\n",
    "output: GPS data from the joined set to be passed into to_gps_coords.py as gps_df"
   ]
  },
  {
   "cell_type": "code",
   "execution_count": 2,
   "metadata": {},
   "outputs": [],
   "source": [
    "C138_df = pd.read_excel(os.path.join(paths.DATA_OCT, 'GPR Data for Corridor C138 Northgate to Caboolture.xlsx'), skiprows=2) # read data\n",
    "C195_df =  pd.read_excel(os.path.join(paths.DATA_OCT, 'GPR Data for NCL C195 Theebine to Bundaberg 2015.xlsx'), skiprows=15) # read data"
   ]
  },
  {
   "cell_type": "code",
   "execution_count": 3,
   "metadata": {},
   "outputs": [],
   "source": [
    "C138_df = C138_df.rename(columns={'Unnamed: 50': 'Surface Mudspot'})\n",
    "cols = [c for c in C138_df.columns if c.lower()[:7] != 'unnamed']\n",
    "C138_df = C138_df[cols] ## remove unnamed cols\n",
    "C138_df['track_funcloc'] = 'C138'"
   ]
  },
  {
   "cell_type": "code",
   "execution_count": 4,
   "metadata": {},
   "outputs": [],
   "source": [
    "C195_df = C195_df.rename(columns={'Unnamed: 56': 'Surface Mudspot', 'Line Code':'Line Segment', 'Track Code': 'Track ID'})\n",
    "cols = [c for c in C195_df.columns if c.lower()[:7] != 'unnamed']\n",
    "C195_df = C195_df[cols] ## remove unnamed cols\n",
    "C195_df['track_funcloc'] = 'C195'"
   ]
  },
  {
   "cell_type": "code",
   "execution_count": 7,
   "metadata": {},
   "outputs": [
    {
     "data": {
      "text/plain": [
       "Index(['Division', 'Sub-division', 'Line Segment', 'Track ID',\n",
       "       'Collection Date', 'Start KM', 'End KM', 'Geolink', 'Dec.Lat',\n",
       "       'Dec.Long', 'PVC Value', 'Category', 'PVC Value.1', 'Category.1',\n",
       "       'PVC Value.2', 'Category.2', 'Left*', 'Centre', 'Right*', 'Left*.1',\n",
       "       'Centre.1', 'Right*.1', 'Left*.2', 'Centre.2', 'Right*.2', 'Left*.3',\n",
       "       'Centre.3', 'Right*.3', 'Volume (cubic m)', 'Category.3',\n",
       "       'Volume (cubic m).1', 'Category.4', 'Volume (cubic m).2', 'Category.5',\n",
       "       'Category.6', 'Category.7', 'Category.8', 'Left*.4', 'Right*.4',\n",
       "       'Surface Mudspot', 'track_funcloc'],\n",
       "      dtype='object')"
      ]
     },
     "execution_count": 7,
     "metadata": {},
     "output_type": "execute_result"
    }
   ],
   "source": [
    "C138_df.columns"
   ]
  },
  {
   "cell_type": "code",
   "execution_count": 8,
   "metadata": {},
   "outputs": [
    {
     "data": {
      "text/plain": [
       "Index(['Division', 'Prefix', 'Line Segment', 'Track ID', 'Collection Date',\n",
       "       'GPR Run Number', 'Laser Run number', 'Start KM', 'End KM', 'Geolink',\n",
       "       'Dec.Lat', 'Dec.Long', 'PVC Value', 'Category', 'PVC Value.1',\n",
       "       'Category.1', 'PVC Value.2', 'Category.2', 'Left*', 'Centre', 'Right',\n",
       "       'Left*.1', 'Centre.1', 'Right.1', 'Left*.2', 'Centre.2', 'Right.2',\n",
       "       'Left*.3', 'Centre.3', 'Right.3', 'Left*.4', 'Centre.4', 'Right*',\n",
       "       'Left*.5', 'Centre.5', 'Right*.1', 'Volume (cubic m)', 'Category.3',\n",
       "       'Volume (cubic m).1', 'Category.4', 'Volume (cubic m).2', 'Category.5',\n",
       "       'Surface Mudspot', 'track_funcloc'],\n",
       "      dtype='object')"
      ]
     },
     "execution_count": 8,
     "metadata": {},
     "output_type": "execute_result"
    }
   ],
   "source": [
    "C195_df.columns"
   ]
  },
  {
   "cell_type": "code",
   "execution_count": 9,
   "metadata": {},
   "outputs": [],
   "source": [
    "col_to_filter= ['Line Segment', 'Track ID', 'Collection Date', 'Start KM', 'End KM', 'Dec.Lat', 'Dec.Long', 'track_funcloc' ]\n",
    "GPS_data = pd.concat([C138_df[col_to_filter], C195_df[col_to_filter]])"
   ]
  },
  {
   "cell_type": "code",
   "execution_count": 10,
   "metadata": {},
   "outputs": [
    {
     "data": {
      "text/html": [
       "<div>\n",
       "<style scoped>\n",
       "    .dataframe tbody tr th:only-of-type {\n",
       "        vertical-align: middle;\n",
       "    }\n",
       "\n",
       "    .dataframe tbody tr th {\n",
       "        vertical-align: top;\n",
       "    }\n",
       "\n",
       "    .dataframe thead th {\n",
       "        text-align: right;\n",
       "    }\n",
       "</style>\n",
       "<table border=\"1\" class=\"dataframe\">\n",
       "  <thead>\n",
       "    <tr style=\"text-align: right;\">\n",
       "      <th></th>\n",
       "      <th>Line Segment</th>\n",
       "      <th>Track ID</th>\n",
       "      <th>Collection Date</th>\n",
       "      <th>Start KM</th>\n",
       "      <th>End KM</th>\n",
       "      <th>Dec.Lat</th>\n",
       "      <th>Dec.Long</th>\n",
       "      <th>track_funcloc</th>\n",
       "    </tr>\n",
       "  </thead>\n",
       "  <tbody>\n",
       "    <tr>\n",
       "      <td>0</td>\n",
       "      <td>823</td>\n",
       "      <td>101</td>\n",
       "      <td>2018-10-02</td>\n",
       "      <td>10.87900</td>\n",
       "      <td>10.88402</td>\n",
       "      <td>-27.392978</td>\n",
       "      <td>153.069371</td>\n",
       "      <td>C138</td>\n",
       "    </tr>\n",
       "    <tr>\n",
       "      <td>1</td>\n",
       "      <td>823</td>\n",
       "      <td>101</td>\n",
       "      <td>2018-10-02</td>\n",
       "      <td>10.88402</td>\n",
       "      <td>10.88904</td>\n",
       "      <td>-27.392933</td>\n",
       "      <td>153.069382</td>\n",
       "      <td>C138</td>\n",
       "    </tr>\n",
       "    <tr>\n",
       "      <td>2</td>\n",
       "      <td>823</td>\n",
       "      <td>101</td>\n",
       "      <td>2018-10-02</td>\n",
       "      <td>10.88904</td>\n",
       "      <td>10.89406</td>\n",
       "      <td>-27.392886</td>\n",
       "      <td>153.069393</td>\n",
       "      <td>C138</td>\n",
       "    </tr>\n",
       "    <tr>\n",
       "      <td>3</td>\n",
       "      <td>823</td>\n",
       "      <td>101</td>\n",
       "      <td>2018-10-02</td>\n",
       "      <td>10.89406</td>\n",
       "      <td>10.89908</td>\n",
       "      <td>-27.392839</td>\n",
       "      <td>153.069403</td>\n",
       "      <td>C138</td>\n",
       "    </tr>\n",
       "    <tr>\n",
       "      <td>4</td>\n",
       "      <td>823</td>\n",
       "      <td>101</td>\n",
       "      <td>2018-10-02</td>\n",
       "      <td>10.89908</td>\n",
       "      <td>10.90411</td>\n",
       "      <td>-27.392795</td>\n",
       "      <td>153.069412</td>\n",
       "      <td>C138</td>\n",
       "    </tr>\n",
       "  </tbody>\n",
       "</table>\n",
       "</div>"
      ],
      "text/plain": [
       "   Line Segment  Track ID Collection Date  Start KM    End KM    Dec.Lat  \\\n",
       "0           823       101      2018-10-02  10.87900  10.88402 -27.392978   \n",
       "1           823       101      2018-10-02  10.88402  10.88904 -27.392933   \n",
       "2           823       101      2018-10-02  10.88904  10.89406 -27.392886   \n",
       "3           823       101      2018-10-02  10.89406  10.89908 -27.392839   \n",
       "4           823       101      2018-10-02  10.89908  10.90411 -27.392795   \n",
       "\n",
       "     Dec.Long track_funcloc  \n",
       "0  153.069371          C138  \n",
       "1  153.069382          C138  \n",
       "2  153.069393          C138  \n",
       "3  153.069403          C138  \n",
       "4  153.069412          C138  "
      ]
     },
     "execution_count": 10,
     "metadata": {},
     "output_type": "execute_result"
    }
   ],
   "source": [
    "GPS_data.head()"
   ]
  },
  {
   "cell_type": "code",
   "execution_count": 11,
   "metadata": {},
   "outputs": [],
   "source": [
    "GPS_data.to_csv(os.path.join(paths.DATA_DERIVED, 'C138_C195_coords.csv'))"
   ]
  },
  {
   "cell_type": "markdown",
   "metadata": {},
   "source": [
    "# Combining work orders with track codes\n",
    "output: work-order data with the track codes (output of track_code_matching.py) in a single column\n",
    "\n",
    "used as input for to_gps_coords.py as df_to_match"
   ]
  },
  {
   "cell_type": "code",
   "execution_count": 3,
   "metadata": {},
   "outputs": [],
   "source": [
    "tc = pd.read_csv(os.path.join(paths.DATA_DERIVED, \"track_code_translated.csv\"))\n",
    "work_orders = pd.read_excel(os.path.join(paths.DATA_OCT, \"Work Orders for Corridors C138 and C195 10.10.2019 including costs.xlsx\"))"
   ]
  },
  {
   "cell_type": "code",
   "execution_count": 4,
   "metadata": {
    "scrolled": false
   },
   "outputs": [
    {
     "data": {
      "text/html": [
       "<div>\n",
       "<style scoped>\n",
       "    .dataframe tbody tr th:only-of-type {\n",
       "        vertical-align: middle;\n",
       "    }\n",
       "\n",
       "    .dataframe tbody tr th {\n",
       "        vertical-align: top;\n",
       "    }\n",
       "\n",
       "    .dataframe thead th {\n",
       "        text-align: right;\n",
       "    }\n",
       "</style>\n",
       "<table border=\"1\" class=\"dataframe\">\n",
       "  <thead>\n",
       "    <tr style=\"text-align: right;\">\n",
       "      <th></th>\n",
       "      <th>Planner group</th>\n",
       "      <th>Order Type</th>\n",
       "      <th>Order</th>\n",
       "      <th>Description</th>\n",
       "      <th>Lin.Ref.Pattern</th>\n",
       "      <th>Start Point</th>\n",
       "      <th>End Point</th>\n",
       "      <th>Length</th>\n",
       "      <th>Bas. start date</th>\n",
       "      <th>Basic fin. date</th>\n",
       "      <th>...</th>\n",
       "      <th>TotalPlnndCosts</th>\n",
       "      <th>Total act.costs</th>\n",
       "      <th>SystemCondition</th>\n",
       "      <th>Notification</th>\n",
       "      <th>Notifcn Status</th>\n",
       "      <th>WBS element</th>\n",
       "      <th>Plant section</th>\n",
       "      <th>Main WorkCtr</th>\n",
       "      <th>MaintActivType</th>\n",
       "      <th>MAT descriptn</th>\n",
       "    </tr>\n",
       "  </thead>\n",
       "  <tbody>\n",
       "    <tr>\n",
       "      <td>0</td>\n",
       "      <td>SEQ</td>\n",
       "      <td>NS01</td>\n",
       "      <td>6100045277</td>\n",
       "      <td>Robinson Rd Overpass Splay 14-15</td>\n",
       "      <td>C138</td>\n",
       "      <td>14.595</td>\n",
       "      <td>14.605</td>\n",
       "      <td>0.010</td>\n",
       "      <td>2012-07-02</td>\n",
       "      <td>2015-03-31</td>\n",
       "      <td>...</td>\n",
       "      <td>1086.0</td>\n",
       "      <td>65265.05</td>\n",
       "      <td>1</td>\n",
       "      <td>NaN</td>\n",
       "      <td>NaN</td>\n",
       "      <td>NaN</td>\n",
       "      <td>STU</td>\n",
       "      <td>MRH03</td>\n",
       "      <td>N31</td>\n",
       "      <td>Mechanised Resleepering</td>\n",
       "    </tr>\n",
       "    <tr>\n",
       "      <td>1</td>\n",
       "      <td>RSS</td>\n",
       "      <td>NS04</td>\n",
       "      <td>6400003777</td>\n",
       "      <td>Lvl Xing Recon 13.350 - 13.400km Bilsen</td>\n",
       "      <td>C138</td>\n",
       "      <td>11.000</td>\n",
       "      <td>51.000</td>\n",
       "      <td>40.000</td>\n",
       "      <td>2014-07-01</td>\n",
       "      <td>2015-09-30</td>\n",
       "      <td>...</td>\n",
       "      <td>3896.6</td>\n",
       "      <td>14280.25</td>\n",
       "      <td>T</td>\n",
       "      <td>NaN</td>\n",
       "      <td>NaN</td>\n",
       "      <td>NaN</td>\n",
       "      <td>TRK</td>\n",
       "      <td>MSR01</td>\n",
       "      <td>N32</td>\n",
       "      <td>Mechanised Resurfacing</td>\n",
       "    </tr>\n",
       "    <tr>\n",
       "      <td>2</td>\n",
       "      <td>SEQ</td>\n",
       "      <td>NS01</td>\n",
       "      <td>6100037532</td>\n",
       "      <td>LIFT &amp; PACK 24.650 to 24.770km middle rd</td>\n",
       "      <td>C138</td>\n",
       "      <td>24.650</td>\n",
       "      <td>24.770</td>\n",
       "      <td>0.120</td>\n",
       "      <td>2015-01-12</td>\n",
       "      <td>2015-02-11</td>\n",
       "      <td>...</td>\n",
       "      <td>4170.0</td>\n",
       "      <td>3432.00</td>\n",
       "      <td>T</td>\n",
       "      <td>1100021790</td>\n",
       "      <td>NOCO ORAS</td>\n",
       "      <td>NaN</td>\n",
       "      <td>TRK</td>\n",
       "      <td>MSF11</td>\n",
       "      <td>N53</td>\n",
       "      <td>Top &amp; Line Spot Resurfacing</td>\n",
       "    </tr>\n",
       "    <tr>\n",
       "      <td>3</td>\n",
       "      <td>SEQ</td>\n",
       "      <td>NS01</td>\n",
       "      <td>6100048397</td>\n",
       "      <td>LIFT &amp; PACK 25.678 to 25.680km DOWN rd</td>\n",
       "      <td>C138</td>\n",
       "      <td>11.000</td>\n",
       "      <td>51.000</td>\n",
       "      <td>40.000</td>\n",
       "      <td>2015-01-12</td>\n",
       "      <td>2015-04-12</td>\n",
       "      <td>...</td>\n",
       "      <td>2514.0</td>\n",
       "      <td>799.20</td>\n",
       "      <td>T</td>\n",
       "      <td>1100021792</td>\n",
       "      <td>NOCO ORAS</td>\n",
       "      <td>NaN</td>\n",
       "      <td>TRK</td>\n",
       "      <td>MSF11</td>\n",
       "      <td>N53</td>\n",
       "      <td>Top &amp; Line Spot Resurfacing</td>\n",
       "    </tr>\n",
       "    <tr>\n",
       "      <td>4</td>\n",
       "      <td>SEQ</td>\n",
       "      <td>NS01</td>\n",
       "      <td>6100017640</td>\n",
       "      <td>lift and pack 780 points up road</td>\n",
       "      <td>C138</td>\n",
       "      <td>36.445</td>\n",
       "      <td>36.445</td>\n",
       "      <td>0.000</td>\n",
       "      <td>2015-02-02</td>\n",
       "      <td>2015-03-04</td>\n",
       "      <td>...</td>\n",
       "      <td>3432.0</td>\n",
       "      <td>3312.00</td>\n",
       "      <td>T</td>\n",
       "      <td>1100023230</td>\n",
       "      <td>NOCO ORAS</td>\n",
       "      <td>NaN</td>\n",
       "      <td>NaN</td>\n",
       "      <td>MSF06</td>\n",
       "      <td>N53</td>\n",
       "      <td>Top &amp; Line Spot Resurfacing</td>\n",
       "    </tr>\n",
       "  </tbody>\n",
       "</table>\n",
       "<p>5 rows × 29 columns</p>\n",
       "</div>"
      ],
      "text/plain": [
       "  Planner group Order Type       Order  \\\n",
       "0           SEQ       NS01  6100045277   \n",
       "1           RSS       NS04  6400003777   \n",
       "2           SEQ       NS01  6100037532   \n",
       "3           SEQ       NS01  6100048397   \n",
       "4           SEQ       NS01  6100017640   \n",
       "\n",
       "                                Description Lin.Ref.Pattern Start Point  \\\n",
       "0          Robinson Rd Overpass Splay 14-15            C138      14.595   \n",
       "1   Lvl Xing Recon 13.350 - 13.400km Bilsen            C138      11.000   \n",
       "2  LIFT & PACK 24.650 to 24.770km middle rd            C138      24.650   \n",
       "3    LIFT & PACK 25.678 to 25.680km DOWN rd            C138      11.000   \n",
       "4          lift and pack 780 points up road            C138      36.445   \n",
       "\n",
       "   End Point  Length Bas. start date Basic fin. date  ... TotalPlnndCosts  \\\n",
       "0     14.605   0.010      2012-07-02      2015-03-31  ...          1086.0   \n",
       "1     51.000  40.000      2014-07-01      2015-09-30  ...          3896.6   \n",
       "2     24.770   0.120      2015-01-12      2015-02-11  ...          4170.0   \n",
       "3     51.000  40.000      2015-01-12      2015-04-12  ...          2514.0   \n",
       "4     36.445   0.000      2015-02-02      2015-03-04  ...          3432.0   \n",
       "\n",
       "  Total act.costs SystemCondition Notification  Notifcn Status WBS element  \\\n",
       "0        65265.05               1          NaN             NaN         NaN   \n",
       "1        14280.25               T          NaN             NaN         NaN   \n",
       "2         3432.00               T   1100021790       NOCO ORAS         NaN   \n",
       "3          799.20               T   1100021792       NOCO ORAS         NaN   \n",
       "4         3312.00               T   1100023230       NOCO ORAS         NaN   \n",
       "\n",
       "  Plant section Main WorkCtr MaintActivType                MAT descriptn  \n",
       "0           STU        MRH03            N31      Mechanised Resleepering  \n",
       "1           TRK        MSR01            N32       Mechanised Resurfacing  \n",
       "2           TRK        MSF11            N53  Top & Line Spot Resurfacing  \n",
       "3           TRK        MSF11            N53  Top & Line Spot Resurfacing  \n",
       "4           NaN        MSF06            N53  Top & Line Spot Resurfacing  \n",
       "\n",
       "[5 rows x 29 columns]"
      ]
     },
     "execution_count": 4,
     "metadata": {},
     "output_type": "execute_result"
    }
   ],
   "source": [
    "work_orders.head()"
   ]
  },
  {
   "cell_type": "code",
   "execution_count": 5,
   "metadata": {},
   "outputs": [],
   "source": [
    "work_order_with_track_code = work_orders.merge(tc, on='Order')"
   ]
  },
  {
   "cell_type": "code",
   "execution_count": 6,
   "metadata": {},
   "outputs": [],
   "source": [
    "work_order_with_track_code.to_csv(os.path.join(paths.DATA_DERIVED, 'work_orders_with_track_code.csv'), index = False)"
   ]
  },
  {
   "cell_type": "markdown",
   "metadata": {},
   "source": [
    "# Track Recording data \n",
    "\n",
    "Preparing data for use with joining to GPS"
   ]
  },
  {
   "cell_type": "code",
   "execution_count": 10,
   "metadata": {},
   "outputs": [
    {
     "data": {
      "text/plain": [
       "['C138_C195_coords.csv',\n",
       " 'gps_data.csv',\n",
       " 'track_code_translated.csv',\n",
       " 'work_orders_with_coords.csv',\n",
       " 'work_orders_with_track_code.csv']"
      ]
     },
     "execution_count": 10,
     "metadata": {},
     "output_type": "execute_result"
    }
   ],
   "source": [
    "os.listdir(paths.DATA_DERIVED)"
   ]
  },
  {
   "cell_type": "code",
   "execution_count": 8,
   "metadata": {},
   "outputs": [],
   "source": [
    "track_id = os.listdir(paths.TRC)[0][:6]"
   ]
  },
  {
   "cell_type": "code",
   "execution_count": 7,
   "metadata": {},
   "outputs": [],
   "source": [
    "df = pd.read_csv(os.path.join(paths.TRC, '531401 - DM A 0-9.69 NORTHGATE-SANDGATE-201701311116.csv'), skiprows = 4)\n"
   ]
  },
  {
   "cell_type": "code",
   "execution_count": 19,
   "metadata": {},
   "outputs": [],
   "source": [
    "gps_data = pd.read_csv(os.path.join(paths.DATA_DERIVED, 'gps_data.csv'))"
   ]
  },
  {
   "cell_type": "code",
   "execution_count": 12,
   "metadata": {},
   "outputs": [
    {
     "data": {
      "text/plain": [
       "Index(['Unnamed: 0', 'Division', 'Sub-division', 'Line Segment', 'Track ID',\n",
       "       'Collection Date', 'GPR Run Number', 'Laser Run number', 'Start KM',\n",
       "       'End KM', 'Geolink', 'Dec.Lat', 'Dec.Long'],\n",
       "      dtype='object')"
      ]
     },
     "execution_count": 12,
     "metadata": {},
     "output_type": "execute_result"
    }
   ],
   "source": [
    "gps_data.columns"
   ]
  },
  {
   "cell_type": "code",
   "execution_count": 20,
   "metadata": {},
   "outputs": [],
   "source": [
    "gps_data['Line Segment'] = gps_data['Line Segment'].apply(lambda x: str(x))"
   ]
  },
  {
   "cell_type": "code",
   "execution_count": 27,
   "metadata": {},
   "outputs": [],
   "source": [
    "gps_data['Track ID'] = gps_data['Track ID'].apply(lambda x: str(x))"
   ]
  },
  {
   "cell_type": "code",
   "execution_count": 29,
   "metadata": {
    "scrolled": false
   },
   "outputs": [],
   "source": [
    "filteredf = gps_data[(gps_data['Line Segment']== \"531\")& (gps_data['Track ID']== '401') ]"
   ]
  },
  {
   "cell_type": "code",
   "execution_count": 33,
   "metadata": {},
   "outputs": [],
   "source": [
    "long = filteredf['Dec.Long'].values\n",
    "lat = filteredf['Dec.Lat'].values\n",
    "KM = filteredf['Start KM'].values"
   ]
  },
  {
   "cell_type": "code",
   "execution_count": 37,
   "metadata": {},
   "outputs": [
    {
     "data": {
      "text/plain": [
       "170551"
      ]
     },
     "execution_count": 37,
     "metadata": {},
     "output_type": "execute_result"
    }
   ],
   "source": [
    "gps_data.shape[0]"
   ]
  },
  {
   "cell_type": "code",
   "execution_count": 34,
   "metadata": {},
   "outputs": [
    {
     "data": {
      "text/plain": [
       "-27.322295"
      ]
     },
     "execution_count": 34,
     "metadata": {},
     "output_type": "execute_result"
    }
   ],
   "source": [
    "np.interp(10.02,KM, lat)"
   ]
  },
  {
   "cell_type": "code",
   "execution_count": 35,
   "metadata": {},
   "outputs": [
    {
     "data": {
      "text/plain": [
       "153.069842"
      ]
     },
     "execution_count": 35,
     "metadata": {},
     "output_type": "execute_result"
    }
   ],
   "source": [
    "np.interp(10.02,KM, long)"
   ]
  },
  {
   "cell_type": "markdown",
   "metadata": {},
   "source": [
    "## Track code matching for speed classification data"
   ]
  },
  {
   "cell_type": "code",
   "execution_count": 2,
   "metadata": {},
   "outputs": [],
   "source": [
    "from track_code_matching import *"
   ]
  },
  {
   "cell_type": "code",
   "execution_count": 9,
   "metadata": {},
   "outputs": [],
   "source": [
    "speed_class = pd.read_excel(os.path.join(paths.DATA_OCT, 'Speed and Curve linear classification data.xls.xlsx'))"
   ]
  },
  {
   "cell_type": "code",
   "execution_count": 9,
   "metadata": {},
   "outputs": [],
   "source": [
    "code_ref_4th = pd.ExcelFile(os.path.join(paths.DATA_OCT, '4th Level LRP to 3 Digit Track Code.xlsx'))\n",
    "code_ref_step1= pd.read_excel(code_ref_4th, 'Matrix')\n",
    "code_ref_step2 =  pd.read_excel(os.path.join(paths.DATA_OCT, '5th Level LRP to 4th Digit Track Code.xlsx.xlsx')).iloc[:7,:]\n",
    "code_ref_step2a = pd.read_excel(os.path.join(paths.DATA_OCT, 'LRP Details.xlsx'))\n",
    "code_ref = pd.ExcelFile(os.path.join(paths.DATA_OCT, 'Track Code List_2.xlsx'))\n",
    "code_ref = pd.read_excel(code_ref)\n",
    "code_ref['Track code'] = code_ref['Track code'].map(lambda x: str(x))"
   ]
  },
  {
   "cell_type": "code",
   "execution_count": 5,
   "metadata": {},
   "outputs": [],
   "source": [
    "trans = Translate_Location(code_ref_step1, code_ref_step2, code_ref_step2a, code_ref, speed_class)"
   ]
  },
  {
   "cell_type": "code",
   "execution_count": 6,
   "metadata": {},
   "outputs": [],
   "source": [
    "track_code_translated = trans.funcloc_to_trackcode()"
   ]
  },
  {
   "cell_type": "code",
   "execution_count": 8,
   "metadata": {},
   "outputs": [],
   "source": [
    "track_code_translated.columns= ['rownum', 'Track codes']"
   ]
  },
  {
   "cell_type": "code",
   "execution_count": 12,
   "metadata": {},
   "outputs": [],
   "source": [
    "speed_class_with_track_codes = speed_class.join(track_code_translated)"
   ]
  },
  {
   "cell_type": "code",
   "execution_count": 15,
   "metadata": {},
   "outputs": [],
   "source": [
    "speed_class_with_track_codes.to_csv('speed_class_with_track_codes.csv')"
   ]
  },
  {
   "cell_type": "markdown",
   "metadata": {},
   "source": [
    "## Add GPS coordinates to speed data"
   ]
  },
  {
   "cell_type": "code",
   "execution_count": 2,
   "metadata": {},
   "outputs": [],
   "source": [
    "from to_gps_coords import *"
   ]
  },
  {
   "cell_type": "code",
   "execution_count": 3,
   "metadata": {},
   "outputs": [],
   "source": [
    "speed_class_with_track_codes = pd.read_csv('speed_class_with_track_codes.csv')\n",
    "## to GPS coordinate\n",
    "gps_df = pd.read_csv(os.path.join(paths.DATA_DERIVED, 'C138_C195_coords.csv')) \n",
    "output = Match_gps(gps_df, speed_class_with_track_codes, track_funcloc = \"C138\").speed_to_gps()\n",
    "ans = output.merge(speed_class_with_track_codes)"
   ]
  },
  {
   "cell_type": "code",
   "execution_count": 4,
   "metadata": {},
   "outputs": [],
   "source": [
    "ans.to_csv(os.path.join(paths.DATA_DERIVED, 'speed_and_curve_coord.csv'), index = False)"
   ]
  },
  {
   "cell_type": "markdown",
   "metadata": {},
   "source": [
    "## matching clverts with GPS coordiates"
   ]
  },
  {
   "cell_type": "code",
   "execution_count": 2,
   "metadata": {},
   "outputs": [],
   "source": [
    "from track_code_matching import *"
   ]
  },
  {
   "cell_type": "code",
   "execution_count": 5,
   "metadata": {},
   "outputs": [],
   "source": [
    "culvert_crossing = pd.read_excel(os.path.join(paths.DATA_OCT, 'Track Culvert and Level Crossing data.xlsx'))"
   ]
  },
  {
   "cell_type": "code",
   "execution_count": 8,
   "metadata": {},
   "outputs": [],
   "source": [
    "culvert_crossing = culvert_crossing.rename(columns = {'Functional Loc.': 'culvert_loc', 'SupFunctLoc.':'Functional Loc.'})\n",
    "trans = Translate_Location(code_ref_step1, code_ref_step2, code_ref_step2a, code_ref, culvert_crossing, index = 'culvert_loc')\n",
    "track_code_translated = trans.funcloc_to_trackcode()"
   ]
  },
  {
   "cell_type": "code",
   "execution_count": 18,
   "metadata": {},
   "outputs": [],
   "source": [
    "track_code_translated.columns= ['culvert_loc', 'Track codes']\n",
    "culvert_crossing_track_code = culvert_crossing.merge(track_code_translated, on='culvert_loc')\n",
    "culvert_crossing_track_code.to_csv('culvert_crossing_with_track_codes.csv', index = False)"
   ]
  },
  {
   "cell_type": "code",
   "execution_count": 2,
   "metadata": {},
   "outputs": [
    {
     "ename": "SyntaxError",
     "evalue": "invalid syntax (to_gps_coords.py, line 96)",
     "output_type": "error",
     "traceback": [
      "Traceback \u001b[1;36m(most recent call last)\u001b[0m:\n",
      "  File \u001b[0;32m\"j:\\shared\\omsa\\sem3\\dva\\lib\\site-packages\\IPython\\core\\interactiveshell.py\"\u001b[0m, line \u001b[0;32m3326\u001b[0m, in \u001b[0;35mrun_code\u001b[0m\n    exec(code_obj, self.user_global_ns, self.user_ns)\n",
      "\u001b[1;36m  File \u001b[1;32m\"<ipython-input-2-28536b8b703a>\"\u001b[1;36m, line \u001b[1;32m1\u001b[1;36m, in \u001b[1;35m<module>\u001b[1;36m\u001b[0m\n\u001b[1;33m    from to_gps_coords import *\u001b[0m\n",
      "\u001b[1;36m  File \u001b[1;32m\"J:\\Shared\\OMSA\\sem3\\DVA\\dva_project\\src\\to_gps_coords.py\"\u001b[1;36m, line \u001b[1;32m96\u001b[0m\n\u001b[1;33m    ans[(ind, code])] = [start_gps_lat, start_gps_long]\u001b[0m\n\u001b[1;37m                  ^\u001b[0m\n\u001b[1;31mSyntaxError\u001b[0m\u001b[1;31m:\u001b[0m invalid syntax\n"
     ]
    }
   ],
   "source": [
    "from to_gps_coords import *"
   ]
  },
  {
   "cell_type": "code",
   "execution_count": 3,
   "metadata": {},
   "outputs": [],
   "source": [
    "cul_data = pd.read_csv('culvert_crossing_with_track_codes.csv')\n",
    "## to GPS coordinate\n",
    "gps_df = pd.read_csv(os.path.join(paths.DATA_DERIVED, 'C138_C195_coords.csv')) "
   ]
  },
  {
   "cell_type": "code",
   "execution_count": 4,
   "metadata": {},
   "outputs": [],
   "source": [
    "cul_with_gps = Match_gps(gps_df, cul_data).culvert_to_gps()"
   ]
  },
  {
   "cell_type": "code",
   "execution_count": 6,
   "metadata": {},
   "outputs": [],
   "source": [
    "culvert_with_gps = cul_data.merge(cul_with_gps, on='culvert_loc')"
   ]
  },
  {
   "cell_type": "code",
   "execution_count": 8,
   "metadata": {},
   "outputs": [],
   "source": [
    "culvert_with_gps.to_csv(os.path.join(paths.DATA_DERIVED, 'culvert_with_gps.csv'), index = False)"
   ]
  },
  {
   "cell_type": "markdown",
   "metadata": {},
   "source": [
    "## Matching exceptions with GPS coordinates"
   ]
  },
  {
   "cell_type": "code",
   "execution_count": 2,
   "metadata": {},
   "outputs": [],
   "source": [
    "from to_gps_coords import *"
   ]
  },
  {
   "cell_type": "code",
   "execution_count": 4,
   "metadata": {},
   "outputs": [],
   "source": [
    "exc_data = pd.read_csv(os.path.join(paths.DATA_OCT, 'SEQ_MMY004_Exceptions Northgate to Caboolture .csv'))"
   ]
  },
  {
   "cell_type": "code",
   "execution_count": 5,
   "metadata": {},
   "outputs": [
    {
     "data": {
      "text/html": [
       "<div>\n",
       "<style scoped>\n",
       "    .dataframe tbody tr th:only-of-type {\n",
       "        vertical-align: middle;\n",
       "    }\n",
       "\n",
       "    .dataframe tbody tr th {\n",
       "        vertical-align: top;\n",
       "    }\n",
       "\n",
       "    .dataframe thead th {\n",
       "        text-align: right;\n",
       "    }\n",
       "</style>\n",
       "<table border=\"1\" class=\"dataframe\">\n",
       "  <thead>\n",
       "    <tr style=\"text-align: right;\">\n",
       "      <th></th>\n",
       "      <th>TrackCode</th>\n",
       "      <th>Description</th>\n",
       "      <th>Recorded Date</th>\n",
       "      <th>Location</th>\n",
       "      <th>Channel</th>\n",
       "      <th>Value</th>\n",
       "      <th>Level</th>\n",
       "    </tr>\n",
       "  </thead>\n",
       "  <tbody>\n",
       "    <tr>\n",
       "      <td>0</td>\n",
       "      <td>319104</td>\n",
       "      <td>US D 10.9-7.6 NORTHGATE-EAGLE JUNCTION</td>\n",
       "      <td>Fri 22-Jun-18</td>\n",
       "      <td>10.572</td>\n",
       "      <td>XDG MAGNET CENTER</td>\n",
       "      <td>-47</td>\n",
       "      <td>D7</td>\n",
       "    </tr>\n",
       "    <tr>\n",
       "      <td>1</td>\n",
       "      <td>319104</td>\n",
       "      <td>US D 10.9-7.6 NORTHGATE-EAGLE JUNCTION</td>\n",
       "      <td>Fri 22-Jun-18</td>\n",
       "      <td>9.186</td>\n",
       "      <td>XDG MAGNET CENTER</td>\n",
       "      <td>41</td>\n",
       "      <td>D7</td>\n",
       "    </tr>\n",
       "    <tr>\n",
       "      <td>2</td>\n",
       "      <td>319104</td>\n",
       "      <td>US D 10.9-7.6 NORTHGATE-EAGLE JCN</td>\n",
       "      <td>Fri  3-Feb-17</td>\n",
       "      <td>10.843</td>\n",
       "      <td>XDG MAGNET CENTER</td>\n",
       "      <td>34</td>\n",
       "      <td>D1</td>\n",
       "    </tr>\n",
       "    <tr>\n",
       "      <td>3</td>\n",
       "      <td>319104</td>\n",
       "      <td>US D 10.9-7.6 NORTHGATE-EAGLE JCN</td>\n",
       "      <td>Fri  3-Feb-17</td>\n",
       "      <td>10.568</td>\n",
       "      <td>XDG MAGNET CENTER</td>\n",
       "      <td>-47</td>\n",
       "      <td>D7</td>\n",
       "    </tr>\n",
       "    <tr>\n",
       "      <td>4</td>\n",
       "      <td>319104</td>\n",
       "      <td>US D 10.9-7.6 NORTHGATE-EAGLE JCN</td>\n",
       "      <td>Fri  3-Feb-17</td>\n",
       "      <td>8.820</td>\n",
       "      <td>XDG MAGNET CENTER</td>\n",
       "      <td>-16</td>\n",
       "      <td>D1</td>\n",
       "    </tr>\n",
       "  </tbody>\n",
       "</table>\n",
       "</div>"
      ],
      "text/plain": [
       "   TrackCode                               Description  Recorded Date  \\\n",
       "0     319104  US D 10.9-7.6 NORTHGATE-EAGLE JUNCTION    Fri 22-Jun-18   \n",
       "1     319104  US D 10.9-7.6 NORTHGATE-EAGLE JUNCTION    Fri 22-Jun-18   \n",
       "2     319104  US D 10.9-7.6 NORTHGATE-EAGLE JCN         Fri  3-Feb-17   \n",
       "3     319104  US D 10.9-7.6 NORTHGATE-EAGLE JCN         Fri  3-Feb-17   \n",
       "4     319104  US D 10.9-7.6 NORTHGATE-EAGLE JCN         Fri  3-Feb-17   \n",
       "\n",
       "   Location            Channel  Value Level  \n",
       "0    10.572  XDG MAGNET CENTER    -47    D7  \n",
       "1     9.186  XDG MAGNET CENTER     41    D7  \n",
       "2    10.843  XDG MAGNET CENTER     34    D1  \n",
       "3    10.568  XDG MAGNET CENTER    -47    D7  \n",
       "4     8.820  XDG MAGNET CENTER    -16    D1  "
      ]
     },
     "execution_count": 5,
     "metadata": {},
     "output_type": "execute_result"
    }
   ],
   "source": [
    "exc_data.head()"
   ]
  },
  {
   "cell_type": "code",
   "execution_count": 6,
   "metadata": {},
   "outputs": [],
   "source": [
    "gps_df = pd.read_csv(os.path.join(paths.DATA_DERIVED, 'C138_C195_coords.csv')) "
   ]
  },
  {
   "cell_type": "code",
   "execution_count": 9,
   "metadata": {},
   "outputs": [],
   "source": [
    "exc_data['rownum']= exc_data.index"
   ]
  },
  {
   "cell_type": "code",
   "execution_count": 10,
   "metadata": {},
   "outputs": [
    {
     "data": {
      "text/html": [
       "<div>\n",
       "<style scoped>\n",
       "    .dataframe tbody tr th:only-of-type {\n",
       "        vertical-align: middle;\n",
       "    }\n",
       "\n",
       "    .dataframe tbody tr th {\n",
       "        vertical-align: top;\n",
       "    }\n",
       "\n",
       "    .dataframe thead th {\n",
       "        text-align: right;\n",
       "    }\n",
       "</style>\n",
       "<table border=\"1\" class=\"dataframe\">\n",
       "  <thead>\n",
       "    <tr style=\"text-align: right;\">\n",
       "      <th></th>\n",
       "      <th>TrackCode</th>\n",
       "      <th>Description</th>\n",
       "      <th>Recorded Date</th>\n",
       "      <th>Location</th>\n",
       "      <th>Channel</th>\n",
       "      <th>Value</th>\n",
       "      <th>Level</th>\n",
       "      <th>rownum</th>\n",
       "    </tr>\n",
       "  </thead>\n",
       "  <tbody>\n",
       "    <tr>\n",
       "      <td>0</td>\n",
       "      <td>319104</td>\n",
       "      <td>US D 10.9-7.6 NORTHGATE-EAGLE JUNCTION</td>\n",
       "      <td>Fri 22-Jun-18</td>\n",
       "      <td>10.572</td>\n",
       "      <td>XDG MAGNET CENTER</td>\n",
       "      <td>-47</td>\n",
       "      <td>D7</td>\n",
       "      <td>0</td>\n",
       "    </tr>\n",
       "    <tr>\n",
       "      <td>1</td>\n",
       "      <td>319104</td>\n",
       "      <td>US D 10.9-7.6 NORTHGATE-EAGLE JUNCTION</td>\n",
       "      <td>Fri 22-Jun-18</td>\n",
       "      <td>9.186</td>\n",
       "      <td>XDG MAGNET CENTER</td>\n",
       "      <td>41</td>\n",
       "      <td>D7</td>\n",
       "      <td>1</td>\n",
       "    </tr>\n",
       "    <tr>\n",
       "      <td>2</td>\n",
       "      <td>319104</td>\n",
       "      <td>US D 10.9-7.6 NORTHGATE-EAGLE JCN</td>\n",
       "      <td>Fri  3-Feb-17</td>\n",
       "      <td>10.843</td>\n",
       "      <td>XDG MAGNET CENTER</td>\n",
       "      <td>34</td>\n",
       "      <td>D1</td>\n",
       "      <td>2</td>\n",
       "    </tr>\n",
       "    <tr>\n",
       "      <td>3</td>\n",
       "      <td>319104</td>\n",
       "      <td>US D 10.9-7.6 NORTHGATE-EAGLE JCN</td>\n",
       "      <td>Fri  3-Feb-17</td>\n",
       "      <td>10.568</td>\n",
       "      <td>XDG MAGNET CENTER</td>\n",
       "      <td>-47</td>\n",
       "      <td>D7</td>\n",
       "      <td>3</td>\n",
       "    </tr>\n",
       "    <tr>\n",
       "      <td>4</td>\n",
       "      <td>319104</td>\n",
       "      <td>US D 10.9-7.6 NORTHGATE-EAGLE JCN</td>\n",
       "      <td>Fri  3-Feb-17</td>\n",
       "      <td>8.820</td>\n",
       "      <td>XDG MAGNET CENTER</td>\n",
       "      <td>-16</td>\n",
       "      <td>D1</td>\n",
       "      <td>4</td>\n",
       "    </tr>\n",
       "  </tbody>\n",
       "</table>\n",
       "</div>"
      ],
      "text/plain": [
       "   TrackCode                               Description  Recorded Date  \\\n",
       "0     319104  US D 10.9-7.6 NORTHGATE-EAGLE JUNCTION    Fri 22-Jun-18   \n",
       "1     319104  US D 10.9-7.6 NORTHGATE-EAGLE JUNCTION    Fri 22-Jun-18   \n",
       "2     319104  US D 10.9-7.6 NORTHGATE-EAGLE JCN         Fri  3-Feb-17   \n",
       "3     319104  US D 10.9-7.6 NORTHGATE-EAGLE JCN         Fri  3-Feb-17   \n",
       "4     319104  US D 10.9-7.6 NORTHGATE-EAGLE JCN         Fri  3-Feb-17   \n",
       "\n",
       "   Location            Channel  Value Level  rownum  \n",
       "0    10.572  XDG MAGNET CENTER    -47    D7       0  \n",
       "1     9.186  XDG MAGNET CENTER     41    D7       1  \n",
       "2    10.843  XDG MAGNET CENTER     34    D1       2  \n",
       "3    10.568  XDG MAGNET CENTER    -47    D7       3  \n",
       "4     8.820  XDG MAGNET CENTER    -16    D1       4  "
      ]
     },
     "execution_count": 10,
     "metadata": {},
     "output_type": "execute_result"
    }
   ],
   "source": [
    "exc_data.head()"
   ]
  },
  {
   "cell_type": "code",
   "execution_count": 14,
   "metadata": {
    "collapsed": true
   },
   "outputs": [
    {
     "name": "stdout",
     "output_type": "stream",
     "text": [
      "319104 10.572000000000001 10.572000000000001\n",
      "319104 9.186 9.186\n",
      "319104 10.843 10.843\n",
      "319104 10.568 10.568\n",
      "319104 8.82 8.82\n",
      "319104 10.852 10.852\n",
      "319104 10.575999999999999 10.575999999999999\n",
      "319104 8.432 8.432\n",
      "319104 10.571 10.571\n",
      "319104 10.571 10.571\n",
      "319104 10.845999999999998 10.845999999999998\n",
      "319104 10.571 10.571\n",
      "319104 10.845999999999998 10.845999999999998\n",
      "319104 10.572000000000001 10.572000000000001\n",
      "319104 9.181000000000001 9.181000000000001\n",
      "319104 7.952000000000001 7.952000000000001\n",
      "319204 7.695 7.695\n",
      "319204 8.318999999999999 8.318999999999999\n",
      "319204 8.502 8.502\n",
      "319204 10.397 10.397\n",
      "319204 10.575999999999999 10.575999999999999\n",
      "319204 8.339 8.339\n",
      "319204 9.914 9.914\n",
      "319204 9.988 9.988\n",
      "319204 9.988 9.988\n",
      "319204 10.425 10.425\n",
      "319204 10.605 10.605\n",
      "319204 7.697 7.697\n",
      "319204 8.32 8.32\n",
      "319204 10.398 10.398\n",
      "319204 10.578 10.578\n",
      "319204 7.672999999999999 7.672999999999999\n",
      "319204 8.298 8.298\n",
      "319204 10.375 10.375\n",
      "319204 10.555 10.555\n",
      "319204 8.342 8.342\n",
      "319204 10.423 10.423\n",
      "319204 10.874 10.874\n",
      "319204 10.875 10.875\n",
      "319204 8.335 8.335\n",
      "319204 9.86 9.86\n",
      "319204 9.86 9.86\n",
      "319204 10.42 10.42\n",
      "319204 10.6 10.6\n",
      "319204 8.343 8.343\n",
      "319204 10.423 10.423\n",
      "319204 10.604000000000001 10.604000000000001\n",
      "319204 7.711 7.711\n",
      "319204 8.334 8.334\n",
      "319204 10.422 10.422\n",
      "319204 10.600999999999999 10.600999999999999\n",
      "319204 7.712999999999999 7.712999999999999\n",
      "319204 8.338 8.338\n",
      "319204 10.421 10.421\n",
      "319204 10.6 10.6\n",
      "319304 10.843 10.843\n",
      "319304 10.084 10.084\n",
      "319304 9.426 9.426\n",
      "319304 10.842 10.842\n",
      "319304 10.083 10.083\n",
      "319304 9.424 9.424\n",
      "319304 10.837 10.837\n",
      "319304 10.079 10.079\n",
      "319304 9.424 9.424\n",
      "319304 10.834000000000001 10.834000000000001\n",
      "319304 10.072000000000001 10.072000000000001\n",
      "319304 10.847000000000001 10.847000000000001\n",
      "319304 10.09 10.09\n",
      "319304 10.857999999999999 10.857999999999999\n",
      "319304 10.857000000000001 10.857000000000001\n",
      "319304 10.1 10.1\n",
      "319304 8.715 8.715\n",
      "319309 10.845 10.845\n",
      "319309 10.844000000000001 10.844000000000001\n",
      "319309 10.575999999999999 10.575999999999999\n",
      "319309 10.083 10.083\n",
      "319309 9.422 9.422\n",
      "319309 7.965 7.965\n",
      "319309 7.646 7.646\n",
      "319309 7.646 7.646\n",
      "319309 7.643 7.643\n",
      "319309 7.643 7.643\n",
      "319309 7.611000000000001 7.611000000000001\n",
      "319309 7.611000000000001 7.611000000000001\n",
      "319404 8.872 8.872\n",
      "319404 7.86 7.86\n",
      "319404 7.86 7.86\n",
      "319404 9.732999999999999 9.732999999999999\n",
      "319404 9.735 9.735\n",
      "319404 10.008 10.008\n",
      "319404 7.853 7.853\n",
      "319404 7.855 7.855\n",
      "319404 7.856 7.856\n",
      "822101 8.426 8.426\n",
      "822101 8.421 8.421\n",
      "822101 9.435 9.435\n",
      "822101 8.424 8.424\n",
      "822101 8.418 8.418\n",
      "822101 10.009 10.009\n",
      "822101 10.012 10.012\n",
      "822101 10.749 10.749\n",
      "822101 10.414000000000001 10.414000000000001\n",
      "822101 8.423 8.423\n",
      "822201 8.048 8.048\n",
      "822201 10.612 10.612\n",
      "822201 7.864 7.864\n",
      "822201 8.347999999999999 8.347999999999999\n",
      "822201 10.425 10.425\n",
      "822201 10.606 10.606\n",
      "822201 7.721 7.721\n",
      "822301 10.815999999999999 10.815999999999999\n",
      "822301 10.632 10.632\n",
      "822301 10.630999999999998 10.630999999999998\n",
      "822301 10.628 10.628\n",
      "822301 8.107999999999999 8.107999999999999\n",
      "822301 7.651 7.651\n",
      "822301 7.651 7.651\n",
      "822301 7.649 7.649\n",
      "822301 7.648 7.648\n",
      "822301 7.646 7.646\n",
      "822301 7.646 7.646\n",
      "822301 7.632000000000001 7.632000000000001\n",
      "822301 7.629 7.629\n",
      "822301 7.62 7.62\n",
      "822301 7.619 7.619\n",
      "822301 7.6160000000000005 7.6160000000000005\n",
      "822301 10.628 10.628\n",
      "822301 10.552 10.552\n",
      "822301 8.105 8.105\n",
      "822301 7.638999999999999 7.638999999999999\n",
      "822301 7.638 7.638\n",
      "822301 7.636 7.636\n",
      "822301 7.636 7.636\n",
      "822301 7.617999999999999 7.617999999999999\n",
      "822301 7.617999999999999 7.617999999999999\n",
      "822301 7.612 7.612\n",
      "822301 7.612 7.612\n",
      "822301 7.606 7.606\n",
      "822301 7.602 7.602\n",
      "822301 7.602 7.602\n",
      "822301 9.987 9.987\n",
      "822301 10.609000000000002 10.609000000000002\n",
      "822301 10.066 10.066\n",
      "822301 9.972000000000001 9.972000000000001\n",
      "822301 8.302 8.302\n",
      "822301 7.644 7.644\n",
      "822301 7.641 7.641\n",
      "822301 7.609 7.609\n",
      "822301 7.609 7.609\n",
      "822301 10.632 10.632\n",
      "822301 10.627 10.627\n",
      "822301 10.632 10.632\n",
      "822301 10.627 10.627\n",
      "822301 7.644 7.644\n",
      "822301 7.644 7.644\n",
      "822301 7.622000000000001 7.622000000000001\n",
      "822301 7.622000000000001 7.622000000000001\n",
      "822301 7.614 7.614\n",
      "822301 7.612 7.612\n",
      "822301 10.626 10.626\n",
      "822301 10.552 10.552\n",
      "822301 8.104 8.104\n",
      "822401 8.782 8.782\n",
      "822401 8.787 8.787\n",
      "822401 8.925 8.925\n",
      "822401 8.93 8.93\n",
      "822401 8.05 8.05\n",
      "822401 8.168 8.168\n",
      "822401 8.95 8.95\n",
      "822401 10.864 10.864\n",
      "822401 8.448 8.448\n",
      "822401 8.781 8.781\n",
      "822401 8.798 8.798\n",
      "822401 8.942 8.942\n",
      "822401 8.943999999999999 8.943999999999999\n",
      "822401 8.948 8.948\n",
      "400501 50.446999999999996 50.446999999999996\n",
      "400501 50.336000000000006 50.336000000000006\n"
     ]
    }
   ],
   "source": [
    "exceptions_with_gps= Match_gps(gps_df, exc_data).exceptions_to_gps()"
   ]
  },
  {
   "cell_type": "code",
   "execution_count": 17,
   "metadata": {},
   "outputs": [],
   "source": [
    "exc_data_with_gps=exc_data.merge(exceptions_with_gps, on='rownum')"
   ]
  },
  {
   "cell_type": "code",
   "execution_count": 18,
   "metadata": {},
   "outputs": [],
   "source": [
    "exc_data_with_gps.to_csv(os.path.join(paths.DATA_DERIVED,'exceptions_with_gps.csv'), index = False)"
   ]
  },
  {
   "cell_type": "markdown",
   "metadata": {},
   "source": [
    "## joining notification and fault codes with work orders"
   ]
  },
  {
   "cell_type": "code",
   "execution_count": 21,
   "metadata": {},
   "outputs": [
    {
     "data": {
      "text/plain": [
       "['4th Level LRP to 3 Digit Track Code.xlsx',\n",
       " '5th Level LRP to 4th Digit Track Code.xlsx.xlsx',\n",
       " 'BOM_Rainfall_History',\n",
       " 'BOM_Rainfall_History.zip',\n",
       " 'GPR Data for Corridor C138 Northgate to Caboolture.xlsx',\n",
       " 'GPR Data for NCL C195 Theebine to Bundaberg 2015.xlsx',\n",
       " 'GPR Data for NCL C195 Theebine to Bundaberg 2015.zip',\n",
       " 'LRP Details.xlsx',\n",
       " 'MAT Codes.docx',\n",
       " 'Notification and Activity Codes 10.10.2019.xlsx',\n",
       " 'Notification and Fault Codes 10.10.2019.xlsx',\n",
       " 'SEQ_MMY004_Exceptions Northgate to Caboolture .csv',\n",
       " 'Speed and Curve linear classification data.xls.xlsx',\n",
       " 'Track Code List.xlsx',\n",
       " 'Track Code List_2.xlsx',\n",
       " 'Track Culvert and Level Crossing data.xlsx',\n",
       " 'Translation Process.pptx',\n",
       " 'Work Orders for Corridors C138 and C195 10.10.2019 including costs.xlsx',\n",
       " '~$Notification and Activity Codes 10.10.2019.xlsx',\n",
       " '~$Notification and Fault Codes 10.10.2019.xlsx',\n",
       " '~$Translation Process.pptx',\n",
       " '~$Work Orders for Corridors C138 and C195 10.10.2019 including costs.xlsx']"
      ]
     },
     "execution_count": 21,
     "metadata": {},
     "output_type": "execute_result"
    }
   ],
   "source": [
    "os.listdir(paths.DATA_OCT)"
   ]
  },
  {
   "cell_type": "code",
   "execution_count": 20,
   "metadata": {},
   "outputs": [],
   "source": [
    "work_orders= pd.read_csv(os.path.join(paths.DATA_DERIVED, 'work_orders_with_coords.csv'))"
   ]
  },
  {
   "cell_type": "code",
   "execution_count": 23,
   "metadata": {},
   "outputs": [
    {
     "data": {
      "text/html": [
       "<div>\n",
       "<style scoped>\n",
       "    .dataframe tbody tr th:only-of-type {\n",
       "        vertical-align: middle;\n",
       "    }\n",
       "\n",
       "    .dataframe tbody tr th {\n",
       "        vertical-align: top;\n",
       "    }\n",
       "\n",
       "    .dataframe thead th {\n",
       "        text-align: right;\n",
       "    }\n",
       "</style>\n",
       "<table border=\"1\" class=\"dataframe\">\n",
       "  <thead>\n",
       "    <tr style=\"text-align: right;\">\n",
       "      <th></th>\n",
       "      <th>Order</th>\n",
       "      <th>Track_code</th>\n",
       "      <th>Work_type</th>\n",
       "      <th>Start_lat</th>\n",
       "      <th>Start_long</th>\n",
       "      <th>End_lat</th>\n",
       "      <th>End_long</th>\n",
       "    </tr>\n",
       "  </thead>\n",
       "  <tbody>\n",
       "    <tr>\n",
       "      <td>0</td>\n",
       "      <td>6400003777</td>\n",
       "      <td>824011</td>\n",
       "      <td>Mechanised Resurfacing</td>\n",
       "      <td>-27.27001</td>\n",
       "      <td>152.980643</td>\n",
       "      <td>-27.081779</td>\n",
       "      <td>152.953191</td>\n",
       "    </tr>\n",
       "    <tr>\n",
       "      <td>1</td>\n",
       "      <td>6100037532</td>\n",
       "      <td>823301</td>\n",
       "      <td>Top &amp; Line Spot Resurfacing</td>\n",
       "      <td>-27.30125</td>\n",
       "      <td>152.986662</td>\n",
       "      <td>-27.300231</td>\n",
       "      <td>152.986248</td>\n",
       "    </tr>\n",
       "    <tr>\n",
       "      <td>2</td>\n",
       "      <td>6100037532</td>\n",
       "      <td>823401</td>\n",
       "      <td>Top &amp; Line Spot Resurfacing</td>\n",
       "      <td>-27.30125</td>\n",
       "      <td>152.986662</td>\n",
       "      <td>-27.300231</td>\n",
       "      <td>152.986248</td>\n",
       "    </tr>\n",
       "    <tr>\n",
       "      <td>3</td>\n",
       "      <td>6100037532</td>\n",
       "      <td>823501</td>\n",
       "      <td>Top &amp; Line Spot Resurfacing</td>\n",
       "      <td>-27.30125</td>\n",
       "      <td>152.986662</td>\n",
       "      <td>-27.300231</td>\n",
       "      <td>152.986248</td>\n",
       "    </tr>\n",
       "    <tr>\n",
       "      <td>4</td>\n",
       "      <td>6100037532</td>\n",
       "      <td>824011</td>\n",
       "      <td>Top &amp; Line Spot Resurfacing</td>\n",
       "      <td>-27.27001</td>\n",
       "      <td>152.980643</td>\n",
       "      <td>-27.270010</td>\n",
       "      <td>152.980643</td>\n",
       "    </tr>\n",
       "  </tbody>\n",
       "</table>\n",
       "</div>"
      ],
      "text/plain": [
       "        Order  Track_code                    Work_type  Start_lat  Start_long  \\\n",
       "0  6400003777      824011       Mechanised Resurfacing  -27.27001  152.980643   \n",
       "1  6100037532      823301  Top & Line Spot Resurfacing  -27.30125  152.986662   \n",
       "2  6100037532      823401  Top & Line Spot Resurfacing  -27.30125  152.986662   \n",
       "3  6100037532      823501  Top & Line Spot Resurfacing  -27.30125  152.986662   \n",
       "4  6100037532      824011  Top & Line Spot Resurfacing  -27.27001  152.980643   \n",
       "\n",
       "     End_lat    End_long  \n",
       "0 -27.081779  152.953191  \n",
       "1 -27.300231  152.986248  \n",
       "2 -27.300231  152.986248  \n",
       "3 -27.300231  152.986248  \n",
       "4 -27.270010  152.980643  "
      ]
     },
     "execution_count": 23,
     "metadata": {},
     "output_type": "execute_result"
    }
   ],
   "source": [
    "work_orders.head()"
   ]
  },
  {
   "cell_type": "code",
   "execution_count": 22,
   "metadata": {},
   "outputs": [],
   "source": [
    "notification = pd.read_excel(os.path.join(paths.DATA_OCT, 'Notification and Fault Codes 10.10.2019.xlsx'))"
   ]
  },
  {
   "cell_type": "code",
   "execution_count": 25,
   "metadata": {},
   "outputs": [
    {
     "data": {
      "text/html": [
       "<div>\n",
       "<style scoped>\n",
       "    .dataframe tbody tr th:only-of-type {\n",
       "        vertical-align: middle;\n",
       "    }\n",
       "\n",
       "    .dataframe tbody tr th {\n",
       "        vertical-align: top;\n",
       "    }\n",
       "\n",
       "    .dataframe thead th {\n",
       "        text-align: right;\n",
       "    }\n",
       "</style>\n",
       "<table border=\"1\" class=\"dataframe\">\n",
       "  <thead>\n",
       "    <tr style=\"text-align: right;\">\n",
       "      <th></th>\n",
       "      <th>Main WorkCtr</th>\n",
       "      <th>Planner group</th>\n",
       "      <th>Notification</th>\n",
       "      <th>Description</th>\n",
       "      <th>Notif.date</th>\n",
       "      <th>Order</th>\n",
       "      <th>Coding</th>\n",
       "      <th>Coding code txt</th>\n",
       "      <th>Code group</th>\n",
       "      <th>Obj.p. grp.txt.</th>\n",
       "      <th>...</th>\n",
       "      <th>Description.1</th>\n",
       "      <th>Cause</th>\n",
       "      <th>Code group.2</th>\n",
       "      <th>Cause grp. text</th>\n",
       "      <th>Cause code</th>\n",
       "      <th>Cause code text</th>\n",
       "      <th>Cause text</th>\n",
       "      <th>System status</th>\n",
       "      <th>User status</th>\n",
       "      <th>Long text</th>\n",
       "    </tr>\n",
       "  </thead>\n",
       "  <tbody>\n",
       "    <tr>\n",
       "      <td>0</td>\n",
       "      <td>MSU01</td>\n",
       "      <td>SEQ</td>\n",
       "      <td>1200183090</td>\n",
       "      <td>UC Order April NCL SCAS</td>\n",
       "      <td>2016-03-16</td>\n",
       "      <td>6200184767</td>\n",
       "      <td>NaN</td>\n",
       "      <td>NaN</td>\n",
       "      <td>TRK00100</td>\n",
       "      <td>Track Object Parts</td>\n",
       "      <td>...</td>\n",
       "      <td>NaN</td>\n",
       "      <td>1</td>\n",
       "      <td>STD00100</td>\n",
       "      <td>Standard Cause Codes</td>\n",
       "      <td>0105</td>\n",
       "      <td>Wear/Deterioration</td>\n",
       "      <td>NaN</td>\n",
       "      <td>NOCO ORAS</td>\n",
       "      <td>CMP</td>\n",
       "      <td>NaN</td>\n",
       "    </tr>\n",
       "    <tr>\n",
       "      <td>1</td>\n",
       "      <td>MSU01</td>\n",
       "      <td>SEQ</td>\n",
       "      <td>1200241917</td>\n",
       "      <td>UC Order Jan NCL SCAS 2017</td>\n",
       "      <td>2016-10-12</td>\n",
       "      <td>6200244088</td>\n",
       "      <td>NaN</td>\n",
       "      <td>NaN</td>\n",
       "      <td>TRK00100</td>\n",
       "      <td>Track Object Parts</td>\n",
       "      <td>...</td>\n",
       "      <td>NaN</td>\n",
       "      <td>1</td>\n",
       "      <td>STD00100</td>\n",
       "      <td>Standard Cause Codes</td>\n",
       "      <td>0105</td>\n",
       "      <td>Wear/Deterioration</td>\n",
       "      <td>NaN</td>\n",
       "      <td>NOCO ORAS</td>\n",
       "      <td>CMP</td>\n",
       "      <td>NaN</td>\n",
       "    </tr>\n",
       "    <tr>\n",
       "      <td>2</td>\n",
       "      <td>MSU01</td>\n",
       "      <td>SEQ</td>\n",
       "      <td>1200194926</td>\n",
       "      <td>UC Order Aug NCL SCAS</td>\n",
       "      <td>2016-04-26</td>\n",
       "      <td>6200196852</td>\n",
       "      <td>NaN</td>\n",
       "      <td>NaN</td>\n",
       "      <td>TRK00100</td>\n",
       "      <td>Track Object Parts</td>\n",
       "      <td>...</td>\n",
       "      <td>NaN</td>\n",
       "      <td>1</td>\n",
       "      <td>STD00100</td>\n",
       "      <td>Standard Cause Codes</td>\n",
       "      <td>0105</td>\n",
       "      <td>Wear/Deterioration</td>\n",
       "      <td>NaN</td>\n",
       "      <td>NOCO ORAS</td>\n",
       "      <td>CMP</td>\n",
       "      <td>NaN</td>\n",
       "    </tr>\n",
       "    <tr>\n",
       "      <td>3</td>\n",
       "      <td>MSU01</td>\n",
       "      <td>SEQ</td>\n",
       "      <td>1200283590</td>\n",
       "      <td>UC Order April NCL SCAS 2017</td>\n",
       "      <td>2017-02-28</td>\n",
       "      <td>6200286033</td>\n",
       "      <td>NaN</td>\n",
       "      <td>NaN</td>\n",
       "      <td>TRK00100</td>\n",
       "      <td>Track Object Parts</td>\n",
       "      <td>...</td>\n",
       "      <td>NaN</td>\n",
       "      <td>1</td>\n",
       "      <td>STD00100</td>\n",
       "      <td>Standard Cause Codes</td>\n",
       "      <td>0105</td>\n",
       "      <td>Wear/Deterioration</td>\n",
       "      <td>NaN</td>\n",
       "      <td>NOCO ORAS</td>\n",
       "      <td>CMP</td>\n",
       "      <td>NaN</td>\n",
       "    </tr>\n",
       "    <tr>\n",
       "      <td>4</td>\n",
       "      <td>MSU01</td>\n",
       "      <td>SEQ</td>\n",
       "      <td>1200309032</td>\n",
       "      <td>UC Order August NCL SCAS 2017</td>\n",
       "      <td>2017-05-25</td>\n",
       "      <td>6200311397</td>\n",
       "      <td>NaN</td>\n",
       "      <td>NaN</td>\n",
       "      <td>TRK00100</td>\n",
       "      <td>Track Object Parts</td>\n",
       "      <td>...</td>\n",
       "      <td>NaN</td>\n",
       "      <td>1</td>\n",
       "      <td>STD00100</td>\n",
       "      <td>Standard Cause Codes</td>\n",
       "      <td>0105</td>\n",
       "      <td>Wear/Deterioration</td>\n",
       "      <td>NaN</td>\n",
       "      <td>NOCO ORAS</td>\n",
       "      <td>CMP</td>\n",
       "      <td>NaN</td>\n",
       "    </tr>\n",
       "  </tbody>\n",
       "</table>\n",
       "<p>5 rows × 28 columns</p>\n",
       "</div>"
      ],
      "text/plain": [
       "  Main WorkCtr Planner group Notification                    Description  \\\n",
       "0        MSU01           SEQ   1200183090        UC Order April NCL SCAS   \n",
       "1        MSU01           SEQ   1200241917     UC Order Jan NCL SCAS 2017   \n",
       "2        MSU01           SEQ   1200194926          UC Order Aug NCL SCAS   \n",
       "3        MSU01           SEQ   1200283590   UC Order April NCL SCAS 2017   \n",
       "4        MSU01           SEQ   1200309032  UC Order August NCL SCAS 2017   \n",
       "\n",
       "  Notif.date       Order  Coding Coding code txt Code group  \\\n",
       "0 2016-03-16  6200184767     NaN             NaN   TRK00100   \n",
       "1 2016-10-12  6200244088     NaN             NaN   TRK00100   \n",
       "2 2016-04-26  6200196852     NaN             NaN   TRK00100   \n",
       "3 2017-02-28  6200286033     NaN             NaN   TRK00100   \n",
       "4 2017-05-25  6200311397     NaN             NaN   TRK00100   \n",
       "\n",
       "      Obj.p. grp.txt.  ... Description.1 Cause Code group.2  \\\n",
       "0  Track Object Parts  ...           NaN     1     STD00100   \n",
       "1  Track Object Parts  ...           NaN     1     STD00100   \n",
       "2  Track Object Parts  ...           NaN     1     STD00100   \n",
       "3  Track Object Parts  ...           NaN     1     STD00100   \n",
       "4  Track Object Parts  ...           NaN     1     STD00100   \n",
       "\n",
       "        Cause grp. text Cause code     Cause code text Cause text  \\\n",
       "0  Standard Cause Codes       0105  Wear/Deterioration        NaN   \n",
       "1  Standard Cause Codes       0105  Wear/Deterioration        NaN   \n",
       "2  Standard Cause Codes       0105  Wear/Deterioration        NaN   \n",
       "3  Standard Cause Codes       0105  Wear/Deterioration        NaN   \n",
       "4  Standard Cause Codes       0105  Wear/Deterioration        NaN   \n",
       "\n",
       "   System status User status  Long text  \n",
       "0      NOCO ORAS         CMP        NaN  \n",
       "1      NOCO ORAS         CMP        NaN  \n",
       "2      NOCO ORAS         CMP        NaN  \n",
       "3      NOCO ORAS         CMP        NaN  \n",
       "4      NOCO ORAS         CMP        NaN  \n",
       "\n",
       "[5 rows x 28 columns]"
      ]
     },
     "execution_count": 25,
     "metadata": {},
     "output_type": "execute_result"
    }
   ],
   "source": [
    "notification.head()"
   ]
  },
  {
   "cell_type": "code",
   "execution_count": 33,
   "metadata": {},
   "outputs": [],
   "source": [
    "work_order_with_notification = work_orders.set_index('Order').join(notification.set_index('Order'))"
   ]
  },
  {
   "cell_type": "code",
   "execution_count": 34,
   "metadata": {},
   "outputs": [],
   "source": [
    "work_order_with_notification.reset_index().to_csv(os.path.join(paths.DATA_DERIVED, 'work_orders_with_notification_GPS.csv'), index = False)"
   ]
  },
  {
   "cell_type": "markdown",
   "metadata": {},
   "source": [
    "## Generate pilot data for demo"
   ]
  },
  {
   "cell_type": "code",
   "execution_count": 4,
   "metadata": {},
   "outputs": [
    {
     "name": "stderr",
     "output_type": "stream",
     "text": [
      "j:\\shared\\omsa\\sem3\\dva\\lib\\site-packages\\IPython\\core\\interactiveshell.py:3058: DtypeWarning: Columns (26,27,28,29,30,31,32,33,34,35,36,37,38,39,40,42,43,45,46,48,49,50,51,52,53,54,55,56,57,58,59,60,61,62,63,64,65,66,67,68,69,70,71,73,74,75,76) have mixed types. Specify dtype option on import or set low_memory=False.\n",
      "  interactivity=interactivity, compiler=compiler, result=result)\n"
     ]
    }
   ],
   "source": [
    "total_138 = pd.read_csv(os.path.join(paths.DATA, 'combined_138.csv'))"
   ]
  },
  {
   "cell_type": "code",
   "execution_count": 5,
   "metadata": {},
   "outputs": [
    {
     "data": {
      "text/plain": [
       "Index(['Unnamed: 0', 'METRAGE', 'Date', 'AC LN', 'AC VT', 'CON F', 'GAUGE',\n",
       "       'GR HT', 'OV HT', 'SUPER', 'TOP L', 'TOP R', 'TR ST', 'TW 10', 'TW 3',\n",
       "       'VER L', 'VER R', 'VOLT', 'Track_code', 'Work_orders',\n",
       "       'Work_order_type', 'culvert', 'speed_description',\n",
       "       'speed_char_val_from', 'speed_char_val_to', 'speed_value_units',\n",
       "       'Category', 'Category.1', 'Category.2', 'Category.3', 'Category.4',\n",
       "       'Category.5', 'Category.6', 'Category.7', 'Category.8', 'Centre',\n",
       "       'Centre.1', 'Centre.2', 'Centre.3', 'Centre.4', 'Centre.5',\n",
       "       'Collection Date', 'Dec.Lat', 'Dec.Long', 'Division', 'End KM',\n",
       "       'GPR Run Number', 'Geolink', 'Laser Run number', 'Left*', 'Left*.1',\n",
       "       'Left*.2', 'Left*.3', 'Left*.4', 'Left*.5', 'Line Segment', 'Mudspot',\n",
       "       'PVC Value', 'PVC Value.1', 'PVC Value.2', 'Prefix', 'Right', 'Right*',\n",
       "       'Right*.1', 'Right*.2', 'Right*.3', 'Right*.4', 'Right.1', 'Right.2',\n",
       "       'Right.3', 'Sleeper_type', 'Start KM', 'Sub-division', 'Track ID',\n",
       "       'Volume (cubic m)', 'Volume (cubic m).1', 'Volume (cubic m).2'],\n",
       "      dtype='object')"
      ]
     },
     "execution_count": 5,
     "metadata": {},
     "output_type": "execute_result"
    }
   ],
   "source": [
    "total_138.columns"
   ]
  },
  {
   "cell_type": "code",
   "execution_count": 87,
   "metadata": {},
   "outputs": [
    {
     "data": {
      "text/plain": [
       "array(['2016-10-10', '2017-01-20', '2017-07-13', '2018-02-10',\n",
       "       '2018-06-26', '2018-10-03', '2019-02-06', '2014-02-14',\n",
       "       '2017-10-25', '2015-05-15', '2016-01-30', '2016-06-03',\n",
       "       '2015-10-02', '2014-06-04', '2014-10-31', '2017-10-17',\n",
       "       '2017-01-31', '2016-09-27', '2017-07-04', '2019-01-30',\n",
       "       '2018-01-30', '2018-06-19', '2014-02-11', '2016-05-30',\n",
       "       '2015-02-05', '2015-05-25', '2014-05-16', '2017-06-22',\n",
       "       '2016-02-02', '2015-11-09', '2016-10-11', '2019-03-04',\n",
       "       '2014-10-04', '2017-02-09', '2018-01-19', '2018-10-12',\n",
       "       '2019-01-17', '2018-06-14', '2016-09-09', '2014-01-31',\n",
       "       '2016-05-16', '2016-02-29', '2015-01-20', '2018-09-29',\n",
       "       '2019-02-07', '2015-02-10', '2018-10-23', '2015-02-06'],\n",
       "      dtype=object)"
      ]
     },
     "execution_count": 87,
     "metadata": {},
     "output_type": "execute_result"
    }
   ],
   "source": [
    "total_138['Date'].unique()"
   ]
  },
  {
   "cell_type": "code",
   "execution_count": 10,
   "metadata": {},
   "outputs": [],
   "source": [
    "df1 = total_138.loc[total_138['Date']=='2018-06-26']\n"
   ]
  },
  {
   "cell_type": "code",
   "execution_count": 97,
   "metadata": {},
   "outputs": [],
   "source": [
    "df2 = total_138.loc[total_138['Date']=='2015-05-25']"
   ]
  },
  {
   "cell_type": "code",
   "execution_count": 71,
   "metadata": {},
   "outputs": [
    {
     "data": {
      "text/plain": [
       "931"
      ]
     },
     "execution_count": 71,
     "metadata": {},
     "output_type": "execute_result"
    }
   ],
   "source": [
    "len(df1)"
   ]
  },
  {
   "cell_type": "code",
   "execution_count": 98,
   "metadata": {},
   "outputs": [
    {
     "data": {
      "text/plain": [
       "16383"
      ]
     },
     "execution_count": 98,
     "metadata": {},
     "output_type": "execute_result"
    }
   ],
   "source": [
    "len(df2)"
   ]
  },
  {
   "cell_type": "code",
   "execution_count": 17,
   "metadata": {},
   "outputs": [],
   "source": [
    "import pickle"
   ]
  },
  {
   "cell_type": "code",
   "execution_count": 59,
   "metadata": {},
   "outputs": [],
   "source": [
    "def preprocess_x(df):\n",
    "    measures = ['AC LN', 'AC VT', 'CON F', 'GAUGE',\n",
    "       'GR HT', 'OV HT', 'SUPER', 'TOP L', 'TOP R', 'TR ST', 'TW 10', 'TW 3',\n",
    "       'VER R', 'VOLT', 'culvert', 'Centre',\n",
    "       'Centre.1', 'Centre.2', 'Centre.3', 'Centre.4', 'Centre.5','Left*', 'Left*.1',\n",
    "       'Left*.2', 'Left*.3', 'Left*.4', 'Left*.5','Mudspot',\n",
    "       'PVC Value', 'PVC Value.1', 'PVC Value.2', 'Right', 'Right*',\n",
    "       'Right*.1', 'Right*.2', 'Right*.3', 'Right*.4', 'Right.1', 'Right.2',\n",
    "       'Right.3', 'Sleeper_type','Volume (cubic m)', 'Volume (cubic m).1', 'Volume (cubic m).2']\n",
    "    for col in df.columns:\n",
    "        df[col] = pd.to_numeric(df[col], errors='coerce')\n",
    "\n",
    "    ans = df.fillna(0)\n",
    "    return ans[measures]"
   ]
  },
  {
   "cell_type": "code",
   "execution_count": 139,
   "metadata": {},
   "outputs": [],
   "source": [
    "def model_output(trc, track_code):\n",
    "        gps_data = pd.read_csv(os.path.join(paths.DATA_DERIVED, 'C138_C195_coords.csv'))\n",
    "        ## extract features\n",
    "        to_predict = preprocess_x(trc)\n",
    "        ## load model from file\n",
    "        with open(os.path.join(paths.MODELS, 'rf_cv_wo.pickle'), 'rb') as f:\n",
    "            loaded_model = pickle.load(f)\n",
    "        result = loaded_model.predict(to_predict)\n",
    "        ## join back on data\n",
    "        trc['predicted_output'] = result\n",
    "        ## generate gpsdata\n",
    "         ## state geometry\n",
    "        \n",
    "        ans_df = trc[['METRAGE', 'predicted_output', 'Dec.Long', 'Dec.Lat']].rename(columns={'Dec.Long':'longitude', 'Dec.Lat':'latitude'})\n",
    "        #ans_df = ans_df.fillna(0)\n",
    "        geometry = [Point(xy) for xy in zip(ans_df['longitude'], ans_df['latitude'])]\n",
    "        geo_df = gpd.GeoDataFrame(ans_df, crs = {'init':'epsg:4326'}, geometry = geometry) # create geopandas df\n",
    "        \n",
    "        dist = len(trc)\n",
    "        num_wo = len(np.where(result == 1)[0].tolist())\n",
    "        \n",
    "        return geo_df, dist, num_wo"
   ]
  },
  {
   "cell_type": "code",
   "execution_count": 140,
   "metadata": {},
   "outputs": [
    {
     "name": "stderr",
     "output_type": "stream",
     "text": [
      "j:\\shared\\omsa\\sem3\\dva\\lib\\site-packages\\ipykernel_launcher.py:11: SettingWithCopyWarning: \n",
      "A value is trying to be set on a copy of a slice from a DataFrame.\n",
      "Try using .loc[row_indexer,col_indexer] = value instead\n",
      "\n",
      "See the caveats in the documentation: http://pandas.pydata.org/pandas-docs/stable/user_guide/indexing.html#returning-a-view-versus-a-copy\n",
      "  # This is added back by InteractiveShellApp.init_path()\n",
      "j:\\shared\\omsa\\sem3\\dva\\lib\\site-packages\\ipykernel_launcher.py:10: SettingWithCopyWarning: \n",
      "A value is trying to be set on a copy of a slice from a DataFrame.\n",
      "Try using .loc[row_indexer,col_indexer] = value instead\n",
      "\n",
      "See the caveats in the documentation: http://pandas.pydata.org/pandas-docs/stable/user_guide/indexing.html#returning-a-view-versus-a-copy\n",
      "  # Remove the CWD from sys.path while we load stuff.\n"
     ]
    }
   ],
   "source": [
    "ans1, d1, num_wo1= model_output(df1, 'na')"
   ]
  },
  {
   "cell_type": "code",
   "execution_count": 142,
   "metadata": {},
   "outputs": [
    {
     "data": {
      "text/plain": [
       "251"
      ]
     },
     "execution_count": 142,
     "metadata": {},
     "output_type": "execute_result"
    }
   ],
   "source": [
    "num_wo1"
   ]
  },
  {
   "cell_type": "code",
   "execution_count": 100,
   "metadata": {
    "scrolled": true
   },
   "outputs": [
    {
     "name": "stderr",
     "output_type": "stream",
     "text": [
      "j:\\shared\\omsa\\sem3\\dva\\lib\\site-packages\\ipykernel_launcher.py:11: SettingWithCopyWarning: \n",
      "A value is trying to be set on a copy of a slice from a DataFrame.\n",
      "Try using .loc[row_indexer,col_indexer] = value instead\n",
      "\n",
      "See the caveats in the documentation: http://pandas.pydata.org/pandas-docs/stable/user_guide/indexing.html#returning-a-view-versus-a-copy\n",
      "  # This is added back by InteractiveShellApp.init_path()\n",
      "j:\\shared\\omsa\\sem3\\dva\\lib\\site-packages\\ipykernel_launcher.py:10: SettingWithCopyWarning: \n",
      "A value is trying to be set on a copy of a slice from a DataFrame.\n",
      "Try using .loc[row_indexer,col_indexer] = value instead\n",
      "\n",
      "See the caveats in the documentation: http://pandas.pydata.org/pandas-docs/stable/user_guide/indexing.html#returning-a-view-versus-a-copy\n",
      "  # Remove the CWD from sys.path while we load stuff.\n"
     ]
    }
   ],
   "source": [
    "ans2= model_output(df2, 'na')"
   ]
  },
  {
   "cell_type": "code",
   "execution_count": 109,
   "metadata": {},
   "outputs": [
    {
     "name": "stderr",
     "output_type": "stream",
     "text": [
      "j:\\shared\\omsa\\sem3\\dva\\lib\\site-packages\\ipykernel_launcher.py:4: FutureWarning: Method .as_matrix will be removed in a future version. Use .values instead.\n",
      "  after removing the cwd from sys.path.\n"
     ]
    },
    {
     "data": {
      "image/png": "[encoded data removed]",
      "text/plain": [
       "<Figure size 1440x360 with 2 Axes>"
      ]
     },
     "metadata": {
      "needs_background": "light"
     },
     "output_type": "display_data"
    }
   ],
   "source": [
    "import matplotlib.pyplot as plt\n",
    "import seaborn as sns\n",
    "fig, ax = plt.subplots(figsize = (20,5))\n",
    "ax = sns.heatmap(ans1[['predicted_output']].as_matrix().T, cmap = 'Oranges')\n",
    "plt.savefig('pred_heatmap.png')\n",
    "plt.show()"
   ]
  },
  {
   "cell_type": "code",
   "execution_count": 101,
   "metadata": {},
   "outputs": [
    {
     "name": "stderr",
     "output_type": "stream",
     "text": [
      "j:\\shared\\omsa\\sem3\\dva\\lib\\site-packages\\ipykernel_launcher.py:4: FutureWarning: Method .as_matrix will be removed in a future version. Use .values instead.\n",
      "  after removing the cwd from sys.path.\n"
     ]
    },
    {
     "data": {
      "image/png": "[encoded data removed]",
      "text/plain": [
       "<Figure size 1440x360 with 2 Axes>"
      ]
     },
     "metadata": {
      "needs_background": "light"
     },
     "output_type": "display_data"
    }
   ],
   "source": [
    "import matplotlib.pyplot as plt\n",
    "import seaborn as sns\n",
    "fig, ax = plt.subplots(figsize = (20,5))\n",
    "ax = sns.heatmap(ans2[['predicted_output']].as_matrix().T, cmap = 'Oranges')\n",
    "plt.show()"
   ]
  },
  {
   "cell_type": "code",
   "execution_count": 110,
   "metadata": {},
   "outputs": [
    {
     "data": {
      "image/png": "[encoded data removed]",
      "text/plain": [
       "<Figure size 1080x1080 with 2 Axes>"
      ]
     },
     "metadata": {
      "needs_background": "light"
     },
     "output_type": "display_data"
    }
   ],
   "source": [
    "## plot lines according to subdivision\n",
    "fig,ax = plt.subplots(figsize = (15,15))\n",
    "ans1.plot(ax = ax, column = 'predicted_output', markersize = 4, cmap = 'Oranges', legend = True, alpha = 0.5)\n",
    "plt.savefig('pred_geo.png')"
   ]
  },
  {
   "cell_type": "code",
   "execution_count": 102,
   "metadata": {},
   "outputs": [
    {
     "data": {
      "text/plain": [
       "<matplotlib.axes._subplots.AxesSubplot at 0x1efa10cf6d8>"
      ]
     },
     "execution_count": 102,
     "metadata": {},
     "output_type": "execute_result"
    },
    {
     "data": {
      "image/png": "[encoded data removed]",
      "text/plain": [
       "<Figure size 1080x1080 with 2 Axes>"
      ]
     },
     "metadata": {
      "needs_background": "light"
     },
     "output_type": "display_data"
    }
   ],
   "source": [
    "## plot lines according to subdivision\n",
    "fig,ax = plt.subplots(figsize = (15,15))\n",
    "ans2.plot(ax = ax, column = 'predicted_output', markersize = 4, cmap = 'Oranges', legend = True, alpha = 0.5)"
   ]
  },
  {
   "cell_type": "code",
   "execution_count": 104,
   "metadata": {},
   "outputs": [],
   "source": [
    "df2.to_csv('test_file1.csv')"
   ]
  },
  {
   "cell_type": "code",
   "execution_count": 105,
   "metadata": {},
   "outputs": [],
   "source": [
    "df1.to_csv('test_file2.csv')"
   ]
  },
  {
   "cell_type": "code",
   "execution_count": 106,
   "metadata": {},
   "outputs": [],
   "source": [
    "with open('test_file1.pickle', 'wb') as f:\n",
    "    pickle.dump(df2, f)"
   ]
  },
  {
   "cell_type": "code",
   "execution_count": 107,
   "metadata": {},
   "outputs": [],
   "source": [
    "with open('test_file2.pickle', 'wb') as f:\n",
    "    pickle.dump(df1, f)"
   ]
  },
  {
   "cell_type": "code",
   "execution_count": 111,
   "metadata": {},
   "outputs": [],
   "source": [
    "with open('test_output1.pickle', 'wb') as f:\n",
    "    pickle.dump(ans2, f)"
   ]
  },
  {
   "cell_type": "code",
   "execution_count": 112,
   "metadata": {},
   "outputs": [
    {
     "data": {
      "text/html": [
       "<div>\n",
       "<style scoped>\n",
       "    .dataframe tbody tr th:only-of-type {\n",
       "        vertical-align: middle;\n",
       "    }\n",
       "\n",
       "    .dataframe tbody tr th {\n",
       "        vertical-align: top;\n",
       "    }\n",
       "\n",
       "    .dataframe thead th {\n",
       "        text-align: right;\n",
       "    }\n",
       "</style>\n",
       "<table border=\"1\" class=\"dataframe\">\n",
       "  <thead>\n",
       "    <tr style=\"text-align: right;\">\n",
       "      <th></th>\n",
       "      <th>METRAGE</th>\n",
       "      <th>predicted_output</th>\n",
       "      <th>longitude</th>\n",
       "      <th>latitude</th>\n",
       "      <th>geometry</th>\n",
       "    </tr>\n",
       "  </thead>\n",
       "  <tbody>\n",
       "    <tr>\n",
       "      <td>23409</td>\n",
       "      <td>10.889</td>\n",
       "      <td>0</td>\n",
       "      <td>153.069104</td>\n",
       "      <td>-27.392894</td>\n",
       "      <td>POINT (153.06910 -27.39289)</td>\n",
       "    </tr>\n",
       "    <tr>\n",
       "      <td>23413</td>\n",
       "      <td>10.890</td>\n",
       "      <td>0</td>\n",
       "      <td>153.069104</td>\n",
       "      <td>-27.392894</td>\n",
       "      <td>POINT (153.06910 -27.39289)</td>\n",
       "    </tr>\n",
       "    <tr>\n",
       "      <td>23417</td>\n",
       "      <td>10.891</td>\n",
       "      <td>0</td>\n",
       "      <td>153.069104</td>\n",
       "      <td>-27.392894</td>\n",
       "      <td>POINT (153.06910 -27.39289)</td>\n",
       "    </tr>\n",
       "    <tr>\n",
       "      <td>23421</td>\n",
       "      <td>10.892</td>\n",
       "      <td>0</td>\n",
       "      <td>153.069104</td>\n",
       "      <td>-27.392894</td>\n",
       "      <td>POINT (153.06910 -27.39289)</td>\n",
       "    </tr>\n",
       "    <tr>\n",
       "      <td>23425</td>\n",
       "      <td>10.893</td>\n",
       "      <td>0</td>\n",
       "      <td>153.069104</td>\n",
       "      <td>-27.392894</td>\n",
       "      <td>POINT (153.06910 -27.39289)</td>\n",
       "    </tr>\n",
       "  </tbody>\n",
       "</table>\n",
       "</div>"
      ],
      "text/plain": [
       "       METRAGE  predicted_output   longitude   latitude  \\\n",
       "23409   10.889                 0  153.069104 -27.392894   \n",
       "23413   10.890                 0  153.069104 -27.392894   \n",
       "23417   10.891                 0  153.069104 -27.392894   \n",
       "23421   10.892                 0  153.069104 -27.392894   \n",
       "23425   10.893                 0  153.069104 -27.392894   \n",
       "\n",
       "                          geometry  \n",
       "23409  POINT (153.06910 -27.39289)  \n",
       "23413  POINT (153.06910 -27.39289)  \n",
       "23417  POINT (153.06910 -27.39289)  \n",
       "23421  POINT (153.06910 -27.39289)  \n",
       "23425  POINT (153.06910 -27.39289)  "
      ]
     },
     "execution_count": 112,
     "metadata": {},
     "output_type": "execute_result"
    }
   ],
   "source": [
    "ans2.head()"
   ]
  },
  {
   "cell_type": "code",
   "execution_count": 113,
   "metadata": {},
   "outputs": [
    {
     "data": {
      "text/html": [
       "<div>\n",
       "<style scoped>\n",
       "    .dataframe tbody tr th:only-of-type {\n",
       "        vertical-align: middle;\n",
       "    }\n",
       "\n",
       "    .dataframe tbody tr th {\n",
       "        vertical-align: top;\n",
       "    }\n",
       "\n",
       "    .dataframe thead th {\n",
       "        text-align: right;\n",
       "    }\n",
       "</style>\n",
       "<table border=\"1\" class=\"dataframe\">\n",
       "  <thead>\n",
       "    <tr style=\"text-align: right;\">\n",
       "      <th></th>\n",
       "      <th>Unnamed: 0</th>\n",
       "      <th>METRAGE</th>\n",
       "      <th>Date</th>\n",
       "      <th>AC LN</th>\n",
       "      <th>AC VT</th>\n",
       "      <th>CON F</th>\n",
       "      <th>GAUGE</th>\n",
       "      <th>GR HT</th>\n",
       "      <th>OV HT</th>\n",
       "      <th>SUPER</th>\n",
       "      <th>...</th>\n",
       "      <th>Right.2</th>\n",
       "      <th>Right.3</th>\n",
       "      <th>Sleeper_type</th>\n",
       "      <th>Start KM</th>\n",
       "      <th>Sub-division</th>\n",
       "      <th>Track ID</th>\n",
       "      <th>Volume (cubic m)</th>\n",
       "      <th>Volume (cubic m).1</th>\n",
       "      <th>Volume (cubic m).2</th>\n",
       "      <th>predicted_output</th>\n",
       "    </tr>\n",
       "  </thead>\n",
       "  <tbody>\n",
       "    <tr>\n",
       "      <td>23409</td>\n",
       "      <td>21</td>\n",
       "      <td>10.889</td>\n",
       "      <td>NaN</td>\n",
       "      <td>0.4</td>\n",
       "      <td>0.4</td>\n",
       "      <td>13.5</td>\n",
       "      <td>1076.0</td>\n",
       "      <td>-27.6</td>\n",
       "      <td>-344.5</td>\n",
       "      <td>-4.0</td>\n",
       "      <td>...</td>\n",
       "      <td>NaN</td>\n",
       "      <td>NaN</td>\n",
       "      <td>NaN</td>\n",
       "      <td>10.8881</td>\n",
       "      <td>NaN</td>\n",
       "      <td>401.0</td>\n",
       "      <td>-0.127</td>\n",
       "      <td>-0.124</td>\n",
       "      <td>4.602</td>\n",
       "      <td>0</td>\n",
       "    </tr>\n",
       "    <tr>\n",
       "      <td>23413</td>\n",
       "      <td>25</td>\n",
       "      <td>10.890</td>\n",
       "      <td>NaN</td>\n",
       "      <td>0.0</td>\n",
       "      <td>0.1</td>\n",
       "      <td>13.6</td>\n",
       "      <td>1075.5</td>\n",
       "      <td>-29.4</td>\n",
       "      <td>-340.9</td>\n",
       "      <td>-3.4</td>\n",
       "      <td>...</td>\n",
       "      <td>NaN</td>\n",
       "      <td>NaN</td>\n",
       "      <td>NaN</td>\n",
       "      <td>10.8881</td>\n",
       "      <td>NaN</td>\n",
       "      <td>401.0</td>\n",
       "      <td>-0.127</td>\n",
       "      <td>-0.124</td>\n",
       "      <td>4.602</td>\n",
       "      <td>0</td>\n",
       "    </tr>\n",
       "    <tr>\n",
       "      <td>23417</td>\n",
       "      <td>29</td>\n",
       "      <td>10.891</td>\n",
       "      <td>NaN</td>\n",
       "      <td>0.4</td>\n",
       "      <td>0.3</td>\n",
       "      <td>14.1</td>\n",
       "      <td>1075.0</td>\n",
       "      <td>-31.3</td>\n",
       "      <td>-338.3</td>\n",
       "      <td>-3.5</td>\n",
       "      <td>...</td>\n",
       "      <td>NaN</td>\n",
       "      <td>NaN</td>\n",
       "      <td>NaN</td>\n",
       "      <td>10.8881</td>\n",
       "      <td>NaN</td>\n",
       "      <td>401.0</td>\n",
       "      <td>-0.127</td>\n",
       "      <td>-0.124</td>\n",
       "      <td>4.602</td>\n",
       "      <td>0</td>\n",
       "    </tr>\n",
       "    <tr>\n",
       "      <td>23421</td>\n",
       "      <td>33</td>\n",
       "      <td>10.892</td>\n",
       "      <td>NaN</td>\n",
       "      <td>0.5</td>\n",
       "      <td>0.4</td>\n",
       "      <td>13.9</td>\n",
       "      <td>1075.0</td>\n",
       "      <td>-33.0</td>\n",
       "      <td>-336.1</td>\n",
       "      <td>-3.8</td>\n",
       "      <td>...</td>\n",
       "      <td>NaN</td>\n",
       "      <td>NaN</td>\n",
       "      <td>NaN</td>\n",
       "      <td>10.8881</td>\n",
       "      <td>NaN</td>\n",
       "      <td>401.0</td>\n",
       "      <td>-0.127</td>\n",
       "      <td>-0.124</td>\n",
       "      <td>4.602</td>\n",
       "      <td>0</td>\n",
       "    </tr>\n",
       "    <tr>\n",
       "      <td>23425</td>\n",
       "      <td>37</td>\n",
       "      <td>10.893</td>\n",
       "      <td>NaN</td>\n",
       "      <td>0.6</td>\n",
       "      <td>0.4</td>\n",
       "      <td>14.1</td>\n",
       "      <td>1075.5</td>\n",
       "      <td>-34.8</td>\n",
       "      <td>-332.0</td>\n",
       "      <td>-3.5</td>\n",
       "      <td>...</td>\n",
       "      <td>NaN</td>\n",
       "      <td>NaN</td>\n",
       "      <td>NaN</td>\n",
       "      <td>10.8881</td>\n",
       "      <td>NaN</td>\n",
       "      <td>401.0</td>\n",
       "      <td>-0.127</td>\n",
       "      <td>-0.124</td>\n",
       "      <td>4.602</td>\n",
       "      <td>0</td>\n",
       "    </tr>\n",
       "  </tbody>\n",
       "</table>\n",
       "<p>5 rows × 78 columns</p>\n",
       "</div>"
      ],
      "text/plain": [
       "       Unnamed: 0  METRAGE  Date  AC LN  AC VT  CON F   GAUGE  GR HT  OV HT  \\\n",
       "23409          21   10.889   NaN    0.4    0.4   13.5  1076.0  -27.6 -344.5   \n",
       "23413          25   10.890   NaN    0.0    0.1   13.6  1075.5  -29.4 -340.9   \n",
       "23417          29   10.891   NaN    0.4    0.3   14.1  1075.0  -31.3 -338.3   \n",
       "23421          33   10.892   NaN    0.5    0.4   13.9  1075.0  -33.0 -336.1   \n",
       "23425          37   10.893   NaN    0.6    0.4   14.1  1075.5  -34.8 -332.0   \n",
       "\n",
       "       SUPER  ...  Right.2  Right.3  Sleeper_type  Start KM  Sub-division  \\\n",
       "23409   -4.0  ...      NaN      NaN           NaN   10.8881           NaN   \n",
       "23413   -3.4  ...      NaN      NaN           NaN   10.8881           NaN   \n",
       "23417   -3.5  ...      NaN      NaN           NaN   10.8881           NaN   \n",
       "23421   -3.8  ...      NaN      NaN           NaN   10.8881           NaN   \n",
       "23425   -3.5  ...      NaN      NaN           NaN   10.8881           NaN   \n",
       "\n",
       "       Track ID  Volume (cubic m)  Volume (cubic m).1  Volume (cubic m).2  \\\n",
       "23409     401.0            -0.127              -0.124               4.602   \n",
       "23413     401.0            -0.127              -0.124               4.602   \n",
       "23417     401.0            -0.127              -0.124               4.602   \n",
       "23421     401.0            -0.127              -0.124               4.602   \n",
       "23425     401.0            -0.127              -0.124               4.602   \n",
       "\n",
       "       predicted_output  \n",
       "23409                 0  \n",
       "23413                 0  \n",
       "23417                 0  \n",
       "23421                 0  \n",
       "23425                 0  \n",
       "\n",
       "[5 rows x 78 columns]"
      ]
     },
     "execution_count": 113,
     "metadata": {},
     "output_type": "execute_result"
    }
   ],
   "source": [
    "df2.head()"
   ]
  },
  {
   "cell_type": "code",
   "execution_count": 114,
   "metadata": {},
   "outputs": [],
   "source": [
    "with open('test_output1.pickle', 'rb') as g:\n",
    "    a = pickle.load(g)"
   ]
  },
  {
   "cell_type": "code",
   "execution_count": 115,
   "metadata": {},
   "outputs": [
    {
     "data": {
      "text/html": [
       "<div>\n",
       "<style scoped>\n",
       "    .dataframe tbody tr th:only-of-type {\n",
       "        vertical-align: middle;\n",
       "    }\n",
       "\n",
       "    .dataframe tbody tr th {\n",
       "        vertical-align: top;\n",
       "    }\n",
       "\n",
       "    .dataframe thead th {\n",
       "        text-align: right;\n",
       "    }\n",
       "</style>\n",
       "<table border=\"1\" class=\"dataframe\">\n",
       "  <thead>\n",
       "    <tr style=\"text-align: right;\">\n",
       "      <th></th>\n",
       "      <th>METRAGE</th>\n",
       "      <th>predicted_output</th>\n",
       "      <th>longitude</th>\n",
       "      <th>latitude</th>\n",
       "      <th>geometry</th>\n",
       "    </tr>\n",
       "  </thead>\n",
       "  <tbody>\n",
       "    <tr>\n",
       "      <td>23409</td>\n",
       "      <td>10.889</td>\n",
       "      <td>0</td>\n",
       "      <td>153.069104</td>\n",
       "      <td>-27.392894</td>\n",
       "      <td>POINT (153.06910 -27.39289)</td>\n",
       "    </tr>\n",
       "    <tr>\n",
       "      <td>23413</td>\n",
       "      <td>10.890</td>\n",
       "      <td>0</td>\n",
       "      <td>153.069104</td>\n",
       "      <td>-27.392894</td>\n",
       "      <td>POINT (153.06910 -27.39289)</td>\n",
       "    </tr>\n",
       "    <tr>\n",
       "      <td>23417</td>\n",
       "      <td>10.891</td>\n",
       "      <td>0</td>\n",
       "      <td>153.069104</td>\n",
       "      <td>-27.392894</td>\n",
       "      <td>POINT (153.06910 -27.39289)</td>\n",
       "    </tr>\n",
       "    <tr>\n",
       "      <td>23421</td>\n",
       "      <td>10.892</td>\n",
       "      <td>0</td>\n",
       "      <td>153.069104</td>\n",
       "      <td>-27.392894</td>\n",
       "      <td>POINT (153.06910 -27.39289)</td>\n",
       "    </tr>\n",
       "    <tr>\n",
       "      <td>23425</td>\n",
       "      <td>10.893</td>\n",
       "      <td>0</td>\n",
       "      <td>153.069104</td>\n",
       "      <td>-27.392894</td>\n",
       "      <td>POINT (153.06910 -27.39289)</td>\n",
       "    </tr>\n",
       "  </tbody>\n",
       "</table>\n",
       "</div>"
      ],
      "text/plain": [
       "       METRAGE  predicted_output   longitude   latitude  \\\n",
       "23409   10.889                 0  153.069104 -27.392894   \n",
       "23413   10.890                 0  153.069104 -27.392894   \n",
       "23417   10.891                 0  153.069104 -27.392894   \n",
       "23421   10.892                 0  153.069104 -27.392894   \n",
       "23425   10.893                 0  153.069104 -27.392894   \n",
       "\n",
       "                          geometry  \n",
       "23409  POINT (153.06910 -27.39289)  \n",
       "23413  POINT (153.06910 -27.39289)  \n",
       "23417  POINT (153.06910 -27.39289)  \n",
       "23421  POINT (153.06910 -27.39289)  \n",
       "23425  POINT (153.06910 -27.39289)  "
      ]
     },
     "execution_count": 115,
     "metadata": {},
     "output_type": "execute_result"
    }
   ],
   "source": [
    "a.head()"
   ]
  },
  {
   "cell_type": "code",
   "execution_count": 117,
   "metadata": {},
   "outputs": [],
   "source": [
    "output = ans[['METRAGE', 'predicted_output','longitude','latitude']]"
   ]
  },
  {
   "cell_type": "code",
   "execution_count": 118,
   "metadata": {},
   "outputs": [],
   "source": [
    "with open('test_output1_clean.pickle', 'wb') as f:\n",
    "    pickle.dump(output, f)"
   ]
  },
  {
   "cell_type": "code",
   "execution_count": 120,
   "metadata": {},
   "outputs": [
    {
     "data": {
      "text/plain": [
       "pandas.core.frame.DataFrame"
      ]
     },
     "execution_count": 120,
     "metadata": {},
     "output_type": "execute_result"
    }
   ],
   "source": [
    "type(output)"
   ]
  },
  {
   "cell_type": "code",
   "execution_count": 144,
   "metadata": {},
   "outputs": [],
   "source": [
    "import os"
   ]
  },
  {
   "cell_type": "code",
   "execution_count": 147,
   "metadata": {},
   "outputs": [
    {
     "data": {
      "text/plain": [
       "'J:\\\\Shared\\\\OMSA\\\\sem3\\\\DVA\\\\Project_final\\\\dva_project-master\\\\src'"
      ]
     },
     "execution_count": 147,
     "metadata": {},
     "output_type": "execute_result"
    }
   ],
   "source": [
    "os.getcwd()"
   ]
  },
  {
   "cell_type": "code",
   "execution_count": null,
   "metadata": {},
   "outputs": [],
   "source": []
  }
 ],
 "metadata": {
  "kernelspec": {
   "display_name": "Python 3",
   "language": "python",
   "name": "python3"
  },
  "language_info": {
   "codemirror_mode": {
    "name": "ipython",
    "version": 3
   },
   "file_extension": ".py",
   "mimetype": "text/x-python",
   "name": "python",
   "nbconvert_exporter": "python",
   "pygments_lexer": "ipython3",
   "version": "3.6.0"
  }
 },
 "nbformat": 4,
 "nbformat_minor": 2
}
