{
 "cells": [
  {
   "cell_type": "code",
   "execution_count": 1,
   "metadata": {},
   "outputs": [],
   "source": [
    "import pandas as pd\n",
    "import numpy as np\n",
    "from ast import literal_eval"
   ]
  },
  {
   "cell_type": "code",
   "execution_count": 2,
   "metadata": {},
   "outputs": [
    {
     "data": {
      "text/plain": [
       "['combined_138.csv',\n",
       " 'trc_joined_0.csv',\n",
       " 'trc_joined_1.csv',\n",
       " 'trc_joined_2.csv',\n",
       " 'trc_joined_3.csv',\n",
       " 'trc_joined_4.csv',\n",
       " 'trc_joined_5.csv']"
      ]
     },
     "execution_count": 2,
     "metadata": {},
     "output_type": "execute_result"
    }
   ],
   "source": [
    "import os\n",
    "os.listdir('C138_GPR_TRC_nov19')"
   ]
  },
  {
   "cell_type": "code",
   "execution_count": 3,
   "metadata": {},
   "outputs": [
    {
     "name": "stderr",
     "output_type": "stream",
     "text": [
      "j:\\shared\\omsa\\sem3\\dva\\lib\\site-packages\\IPython\\core\\interactiveshell.py:3058: DtypeWarning: Columns (26,27,28,29,30,31,32,33,34,35,36,37,38,39,40,42,43,45,46,48,49,50,51,52,53,54,55,56,57,58,59,60,61,62,63,64,65,66,67,68,69,70,71,73,74,75,76) have mixed types. Specify dtype option on import or set low_memory=False.\n",
      "  interactivity=interactivity, compiler=compiler, result=result)\n"
     ]
    }
   ],
   "source": [
    "df = pd.read_csv('C138_GPR_TRC_nov19/combined_138.csv')"
   ]
  },
  {
   "cell_type": "code",
   "execution_count": 4,
   "metadata": {},
   "outputs": [
    {
     "data": {
      "text/plain": [
       "Index(['Unnamed: 0', 'METRAGE', 'Date', 'AC LN', 'AC VT', 'CON F', 'GAUGE',\n",
       "       'GR HT', 'OV HT', 'SUPER', 'TOP L', 'TOP R', 'TR ST', 'TW 10', 'TW 3',\n",
       "       'VER L', 'VER R', 'VOLT', 'Track_code', 'Work_orders',\n",
       "       'Work_order_type', 'culvert', 'speed_description',\n",
       "       'speed_char_val_from', 'speed_char_val_to', 'speed_value_units',\n",
       "       'Category', 'Category.1', 'Category.2', 'Category.3', 'Category.4',\n",
       "       'Category.5', 'Category.6', 'Category.7', 'Category.8', 'Centre',\n",
       "       'Centre.1', 'Centre.2', 'Centre.3', 'Centre.4', 'Centre.5',\n",
       "       'Collection Date', 'Dec.Lat', 'Dec.Long', 'Division', 'End KM',\n",
       "       'GPR Run Number', 'Geolink', 'Laser Run number', 'Left*', 'Left*.1',\n",
       "       'Left*.2', 'Left*.3', 'Left*.4', 'Left*.5', 'Line Segment', 'Mudspot',\n",
       "       'PVC Value', 'PVC Value.1', 'PVC Value.2', 'Prefix', 'Right', 'Right*',\n",
       "       'Right*.1', 'Right*.2', 'Right*.3', 'Right*.4', 'Right.1', 'Right.2',\n",
       "       'Right.3', 'Sleeper_type', 'Start KM', 'Sub-division', 'Track ID',\n",
       "       'Volume (cubic m)', 'Volume (cubic m).1', 'Volume (cubic m).2'],\n",
       "      dtype='object')"
      ]
     },
     "execution_count": 4,
     "metadata": {},
     "output_type": "execute_result"
    }
   ],
   "source": [
    "df.columns"
   ]
  },
  {
   "cell_type": "code",
   "execution_count": 5,
   "metadata": {},
   "outputs": [
    {
     "data": {
      "text/plain": [
       "array(['2016-10-10', '2017-01-20', '2017-07-13', '2018-02-10',\n",
       "       '2018-06-26', '2018-10-03', '2019-02-06', '2014-02-14',\n",
       "       '2017-10-25', '2015-05-15', '2016-01-30', '2016-06-03',\n",
       "       '2015-10-02', '2014-06-04', '2014-10-31', '2017-10-17',\n",
       "       '2017-01-31', '2016-09-27', '2017-07-04', '2019-01-30',\n",
       "       '2018-01-30', '2018-06-19', '2014-02-11', '2016-05-30',\n",
       "       '2015-02-05', '2015-05-25', '2014-05-16', '2017-06-22',\n",
       "       '2016-02-02', '2015-11-09', '2016-10-11', '2019-03-04',\n",
       "       '2014-10-04', '2017-02-09', '2018-01-19', '2018-10-12',\n",
       "       '2019-01-17', '2018-06-14', '2016-09-09', '2014-01-31',\n",
       "       '2016-05-16', '2016-02-29', '2015-01-20', '2018-09-29',\n",
       "       '2019-02-07', '2015-02-10', '2018-10-23', '2015-02-06'],\n",
       "      dtype=object)"
      ]
     },
     "execution_count": 5,
     "metadata": {},
     "output_type": "execute_result"
    }
   ],
   "source": [
    "## find the number of dates\n",
    "df['Date'].unique()"
   ]
  },
  {
   "cell_type": "code",
   "execution_count": 9,
   "metadata": {},
   "outputs": [],
   "source": [
    "def presence_of_wo(x):\n",
    "    num_wo = len(literal_eval(x))\n",
    "    if num_wo >0:\n",
    "        ans = 1\n",
    "    else:\n",
    "        ans = 0\n",
    "    return ans\n",
    "\n",
    "df['has_wo'] = df['Work_order_type'].apply(lambda x: presence_of_wo(x))"
   ]
  },
  {
   "cell_type": "code",
   "execution_count": 10,
   "metadata": {
    "collapsed": true
   },
   "outputs": [
    {
     "ename": "NameError",
     "evalue": "name 'num_wo' is not defined",
     "output_type": "error",
     "traceback": [
      "\u001b[1;31m---------------------------------------------------------------------------\u001b[0m",
      "\u001b[1;31mNameError\u001b[0m                                 Traceback (most recent call last)",
      "\u001b[1;32m<ipython-input-10-774f0a9f7ce5>\u001b[0m in \u001b[0;36m<module>\u001b[1;34m\u001b[0m\n\u001b[0;32m      5\u001b[0m         \u001b[1;32mreturn\u001b[0m \u001b[0mx\u001b[0m\u001b[1;33m\u001b[0m\u001b[0m\n\u001b[0;32m      6\u001b[0m \u001b[1;33m\u001b[0m\u001b[0m\n\u001b[1;32m----> 7\u001b[1;33m \u001b[0mdf\u001b[0m\u001b[1;33m[\u001b[0m\u001b[1;34m'num_wo'\u001b[0m\u001b[1;33m]\u001b[0m \u001b[1;33m=\u001b[0m \u001b[0mnum_wo\u001b[0m\u001b[1;33m.\u001b[0m\u001b[0mapply\u001b[0m\u001b[1;33m(\u001b[0m\u001b[1;32mlambda\u001b[0m \u001b[0mx\u001b[0m\u001b[1;33m:\u001b[0m \u001b[0mmorethan1\u001b[0m\u001b[1;33m(\u001b[0m\u001b[0mx\u001b[0m\u001b[1;33m)\u001b[0m\u001b[1;33m)\u001b[0m\u001b[1;33m\u001b[0m\u001b[0m\n\u001b[0m",
      "\u001b[1;31mNameError\u001b[0m: name 'num_wo' is not defined"
     ]
    }
   ],
   "source": [
    "def morethan1(x):\n",
    "    if x > 1:\n",
    "        return 2\n",
    "    else:\n",
    "        return x\n",
    "\n",
    "df['num_wo'] = num_wo.apply(lambda x: morethan1(x))"
   ]
  },
  {
   "cell_type": "code",
   "execution_count": 11,
   "metadata": {},
   "outputs": [],
   "source": [
    "def contains_ballast(x):\n",
    "    workorders = literal_eval(x)\n",
    "    ans = 0\n",
    "    for work in workorders:\n",
    "        if 'ballast' in work.lower():\n",
    "            ans = 1\n",
    "    return ans"
   ]
  },
  {
   "cell_type": "code",
   "execution_count": 12,
   "metadata": {},
   "outputs": [],
   "source": [
    "df['Ballast_work'] = df['Work_order_type'].apply(lambda x: contains_ballast(x))"
   ]
  },
  {
   "cell_type": "code",
   "execution_count": 13,
   "metadata": {},
   "outputs": [
    {
     "data": {
      "text/plain": [
       "219321"
      ]
     },
     "execution_count": 13,
     "metadata": {},
     "output_type": "execute_result"
    }
   ],
   "source": [
    "len(df[df['Ballast_work'] == 1])"
   ]
  },
  {
   "cell_type": "code",
   "execution_count": 37,
   "metadata": {},
   "outputs": [],
   "source": [
    "measures = ['AC LN', 'AC VT', 'CON F', 'GAUGE',\n",
    "       'GR HT', 'OV HT', 'SUPER', 'TOP L', 'TOP R', 'TR ST', 'TW 10', 'TW 3',\n",
    "       'VER R', 'VOLT', 'culvert', 'Centre',\n",
    "       'Centre.1', 'Centre.2', 'Centre.3', 'Centre.4', 'Centre.5','Left*', 'Left*.1',\n",
    "       'Left*.2', 'Left*.3', 'Left*.4', 'Left*.5','Mudspot',\n",
    "       'PVC Value', 'PVC Value.1', 'PVC Value.2', 'Right', 'Right*',\n",
    "       'Right*.1', 'Right*.2', 'Right*.3', 'Right*.4', 'Right.1', 'Right.2',\n",
    "       'Right.3', 'Sleeper_type','Volume (cubic m)', 'Volume (cubic m).1', 'Volume (cubic m).2']"
   ]
  },
  {
   "cell_type": "code",
   "execution_count": 15,
   "metadata": {},
   "outputs": [],
   "source": [
    "from sklearn.utils import resample\n",
    "\n",
    "df_noB = df[df['Ballast_work']==0]\n",
    "df_B = df[df['Ballast_work']==1]\n",
    "\n",
    "downsampled_noB = resample(df_noB, replace = True, n_samples = 219321)\n",
    "downsampled_B = resample(df_B, replace = True, n_samples = 219321)\n",
    "\n",
    "downsampled_df = pd.concat([downsampled_noB,downsampled_B])\n"
   ]
  },
  {
   "cell_type": "code",
   "execution_count": 16,
   "metadata": {},
   "outputs": [],
   "source": [
    "## train test split\n",
    "from sklearn.model_selection import train_test_split\n",
    "X_train, X_test, y_train, y_test = train_test_split(downsampled_df[measures], downsampled_df['Ballast_work'], test_size =0.50, random_state = 10 )"
   ]
  },
  {
   "cell_type": "code",
   "execution_count": 62,
   "metadata": {},
   "outputs": [
    {
     "data": {
      "text/plain": [
       "SVC(C=1.0, cache_size=200, class_weight=None, coef0=0.0,\n",
       "    decision_function_shape='ovr', degree=3, gamma='auto', kernel='rbf',\n",
       "    max_iter=-1, probability=False, random_state=None, shrinking=True,\n",
       "    tol=0.001, verbose=False)"
      ]
     },
     "execution_count": 62,
     "metadata": {},
     "output_type": "execute_result"
    }
   ],
   "source": [
    "## SVR\n",
    "from sklearn.svm import SVC\n",
    "from sklearn.metrics import confusion_matrix\n",
    "from sklearn.utils.multiclass import unique_labels\n",
    "\n",
    "\n",
    "clr = SVC(gamma = 'auto')\n",
    "clr.fit(X_train, y_train)\n",
    "clr.score(X_train, y_train)\n",
    "predicted = clr.predict(X_test)\n",
    "\n",
    "cm = confusion_matrix(y_test, predicted)\n",
    "cm"
   ]
  },
  {
   "cell_type": "code",
   "execution_count": 3,
   "metadata": {},
   "outputs": [
    {
     "data": {
      "text/plain": [
       "0.3797692990239574"
      ]
     },
     "execution_count": 3,
     "metadata": {},
     "output_type": "execute_result"
    }
   ],
   "source": [
    "precision = 12840/ (12840+8110)\n",
    "recall = 12840/ (12840+20)\n",
    "precision*recall/ (precision+recall)"
   ]
  },
  {
   "cell_type": "code",
   "execution_count": 96,
   "metadata": {
    "scrolled": true
   },
   "outputs": [
    {
     "data": {
      "text/plain": [
       "0.8059156341760366"
      ]
     },
     "execution_count": 96,
     "metadata": {},
     "output_type": "execute_result"
    }
   ],
   "source": [
    "metrics.accuracy_score(y_test,predicted)"
   ]
  },
  {
   "cell_type": "code",
   "execution_count": 71,
   "metadata": {},
   "outputs": [
    {
     "data": {
      "text/plain": [
       "array([[20919,    20],\n",
       "       [ 8110, 12840]], dtype=int64)"
      ]
     },
     "execution_count": 71,
     "metadata": {},
     "output_type": "execute_result"
    }
   ],
   "source": [
    "cm"
   ]
  },
  {
   "cell_type": "code",
   "execution_count": 68,
   "metadata": {},
   "outputs": [
    {
     "name": "stderr",
     "output_type": "stream",
     "text": [
      "j:\\shared\\omsa\\sem3\\dva\\lib\\site-packages\\sklearn\\linear_model\\logistic.py:432: FutureWarning: Default solver will be changed to 'lbfgs' in 0.22. Specify a solver to silence this warning.\n",
      "  FutureWarning)\n"
     ]
    },
    {
     "data": {
      "text/plain": [
       "array([[20919,    20],\n",
       "       [ 8110, 12840]], dtype=int64)"
      ]
     },
     "execution_count": 68,
     "metadata": {},
     "output_type": "execute_result"
    }
   ],
   "source": [
    "from sklearn.linear_model import LogisticRegression\n",
    "\n",
    "lr = LogisticRegression()\n",
    "lr.fit(X_train,y_train)\n",
    "print(lr.score(X_train, y_train))\n"
   ]
  },
  {
   "cell_type": "code",
   "execution_count": 76,
   "metadata": {},
   "outputs": [
    {
     "data": {
      "text/plain": [
       "array([[10245, 10694],\n",
       "       [ 7145, 13805]], dtype=int64)"
      ]
     },
     "execution_count": 76,
     "metadata": {},
     "output_type": "execute_result"
    }
   ],
   "source": [
    "predicted_lr = lr.predict(X_test)\n",
    "cm_lr = confusion_matrix(y_test, predicted_lr)\n",
    "cm_lr\n"
   ]
  },
  {
   "cell_type": "code",
   "execution_count": 2,
   "metadata": {},
   "outputs": [
    {
     "data": {
      "text/plain": [
       "0.5741364081262383"
      ]
     },
     "execution_count": 2,
     "metadata": {},
     "output_type": "execute_result"
    }
   ],
   "source": [
    "(13805+10245)/ (13805+10245+10694+7145)"
   ]
  },
  {
   "cell_type": "code",
   "execution_count": 77,
   "metadata": {},
   "outputs": [
    {
     "data": {
      "text/plain": [
       "0.6074941142819423"
      ]
     },
     "execution_count": 77,
     "metadata": {},
     "output_type": "execute_result"
    }
   ],
   "source": [
    "from sklearn.metrics import f1_score\n",
    "\n",
    "f1_score(y_test, predicted_lr)"
   ]
  },
  {
   "cell_type": "code",
   "execution_count": 95,
   "metadata": {
    "collapsed": true
   },
   "outputs": [
    {
     "name": "stdout",
     "output_type": "stream",
     "text": [
      "              0         1\n",
      "0      0.673794  0.326206\n",
      "1      0.467134  0.532866\n",
      "2      0.569247  0.430753\n",
      "3      0.358400  0.641600\n",
      "4      0.427062  0.572938\n",
      "...         ...       ...\n",
      "41884  0.456267  0.543733\n",
      "41885  0.434005  0.565995\n",
      "41886  0.558156  0.441844\n",
      "41887  0.308334  0.691666\n",
      "41888  0.671188  0.328812\n",
      "\n",
      "[41889 rows x 2 columns]\n",
      "\n",
      "******** For i = 0.05 ******\n",
      "Our testing accuracy is 0.5003222803122538\n",
      "\n",
      "******** For i = 0.1 ******\n",
      "Our testing accuracy is 0.5004893886223113\n",
      "\n",
      "******** For i = 0.15 ******\n",
      "Our testing accuracy is 0.5005848790852013\n",
      "\n",
      "******** For i = 0.2 ******\n",
      "Our testing accuracy is 0.5012533123254315\n",
      "\n",
      "******** For i = 0.25 ******\n",
      "Our testing accuracy is 0.5056697462340949\n",
      "\n",
      "******** For i = 0.3 ******\n",
      "Our testing accuracy is 0.5181312516412423\n",
      "\n",
      "******** For i = 0.35 ******\n",
      "Our testing accuracy is 0.528850056100647\n",
      "\n",
      "******** For i = 0.4 ******\n",
      "Our testing accuracy is 0.5421471030580821\n",
      "\n",
      "******** For i = 0.45 ******\n",
      "Our testing accuracy is 0.552030365967199\n",
      "\n",
      "******** For i = 0.5 ******\n",
      "Our testing accuracy is 0.5741364081262383\n",
      "\n",
      "******** For i = 0.55 ******\n",
      "Our testing accuracy is 0.5877676717037886\n",
      "\n",
      "******** For i = 0.6 ******\n",
      "Our testing accuracy is 0.5439614218529925\n",
      "\n",
      "******** For i = 0.65 ******\n",
      "Our testing accuracy is 0.5248155840435437\n",
      "\n",
      "******** For i = 0.7 ******\n",
      "Our testing accuracy is 0.5072930841032252\n",
      "\n",
      "******** For i = 0.75 ******\n",
      "Our testing accuracy is 0.5009907135524839\n",
      "\n",
      "******** For i = 0.8 ******\n",
      "Our testing accuracy is 0.4998448279978037\n",
      "\n",
      "******** For i = 0.85 ******\n",
      "Our testing accuracy is 0.4998448279978037\n",
      "\n",
      "******** For i = 0.9 ******\n",
      "Our testing accuracy is 0.4998448279978037\n",
      "\n",
      "******** For i = 0.95 ******\n",
      "Our testing accuracy is 0.49986870061352623\n",
      "\n",
      "******** For i = 0.99 ******\n",
      "Our testing accuracy is 0.49986870061352623\n"
     ]
    }
   ],
   "source": [
    "from sklearn import metrics\n",
    "def threshold(x, i):\n",
    "    if x > i:\n",
    "        ans = 1\n",
    "    else:\n",
    "        ans = 0\n",
    "    return ans\n",
    "\n",
    "\n",
    "pred_proba_df = pd.DataFrame(lr.predict_proba(X_test))\n",
    "print(pred_proba_df)\n",
    "threshold_list = [0.05,0.1,0.15,0.2,0.25,0.3,0.35,0.4,0.45,0.5,0.55,0.6,0.65,.7,.75,.8,.85,.9,.95,.99]\n",
    "for i in threshold_list:\n",
    "    print ('\\n******** For i = {} ******'.format(i))\n",
    "    Y_test_pred = np.array([threshold(x, i) for x in pred_proba_df[1].tolist()])\n",
    "    test_accuracy = metrics.accuracy_score(y_test,Y_test_pred)\n",
    "    print('Our testing accuracy is {}'.format(test_accuracy))\n"
   ]
  },
  {
   "cell_type": "markdown",
   "metadata": {},
   "source": [
    "# Test set on 2 dates worth of values\n",
    "\n",
    "- crossvalidation with SVM\n",
    "- feed predictions onto a KNN cluster to smooth out clusters of ballest vs no ballast work predicted"
   ]
  },
  {
   "cell_type": "code",
   "execution_count": 20,
   "metadata": {},
   "outputs": [],
   "source": [
    "## test on final two dates\n",
    "test_set = df.loc[(df['Date']== '2019-01-30') | (df['Date']== '2019-03-04') | (df['Date'] == '2019-01-17')| (df['Date'] =='2019-02-07')]\n",
    "train_set = df.loc[~((df['Date']== '2019-01-30') | (df['Date']== '2019-03-04') | (df['Date'] == '2019-01-17')| (df['Date'] =='2019-02-07'))]"
   ]
  },
  {
   "cell_type": "code",
   "execution_count": 18,
   "metadata": {
    "scrolled": true
   },
   "outputs": [
    {
     "data": {
      "text/plain": [
       "array(['2016-10-10', '2017-01-20', '2017-07-13', '2018-02-10',\n",
       "       '2018-06-26', '2018-10-03', '2019-02-06', '2014-02-14',\n",
       "       '2017-10-25', '2015-05-15', '2016-01-30', '2016-06-03',\n",
       "       '2015-10-02', '2014-06-04', '2014-10-31', '2017-10-17',\n",
       "       '2017-01-31', '2016-09-27', '2017-07-04', '2019-01-30',\n",
       "       '2018-01-30', '2018-06-19', '2014-02-11', '2016-05-30',\n",
       "       '2015-02-05', '2015-05-25', '2014-05-16', '2017-06-22',\n",
       "       '2016-02-02', '2015-11-09', '2016-10-11', '2019-03-04',\n",
       "       '2014-10-04', '2017-02-09', '2018-01-19', '2018-10-12',\n",
       "       '2019-01-17', '2018-06-14', '2016-09-09', '2014-01-31',\n",
       "       '2016-05-16', '2016-02-29', '2015-01-20', '2018-09-29',\n",
       "       '2019-02-07', '2015-02-10', '2018-10-23', '2015-02-06'],\n",
       "      dtype=object)"
      ]
     },
     "execution_count": 18,
     "metadata": {},
     "output_type": "execute_result"
    }
   ],
   "source": [
    "df['Date'].unique()"
   ]
  },
  {
   "cell_type": "code",
   "execution_count": 77,
   "metadata": {
    "scrolled": false
   },
   "outputs": [
    {
     "data": {
      "text/plain": [
       "375546"
      ]
     },
     "execution_count": 77,
     "metadata": {},
     "output_type": "execute_result"
    }
   ],
   "source": [
    "len(train_set[train_set['has_wo']==1])"
   ]
  },
  {
   "cell_type": "code",
   "execution_count": 22,
   "metadata": {},
   "outputs": [],
   "source": [
    "from sklearn.utils import resample\n",
    "\n",
    "df_noB = train_set[train_set['Ballast_work']==0]\n",
    "df_B = train_set[train_set['Ballast_work']==1]\n",
    "\n",
    "downsampled_noB = resample(df_noB, replace = True, n_samples = 63341)\n",
    "downsampled_B = resample(df_B, replace = True, n_samples = 63341)\n",
    "\n",
    "downsampled_df = pd.concat([downsampled_noB,downsampled_B])"
   ]
  },
  {
   "cell_type": "code",
   "execution_count": 38,
   "metadata": {},
   "outputs": [],
   "source": [
    "X_train, X_test, y_train, y_test = train_test_split(downsampled_df[measures], downsampled_df['Ballast_work'], test_size=0.5, random_state=0)"
   ]
  },
  {
   "cell_type": "code",
   "execution_count": 114,
   "metadata": {
    "collapsed": true
   },
   "outputs": [
    {
     "name": "stderr",
     "output_type": "stream",
     "text": [
      "j:\\shared\\omsa\\sem3\\dva\\lib\\site-packages\\sklearn\\svm\\base.py:193: FutureWarning: The default value of gamma will change from 'auto' to 'scale' in version 0.22 to account better for unscaled features. Set gamma explicitly to 'auto' or 'scale' to avoid this warning.\n",
      "  \"avoid this warning.\", FutureWarning)\n",
      "j:\\shared\\omsa\\sem3\\dva\\lib\\site-packages\\sklearn\\svm\\base.py:193: FutureWarning: The default value of gamma will change from 'auto' to 'scale' in version 0.22 to account better for unscaled features. Set gamma explicitly to 'auto' or 'scale' to avoid this warning.\n",
      "  \"avoid this warning.\", FutureWarning)\n",
      "j:\\shared\\omsa\\sem3\\dva\\lib\\site-packages\\sklearn\\svm\\base.py:193: FutureWarning: The default value of gamma will change from 'auto' to 'scale' in version 0.22 to account better for unscaled features. Set gamma explicitly to 'auto' or 'scale' to avoid this warning.\n",
      "  \"avoid this warning.\", FutureWarning)\n",
      "j:\\shared\\omsa\\sem3\\dva\\lib\\site-packages\\sklearn\\svm\\base.py:193: FutureWarning: The default value of gamma will change from 'auto' to 'scale' in version 0.22 to account better for unscaled features. Set gamma explicitly to 'auto' or 'scale' to avoid this warning.\n",
      "  \"avoid this warning.\", FutureWarning)\n",
      "j:\\shared\\omsa\\sem3\\dva\\lib\\site-packages\\sklearn\\svm\\base.py:193: FutureWarning: The default value of gamma will change from 'auto' to 'scale' in version 0.22 to account better for unscaled features. Set gamma explicitly to 'auto' or 'scale' to avoid this warning.\n",
      "  \"avoid this warning.\", FutureWarning)\n",
      "j:\\shared\\omsa\\sem3\\dva\\lib\\site-packages\\sklearn\\svm\\base.py:193: FutureWarning: The default value of gamma will change from 'auto' to 'scale' in version 0.22 to account better for unscaled features. Set gamma explicitly to 'auto' or 'scale' to avoid this warning.\n",
      "  \"avoid this warning.\", FutureWarning)\n",
      "j:\\shared\\omsa\\sem3\\dva\\lib\\site-packages\\sklearn\\svm\\base.py:193: FutureWarning: The default value of gamma will change from 'auto' to 'scale' in version 0.22 to account better for unscaled features. Set gamma explicitly to 'auto' or 'scale' to avoid this warning.\n",
      "  \"avoid this warning.\", FutureWarning)\n",
      "j:\\shared\\omsa\\sem3\\dva\\lib\\site-packages\\sklearn\\svm\\base.py:193: FutureWarning: The default value of gamma will change from 'auto' to 'scale' in version 0.22 to account better for unscaled features. Set gamma explicitly to 'auto' or 'scale' to avoid this warning.\n",
      "  \"avoid this warning.\", FutureWarning)\n",
      "j:\\shared\\omsa\\sem3\\dva\\lib\\site-packages\\sklearn\\svm\\base.py:193: FutureWarning: The default value of gamma will change from 'auto' to 'scale' in version 0.22 to account better for unscaled features. Set gamma explicitly to 'auto' or 'scale' to avoid this warning.\n",
      "  \"avoid this warning.\", FutureWarning)\n",
      "j:\\shared\\omsa\\sem3\\dva\\lib\\site-packages\\sklearn\\svm\\base.py:193: FutureWarning: The default value of gamma will change from 'auto' to 'scale' in version 0.22 to account better for unscaled features. Set gamma explicitly to 'auto' or 'scale' to avoid this warning.\n",
      "  \"avoid this warning.\", FutureWarning)\n",
      "j:\\shared\\omsa\\sem3\\dva\\lib\\site-packages\\sklearn\\svm\\base.py:193: FutureWarning: The default value of gamma will change from 'auto' to 'scale' in version 0.22 to account better for unscaled features. Set gamma explicitly to 'auto' or 'scale' to avoid this warning.\n",
      "  \"avoid this warning.\", FutureWarning)\n",
      "j:\\shared\\omsa\\sem3\\dva\\lib\\site-packages\\sklearn\\svm\\base.py:193: FutureWarning: The default value of gamma will change from 'auto' to 'scale' in version 0.22 to account better for unscaled features. Set gamma explicitly to 'auto' or 'scale' to avoid this warning.\n",
      "  \"avoid this warning.\", FutureWarning)\n",
      "j:\\shared\\omsa\\sem3\\dva\\lib\\site-packages\\sklearn\\svm\\base.py:193: FutureWarning: The default value of gamma will change from 'auto' to 'scale' in version 0.22 to account better for unscaled features. Set gamma explicitly to 'auto' or 'scale' to avoid this warning.\n",
      "  \"avoid this warning.\", FutureWarning)\n",
      "j:\\shared\\omsa\\sem3\\dva\\lib\\site-packages\\sklearn\\svm\\base.py:193: FutureWarning: The default value of gamma will change from 'auto' to 'scale' in version 0.22 to account better for unscaled features. Set gamma explicitly to 'auto' or 'scale' to avoid this warning.\n",
      "  \"avoid this warning.\", FutureWarning)\n",
      "j:\\shared\\omsa\\sem3\\dva\\lib\\site-packages\\sklearn\\svm\\base.py:193: FutureWarning: The default value of gamma will change from 'auto' to 'scale' in version 0.22 to account better for unscaled features. Set gamma explicitly to 'auto' or 'scale' to avoid this warning.\n",
      "  \"avoid this warning.\", FutureWarning)\n",
      "j:\\shared\\omsa\\sem3\\dva\\lib\\site-packages\\sklearn\\svm\\base.py:193: FutureWarning: The default value of gamma will change from 'auto' to 'scale' in version 0.22 to account better for unscaled features. Set gamma explicitly to 'auto' or 'scale' to avoid this warning.\n",
      "  \"avoid this warning.\", FutureWarning)\n",
      "j:\\shared\\omsa\\sem3\\dva\\lib\\site-packages\\sklearn\\svm\\base.py:193: FutureWarning: The default value of gamma will change from 'auto' to 'scale' in version 0.22 to account better for unscaled features. Set gamma explicitly to 'auto' or 'scale' to avoid this warning.\n",
      "  \"avoid this warning.\", FutureWarning)\n",
      "j:\\shared\\omsa\\sem3\\dva\\lib\\site-packages\\sklearn\\svm\\base.py:193: FutureWarning: The default value of gamma will change from 'auto' to 'scale' in version 0.22 to account better for unscaled features. Set gamma explicitly to 'auto' or 'scale' to avoid this warning.\n",
      "  \"avoid this warning.\", FutureWarning)\n",
      "j:\\shared\\omsa\\sem3\\dva\\lib\\site-packages\\sklearn\\svm\\base.py:193: FutureWarning: The default value of gamma will change from 'auto' to 'scale' in version 0.22 to account better for unscaled features. Set gamma explicitly to 'auto' or 'scale' to avoid this warning.\n",
      "  \"avoid this warning.\", FutureWarning)\n",
      "j:\\shared\\omsa\\sem3\\dva\\lib\\site-packages\\sklearn\\svm\\base.py:193: FutureWarning: The default value of gamma will change from 'auto' to 'scale' in version 0.22 to account better for unscaled features. Set gamma explicitly to 'auto' or 'scale' to avoid this warning.\n",
      "  \"avoid this warning.\", FutureWarning)\n",
      "j:\\shared\\omsa\\sem3\\dva\\lib\\site-packages\\sklearn\\svm\\base.py:193: FutureWarning: The default value of gamma will change from 'auto' to 'scale' in version 0.22 to account better for unscaled features. Set gamma explicitly to 'auto' or 'scale' to avoid this warning.\n",
      "  \"avoid this warning.\", FutureWarning)\n",
      "j:\\shared\\omsa\\sem3\\dva\\lib\\site-packages\\sklearn\\svm\\base.py:193: FutureWarning: The default value of gamma will change from 'auto' to 'scale' in version 0.22 to account better for unscaled features. Set gamma explicitly to 'auto' or 'scale' to avoid this warning.\n",
      "  \"avoid this warning.\", FutureWarning)\n",
      "j:\\shared\\omsa\\sem3\\dva\\lib\\site-packages\\sklearn\\svm\\base.py:193: FutureWarning: The default value of gamma will change from 'auto' to 'scale' in version 0.22 to account better for unscaled features. Set gamma explicitly to 'auto' or 'scale' to avoid this warning.\n",
      "  \"avoid this warning.\", FutureWarning)\n",
      "j:\\shared\\omsa\\sem3\\dva\\lib\\site-packages\\sklearn\\svm\\base.py:193: FutureWarning: The default value of gamma will change from 'auto' to 'scale' in version 0.22 to account better for unscaled features. Set gamma explicitly to 'auto' or 'scale' to avoid this warning.\n",
      "  \"avoid this warning.\", FutureWarning)\n",
      "j:\\shared\\omsa\\sem3\\dva\\lib\\site-packages\\sklearn\\svm\\base.py:193: FutureWarning: The default value of gamma will change from 'auto' to 'scale' in version 0.22 to account better for unscaled features. Set gamma explicitly to 'auto' or 'scale' to avoid this warning.\n",
      "  \"avoid this warning.\", FutureWarning)\n",
      "j:\\shared\\omsa\\sem3\\dva\\lib\\site-packages\\sklearn\\svm\\base.py:193: FutureWarning: The default value of gamma will change from 'auto' to 'scale' in version 0.22 to account better for unscaled features. Set gamma explicitly to 'auto' or 'scale' to avoid this warning.\n",
      "  \"avoid this warning.\", FutureWarning)\n",
      "j:\\shared\\omsa\\sem3\\dva\\lib\\site-packages\\sklearn\\svm\\base.py:193: FutureWarning: The default value of gamma will change from 'auto' to 'scale' in version 0.22 to account better for unscaled features. Set gamma explicitly to 'auto' or 'scale' to avoid this warning.\n",
      "  \"avoid this warning.\", FutureWarning)\n"
     ]
    },
    {
     "name": "stderr",
     "output_type": "stream",
     "text": [
      "j:\\shared\\omsa\\sem3\\dva\\lib\\site-packages\\sklearn\\svm\\base.py:193: FutureWarning: The default value of gamma will change from 'auto' to 'scale' in version 0.22 to account better for unscaled features. Set gamma explicitly to 'auto' or 'scale' to avoid this warning.\n",
      "  \"avoid this warning.\", FutureWarning)\n",
      "j:\\shared\\omsa\\sem3\\dva\\lib\\site-packages\\sklearn\\svm\\base.py:193: FutureWarning: The default value of gamma will change from 'auto' to 'scale' in version 0.22 to account better for unscaled features. Set gamma explicitly to 'auto' or 'scale' to avoid this warning.\n",
      "  \"avoid this warning.\", FutureWarning)\n",
      "j:\\shared\\omsa\\sem3\\dva\\lib\\site-packages\\sklearn\\svm\\base.py:193: FutureWarning: The default value of gamma will change from 'auto' to 'scale' in version 0.22 to account better for unscaled features. Set gamma explicitly to 'auto' or 'scale' to avoid this warning.\n",
      "  \"avoid this warning.\", FutureWarning)\n",
      "j:\\shared\\omsa\\sem3\\dva\\lib\\site-packages\\sklearn\\svm\\base.py:193: FutureWarning: The default value of gamma will change from 'auto' to 'scale' in version 0.22 to account better for unscaled features. Set gamma explicitly to 'auto' or 'scale' to avoid this warning.\n",
      "  \"avoid this warning.\", FutureWarning)\n",
      "j:\\shared\\omsa\\sem3\\dva\\lib\\site-packages\\sklearn\\svm\\base.py:193: FutureWarning: The default value of gamma will change from 'auto' to 'scale' in version 0.22 to account better for unscaled features. Set gamma explicitly to 'auto' or 'scale' to avoid this warning.\n",
      "  \"avoid this warning.\", FutureWarning)\n",
      "j:\\shared\\omsa\\sem3\\dva\\lib\\site-packages\\sklearn\\svm\\base.py:193: FutureWarning: The default value of gamma will change from 'auto' to 'scale' in version 0.22 to account better for unscaled features. Set gamma explicitly to 'auto' or 'scale' to avoid this warning.\n",
      "  \"avoid this warning.\", FutureWarning)\n",
      "j:\\shared\\omsa\\sem3\\dva\\lib\\site-packages\\sklearn\\svm\\base.py:193: FutureWarning: The default value of gamma will change from 'auto' to 'scale' in version 0.22 to account better for unscaled features. Set gamma explicitly to 'auto' or 'scale' to avoid this warning.\n",
      "  \"avoid this warning.\", FutureWarning)\n",
      "j:\\shared\\omsa\\sem3\\dva\\lib\\site-packages\\sklearn\\svm\\base.py:193: FutureWarning: The default value of gamma will change from 'auto' to 'scale' in version 0.22 to account better for unscaled features. Set gamma explicitly to 'auto' or 'scale' to avoid this warning.\n",
      "  \"avoid this warning.\", FutureWarning)\n",
      "j:\\shared\\omsa\\sem3\\dva\\lib\\site-packages\\sklearn\\svm\\base.py:193: FutureWarning: The default value of gamma will change from 'auto' to 'scale' in version 0.22 to account better for unscaled features. Set gamma explicitly to 'auto' or 'scale' to avoid this warning.\n",
      "  \"avoid this warning.\", FutureWarning)\n",
      "j:\\shared\\omsa\\sem3\\dva\\lib\\site-packages\\sklearn\\svm\\base.py:193: FutureWarning: The default value of gamma will change from 'auto' to 'scale' in version 0.22 to account better for unscaled features. Set gamma explicitly to 'auto' or 'scale' to avoid this warning.\n",
      "  \"avoid this warning.\", FutureWarning)\n",
      "j:\\shared\\omsa\\sem3\\dva\\lib\\site-packages\\sklearn\\svm\\base.py:193: FutureWarning: The default value of gamma will change from 'auto' to 'scale' in version 0.22 to account better for unscaled features. Set gamma explicitly to 'auto' or 'scale' to avoid this warning.\n",
      "  \"avoid this warning.\", FutureWarning)\n",
      "j:\\shared\\omsa\\sem3\\dva\\lib\\site-packages\\sklearn\\svm\\base.py:193: FutureWarning: The default value of gamma will change from 'auto' to 'scale' in version 0.22 to account better for unscaled features. Set gamma explicitly to 'auto' or 'scale' to avoid this warning.\n",
      "  \"avoid this warning.\", FutureWarning)\n",
      "j:\\shared\\omsa\\sem3\\dva\\lib\\site-packages\\sklearn\\svm\\base.py:193: FutureWarning: The default value of gamma will change from 'auto' to 'scale' in version 0.22 to account better for unscaled features. Set gamma explicitly to 'auto' or 'scale' to avoid this warning.\n",
      "  \"avoid this warning.\", FutureWarning)\n",
      "j:\\shared\\omsa\\sem3\\dva\\lib\\site-packages\\sklearn\\svm\\base.py:193: FutureWarning: The default value of gamma will change from 'auto' to 'scale' in version 0.22 to account better for unscaled features. Set gamma explicitly to 'auto' or 'scale' to avoid this warning.\n",
      "  \"avoid this warning.\", FutureWarning)\n",
      "j:\\shared\\omsa\\sem3\\dva\\lib\\site-packages\\sklearn\\svm\\base.py:193: FutureWarning: The default value of gamma will change from 'auto' to 'scale' in version 0.22 to account better for unscaled features. Set gamma explicitly to 'auto' or 'scale' to avoid this warning.\n",
      "  \"avoid this warning.\", FutureWarning)\n",
      "j:\\shared\\omsa\\sem3\\dva\\lib\\site-packages\\sklearn\\svm\\base.py:193: FutureWarning: The default value of gamma will change from 'auto' to 'scale' in version 0.22 to account better for unscaled features. Set gamma explicitly to 'auto' or 'scale' to avoid this warning.\n",
      "  \"avoid this warning.\", FutureWarning)\n",
      "j:\\shared\\omsa\\sem3\\dva\\lib\\site-packages\\sklearn\\svm\\base.py:193: FutureWarning: The default value of gamma will change from 'auto' to 'scale' in version 0.22 to account better for unscaled features. Set gamma explicitly to 'auto' or 'scale' to avoid this warning.\n",
      "  \"avoid this warning.\", FutureWarning)\n",
      "j:\\shared\\omsa\\sem3\\dva\\lib\\site-packages\\sklearn\\svm\\base.py:193: FutureWarning: The default value of gamma will change from 'auto' to 'scale' in version 0.22 to account better for unscaled features. Set gamma explicitly to 'auto' or 'scale' to avoid this warning.\n",
      "  \"avoid this warning.\", FutureWarning)\n",
      "j:\\shared\\omsa\\sem3\\dva\\lib\\site-packages\\sklearn\\svm\\base.py:193: FutureWarning: The default value of gamma will change from 'auto' to 'scale' in version 0.22 to account better for unscaled features. Set gamma explicitly to 'auto' or 'scale' to avoid this warning.\n",
      "  \"avoid this warning.\", FutureWarning)\n",
      "j:\\shared\\omsa\\sem3\\dva\\lib\\site-packages\\sklearn\\svm\\base.py:193: FutureWarning: The default value of gamma will change from 'auto' to 'scale' in version 0.22 to account better for unscaled features. Set gamma explicitly to 'auto' or 'scale' to avoid this warning.\n",
      "  \"avoid this warning.\", FutureWarning)\n",
      "j:\\shared\\omsa\\sem3\\dva\\lib\\site-packages\\sklearn\\svm\\base.py:193: FutureWarning: The default value of gamma will change from 'auto' to 'scale' in version 0.22 to account better for unscaled features. Set gamma explicitly to 'auto' or 'scale' to avoid this warning.\n",
      "  \"avoid this warning.\", FutureWarning)\n",
      "j:\\shared\\omsa\\sem3\\dva\\lib\\site-packages\\sklearn\\svm\\base.py:193: FutureWarning: The default value of gamma will change from 'auto' to 'scale' in version 0.22 to account better for unscaled features. Set gamma explicitly to 'auto' or 'scale' to avoid this warning.\n",
      "  \"avoid this warning.\", FutureWarning)\n",
      "j:\\shared\\omsa\\sem3\\dva\\lib\\site-packages\\sklearn\\svm\\base.py:193: FutureWarning: The default value of gamma will change from 'auto' to 'scale' in version 0.22 to account better for unscaled features. Set gamma explicitly to 'auto' or 'scale' to avoid this warning.\n",
      "  \"avoid this warning.\", FutureWarning)\n"
     ]
    },
    {
     "data": {
      "text/plain": [
       "GridSearchCV(cv=10, error_score='raise-deprecating',\n",
       "             estimator=SVC(C=1.0, cache_size=200, class_weight=None, coef0=0.0,\n",
       "                           decision_function_shape='ovr', degree=3,\n",
       "                           gamma='auto_deprecated', kernel='rbf', max_iter=-1,\n",
       "                           probability=False, random_state=None, shrinking=True,\n",
       "                           tol=0.001, verbose=False),\n",
       "             iid='warn', n_jobs=None,\n",
       "             param_grid={'C': [10.0, 1.0, 0.1, 0.01, 0.001],\n",
       "                         'kernel': ('rbf', 'linear')},\n",
       "             pre_dispatch='2*n_jobs', refit=True, return_train_score=False,\n",
       "             scoring=None, verbose=0)"
      ]
     },
     "execution_count": 114,
     "metadata": {},
     "output_type": "execute_result"
    }
   ],
   "source": [
    "from sklearn.preprocessing import StandardScaler, normalize\n",
    "from sklearn.model_selection import cross_val_score, GridSearchCV, cross_validate, train_test_split\n",
    "## hyperparameter tuning\n",
    "scaler = StandardScaler().fit(X_train)\n",
    "standardized = scaler.transform(X_train)\n",
    "sv = SVC()\n",
    "sv.fit(standardized, y_train)\n",
    "params = {'kernel':('rbf', 'linear'), 'C': [ 10/10**i for i in range(5)]}\n",
    "sv_hpt = GridSearchCV(sv, params, cv = 10)\n",
    "sv_hpt.fit(standardized, y_train)"
   ]
  },
  {
   "cell_type": "code",
   "execution_count": 115,
   "metadata": {
    "scrolled": false
   },
   "outputs": [
    {
     "name": "stdout",
     "output_type": "stream",
     "text": [
      "0.8245339367706456\n"
     ]
    }
   ],
   "source": [
    "print(sv_hpt.best_score_)"
   ]
  },
  {
   "cell_type": "code",
   "execution_count": 116,
   "metadata": {
    "collapsed": true
   },
   "outputs": [
    {
     "ename": "NameError",
     "evalue": "name 'accuracy_score' is not defined",
     "output_type": "error",
     "traceback": [
      "\u001b[1;31m---------------------------------------------------------------------------\u001b[0m",
      "\u001b[1;31mNameError\u001b[0m                                 Traceback (most recent call last)",
      "\u001b[1;32m<ipython-input-116-2444425c4545>\u001b[0m in \u001b[0;36m<module>\u001b[1;34m\u001b[0m\n\u001b[0;32m      1\u001b[0m \u001b[0msv_pred\u001b[0m \u001b[1;33m=\u001b[0m \u001b[0msv\u001b[0m\u001b[1;33m.\u001b[0m\u001b[0mpredict\u001b[0m\u001b[1;33m(\u001b[0m\u001b[0mstandardized\u001b[0m\u001b[1;33m)\u001b[0m\u001b[1;33m\u001b[0m\u001b[0m\n\u001b[1;32m----> 2\u001b[1;33m \u001b[0msv_acc\u001b[0m \u001b[1;33m=\u001b[0m \u001b[0maccuracy_score\u001b[0m\u001b[1;33m(\u001b[0m\u001b[0msv_pred\u001b[0m\u001b[1;33m,\u001b[0m \u001b[0my_train\u001b[0m\u001b[1;33m)\u001b[0m\u001b[1;33m\u001b[0m\u001b[0m\n\u001b[0m\u001b[0;32m      3\u001b[0m \u001b[0mprint\u001b[0m\u001b[1;33m(\u001b[0m\u001b[0msv_acc\u001b[0m\u001b[1;33m)\u001b[0m\u001b[1;33m\u001b[0m\u001b[0m\n",
      "\u001b[1;31mNameError\u001b[0m: name 'accuracy_score' is not defined"
     ]
    }
   ],
   "source": [
    "sv_pred = sv.predict(standardized)\n"
   ]
  },
  {
   "cell_type": "code",
   "execution_count": 117,
   "metadata": {},
   "outputs": [
    {
     "name": "stdout",
     "output_type": "stream",
     "text": [
      "0.8001815574471444\n"
     ]
    }
   ],
   "source": [
    "sv_acc = metrics.accuracy_score(sv_pred, y_train)\n",
    "print(sv_acc)"
   ]
  },
  {
   "cell_type": "code",
   "execution_count": 119,
   "metadata": {
    "scrolled": false
   },
   "outputs": [
    {
     "name": "stdout",
     "output_type": "stream",
     "text": [
      "{'parameters': [{'C': 10.0, 'kernel': 'rbf'}, {'C': 10.0, 'kernel': 'linear'}, {'C': 1.0, 'kernel': 'rbf'}, {'C': 1.0, 'kernel': 'linear'}, {'C': 0.1, 'kernel': 'rbf'}, {'C': 0.1, 'kernel': 'linear'}, {'C': 0.01, 'kernel': 'rbf'}, {'C': 0.01, 'kernel': 'linear'}, {'C': 0.001, 'kernel': 'rbf'}, {'C': 0.001, 'kernel': 'linear'}], 'rank test score': array([ 1,  9,  2,  8,  3,  6,  4,  6,  5, 10])} {'parameters': [{'C': 10.0, 'kernel': 'rbf'}, {'C': 10.0, 'kernel': 'linear'}, {'C': 1.0, 'kernel': 'rbf'}, {'C': 1.0, 'kernel': 'linear'}, {'C': 0.1, 'kernel': 'rbf'}, {'C': 0.1, 'kernel': 'linear'}, {'C': 0.01, 'kernel': 'rbf'}, {'C': 0.01, 'kernel': 'linear'}, {'C': 0.001, 'kernel': 'rbf'}, {'C': 0.001, 'kernel': 'linear'}], 'Mean fit time': array([ 358.13064032, 1924.09816699,  161.87691545,  326.04872758,\n",
      "        173.36840429,  129.42761374,  224.15972269,  118.76032405,\n",
      "        233.96764822,  169.41764724])} {'parameters': [{'C': 10.0, 'kernel': 'rbf'}, {'C': 10.0, 'kernel': 'linear'}, {'C': 1.0, 'kernel': 'rbf'}, {'C': 1.0, 'kernel': 'linear'}, {'C': 0.1, 'kernel': 'rbf'}, {'C': 0.1, 'kernel': 'linear'}, {'C': 0.01, 'kernel': 'rbf'}, {'C': 0.01, 'kernel': 'linear'}, {'C': 0.001, 'kernel': 'rbf'}, {'C': 0.001, 'kernel': 'linear'}], 'Mean test score': array([0.82453394, 0.61466405, 0.78574906, 0.61470352, 0.73345262,\n",
      "       0.61472983, 0.6604481 , 0.61472983, 0.62796511, 0.61425621])}\n"
     ]
    }
   ],
   "source": [
    "rank_test_score = {'parameters': sv_hpt.cv_results_['params'], 'rank test score' : sv_hpt.cv_results_['rank_test_score']}\n",
    "mean_test_score = {'parameters': sv_hpt.cv_results_['params'], 'Mean test score' : sv_hpt.cv_results_['mean_test_score']}\n",
    "mean_fit_time = {'parameters': sv_hpt.cv_results_['params'], 'Mean fit time' : sv_hpt.cv_results_['mean_fit_time']}\n",
    "print(rank_test_score, mean_fit_time, mean_test_score)"
   ]
  },
  {
   "cell_type": "code",
   "execution_count": 122,
   "metadata": {},
   "outputs": [
    {
     "name": "stdout",
     "output_type": "stream",
     "text": [
      "parameters: {'C': 10.0, 'kernel': 'rbf'}, rank: 1\n",
      "parameters: {'C': 10.0, 'kernel': 'linear'}, rank: 9\n",
      "parameters: {'C': 1.0, 'kernel': 'rbf'}, rank: 2\n",
      "parameters: {'C': 1.0, 'kernel': 'linear'}, rank: 8\n",
      "parameters: {'C': 0.1, 'kernel': 'rbf'}, rank: 3\n",
      "parameters: {'C': 0.1, 'kernel': 'linear'}, rank: 6\n",
      "parameters: {'C': 0.01, 'kernel': 'rbf'}, rank: 4\n",
      "parameters: {'C': 0.01, 'kernel': 'linear'}, rank: 6\n",
      "parameters: {'C': 0.001, 'kernel': 'rbf'}, rank: 5\n",
      "parameters: {'C': 0.001, 'kernel': 'linear'}, rank: 10\n"
     ]
    }
   ],
   "source": [
    "for i in range(10):\n",
    "    print('parameters: {}, rank: {}'.format(rank_test_score['parameters'][i], rank_test_score['rank test score'][i]))"
   ]
  },
  {
   "cell_type": "code",
   "execution_count": 123,
   "metadata": {},
   "outputs": [
    {
     "data": {
      "text/plain": [
       "{'parameters': [{'C': 10.0, 'kernel': 'rbf'},\n",
       "  {'C': 10.0, 'kernel': 'linear'},\n",
       "  {'C': 1.0, 'kernel': 'rbf'},\n",
       "  {'C': 1.0, 'kernel': 'linear'},\n",
       "  {'C': 0.1, 'kernel': 'rbf'},\n",
       "  {'C': 0.1, 'kernel': 'linear'},\n",
       "  {'C': 0.01, 'kernel': 'rbf'},\n",
       "  {'C': 0.01, 'kernel': 'linear'},\n",
       "  {'C': 0.001, 'kernel': 'rbf'},\n",
       "  {'C': 0.001, 'kernel': 'linear'}],\n",
       " 'Mean fit time': array([ 358.13064032, 1924.09816699,  161.87691545,  326.04872758,\n",
       "         173.36840429,  129.42761374,  224.15972269,  118.76032405,\n",
       "         233.96764822,  169.41764724])}"
      ]
     },
     "execution_count": 123,
     "metadata": {},
     "output_type": "execute_result"
    }
   ],
   "source": [
    "mean_fit_time"
   ]
  },
  {
   "cell_type": "code",
   "execution_count": 124,
   "metadata": {},
   "outputs": [
    {
     "data": {
      "text/plain": [
       "{'parameters': [{'C': 10.0, 'kernel': 'rbf'},\n",
       "  {'C': 10.0, 'kernel': 'linear'},\n",
       "  {'C': 1.0, 'kernel': 'rbf'},\n",
       "  {'C': 1.0, 'kernel': 'linear'},\n",
       "  {'C': 0.1, 'kernel': 'rbf'},\n",
       "  {'C': 0.1, 'kernel': 'linear'},\n",
       "  {'C': 0.01, 'kernel': 'rbf'},\n",
       "  {'C': 0.01, 'kernel': 'linear'},\n",
       "  {'C': 0.001, 'kernel': 'rbf'},\n",
       "  {'C': 0.001, 'kernel': 'linear'}],\n",
       " 'Mean test score': array([0.82453394, 0.61466405, 0.78574906, 0.61470352, 0.73345262,\n",
       "        0.61472983, 0.6604481 , 0.61472983, 0.62796511, 0.61425621])}"
      ]
     },
     "execution_count": 124,
     "metadata": {},
     "output_type": "execute_result"
    }
   ],
   "source": [
    "mean_test_score"
   ]
  },
  {
   "cell_type": "code",
   "execution_count": 145,
   "metadata": {},
   "outputs": [
    {
     "name": "stdout",
     "output_type": "stream",
     "text": [
      "0.9317555275528241\n"
     ]
    }
   ],
   "source": [
    "sv_pred_full = sv.predict(x_test_set)\n",
    "sv_acc = metrics.accuracy_score(sv_pred_full, y_test_set)\n",
    "print(rf_acc)"
   ]
  },
  {
   "cell_type": "code",
   "execution_count": 146,
   "metadata": {},
   "outputs": [
    {
     "data": {
      "text/plain": [
       "array([[232390,    127],\n",
       "       [     0,      0]], dtype=int64)"
      ]
     },
     "execution_count": 146,
     "metadata": {},
     "output_type": "execute_result"
    }
   ],
   "source": [
    "svfull_cm = confusion_matrix(sv_pred_full, y_test_set)\n",
    "svfull_cm"
   ]
  },
  {
   "cell_type": "markdown",
   "metadata": {},
   "source": [
    "## Random forest\n",
    "best performing predictions"
   ]
  },
  {
   "cell_type": "code",
   "execution_count": 54,
   "metadata": {},
   "outputs": [],
   "source": [
    "for col in X_train.columns:\n",
    "    X_train[col] = pd.to_numeric(X_train[col], errors='coerce')\n",
    "    \n",
    "for col in X_train.columns:\n",
    "    X_test[col] = pd.to_numeric(X_test[col], errors='coerce')\n",
    "    \n",
    "X_train = X_train.fillna(0)\n",
    "X_test = X_test.fillna(0)"
   ]
  },
  {
   "cell_type": "code",
   "execution_count": 51,
   "metadata": {},
   "outputs": [
    {
     "name": "stderr",
     "output_type": "stream",
     "text": [
      "j:\\shared\\omsa\\sem3\\dva\\lib\\site-packages\\sklearn\\ensemble\\forest.py:245: FutureWarning: The default value of n_estimators will change from 10 in version 0.20 to 100 in 0.22.\n",
      "  \"10 in version 0.20 to 100 in 0.22.\", FutureWarning)\n"
     ]
    },
    {
     "name": "stdout",
     "output_type": "stream",
     "text": [
      "0.9969566725069353\n"
     ]
    }
   ],
   "source": [
    "from sklearn.ensemble import RandomForestClassifier\n",
    "from sklearn import metrics\n",
    "rf = RandomForestClassifier().fit(X_train, y_train)\n",
    "rf_pred = rf.predict(X_train)\n",
    "rf_acc = metrics.accuracy_score(rf_pred, y_train)\n",
    "print(rf_acc)"
   ]
  },
  {
   "cell_type": "code",
   "execution_count": 55,
   "metadata": {},
   "outputs": [
    {
     "name": "stdout",
     "output_type": "stream",
     "text": [
      "0.9047397430281793\n"
     ]
    }
   ],
   "source": [
    "rf_test_pred = rf.predict(X_test.fillna(0))\n",
    "rf_test_acc = metrics.accuracy_score(rf_test_pred, y_test)\n",
    "\n",
    "print(rf_test_acc)"
   ]
  },
  {
   "cell_type": "code",
   "execution_count": 56,
   "metadata": {},
   "outputs": [
    {
     "name": "stdout",
     "output_type": "stream",
     "text": [
      "Sorted feature importance:\n",
      "[0.07702748086523864, 0.06757277708120554, 0.06368060675290885, 0.05951842413399896, 0.053594104058548475, 0.05349601040462541, 0.050253424831334756, 0.04943016620414238, 0.044699030829923866, 0.04302690160271819, 0.03884998551651431, 0.03794612500986164, 0.03633660005830016, 0.03586864966271167, 0.03179141147593505, 0.02844351767455147, 0.02786466813338062, 0.0241765903519259, 0.02414094411280402, 0.02413132083839168, 0.023780846759852876, 0.023629540890508314, 0.013093473793143818, 0.008293359083272684, 0.008067345883295739, 0.007799361225648974, 0.006951693017135422, 0.006080348481630875, 0.005064475909504966, 0.0048534690900629745, 0.004835968628014733, 0.00444823990173796, 0.00428155874725673, 0.004047968791957651, 0.001998069224394065, 0.000925540973560709, 0.0, 0.0, 0.0, 0.0, 0.0, 0.0, 0.0, 0.0]\n",
      "Fetaure number\n",
      "[5, 13, 3, 0, 1, 6, 41, 36, 2, 25, 12, 42, 43, 4, 9, 28, 10, 8, 7, 30, 29, 11, 18, 15, 21, 32, 35, 34, 23, 16, 22, 24, 33, 17, 14, 27, 20, 31, 26, 37, 38, 39, 40, 19]\n"
     ]
    }
   ],
   "source": [
    "feat_importance = rf.feature_importances_\n",
    "indices = np.argsort(feat_importance)[::-1]\n",
    "print('Sorted feature importance:')\n",
    "print(sorted(feat_importance, reverse = True))\n",
    "\n",
    "print('Fetaure number')\n",
    "print(indices.tolist())"
   ]
  },
  {
   "cell_type": "code",
   "execution_count": 57,
   "metadata": {},
   "outputs": [
    {
     "data": {
      "text/plain": [
       "'OV HT'"
      ]
     },
     "execution_count": 57,
     "metadata": {},
     "output_type": "execute_result"
    }
   ],
   "source": [
    "measures[5]"
   ]
  },
  {
   "cell_type": "code",
   "execution_count": 59,
   "metadata": {},
   "outputs": [
    {
     "data": {
      "text/plain": [
       "array([[99380, 10397],\n",
       "       [10481, 98910]], dtype=int64)"
      ]
     },
     "execution_count": 59,
     "metadata": {},
     "output_type": "execute_result"
    }
   ],
   "source": [
    "rf_cm = metrics.confusion_matrix(rf_test_pred, y_test)\n",
    "rf_cm"
   ]
  },
  {
   "cell_type": "code",
   "execution_count": 63,
   "metadata": {},
   "outputs": [
    {
     "name": "stderr",
     "output_type": "stream",
     "text": [
      "j:\\shared\\omsa\\sem3\\dva\\lib\\site-packages\\ipykernel_launcher.py:7: SettingWithCopyWarning: \n",
      "A value is trying to be set on a copy of a slice from a DataFrame.\n",
      "Try using .loc[row_indexer,col_indexer] = value instead\n",
      "\n",
      "See the caveats in the documentation: http://pandas.pydata.org/pandas-docs/stable/user_guide/indexing.html#returning-a-view-versus-a-copy\n",
      "  import sys\n"
     ]
    }
   ],
   "source": [
    "## now predict on holdout set\n",
    "### Prep data\n",
    "x_test_set = test_set[measures]\n",
    "y_test_set = test_set['Ballast_work']\n",
    "\n",
    "for col in x_test_set.columns:\n",
    "    x_test_set[col] = pd.to_numeric(x_test_set[col], errors='coerce')\n",
    "\n",
    "x_test_set = x_test_set.fillna(0)"
   ]
  },
  {
   "cell_type": "code",
   "execution_count": 64,
   "metadata": {},
   "outputs": [
    {
     "name": "stdout",
     "output_type": "stream",
     "text": [
      "0.6101780809421972\n"
     ]
    }
   ],
   "source": [
    "# prepdata\n",
    "rf_pred_full = rf.predict(x_test_set)\n",
    "rf_acc = metrics.accuracy_score(rf_pred_full, test_set['Ballast_work'])\n",
    "print(rf_acc)"
   ]
  },
  {
   "cell_type": "code",
   "execution_count": 73,
   "metadata": {},
   "outputs": [
    {
     "data": {
      "text/plain": [
       "array([[60140,    91],\n",
       "       [38370,    62]], dtype=int64)"
      ]
     },
     "execution_count": 73,
     "metadata": {},
     "output_type": "execute_result"
    }
   ],
   "source": [
    "rf_cm = metrics.confusion_matrix(rf_pred_full, test_set['Ballast_work'])\n",
    "rf_cm"
   ]
  },
  {
   "cell_type": "code",
   "execution_count": 76,
   "metadata": {},
   "outputs": [
    {
     "data": {
      "text/plain": [
       "0.40522875816993464"
      ]
     },
     "execution_count": 76,
     "metadata": {},
     "output_type": "execute_result"
    }
   ],
   "source": [
    "metrics.precision_score(rf_pred_full, test_set['Ballast_work'])"
   ]
  },
  {
   "cell_type": "code",
   "execution_count": 75,
   "metadata": {},
   "outputs": [
    {
     "data": {
      "text/plain": [
       "0.0016132389675270608"
      ]
     },
     "execution_count": 75,
     "metadata": {},
     "output_type": "execute_result"
    }
   ],
   "source": [
    "metrics.recall_score(rf_pred_full, test_set['Ballast_work'])"
   ]
  },
  {
   "cell_type": "code",
   "execution_count": 71,
   "metadata": {},
   "outputs": [],
   "source": [
    "import pickle\n",
    "with open('rf_gpr.pickle', 'wb') as p:\n",
    "    pickle.dump(rf_pred_full, p)\n",
    "\n",
    "with open('rf_gpr_train_X.pickle','wb') as p:\n",
    "    pickle.dump(X_train, p)\n",
    "    \n",
    "with open('rf_gpr_train_y.pickle','wb') as p:\n",
    "    pickle.dump(y_train, p)\n",
    "    \n",
    "with open('rf_gpr_test_X.pickle','wb') as p:\n",
    "    pickle.dump(X_test, p)\n",
    "    \n",
    "with open('rf_gpr_test_y.pickle','wb') as p:\n",
    "    pickle.dump(y_test, p)\n",
    "    \n",
    "with open('rf_gpr_holdout_x.pickle','wb') as p:\n",
    "    pickle.dump(x_test_set, p)\n",
    "\n",
    "with open('rf_gpr_holdout_y.pickle','wb') as p:\n",
    "    pickle.dump(y_test_set, p)   "
   ]
  },
  {
   "cell_type": "code",
   "execution_count": null,
   "metadata": {},
   "outputs": [],
   "source": [
    "with open('rf_gpr_holdout_x.pickle','wb') as p:\n",
    "    pickle.dump(x_test_set, p)"
   ]
  },
  {
   "cell_type": "code",
   "execution_count": 78,
   "metadata": {},
   "outputs": [
    {
     "data": {
      "text/plain": [
       "GridSearchCV(cv=5, error_score='raise-deprecating',\n",
       "             estimator=RandomForestClassifier(bootstrap=True, class_weight=None,\n",
       "                                              criterion='gini', max_depth=None,\n",
       "                                              max_features='auto',\n",
       "                                              max_leaf_nodes=None,\n",
       "                                              min_impurity_decrease=0.0,\n",
       "                                              min_impurity_split=None,\n",
       "                                              min_samples_leaf=1,\n",
       "                                              min_samples_split=2,\n",
       "                                              min_weight_fraction_leaf=0.0,\n",
       "                                              n_estimators=10, n_jobs=None,\n",
       "                                              oob_score=False,\n",
       "                                              random_state=None, verbose=0,\n",
       "                                              warm_start=False),\n",
       "             iid='warn', n_jobs=None,\n",
       "             param_grid={'max_depth': range(50, 200, 50),\n",
       "                         'n_estimators': range(100, 200, 20)},\n",
       "             pre_dispatch='2*n_jobs', refit=True, return_train_score=False,\n",
       "             scoring=None, verbose=0)"
      ]
     },
     "execution_count": 78,
     "metadata": {},
     "output_type": "execute_result"
    }
   ],
   "source": [
    "## hyperparameter tuning\n",
    "from sklearn.model_selection import GridSearchCV\n",
    "\n",
    "parameters = {'n_estimators': range(100, 200, 20), 'max_depth': range(50, 200, 50)}\n",
    "rf_hpt = GridSearchCV(rf, parameters, cv = 5)\n",
    "rf_hpt.fit(X_train, y_train)"
   ]
  },
  {
   "cell_type": "code",
   "execution_count": 79,
   "metadata": {},
   "outputs": [
    {
     "name": "stdout",
     "output_type": "stream",
     "text": [
      "{'max_depth': 100, 'n_estimators': 160}\n"
     ]
    }
   ],
   "source": [
    "print(rf_hpt.best_params_ )"
   ]
  },
  {
   "cell_type": "code",
   "execution_count": 80,
   "metadata": {
    "scrolled": true
   },
   "outputs": [
    {
     "name": "stdout",
     "output_type": "stream",
     "text": [
      "0.9128933055920573\n"
     ]
    }
   ],
   "source": [
    "print(rf_hpt.best_score_)\n"
   ]
  },
  {
   "cell_type": "code",
   "execution_count": 88,
   "metadata": {},
   "outputs": [
    {
     "name": "stdout",
     "output_type": "stream",
     "text": [
      "0.5500643604998834\n"
     ]
    }
   ],
   "source": [
    "rfcv_pred = rf_hpt.predict(x_test_set)\n",
    "rf_acc = metrics.accuracy_score(rfcv_pred, test_set['Ballast_work'])\n",
    "print(rf_acc)"
   ]
  },
  {
   "cell_type": "code",
   "execution_count": 89,
   "metadata": {},
   "outputs": [
    {
     "data": {
      "text/plain": [
       "array([[54197,    79],\n",
       "       [44313,    74]], dtype=int64)"
      ]
     },
     "execution_count": 89,
     "metadata": {},
     "output_type": "execute_result"
    }
   ],
   "source": [
    "from sklearn import metrics\n",
    "rf_cv = metrics.confusion_matrix(rfcv_pred, test_set['Ballast_work'])\n",
    "rf_cv"
   ]
  },
  {
   "cell_type": "code",
   "execution_count": 90,
   "metadata": {},
   "outputs": [
    {
     "data": {
      "text/plain": [
       "0.5500643604998834"
      ]
     },
     "execution_count": 90,
     "metadata": {},
     "output_type": "execute_result"
    }
   ],
   "source": [
    "metrics.accuracy_score(rfcv_pred, test_set['Ballast_work'])"
   ]
  },
  {
   "cell_type": "code",
   "execution_count": 91,
   "metadata": {},
   "outputs": [
    {
     "data": {
      "text/plain": [
       "0.48366013071895425"
      ]
     },
     "execution_count": 91,
     "metadata": {},
     "output_type": "execute_result"
    }
   ],
   "source": [
    "metrics.precision_score(rfcv_pred, test_set['Ballast_work'])"
   ]
  },
  {
   "cell_type": "code",
   "execution_count": 92,
   "metadata": {},
   "outputs": [
    {
     "data": {
      "text/plain": [
       "0.0016671547975758668"
      ]
     },
     "execution_count": 92,
     "metadata": {},
     "output_type": "execute_result"
    }
   ],
   "source": [
    "metrics.recall_score(rfcv_pred, test_set['Ballast_work'])"
   ]
  },
  {
   "cell_type": "code",
   "execution_count": 170,
   "metadata": {},
   "outputs": [
    {
     "name": "stderr",
     "output_type": "stream",
     "text": [
      "j:\\shared\\omsa\\sem3\\dva\\lib\\site-packages\\ipykernel_launcher.py:1: SettingWithCopyWarning: \n",
      "A value is trying to be set on a copy of a slice from a DataFrame.\n",
      "Try using .loc[row_indexer,col_indexer] = value instead\n",
      "\n",
      "See the caveats in the documentation: http://pandas.pydata.org/pandas-docs/stable/user_guide/indexing.html#returning-a-view-versus-a-copy\n",
      "  \"\"\"Entry point for launching an IPython kernel.\n"
     ]
    }
   ],
   "source": [
    "test_set['ballast_prediction'] = rfcv_pred"
   ]
  },
  {
   "cell_type": "code",
   "execution_count": 172,
   "metadata": {},
   "outputs": [
    {
     "data": {
      "text/plain": [
       "232517"
      ]
     },
     "execution_count": 172,
     "metadata": {},
     "output_type": "execute_result"
    }
   ],
   "source": [
    "len(test_set)"
   ]
  },
  {
   "cell_type": "code",
   "execution_count": 303,
   "metadata": {
    "scrolled": true
   },
   "outputs": [
    {
     "name": "stderr",
     "output_type": "stream",
     "text": [
      "j:\\shared\\omsa\\sem3\\dva\\lib\\site-packages\\ipykernel_launcher.py:1: SettingWithCopyWarning: \n",
      "A value is trying to be set on a copy of a slice from a DataFrame.\n",
      "Try using .loc[row_indexer,col_indexer] = value instead\n",
      "\n",
      "See the caveats in the documentation: http://pandas.pydata.org/pandas-docs/stable/user_guide/indexing.html#returning-a-view-versus-a-copy\n",
      "  \"\"\"Entry point for launching an IPython kernel.\n"
     ]
    }
   ],
   "source": [
    "test_set['ballast_prediction'] = rfcv_pred"
   ]
  },
  {
   "cell_type": "code",
   "execution_count": 311,
   "metadata": {
    "collapsed": true
   },
   "outputs": [
    {
     "name": "stdout",
     "output_type": "stream",
     "text": [
      "Rolling Mean of 5, threshold of 0.1\n",
      "accuracy of 0.3986332182163025, precision of 0.7925899138667895, recall of 0.1529487146953587\n",
      "f1 score 0.25641598332322946\n",
      "**************************************************\n",
      "Rolling Mean of 5, threshold of 0.2\n",
      "accuracy of 0.5694637381352762, precision of 0.5709119600236702, recall of 0.16630754350178603\n",
      "f1 score 0.2575812635810114\n",
      "**************************************************\n",
      "Rolling Mean of 5, threshold of 0.3\n",
      "accuracy of 0.5694637381352762, precision of 0.5709119600236702, recall of 0.16630754350178603\n",
      "f1 score 0.2575812635810114\n",
      "**************************************************\n",
      "Rolling Mean of 5, threshold of 0.4\n",
      "accuracy of 0.7017250351587195, precision of 0.3521270300479979, recall of 0.17745783491832068\n",
      "f1 score 0.23598748567903408\n",
      "**************************************************\n",
      "Rolling Mean of 5, threshold of 0.5\n",
      "accuracy of 0.7017250351587195, precision of 0.3521270300479979, recall of 0.17745783491832068\n",
      "f1 score 0.23598748567903408\n",
      "**************************************************\n",
      "Rolling Mean of 5, threshold of 0.6\n",
      "accuracy of 0.794156986370889, precision of 0.18097836807153658, recall of 0.19347016236732972\n",
      "f1 score 0.187015898899307\n",
      "**************************************************\n",
      "Rolling Mean of 5, threshold of 0.7\n",
      "accuracy of 0.794156986370889, precision of 0.18097836807153658, recall of 0.19347016236732972\n",
      "f1 score 0.187015898899307\n",
      "**************************************************\n",
      "Rolling Mean of 5, threshold of 0.8\n",
      "accuracy of 0.8457790183083388, precision of 0.061279505555920835, recall of 0.20329370705638564\n",
      "f1 score 0.09417232930002273\n",
      "**************************************************\n",
      "Rolling Mean of 5, threshold of 0.1\n",
      "accuracy of 0.3986332182163025, precision of 0.7925899138667895, recall of 0.1529487146953587\n",
      "f1 score 0.25641598332322946\n",
      "**************************************************\n",
      "Rolling Mean of 7, threshold of 0.1\n",
      "accuracy of 0.34369529969851664, precision of 0.8629758695509238, recall of 0.1502713471182249\n",
      "f1 score 0.25597020019307465\n",
      "**************************************************\n",
      "Rolling Mean of 7, threshold of 0.2\n",
      "accuracy of 0.48739662046215976, precision of 0.7023472943651785, recall of 0.1624651138031468\n",
      "f1 score 0.2638882884440794\n",
      "**************************************************\n",
      "Rolling Mean of 7, threshold of 0.3\n",
      "accuracy of 0.6123337218353927, precision of 0.5149582484055494, recall of 0.17203923162253293\n",
      "f1 score 0.25791367202614707\n",
      "**************************************************\n",
      "Rolling Mean of 7, threshold of 0.4\n",
      "accuracy of 0.6123337218353927, precision of 0.5149582484055494, recall of 0.17203923162253293\n",
      "f1 score 0.25791367202614707\n",
      "**************************************************\n",
      "Rolling Mean of 7, threshold of 0.5\n",
      "accuracy of 0.7133972999823669, precision of 0.341245315273851, recall of 0.1821627882489207\n",
      "f1 score 0.23752860411899315\n",
      "**************************************************\n",
      "Rolling Mean of 7, threshold of 0.6\n",
      "accuracy of 0.7864629252914841, precision of 0.19853376290354396, recall of 0.19287151480310433\n",
      "f1 score 0.19566168251551133\n",
      "**************************************************\n",
      "Rolling Mean of 7, threshold of 0.7\n",
      "accuracy of 0.7864629252914841, precision of 0.19853376290354396, recall of 0.19287151480310433\n",
      "f1 score 0.19566168251551133\n",
      "**************************************************\n",
      "Rolling Mean of 7, threshold of 0.8\n",
      "accuracy of 0.8330573678483724, precision of 0.09422052731935038, recall of 0.2028165027245064\n",
      "f1 score 0.1286673101528654\n",
      "**************************************************\n",
      "Rolling Mean of 7, threshold of 0.1\n",
      "accuracy of 0.34369529969851664, precision of 0.8629758695509238, recall of 0.1502713471182249\n",
      "f1 score 0.25597020019307465\n",
      "**************************************************\n",
      "Rolling Mean of 10, threshold of 0.1\n",
      "accuracy of 0.40621545951478816, precision of 0.8182983759616017, recall of 0.15810936993819436\n",
      "f1 score 0.2650135482600201\n",
      "**************************************************\n",
      "Rolling Mean of 10, threshold of 0.2\n",
      "accuracy of 0.5125904772554265, precision of 0.6844631468209613, recall of 0.16715775613594214\n",
      "f1 score 0.26869543333914087\n",
      "**************************************************\n",
      "Rolling Mean of 10, threshold of 0.3\n",
      "accuracy of 0.6076157872327614, precision of 0.537181931750937, recall of 0.17476309653682431\n",
      "f1 score 0.26372704089867327\n",
      "**************************************************\n",
      "Rolling Mean of 10, threshold of 0.4\n",
      "accuracy of 0.6888786626354202, precision of 0.3947005062791768, recall of 0.18208842041404413\n",
      "f1 score 0.24920863906676494\n",
      "**************************************************\n",
      "Rolling Mean of 10, threshold of 0.5\n",
      "accuracy of 0.7550802737004176, precision of 0.2666842001446512, recall of 0.18973663282967676\n",
      "f1 score 0.22172415678128243\n",
      "**************************************************\n",
      "Rolling Mean of 10, threshold of 0.6\n",
      "accuracy of 0.8037519837259212, precision of 0.16677625090406994, recall of 0.20004732047793683\n",
      "f1 score 0.18190293490148268\n",
      "**************************************************\n",
      "Rolling Mean of 10, threshold of 0.7\n",
      "accuracy of 0.8353195680315848, precision of 0.09057137221382076, recall of 0.20585817828588507\n",
      "f1 score 0.12579621469829455\n",
      "**************************************************\n",
      "Rolling Mean of 10, threshold of 0.8\n",
      "accuracy of 0.8548364205627975, precision of 0.03954895127884805, recall of 0.2095453753701446\n",
      "f1 score 0.06653945075914709\n",
      "**************************************************\n",
      "Rolling Mean of 10, threshold of 0.1\n",
      "accuracy of 0.40621545951478816, precision of 0.8182983759616017, recall of 0.15810936993819436\n",
      "f1 score 0.2650135482600201\n",
      "**************************************************\n",
      "Rolling Mean of 15, threshold of 0.1\n",
      "accuracy of 0.32909421676694606, precision of 0.9055822210533236, recall of 0.1524649777772858\n",
      "f1 score 0.26098944047297584\n",
      "**************************************************\n",
      "Rolling Mean of 15, threshold of 0.2\n",
      "accuracy of 0.4856935191835436, precision of 0.7382799658097179, recall of 0.16748830930556902\n",
      "f1 score 0.27303509443826407\n",
      "**************************************************\n",
      "Rolling Mean of 15, threshold of 0.3\n",
      "accuracy of 0.5571420584301363, precision of 0.6368268788217503, recall of 0.17404938182863713\n",
      "f1 score 0.2733815995596765\n",
      "**************************************************\n",
      "Rolling Mean of 15, threshold of 0.4\n",
      "accuracy of 0.6823673107772765, precision of 0.40972450522716813, recall of 0.182306218275968\n",
      "f1 score 0.2523359755418552\n",
      "**************************************************\n",
      "Rolling Mean of 15, threshold of 0.5\n",
      "accuracy of 0.7346344568354142, precision of 0.30692353211914, recall of 0.18688445832332454\n",
      "f1 score 0.23231393236618808\n",
      "**************************************************\n",
      "Rolling Mean of 15, threshold of 0.6\n",
      "accuracy of 0.8106418025348684, precision of 0.153396015517128, recall of 0.20337357799764635\n",
      "f1 score 0.17488427878038268\n",
      "**************************************************\n",
      "Rolling Mean of 15, threshold of 0.7\n",
      "accuracy of 0.8339820314213584, precision of 0.10072983102110593, recall of 0.21408608160983789\n",
      "f1 score 0.13699977643639616\n",
      "**************************************************\n",
      "Rolling Mean of 15, threshold of 0.8\n",
      "accuracy of 0.8590511661512922, precision of 0.028141232165165363, recall of 0.21047455126628964\n",
      "f1 score 0.04964477308974917\n",
      "**************************************************\n",
      "Rolling Mean of 15, threshold of 0.1\n",
      "accuracy of 0.32909421676694606, precision of 0.9055822210533236, recall of 0.1524649777772858\n",
      "f1 score 0.26098944047297584\n",
      "**************************************************\n",
      "Rolling Mean of 20, threshold of 0.1\n",
      "accuracy of 0.34841753506195244, precision of 0.8988099151818002, recall of 0.155547716850813\n",
      "f1 score 0.26520001552011796\n",
      "**************************************************\n",
      "Rolling Mean of 20, threshold of 0.2\n",
      "accuracy of 0.46965168138243657, precision of 0.7705306068775067, recall of 0.1676861768725004\n",
      "f1 score 0.27543172083130124\n",
      "**************************************************\n",
      "Rolling Mean of 20, threshold of 0.3\n",
      "accuracy of 0.5833164886868487, precision of 0.6143073180353738, recall of 0.17994992295839754\n",
      "f1 score 0.2783595763380953\n",
      "**************************************************\n"
     ]
    },
    {
     "name": "stdout",
     "output_type": "stream",
     "text": [
      "Rolling Mean of 20, threshold of 0.4\n",
      "accuracy of 0.6795460116894678, precision of 0.42215135774870144, recall of 0.18403439627373702\n",
      "f1 score 0.25632529218608086\n",
      "**************************************************\n",
      "Rolling Mean of 20, threshold of 0.5\n",
      "accuracy of 0.7592778162456939, precision of 0.2546189756065488, recall of 0.1886999317805282\n",
      "f1 score 0.21675855699532617\n",
      "**************************************************\n",
      "Rolling Mean of 20, threshold of 0.6\n",
      "accuracy of 0.8165123410331288, precision of 0.14494707081333422, recall of 0.2093144701860995\n",
      "f1 score 0.1712831669321316\n",
      "**************************************************\n",
      "Rolling Mean of 20, threshold of 0.7\n",
      "accuracy of 0.8477143606704026, precision of 0.0677230587152344, recall of 0.2261003182965646\n",
      "f1 score 0.10422727617698399\n",
      "**************************************************\n",
      "Rolling Mean of 20, threshold of 0.8\n",
      "accuracy of 0.8616531264380669, precision of 0.021040173581432047, recall of 0.21122112211221122\n",
      "f1 score 0.03826835685242765\n",
      "**************************************************\n",
      "Rolling Mean of 20, threshold of 0.1\n",
      "accuracy of 0.34841753506195244, precision of 0.8988099151818002, recall of 0.155547716850813\n",
      "f1 score 0.26520001552011796\n",
      "**************************************************\n",
      "Rolling Mean of 50, threshold of 0.1\n",
      "accuracy of 0.29875665005139407, precision of 0.9531198632388718, recall of 0.15209556335478996\n",
      "f1 score 0.26232949532879407\n",
      "**************************************************\n",
      "Rolling Mean of 50, threshold of 0.2\n",
      "accuracy of 0.43100934555322834, precision of 0.8517982773357881, recall of 0.16857295285682686\n",
      "f1 score 0.2814468824679557\n",
      "**************************************************\n",
      "Rolling Mean of 50, threshold of 0.3\n",
      "accuracy of 0.5630556045364425, precision of 0.6733184298770465, recall of 0.18263614556674188\n",
      "f1 score 0.2873336653596055\n",
      "**************************************************\n",
      "Rolling Mean of 50, threshold of 0.4\n",
      "accuracy of 0.6774902480248756, precision of 0.4519363534749162, recall of 0.19075834316242282\n",
      "f1 score 0.26827864133563617\n",
      "**************************************************\n",
      "Rolling Mean of 50, threshold of 0.5\n",
      "accuracy of 0.7744595018858836, precision of 0.24643303307252284, recall of 0.2025070239896261\n",
      "f1 score 0.22232108431948275\n",
      "**************************************************\n",
      "Rolling Mean of 50, threshold of 0.6\n",
      "accuracy of 0.8340680466374502, precision of 0.10888289828391085, recall of 0.22396537733297267\n",
      "f1 score 0.14652922178471883\n",
      "**************************************************\n",
      "Rolling Mean of 50, threshold of 0.7\n",
      "accuracy of 0.8585952855060061, precision of 0.041718719179433233, recall of 0.2538507701540308\n",
      "f1 score 0.07166050201880453\n",
      "**************************************************\n",
      "Rolling Mean of 50, threshold of 0.8\n",
      "accuracy of 0.866143120718055, precision of 0.006870931685186403, recall of 0.18594306049822065\n",
      "f1 score 0.013252171707564517\n",
      "**************************************************\n",
      "Rolling Mean of 50, threshold of 0.1\n",
      "accuracy of 0.29875665005139407, precision of 0.9531198632388718, recall of 0.15209556335478996\n",
      "f1 score 0.26232949532879407\n",
      "**************************************************\n"
     ]
    }
   ],
   "source": [
    "r = [5,7,10,15,20,50]\n",
    "t = [0.1,0.2,0.3,0.4,0.5,0.6,0.7,0.8, 0.1]\n",
    "\n",
    "for rolls in r:\n",
    "    for thresh in t:\n",
    "        rfcv_pred_adj = test_set['ballast_prediction'].rolling(rolls).mean().apply(lambda x: smooth_preds(x, thresh))\n",
    "        acc = metrics.accuracy_score(rfcv_pred_adj, test_set['has_wo'])\n",
    "        pres = metrics.precision_score(rfcv_pred_adj, test_set['has_wo'])\n",
    "        recall = metrics.recall_score(rfcv_pred_adj, test_set['has_wo'])\n",
    "        f1 = metrics.f1_score(rfcv_pred_adj, test_set['has_wo'])\n",
    "        print('Rolling Mean of {}, threshold of {}'.format(rolls, thresh))\n",
    "        print('accuracy of {}, precision of {}, recall of {}'.format(acc,pres,recall))\n",
    "        print('f1 score {}'.format(f1))\n",
    "        print('*'*50)"
   ]
  },
  {
   "cell_type": "code",
   "execution_count": 312,
   "metadata": {},
   "outputs": [
    {
     "name": "stdout",
     "output_type": "stream",
     "text": [
      "Rolling Mean of 5, threshold of 0.1\n",
      "accuracy of 0.3223764283901822, precision of 0.7716535433070866, recall of 0.0006217169538406882\n",
      "f1 score 0.0012424328864378308\n",
      "**************************************************\n",
      "Rolling Mean of 5, threshold of 0.2\n",
      "accuracy of 0.5509231583067045, precision of 0.5118110236220472, recall of 0.0006224801524597543\n",
      "f1 score 0.0012434479856142631\n",
      "**************************************************\n",
      "Rolling Mean of 5, threshold of 0.3\n",
      "accuracy of 0.5509231583067045, precision of 0.5118110236220472, recall of 0.0006224801524597543\n",
      "f1 score 0.0012434479856142631\n",
      "**************************************************\n",
      "Rolling Mean of 5, threshold of 0.4\n",
      "accuracy of 0.7402727542502269, precision of 0.3700787401574803, recall of 0.0007786871665727824\n",
      "f1 score 0.0015541043233859638\n",
      "**************************************************\n",
      "Rolling Mean of 5, threshold of 0.5\n",
      "accuracy of 0.7402727542502269, precision of 0.3700787401574803, recall of 0.0007786871665727824\n",
      "f1 score 0.0015541043233859638\n",
      "**************************************************\n",
      "Rolling Mean of 5, threshold of 0.6\n",
      "accuracy of 0.8772691889195199, precision of 0.1732283464566929, recall of 0.0007731777605960498\n",
      "f1 score 0.0015394842727686226\n",
      "**************************************************\n",
      "Rolling Mean of 5, threshold of 0.7\n",
      "accuracy of 0.8772691889195199, precision of 0.1732283464566929, recall of 0.0007731777605960498\n",
      "f1 score 0.0015394842727686226\n",
      "**************************************************\n",
      "Rolling Mean of 5, threshold of 0.8\n",
      "accuracy of 0.9600373306037838, precision of 0.015748031496062992, recall of 0.0002181262951248773\n",
      "f1 score 0.0004302925989672977\n",
      "**************************************************\n",
      "Rolling Mean of 5, threshold of 0.1\n",
      "accuracy of 0.3223764283901822, precision of 0.7716535433070866, recall of 0.0006217169538406882\n",
      "f1 score 0.0012424328864378308\n",
      "**************************************************\n",
      "Rolling Mean of 7, threshold of 0.1\n",
      "accuracy of 0.249134471888077, precision of 0.8740157480314961, recall of 0.0006354331249570653\n",
      "f1 score 0.0012699429669757625\n",
      "**************************************************\n",
      "Rolling Mean of 7, threshold of 0.2\n",
      "accuracy of 0.4345961800642534, precision of 0.6299212598425197, recall of 0.000608369645396543\n",
      "f1 score 0.0012155653138437694\n",
      "**************************************************\n",
      "Rolling Mean of 7, threshold of 0.3\n",
      "accuracy of 0.608441533307242, precision of 0.5196850393700787, recall of 0.0007248844029039309\n",
      "f1 score 0.0014477494077388786\n",
      "**************************************************\n",
      "Rolling Mean of 7, threshold of 0.4\n",
      "accuracy of 0.608441533307242, precision of 0.5196850393700787, recall of 0.0007248844029039309\n",
      "f1 score 0.0014477494077388786\n",
      "**************************************************\n",
      "Rolling Mean of 7, threshold of 0.5\n",
      "accuracy of 0.7547835212049011, precision of 0.36220472440944884, recall of 0.0008072724720087045\n",
      "f1 score 0.0016109544905356424\n",
      "**************************************************\n",
      "Rolling Mean of 7, threshold of 0.6\n",
      "accuracy of 0.8649905168224259, precision of 0.18110236220472442, recall of 0.0007345661269202516\n",
      "f1 score 0.001463197404415039\n",
      "**************************************************\n",
      "Rolling Mean of 7, threshold of 0.7\n",
      "accuracy of 0.8649905168224259, precision of 0.18110236220472442, recall of 0.0007345661269202516\n",
      "f1 score 0.001463197404415039\n",
      "**************************************************\n",
      "Rolling Mean of 7, threshold of 0.8\n",
      "accuracy of 0.938722760056254, precision of 0.03937007874015748, recall of 0.0003538320005661312\n",
      "f1 score 0.0007013606396409033\n",
      "**************************************************\n",
      "Rolling Mean of 7, threshold of 0.1\n",
      "accuracy of 0.249134471888077, precision of 0.8740157480314961, recall of 0.0006354331249570653\n",
      "f1 score 0.0012699429669757625\n",
      "**************************************************\n",
      "Rolling Mean of 10, threshold of 0.1\n",
      "accuracy of 0.32322367826868575, precision of 0.7637795275590551, recall of 0.0006161507727292938\n",
      "f1 score 0.001231308233263094\n",
      "**************************************************\n",
      "Rolling Mean of 10, threshold of 0.2\n",
      "accuracy of 0.46451227222095587, precision of 0.6692913385826772, recall of 0.0006824404068950567\n",
      "f1 score 0.001363490535771575\n",
      "**************************************************\n",
      "Rolling Mean of 10, threshold of 0.3\n",
      "accuracy of 0.5979175716184193, precision of 0.5275590551181102, recall of 0.0007165928682966481\n",
      "f1 score 0.001431241655540721\n",
      "**************************************************\n",
      "Rolling Mean of 10, threshold of 0.4\n",
      "accuracy of 0.7163390203727039, precision of 0.41732283464566927, recall of 0.000803821945855767\n",
      "f1 score 0.001604553298416639\n",
      "**************************************************\n",
      "Rolling Mean of 10, threshold of 0.5\n",
      "accuracy of 0.8158801291948545, precision of 0.2755905511811024, recall of 0.0008186368526921458\n",
      "f1 score 0.001632424616963224\n",
      "**************************************************\n",
      "Rolling Mean of 10, threshold of 0.6\n",
      "accuracy of 0.8905370360016687, precision of 0.13385826771653545, recall of 0.0006703734374383848\n",
      "f1 score 0.001334065761594601\n",
      "**************************************************\n",
      "Rolling Mean of 10, threshold of 0.7\n",
      "accuracy of 0.9418967215300387, precision of 0.0, recall of 0.0\n",
      "f1 score 0.0\n",
      "**************************************************\n",
      "Rolling Mean of 10, threshold of 0.8\n",
      "accuracy of 0.9747631355986874, precision of 0.0, recall of 0.0\n",
      "f1 score 0.0\n",
      "**************************************************\n",
      "Rolling Mean of 10, threshold of 0.1\n",
      "accuracy of 0.32322367826868575, precision of 0.7637795275590551, recall of 0.0006161507727292938\n",
      "f1 score 0.001231308233263094\n",
      "**************************************************\n",
      "Rolling Mean of 15, threshold of 0.1\n",
      "accuracy of 0.22343742608067368, precision of 0.9212598425196851, recall of 0.00064758594351058\n",
      "f1 score 0.0012942621046692993\n",
      "**************************************************\n",
      "Rolling Mean of 15, threshold of 0.2\n",
      "accuracy of 0.42355182631807564, precision of 0.6850393700787402, recall of 0.0006488615090877902\n",
      "f1 score 0.001296494992846924\n",
      "**************************************************\n",
      "Rolling Mean of 15, threshold of 0.3\n",
      "accuracy of 0.5214758490777018, precision of 0.6220472440944882, recall of 0.0007098188614146061\n",
      "f1 score 0.0014180196189296642\n",
      "**************************************************\n",
      "Rolling Mean of 15, threshold of 0.4\n",
      "accuracy of 0.7058881716175591, precision of 0.4094488188976378, recall of 0.0007606453783479368\n",
      "f1 score 0.0015184698496130823\n",
      "**************************************************\n",
      "Rolling Mean of 15, threshold of 0.5\n",
      "accuracy of 0.7849318544450513, precision of 0.2992125984251969, recall of 0.0007606693890623749\n",
      "f1 score 0.001517480981570593\n",
      "**************************************************\n",
      "Rolling Mean of 15, threshold of 0.6\n",
      "accuracy of 0.9008760649758942, precision of 0.08661417322834646, recall of 0.00047944906943294253\n",
      "f1 score 0.0009536194191590812\n",
      "**************************************************\n",
      "Rolling Mean of 15, threshold of 0.7\n",
      "accuracy of 0.9379185177857963, precision of 0.015748031496062992, recall of 0.00013974287311347122\n",
      "f1 score 0.00027702749497887663\n",
      "**************************************************\n",
      "Rolling Mean of 15, threshold of 0.8\n",
      "accuracy of 0.9819626091855649, precision of 0.0, recall of 0.0\n",
      "f1 score 0.0\n",
      "**************************************************\n",
      "Rolling Mean of 15, threshold of 0.1\n",
      "accuracy of 0.22343742608067368, precision of 0.9212598425196851, recall of 0.00064758594351058\n",
      "f1 score 0.0012942621046692993\n",
      "**************************************************\n",
      "Rolling Mean of 20, threshold of 0.1\n",
      "accuracy of 0.2445756654352155, precision of 0.9606299212598425, recall of 0.0006941046618799996\n",
      "f1 score 0.0013872069951618314\n",
      "**************************************************\n",
      "Rolling Mean of 20, threshold of 0.2\n",
      "accuracy of 0.399157911034462, precision of 0.7637795275590551, recall of 0.0006939823857254262\n",
      "f1 score 0.0013867047891350966\n",
      "**************************************************\n",
      "Rolling Mean of 20, threshold of 0.3\n",
      "accuracy of 0.5535079155502608, precision of 0.5905511811023622, recall of 0.0007222650231124807\n",
      "f1 score 0.0014427654928967845\n",
      "**************************************************\n"
     ]
    },
    {
     "name": "stdout",
     "output_type": "stream",
     "text": [
      "Rolling Mean of 20, threshold of 0.4\n",
      "accuracy of 0.6997896927966557, precision of 0.3858267716535433, recall of 0.0007022572554639914\n",
      "f1 score 0.0014019627478469858\n",
      "**************************************************\n",
      "Rolling Mean of 20, threshold of 0.5\n",
      "accuracy of 0.8231054073465596, precision of 0.15748031496062992, recall of 0.00048728194133125426\n",
      "f1 score 0.0009715576498020452\n",
      "**************************************************\n",
      "Rolling Mean of 20, threshold of 0.6\n",
      "accuracy of 0.9089313899628845, precision of 0.06299212598425197, recall of 0.00037979491074819596\n",
      "f1 score 0.0007550375159265725\n",
      "**************************************************\n",
      "Rolling Mean of 20, threshold of 0.7\n",
      "accuracy of 0.9602695716872315, precision of 0.0, recall of 0.0\n",
      "f1 score 0.0\n",
      "**************************************************\n",
      "Rolling Mean of 20, threshold of 0.8\n",
      "accuracy of 0.986422498139921, precision of 0.0, recall of 0.0\n",
      "f1 score 0.0\n",
      "**************************************************\n",
      "Rolling Mean of 20, threshold of 0.1\n",
      "accuracy of 0.2445756654352155, precision of 0.9606299212598425, recall of 0.0006941046618799996\n",
      "f1 score 0.0013872069951618314\n",
      "**************************************************\n",
      "Rolling Mean of 50, threshold of 0.1\n",
      "accuracy of 0.18074807433434975, precision of 1.0, recall of 0.0006662574691659191\n",
      "f1 score 0.001331627731409638\n",
      "**************************************************\n",
      "Rolling Mean of 50, threshold of 0.2\n",
      "accuracy of 0.33929562139542485, precision of 0.8031496062992126, recall of 0.0006636218136393801\n",
      "f1 score 0.0013261478654870021\n",
      "**************************************************\n",
      "Rolling Mean of 50, threshold of 0.3\n",
      "accuracy of 0.5179277214139181, precision of 0.7007874015748031, recall of 0.0007936437163927556\n",
      "f1 score 0.0015854918587665228\n",
      "**************************************************\n",
      "Rolling Mean of 50, threshold of 0.4\n",
      "accuracy of 0.6900785748998998, precision of 0.5118110236220472, recall of 0.0009019635051689447\n",
      "f1 score 0.001800753546099291\n",
      "**************************************************\n",
      "Rolling Mean of 50, threshold of 0.5\n",
      "accuracy of 0.8404460749106517, precision of 0.1732283464566929, recall of 0.0005943375837475686\n",
      "f1 score 0.0011846108284198906\n",
      "**************************************************\n",
      "Rolling Mean of 50, threshold of 0.6\n",
      "accuracy of 0.9358541525995948, precision of 0.0, recall of 0.0\n",
      "f1 score 0.0\n",
      "**************************************************\n",
      "Rolling Mean of 50, threshold of 0.7\n",
      "accuracy of 0.9779543001156905, precision of 0.0, recall of 0.0\n",
      "f1 score 0.0\n",
      "**************************************************\n",
      "Rolling Mean of 50, threshold of 0.8\n",
      "accuracy of 0.9946197482334626, precision of 0.0, recall of 0.0\n",
      "f1 score 0.0\n",
      "**************************************************\n",
      "Rolling Mean of 50, threshold of 0.1\n",
      "accuracy of 0.18074807433434975, precision of 1.0, recall of 0.0006662574691659191\n",
      "f1 score 0.001331627731409638\n",
      "**************************************************\n"
     ]
    }
   ],
   "source": [
    "r = [5,7,10,15,20,50]\n",
    "t = [0.1,0.2,0.3,0.4,0.5,0.6,0.7,0.8, 0.1]\n",
    "\n",
    "for rolls in r:\n",
    "    for thresh in t:\n",
    "        rfcv_pred_adj = test_set['ballast_prediction'].rolling(rolls).mean().apply(lambda x: smooth_preds(x, thresh))\n",
    "        acc = metrics.accuracy_score(rfcv_pred_adj, test_set['Ballast_work'])\n",
    "        pres = metrics.precision_score(rfcv_pred_adj, test_set['Ballast_work'])\n",
    "        recall = metrics.recall_score(rfcv_pred_adj, test_set['Ballast_work'])\n",
    "        f1 = metrics.f1_score(rfcv_pred_adj, test_set['Ballast_work'])\n",
    "        print('Rolling Mean of {}, threshold of {}'.format(rolls, thresh))\n",
    "        print('accuracy of {}, precision of {}, recall of {}'.format(acc,pres,recall))\n",
    "        print('f1 score {}'.format(f1))\n",
    "        print('*'*50)"
   ]
  },
  {
   "cell_type": "code",
   "execution_count": 319,
   "metadata": {},
   "outputs": [
    {
     "name": "stderr",
     "output_type": "stream",
     "text": [
      "j:\\shared\\omsa\\sem3\\dva\\lib\\site-packages\\ipykernel_launcher.py:2: SettingWithCopyWarning: \n",
      "A value is trying to be set on a copy of a slice from a DataFrame.\n",
      "Try using .loc[row_indexer,col_indexer] = value instead\n",
      "\n",
      "See the caveats in the documentation: http://pandas.pydata.org/pandas-docs/stable/user_guide/indexing.html#returning-a-view-versus-a-copy\n",
      "  \n"
     ]
    }
   ],
   "source": [
    "rfcv_pred_adj = test_set['ballast_prediction'].rolling(50).mean().apply(lambda x: smooth_preds(x, 0.4))\n",
    "test_set['ballast_prediction_adj'] = rfcv_pred_adj"
   ]
  },
  {
   "cell_type": "code",
   "execution_count": 320,
   "metadata": {},
   "outputs": [
    {
     "name": "stderr",
     "output_type": "stream",
     "text": [
      "j:\\shared\\omsa\\sem3\\dva\\lib\\site-packages\\ipykernel_launcher.py:4: FutureWarning: Method .as_matrix will be removed in a future version. Use .values instead.\n",
      "  after removing the cwd from sys.path.\n"
     ]
    },
    {
     "data": {
      "image/png": "[encoded data removed]",
      "text/plain": [
       "<Figure size 1440x360 with 2 Axes>"
      ]
     },
     "metadata": {
      "needs_background": "light"
     },
     "output_type": "display_data"
    }
   ],
   "source": [
    "import matplotlib.pyplot as plt\n",
    "import seaborn as sns\n",
    "fig, ax = plt.subplots(figsize = (20,5))\n",
    "ax = sns.heatmap(test_set[['Ballast_work', 'ballast_prediction_adj']].as_matrix().T, cmap = 'Oranges')\n",
    "plt.show()"
   ]
  },
  {
   "cell_type": "code",
   "execution_count": 321,
   "metadata": {},
   "outputs": [
    {
     "name": "stderr",
     "output_type": "stream",
     "text": [
      "j:\\shared\\omsa\\sem3\\dva\\lib\\site-packages\\ipykernel_launcher.py:2: FutureWarning: Method .as_matrix will be removed in a future version. Use .values instead.\n",
      "  \n"
     ]
    },
    {
     "data": {
      "image/png": "[encoded data removed]",
      "text/plain": [
       "<Figure size 1440x360 with 2 Axes>"
      ]
     },
     "metadata": {
      "needs_background": "light"
     },
     "output_type": "display_data"
    }
   ],
   "source": [
    "fig, ax = plt.subplots(figsize = (20,5))\n",
    "ax = sns.heatmap(test_set[['has_wo', 'ballast_prediction_adj']].as_matrix().T, cmap = 'Oranges')\n",
    "plt.show()"
   ]
  },
  {
   "cell_type": "markdown",
   "metadata": {},
   "source": [
    "## train instead on presence of work\n"
   ]
  },
  {
   "cell_type": "code",
   "execution_count": 338,
   "metadata": {},
   "outputs": [],
   "source": [
    "# downsample negative\n",
    "\n",
    "df_none = train_set[train_set['has_wo']==0]\n",
    "df_one = train_set[train_set['has_wo']==1]\n",
    "\n",
    "\n",
    "downsampled_none = resample(df_none, replace = True, n_samples = len(df_one))\n",
    "downsampled_one = resample(df_one, replace = True, n_samples = len(df_one))\n",
    "\n",
    "downsampled_df = pd.concat([downsampled_none,downsampled_one])"
   ]
  },
  {
   "cell_type": "code",
   "execution_count": 339,
   "metadata": {},
   "outputs": [],
   "source": [
    "X_train, X_test, y_train, y_test = train_test_split(downsampled_df[measures], downsampled_df['has_wo'], test_size=0.4, random_state=0)"
   ]
  },
  {
   "cell_type": "code",
   "execution_count": 216,
   "metadata": {},
   "outputs": [
    {
     "name": "stderr",
     "output_type": "stream",
     "text": [
      "j:\\shared\\omsa\\sem3\\dva\\lib\\site-packages\\sklearn\\ensemble\\forest.py:245: FutureWarning: The default value of n_estimators will change from 10 in version 0.20 to 100 in 0.22.\n",
      "  \"10 in version 0.20 to 100 in 0.22.\", FutureWarning)\n"
     ]
    },
    {
     "name": "stdout",
     "output_type": "stream",
     "text": [
      "0.99456925189763\n"
     ]
    }
   ],
   "source": [
    "from sklearn.ensemble import RandomForestClassifier\n",
    "rf = RandomForestClassifier().fit(X_train, y_train)\n",
    "rf_pred = rf.predict(X_train)\n",
    "rf_acc = metrics.accuracy_score(rf_pred, y_train)\n",
    "print(rf_acc)"
   ]
  },
  {
   "cell_type": "code",
   "execution_count": 340,
   "metadata": {},
   "outputs": [
    {
     "name": "stdout",
     "output_type": "stream",
     "text": [
      "0.8242476755191804 0.8020464548016716 0.8020464548016716\n"
     ]
    }
   ],
   "source": [
    "rf_test_pred = rf.predict(X_test)\n",
    "rf_test_acc = metrics.accuracy_score(rf_test_pred, y_test)\n",
    "rf_test_pres = metrics.precision_score(rf_test_pred, y_test)\n",
    "rf_test_recall= metrics.precision_score(rf_test_pred, y_test)\n",
    "print(rf_test_acc, rf_test_pres, rf_test_recall)"
   ]
  },
  {
   "cell_type": "code",
   "execution_count": 5,
   "metadata": {},
   "outputs": [
    {
     "data": {
      "text/plain": [
       "0.4010232274008358"
      ]
     },
     "execution_count": 5,
     "metadata": {},
     "output_type": "execute_result"
    }
   ],
   "source": [
    "0.8020464548016716*0.8020464548016716/ (0.8020464548016716+0.8020464548016716)"
   ]
  },
  {
   "cell_type": "code",
   "execution_count": 341,
   "metadata": {},
   "outputs": [
    {
     "name": "stdout",
     "output_type": "stream",
     "text": [
      "Sorted feature importance:\n",
      "[0.10455416988454644, 0.09132510179775492, 0.08603004773439228, 0.07829631519970967, 0.07493512246493825, 0.07295164464042211, 0.07192459750200844, 0.07102622465246364, 0.06456138407188611, 0.062428592774447, 0.05630769849537885, 0.05596639557448185, 0.055270023441697305, 0.05442268176587315]\n",
      "Fetaures from most to least important\n",
      "['OV HT', 'SUPER', 'VOLT', 'CON F', 'GAUGE', 'GR HT', 'TR ST', 'VER L', 'TW 10', 'AC LN', 'TOP L', 'TOP R', 'TW 3', 'AC VT']\n"
     ]
    }
   ],
   "source": [
    "feat_importance = rf.feature_importances_\n",
    "indices = np.argsort(feat_importance)[::-1]\n",
    "print('Sorted feature importance:')\n",
    "print(sorted(feat_importance, reverse = True))\n",
    "\n",
    "print('Fetaures from most to least important')\n",
    "print([ measures[i] for i in indices.tolist()])"
   ]
  },
  {
   "cell_type": "code",
   "execution_count": 342,
   "metadata": {},
   "outputs": [
    {
     "data": {
      "text/plain": [
       "array([[121331,  28516],\n",
       "       [ 21991, 115538]], dtype=int64)"
      ]
     },
     "execution_count": 342,
     "metadata": {},
     "output_type": "execute_result"
    }
   ],
   "source": [
    "rf_cv = confusion_matrix(rf_test_pred, y_test)\n",
    "rf_cv"
   ]
  },
  {
   "cell_type": "code",
   "execution_count": 343,
   "metadata": {},
   "outputs": [],
   "source": [
    "y_test_set  =test_set['has_wo']\n",
    "x_test_set = test_set[measures]\n"
   ]
  },
  {
   "cell_type": "code",
   "execution_count": 344,
   "metadata": {},
   "outputs": [
    {
     "name": "stdout",
     "output_type": "stream",
     "text": [
      "0.7235169901555585 0.2679663357222697 0.1624643718482789\n"
     ]
    }
   ],
   "source": [
    "## test on hold out\n",
    "\n",
    "rfcv_pred = rf.predict(x_test_set)\n",
    "rf_acc = metrics.accuracy_score(rfcv_pred, y_test_set)\n",
    "rf_pres = metrics.precision_score(rfcv_pred, y_test_set)\n",
    "rf_recall = metrics.recall_score(rfcv_pred, y_test_set)\n",
    "print(rf_acc, rf_pres, rf_recall)"
   ]
  },
  {
   "cell_type": "code",
   "execution_count": 345,
   "metadata": {
    "scrolled": true
   },
   "outputs": [
    {
     "data": {
      "text/plain": [
       "array([[160079,  22267],\n",
       "       [ 42020,   8151]], dtype=int64)"
      ]
     },
     "execution_count": 345,
     "metadata": {},
     "output_type": "execute_result"
    }
   ],
   "source": [
    "rf_cv = confusion_matrix(rfcv_pred, y_test_set)\n",
    "rf_cv"
   ]
  },
  {
   "cell_type": "code",
   "execution_count": 347,
   "metadata": {},
   "outputs": [
    {
     "data": {
      "text/plain": [
       "GridSearchCV(cv=5, error_score='raise-deprecating',\n",
       "             estimator=RandomForestClassifier(bootstrap=True, class_weight=None,\n",
       "                                              criterion='gini', max_depth=None,\n",
       "                                              max_features='auto',\n",
       "                                              max_leaf_nodes=None,\n",
       "                                              min_impurity_decrease=0.0,\n",
       "                                              min_impurity_split=None,\n",
       "                                              min_samples_leaf=1,\n",
       "                                              min_samples_split=2,\n",
       "                                              min_weight_fraction_leaf=0.0,\n",
       "                                              n_estimators=10, n_jobs=None,\n",
       "                                              oob_score=False,\n",
       "                                              random_state=None, verbose=0,\n",
       "                                              warm_start=False),\n",
       "             iid='warn', n_jobs=None,\n",
       "             param_grid={'max_depth': range(20, 100, 10),\n",
       "                         'n_estimators': range(5, 20, 3)},\n",
       "             pre_dispatch='2*n_jobs', refit=True, return_train_score=False,\n",
       "             scoring=None, verbose=0)"
      ]
     },
     "execution_count": 347,
     "metadata": {},
     "output_type": "execute_result"
    }
   ],
   "source": [
    "parameters = {'n_estimators': range(5, 20,3), 'max_depth': range(20, 100,10)}\n",
    "rf_hpt = GridSearchCV(rf, parameters, cv = 5)\n",
    "rf_hpt.fit(X_train, y_train)"
   ]
  },
  {
   "cell_type": "code",
   "execution_count": 351,
   "metadata": {},
   "outputs": [
    {
     "name": "stdout",
     "output_type": "stream",
     "text": [
      "{'max_depth': 90, 'n_estimators': 17}\n"
     ]
    }
   ],
   "source": [
    "print(rf_hpt.best_params_ )"
   ]
  },
  {
   "cell_type": "code",
   "execution_count": 349,
   "metadata": {},
   "outputs": [
    {
     "name": "stdout",
     "output_type": "stream",
     "text": [
      "0.8301597906575358\n"
     ]
    }
   ],
   "source": [
    "rfcv_pred_test = rf_hpt.predict(X_test)\n",
    "rf_acc = metrics.accuracy_score(rfcv_pred_test, y_test)\n",
    "print(rf_acc)"
   ]
  },
  {
   "cell_type": "code",
   "execution_count": 381,
   "metadata": {},
   "outputs": [],
   "source": [
    "import pickle\n",
    "# first pickle model\n",
    "outfile = open('rf_cv_wo.pickle', 'wb')\n",
    "pickle.dump(rf_hpt, outfile)\n",
    "outfile.close()"
   ]
  },
  {
   "cell_type": "code",
   "execution_count": 352,
   "metadata": {},
   "outputs": [
    {
     "name": "stdout",
     "output_type": "stream",
     "text": [
      "0.6902334022888649 0.3445328423959498 0.1674977624344713\n"
     ]
    }
   ],
   "source": [
    "rfcv_pred = rf_hpt.predict(x_test_set)\n",
    "rf_acc = metrics.accuracy_score(rfcv_pred, test_set['has_wo'])\n",
    "rf_pres = metrics.precision_score(rfcv_pred, test_set['has_wo'])\n",
    "rf_rec = metrics.recall_score(rfcv_pred, test_set['has_wo'])\n",
    "print(rf_acc ,rf_pres, rf_rec)"
   ]
  },
  {
   "cell_type": "code",
   "execution_count": 353,
   "metadata": {},
   "outputs": [
    {
     "name": "stderr",
     "output_type": "stream",
     "text": [
      "j:\\shared\\omsa\\sem3\\dva\\lib\\site-packages\\ipykernel_launcher.py:1: SettingWithCopyWarning: \n",
      "A value is trying to be set on a copy of a slice from a DataFrame.\n",
      "Try using .loc[row_indexer,col_indexer] = value instead\n",
      "\n",
      "See the caveats in the documentation: http://pandas.pydata.org/pandas-docs/stable/user_guide/indexing.html#returning-a-view-versus-a-copy\n",
      "  \"\"\"Entry point for launching an IPython kernel.\n"
     ]
    }
   ],
   "source": [
    "test_set['wo_prediction'] = rfcv_pred"
   ]
  },
  {
   "cell_type": "code",
   "execution_count": 354,
   "metadata": {},
   "outputs": [
    {
     "name": "stderr",
     "output_type": "stream",
     "text": [
      "j:\\shared\\omsa\\sem3\\dva\\lib\\site-packages\\ipykernel_launcher.py:2: FutureWarning: Method .as_matrix will be removed in a future version. Use .values instead.\n",
      "  \n"
     ]
    },
    {
     "data": {
      "image/png": "[encoded data removed]",
      "text/plain": [
       "<Figure size 1440x360 with 2 Axes>"
      ]
     },
     "metadata": {
      "needs_background": "light"
     },
     "output_type": "display_data"
    }
   ],
   "source": [
    "fig, ax = plt.subplots(figsize = (20,5))\n",
    "ax = sns.heatmap(test_set[['has_wo', 'wo_prediction']].as_matrix().T, cmap = 'Oranges')\n",
    "plt.show()"
   ]
  },
  {
   "cell_type": "code",
   "execution_count": 356,
   "metadata": {
    "collapsed": true
   },
   "outputs": [
    {
     "name": "stdout",
     "output_type": "stream",
     "text": [
      "Rolling Mean of 5, threshold of 0.1\n",
      "accuracy of 0.4747996920655264, precision of 0.7099743572884476, recall of 0.1600984491296741\n",
      "f1 score 0.2612788095094066\n",
      "**************************************************\n",
      "Rolling Mean of 5, threshold of 0.2\n",
      "accuracy of 0.618058034466297, precision of 0.49125517785521733, recall of 0.16927590738139472\n",
      "f1 score 0.25179031796046975\n",
      "**************************************************\n",
      "Rolling Mean of 5, threshold of 0.3\n",
      "accuracy of 0.618058034466297, precision of 0.49125517785521733, recall of 0.16927590738139472\n",
      "f1 score 0.25179031796046975\n",
      "**************************************************\n",
      "Rolling Mean of 5, threshold of 0.4\n",
      "accuracy of 0.7234051703746393, precision of 0.30649615359326715, recall of 0.17744237833311127\n",
      "f1 score 0.2247616292385395\n",
      "**************************************************\n",
      "Rolling Mean of 5, threshold of 0.5\n",
      "accuracy of 0.7234051703746393, precision of 0.30649615359326715, recall of 0.17744237833311127\n",
      "f1 score 0.2247616292385395\n",
      "**************************************************\n",
      "Rolling Mean of 5, threshold of 0.6\n",
      "accuracy of 0.7984018372850157, precision of 0.17045828128082058, recall of 0.19327543146829687\n",
      "f1 score 0.1811511922438641\n",
      "**************************************************\n",
      "Rolling Mean of 5, threshold of 0.7\n",
      "accuracy of 0.7984018372850157, precision of 0.17045828128082058, recall of 0.19327543146829687\n",
      "f1 score 0.1811511922438641\n",
      "**************************************************\n",
      "Rolling Mean of 5, threshold of 0.8\n",
      "accuracy of 0.8433576899753567, precision of 0.07068183312512329, recall of 0.20865683229813664\n",
      "f1 score 0.10559402779824174\n",
      "**************************************************\n",
      "Rolling Mean of 5, threshold of 0.1\n",
      "accuracy of 0.4747996920655264, precision of 0.7099743572884476, recall of 0.1600984491296741\n",
      "f1 score 0.2612788095094066\n",
      "**************************************************\n",
      "Rolling Mean of 7, threshold of 0.1\n",
      "accuracy of 0.42513450629416344, precision of 0.7816095732789795, recall of 0.157661242191541\n",
      "f1 score 0.26239404909058806\n",
      "**************************************************\n",
      "Rolling Mean of 7, threshold of 0.2\n",
      "accuracy of 0.5545788049906029, precision of 0.6079623906897232, recall of 0.16791058327885525\n",
      "f1 score 0.26314441424648183\n",
      "**************************************************\n",
      "Rolling Mean of 7, threshold of 0.3\n",
      "accuracy of 0.6530275205683885, precision of 0.43714248142547174, recall of 0.17301861996278609\n",
      "f1 score 0.2479141613297163\n",
      "**************************************************\n",
      "Rolling Mean of 7, threshold of 0.4\n",
      "accuracy of 0.6530275205683885, precision of 0.43714248142547174, recall of 0.17301861996278609\n",
      "f1 score 0.2479141613297163\n",
      "**************************************************\n",
      "Rolling Mean of 7, threshold of 0.5\n",
      "accuracy of 0.7315809166641579, precision of 0.2955158130054573, recall of 0.17988073321059794\n",
      "f1 score 0.22363478044532903\n",
      "**************************************************\n",
      "Rolling Mean of 7, threshold of 0.6\n",
      "accuracy of 0.7913055819574483, precision of 0.18587678348346373, recall of 0.19221485636579977\n",
      "f1 score 0.18899269633814111\n",
      "**************************************************\n",
      "Rolling Mean of 7, threshold of 0.7\n",
      "accuracy of 0.7913055819574483, precision of 0.18587678348346373, recall of 0.19221485636579977\n",
      "f1 score 0.18899269633814111\n",
      "**************************************************\n",
      "Rolling Mean of 7, threshold of 0.8\n",
      "accuracy of 0.8311908376591819, precision of 0.10142021171674666, recall of 0.205625541558355\n",
      "f1 score 0.13584025010457718\n",
      "**************************************************\n",
      "Rolling Mean of 7, threshold of 0.1\n",
      "accuracy of 0.42513450629416344, precision of 0.7816095732789795, recall of 0.157661242191541\n",
      "f1 score 0.26239404909058806\n",
      "**************************************************\n",
      "Rolling Mean of 10, threshold of 0.1\n",
      "accuracy of 0.48734071057170014, precision of 0.7188835557893353, recall of 0.16501154560135228\n",
      "f1 score 0.2684121372808956\n",
      "**************************************************\n",
      "Rolling Mean of 10, threshold of 0.2\n",
      "accuracy of 0.5768739490015784, precision of 0.5805772897626406, recall of 0.1709815463857638\n",
      "f1 score 0.26416561957757434\n",
      "**************************************************\n",
      "Rolling Mean of 10, threshold of 0.3\n",
      "accuracy of 0.6516039687420705, precision of 0.4511473469656125, recall of 0.17585473371264546\n",
      "f1 score 0.25306581592195776\n",
      "**************************************************\n",
      "Rolling Mean of 10, threshold of 0.4\n",
      "accuracy of 0.7127263812968514, precision of 0.3349332631994214, recall of 0.179511576276562\n",
      "f1 score 0.23374478043408434\n",
      "**************************************************\n",
      "Rolling Mean of 10, threshold of 0.5\n",
      "accuracy of 0.7648214969228057, precision of 0.2389045959629167, recall of 0.18729864171757005\n",
      "f1 score 0.20997731771096698\n",
      "**************************************************\n",
      "Rolling Mean of 10, threshold of 0.6\n",
      "accuracy of 0.8045218199099421, precision of 0.16276546781510948, recall of 0.19854828360603144\n",
      "f1 score 0.17888499476099287\n",
      "**************************************************\n",
      "Rolling Mean of 10, threshold of 0.7\n",
      "accuracy of 0.8325154719869945, precision of 0.10191334078506148, recall of 0.21052631578947367\n",
      "f1 score 0.1373413375274129\n",
      "**************************************************\n",
      "Rolling Mean of 10, threshold of 0.8\n",
      "accuracy of 0.8508152092105093, precision of 0.05312643829311592, recall of 0.21540922420687816\n",
      "f1 score 0.08523206751054853\n",
      "**************************************************\n",
      "Rolling Mean of 10, threshold of 0.1\n",
      "accuracy of 0.48734071057170014, precision of 0.7188835557893353, recall of 0.16501154560135228\n",
      "f1 score 0.2684121372808956\n",
      "**************************************************\n",
      "Rolling Mean of 15, threshold of 0.1\n",
      "accuracy of 0.4169458577222311, precision of 0.8192188835557893, recall of 0.1607781147170785\n",
      "f1 score 0.26880177770107005\n",
      "**************************************************\n",
      "Rolling Mean of 15, threshold of 0.2\n",
      "accuracy of 0.5569528249547345, precision of 0.6200933657702676, recall of 0.1709722448831602\n",
      "f1 score 0.26804035810714794\n",
      "**************************************************\n",
      "Rolling Mean of 15, threshold of 0.3\n",
      "accuracy of 0.6134519196445851, precision of 0.5228811887698074, recall of 0.1742612659004503\n",
      "f1 score 0.2614040710335363\n",
      "**************************************************\n",
      "Rolling Mean of 15, threshold of 0.4\n",
      "accuracy of 0.7107093244795004, precision of 0.34502597146426456, recall of 0.1814582360772516\n",
      "f1 score 0.2378335505070534\n",
      "**************************************************\n",
      "Rolling Mean of 15, threshold of 0.5\n",
      "accuracy of 0.7503322337721543, precision of 0.2745413899664672, recall of 0.18835709130277878\n",
      "f1 score 0.2234261711747866\n",
      "**************************************************\n",
      "Rolling Mean of 15, threshold of 0.6\n",
      "accuracy of 0.8088139791929192, precision of 0.15490827799329346, recall of 0.20085251491901107\n",
      "f1 score 0.17491369390103567\n",
      "**************************************************\n",
      "Rolling Mean of 15, threshold of 0.7\n",
      "accuracy of 0.8289415397583833, precision of 0.11108554145571702, recall of 0.20969343428074966\n",
      "f1 score 0.14523338777615405\n",
      "**************************************************\n",
      "Rolling Mean of 15, threshold of 0.8\n",
      "accuracy of 0.8548579243668205, precision of 0.04457886777565915, recall of 0.22442899702085403\n",
      "f1 score 0.0743828853538124\n",
      "**************************************************\n",
      "Rolling Mean of 15, threshold of 0.1\n",
      "accuracy of 0.4169458577222311, precision of 0.8192188835557893, recall of 0.1607781147170785\n",
      "f1 score 0.26880177770107005\n",
      "**************************************************\n",
      "Rolling Mean of 20, threshold of 0.1\n",
      "accuracy of 0.43512947440402205, precision of 0.7998882240778487, recall of 0.1626555961119356\n",
      "f1 score 0.27033843692362397\n",
      "**************************************************\n",
      "Rolling Mean of 20, threshold of 0.2\n",
      "accuracy of 0.5445666338375259, precision of 0.648037346308107, recall of 0.17155489025430368\n",
      "f1 score 0.27129094412331406\n",
      "**************************************************\n",
      "Rolling Mean of 20, threshold of 0.3\n",
      "accuracy of 0.634069766941772, precision of 0.49092642514300744, recall of 0.17665290478274756\n",
      "f1 score 0.2598150516306948\n",
      "**************************************************\n"
     ]
    },
    {
     "name": "stdout",
     "output_type": "stream",
     "text": [
      "Rolling Mean of 20, threshold of 0.4\n",
      "accuracy of 0.7099523905778933, precision of 0.3521270300479979, recall of 0.1832663187612285\n",
      "f1 score 0.24106771097082025\n",
      "**************************************************\n",
      "Rolling Mean of 20, threshold of 0.5\n",
      "accuracy of 0.7704038844471587, precision of 0.24248800052600433, recall of 0.19555131366154987\n",
      "f1 score 0.21650498260856801\n",
      "**************************************************\n",
      "Rolling Mean of 20, threshold of 0.6\n",
      "accuracy of 0.811570766868659, precision of 0.14849760010520086, recall of 0.20139105622185563\n",
      "f1 score 0.17094631672564195\n",
      "**************************************************\n",
      "Rolling Mean of 20, threshold of 0.7\n",
      "accuracy of 0.8408288426222599, precision of 0.08370044052863436, recall of 0.21790482711400205\n",
      "f1 score 0.12094437318892215\n",
      "**************************************************\n",
      "Rolling Mean of 20, threshold of 0.8\n",
      "accuracy of 0.8575932082385374, precision of 0.03875994476954435, recall of 0.2333729216152019\n",
      "f1 score 0.06647871440654074\n",
      "**************************************************\n",
      "Rolling Mean of 20, threshold of 0.1\n",
      "accuracy of 0.43512947440402205, precision of 0.7998882240778487, recall of 0.1626555961119356\n",
      "f1 score 0.27033843692362397\n",
      "**************************************************\n",
      "Rolling Mean of 50, threshold of 0.1\n",
      "accuracy of 0.391360631695747, precision of 0.8681372871326188, recall of 0.16110179056218163\n",
      "f1 score 0.2717706205327968\n",
      "**************************************************\n",
      "Rolling Mean of 50, threshold of 0.2\n",
      "accuracy of 0.5092358838278491, precision of 0.7055361956736143, recall of 0.1694980847450934\n",
      "f1 score 0.2733310832754899\n",
      "**************************************************\n",
      "Rolling Mean of 50, threshold of 0.3\n",
      "accuracy of 0.6204363551912333, precision of 0.5288644881320271, recall of 0.1787226005710413\n",
      "f1 score 0.2671615640750982\n",
      "**************************************************\n",
      "Rolling Mean of 50, threshold of 0.4\n",
      "accuracy of 0.7122705006515653, precision of 0.3745808402919324, recall of 0.19223242002969362\n",
      "f1 score 0.25407514773107365\n",
      "**************************************************\n",
      "Rolling Mean of 50, threshold of 0.5\n",
      "accuracy of 0.7816976823200024, precision of 0.23634032480767966, recall of 0.2070624153921484\n",
      "f1 score 0.22073475904631776\n",
      "**************************************************\n",
      "Rolling Mean of 50, threshold of 0.6\n",
      "accuracy of 0.8260772330625288, precision of 0.12972582023801696, recall of 0.22027464552863682\n",
      "f1 score 0.16328726309691302\n",
      "**************************************************\n",
      "Rolling Mean of 50, threshold of 0.7\n",
      "accuracy of 0.8527892584198145, precision of 0.058287855874810966, recall of 0.24099497077613158\n",
      "f1 score 0.09387160820648578\n",
      "**************************************************\n",
      "Rolling Mean of 50, threshold of 0.8\n",
      "accuracy of 0.8627068128351906, precision of 0.019001906765730818, recall of 0.21721157459601653\n",
      "f1 score 0.03494664288521418\n",
      "**************************************************\n",
      "Rolling Mean of 50, threshold of 0.1\n",
      "accuracy of 0.391360631695747, precision of 0.8681372871326188, recall of 0.16110179056218163\n",
      "f1 score 0.2717706205327968\n",
      "**************************************************\n"
     ]
    }
   ],
   "source": [
    "r = [5,7,10,15,20,50]\n",
    "t = [0.1,0.2,0.3,0.4,0.5,0.6,0.7,0.8, 0.1]\n",
    "\n",
    "for rolls in r:\n",
    "    for thresh in t:\n",
    "        rfcv_pred_adj = test_set['wo_prediction'].rolling(rolls).mean().apply(lambda x: smooth_preds(x, thresh))\n",
    "        acc = metrics.accuracy_score(rfcv_pred_adj, test_set['has_wo'])\n",
    "        pres = metrics.precision_score(rfcv_pred_adj, test_set['has_wo'])\n",
    "        recall = metrics.recall_score(rfcv_pred_adj, test_set['has_wo'])\n",
    "        f1 = metrics.f1_score(rfcv_pred_adj, test_set['has_wo'])\n",
    "        print('Rolling Mean of {}, threshold of {}'.format(rolls, thresh))\n",
    "        print('accuracy of {}, precision of {}, recall of {}'.format(acc,pres,recall))\n",
    "        print('f1 score {}'.format(f1))\n",
    "        print('*'*50)"
   ]
  },
  {
   "cell_type": "code",
   "execution_count": 377,
   "metadata": {},
   "outputs": [
    {
     "name": "stderr",
     "output_type": "stream",
     "text": [
      "j:\\shared\\omsa\\sem3\\dva\\lib\\site-packages\\ipykernel_launcher.py:8: SettingWithCopyWarning: \n",
      "A value is trying to be set on a copy of a slice from a DataFrame.\n",
      "Try using .loc[row_indexer,col_indexer] = value instead\n",
      "\n",
      "See the caveats in the documentation: http://pandas.pydata.org/pandas-docs/stable/user_guide/indexing.html#returning-a-view-versus-a-copy\n",
      "  \n"
     ]
    }
   ],
   "source": [
    "def smooth_preds(x,thresh):\n",
    "    if x > thresh:\n",
    "        ans = 1\n",
    "    else:\n",
    "        ans =0\n",
    "    return ans\n",
    "\n",
    "test_set['wo_prediction_0.7'] = test_set['wo_prediction'].rolling(10).mean().apply(lambda x: smooth_preds(x, 0.5))"
   ]
  },
  {
   "cell_type": "code",
   "execution_count": 378,
   "metadata": {},
   "outputs": [
    {
     "name": "stderr",
     "output_type": "stream",
     "text": [
      "j:\\shared\\omsa\\sem3\\dva\\lib\\site-packages\\ipykernel_launcher.py:2: FutureWarning: Method .as_matrix will be removed in a future version. Use .values instead.\n",
      "  \n"
     ]
    },
    {
     "data": {
      "image/png": "[encoded data removed]",
      "text/plain": [
       "<Figure size 1440x360 with 2 Axes>"
      ]
     },
     "metadata": {
      "needs_background": "light"
     },
     "output_type": "display_data"
    }
   ],
   "source": [
    "fig, ax = plt.subplots(figsize = (20,5))\n",
    "ax = sns.heatmap(test_set[['has_wo', 'wo_prediction_0.7']].as_matrix().T, cmap = 'Oranges')\n",
    "plt.show()"
   ]
  },
  {
   "cell_type": "code",
   "execution_count": 262,
   "metadata": {},
   "outputs": [
    {
     "name": "stdout",
     "output_type": "stream",
     "text": [
      "0.8028531247177626 0.13801038858570583 0.17625325384163237\n"
     ]
    }
   ],
   "source": [
    "rf_acc = metrics.accuracy_score(test_set['wo_prediction_0.7'], y_test_set)\n",
    "rf_pres = metrics.precision_score(test_set['wo_prediction_0.7'], y_test_set)\n",
    "rf_recall = metrics.recall_score(test_set['wo_prediction_0.7'], y_test_set)\n",
    "print(rf_acc, rf_pres, rf_recall)"
   ]
  },
  {
   "cell_type": "code",
   "execution_count": 263,
   "metadata": {
    "scrolled": true
   },
   "outputs": [
    {
     "data": {
      "text/plain": [
       "array([[182479,  26220],\n",
       "       [ 19620,   4198]], dtype=int64)"
      ]
     },
     "execution_count": 263,
     "metadata": {},
     "output_type": "execute_result"
    }
   ],
   "source": [
    "rf_cv = confusion_matrix(test_set['wo_prediction_0.7'], y_test_set)\n",
    "rf_cv"
   ]
  },
  {
   "cell_type": "code",
   "execution_count": null,
   "metadata": {},
   "outputs": [],
   "source": []
  },
  {
   "cell_type": "code",
   "execution_count": null,
   "metadata": {},
   "outputs": [],
   "source": []
  },
  {
   "cell_type": "code",
   "execution_count": null,
   "metadata": {},
   "outputs": [],
   "source": []
  },
  {
   "cell_type": "code",
   "execution_count": null,
   "metadata": {},
   "outputs": [],
   "source": []
  },
  {
   "cell_type": "code",
   "execution_count": null,
   "metadata": {},
   "outputs": [],
   "source": []
  },
  {
   "cell_type": "code",
   "execution_count": 10,
   "metadata": {},
   "outputs": [],
   "source": [
    "## train test split\n",
    "from sklearn.model_selection import train_test_split\n",
    "\n",
    "X_train, X_test, y_train, y_test = train_test_split(downsampled_df[measures], downsampled_df['num_wo'], test_size =0.33, random_state = 10 )"
   ]
  },
  {
   "cell_type": "code",
   "execution_count": 11,
   "metadata": {},
   "outputs": [
    {
     "data": {
      "text/plain": [
       "87396"
      ]
     },
     "execution_count": 11,
     "metadata": {},
     "output_type": "execute_result"
    }
   ],
   "source": [
    "len(X_train)"
   ]
  },
  {
   "cell_type": "code",
   "execution_count": 13,
   "metadata": {},
   "outputs": [
    {
     "data": {
      "text/plain": [
       "1    14408\n",
       "2    14328\n",
       "0    14311\n",
       "Name: num_wo, dtype: int64"
      ]
     },
     "execution_count": 13,
     "metadata": {},
     "output_type": "execute_result"
    }
   ],
   "source": [
    "y_test.value_counts()"
   ]
  },
  {
   "cell_type": "code",
   "execution_count": 14,
   "metadata": {},
   "outputs": [
    {
     "data": {
      "text/plain": [
       "SVC(C=1.0, cache_size=200, class_weight=None, coef0=0.0,\n",
       "    decision_function_shape='ovr', degree=3, gamma='auto', kernel='rbf',\n",
       "    max_iter=-1, probability=False, random_state=None, shrinking=True,\n",
       "    tol=0.001, verbose=False)"
      ]
     },
     "execution_count": 14,
     "metadata": {},
     "output_type": "execute_result"
    }
   ],
   "source": [
    "## SVR\n",
    "from sklearn.svm import SVC\n",
    "\n",
    "clr = SVC(gamma = 'auto')\n",
    "clr.fit(X_train, y_train)"
   ]
  },
  {
   "cell_type": "code",
   "execution_count": 63,
   "metadata": {},
   "outputs": [
    {
     "data": {
      "text/plain": [
       "0.9999176925699907"
      ]
     },
     "execution_count": 63,
     "metadata": {},
     "output_type": "execute_result"
    }
   ],
   "source": [
    "clr.score(X_train, y_train)"
   ]
  },
  {
   "cell_type": "code",
   "execution_count": 16,
   "metadata": {},
   "outputs": [],
   "source": [
    "predicted = clr.predict(X_test)\n"
   ]
  },
  {
   "cell_type": "code",
   "execution_count": 18,
   "metadata": {},
   "outputs": [],
   "source": [
    "from sklearn.metrics import confusion_matrix\n",
    "from sklearn.utils.multiclass import unique_labels\n",
    "\n",
    "cm = confusion_matrix(y_test, predicted)"
   ]
  },
  {
   "cell_type": "code",
   "execution_count": 19,
   "metadata": {},
   "outputs": [
    {
     "data": {
      "text/plain": [
       "array([0, 1, 2], dtype=int64)"
      ]
     },
     "execution_count": 19,
     "metadata": {},
     "output_type": "execute_result"
    }
   ],
   "source": [
    "unique_labels(y_test, predicted)"
   ]
  },
  {
   "cell_type": "code",
   "execution_count": 20,
   "metadata": {},
   "outputs": [
    {
     "data": {
      "text/plain": [
       "array([[ 2771,  1102, 10438],\n",
       "       [ 1405,  2854, 10149],\n",
       "       [  669,   609, 13050]], dtype=int64)"
      ]
     },
     "execution_count": 20,
     "metadata": {},
     "output_type": "execute_result"
    }
   ],
   "source": [
    "cm"
   ]
  },
  {
   "cell_type": "code",
   "execution_count": 21,
   "metadata": {},
   "outputs": [
    {
     "data": {
      "text/plain": [
       "1    14408\n",
       "2    14328\n",
       "0    14311\n",
       "Name: num_wo, dtype: int64"
      ]
     },
     "execution_count": 21,
     "metadata": {},
     "output_type": "execute_result"
    }
   ],
   "source": [
    "y_test.value_counts()"
   ]
  },
  {
   "cell_type": "code",
   "execution_count": 24,
   "metadata": {},
   "outputs": [
    {
     "data": {
      "text/plain": [
       "0.37799289003070446"
      ]
     },
     "execution_count": 24,
     "metadata": {},
     "output_type": "execute_result"
    }
   ],
   "source": [
    "from sklearn.metrics import f1_score\n",
    "\n",
    "f1_score(y_test, predicted, average='weighted')"
   ]
  },
  {
   "cell_type": "code",
   "execution_count": 30,
   "metadata": {},
   "outputs": [],
   "source": [
    "def first_item(x):\n",
    "    try:\n",
    "        ans = x[0]\n",
    "    except:\n",
    "        ans = 'No work'\n",
    "    return ans"
   ]
  },
  {
   "cell_type": "code",
   "execution_count": 31,
   "metadata": {},
   "outputs": [],
   "source": [
    "wo_type = df['Work_order_type'].apply(lambda x: first_item(literal_eval(x)))"
   ]
  },
  {
   "cell_type": "code",
   "execution_count": 25,
   "metadata": {},
   "outputs": [],
   "source": [
    "measures = ['AC LN', 'AC VT', 'CON F', 'GAUGE', 'GR HT', 'OV HT', 'SUPER', 'TOP L', 'TOP R', 'TR ST',\n",
    "       'TW 10', 'TW 3', 'Track_code', 'VER L', 'VOLT']"
   ]
  },
  {
   "cell_type": "code",
   "execution_count": 28,
   "metadata": {},
   "outputs": [],
   "source": [
    "df['wo_type'] = wo_type"
   ]
  },
  {
   "cell_type": "code",
   "execution_count": 35,
   "metadata": {},
   "outputs": [],
   "source": [
    "var = wo_type.value_counts().to_dict()"
   ]
  },
  {
   "cell_type": "code",
   "execution_count": 38,
   "metadata": {},
   "outputs": [
    {
     "data": {
      "text/plain": [
       "{'No work': 2610587,\n",
       " 'Mechanised Resurfacing': 281188,\n",
       " 'Maintenance Ballasting': 43099,\n",
       " 'Formation repairs': 20171,\n",
       " 'Ballast Undercutting': 14405,\n",
       " 'Top & Line Spot Resurfacing': 12429,\n",
       " 'Mechanised Resleepering': 6031}"
      ]
     },
     "execution_count": 38,
     "metadata": {},
     "output_type": "execute_result"
    }
   ],
   "source": [
    "var"
   ]
  },
  {
   "cell_type": "code",
   "execution_count": 45,
   "metadata": {},
   "outputs": [
    {
     "data": {
      "text/html": [
       "<div>\n",
       "<style scoped>\n",
       "    .dataframe tbody tr th:only-of-type {\n",
       "        vertical-align: middle;\n",
       "    }\n",
       "\n",
       "    .dataframe tbody tr th {\n",
       "        vertical-align: top;\n",
       "    }\n",
       "\n",
       "    .dataframe thead th {\n",
       "        text-align: right;\n",
       "    }\n",
       "</style>\n",
       "<table border=\"1\" class=\"dataframe\">\n",
       "  <thead>\n",
       "    <tr style=\"text-align: right;\">\n",
       "      <th></th>\n",
       "      <th>METRAGE</th>\n",
       "      <th>Date</th>\n",
       "      <th>AC LN</th>\n",
       "      <th>AC VT</th>\n",
       "      <th>CON F</th>\n",
       "      <th>GAUGE</th>\n",
       "      <th>GR HT</th>\n",
       "      <th>OV HT</th>\n",
       "      <th>SUPER</th>\n",
       "      <th>TOP L</th>\n",
       "      <th>...</th>\n",
       "      <th>VER L</th>\n",
       "      <th>VER R</th>\n",
       "      <th>VOLT</th>\n",
       "      <th>Track_code</th>\n",
       "      <th>Work_orders</th>\n",
       "      <th>Work_order_type</th>\n",
       "      <th>Latitude</th>\n",
       "      <th>Longitude</th>\n",
       "      <th>num_wo</th>\n",
       "      <th>wo_type</th>\n",
       "    </tr>\n",
       "  </thead>\n",
       "  <tbody>\n",
       "  </tbody>\n",
       "</table>\n",
       "<p>0 rows × 24 columns</p>\n",
       "</div>"
      ],
      "text/plain": [
       "Empty DataFrame\n",
       "Columns: [METRAGE, Date, AC LN, AC VT, CON F, GAUGE, GR HT, OV HT, SUPER, TOP L, TOP R, TR ST, TW 10, TW 3, VER L, VER R, VOLT, Track_code, Work_orders, Work_order_type, Latitude, Longitude, num_wo, wo_type]\n",
       "Index: []\n",
       "\n",
       "[0 rows x 24 columns]"
      ]
     },
     "execution_count": 45,
     "metadata": {},
     "output_type": "execute_result"
    }
   ],
   "source": [
    "downsampled_wo.head()"
   ]
  },
  {
   "cell_type": "code",
   "execution_count": 36,
   "metadata": {},
   "outputs": [],
   "source": [
    "import pickle"
   ]
  },
  {
   "cell_type": "code",
   "execution_count": 37,
   "metadata": {},
   "outputs": [],
   "source": [
    "filename = 'SVM_all.sav'\n",
    "pickle.dump(clr, open(filename, 'wb'))"
   ]
  },
  {
   "cell_type": "code",
   "execution_count": null,
   "metadata": {},
   "outputs": [],
   "source": []
  }
 ],
 "metadata": {
  "kernelspec": {
   "display_name": "Python 3",
   "language": "python",
   "name": "python3"
  },
  "language_info": {
   "codemirror_mode": {
    "name": "ipython",
    "version": 3
   },
   "file_extension": ".py",
   "mimetype": "text/x-python",
   "name": "python",
   "nbconvert_exporter": "python",
   "pygments_lexer": "ipython3",
   "version": "3.6.0"
  }
 },
 "nbformat": 4,
 "nbformat_minor": 2
}
