{
 "cells": [
  {
   "cell_type": "markdown",
   "metadata": {},
   "source": [
    "# ML Models Using GPR and TRC SF 401"
   ]
  },
  {
   "cell_type": "code",
   "execution_count": 9,
   "metadata": {},
   "outputs": [],
   "source": [
    "import pandas as pd\n",
    "import numpy as np\n",
    "import matplotlib.pyplot as plt\n",
    "\n",
    "from sklearn.model_selection import train_test_split\n",
    "from sklearn import preprocessing\n",
    "from sklearn.model_selection import cross_val_score\n",
    "from sklearn.model_selection import GridSearchCV\n",
    "from sklearn.model_selection import KFold\n",
    "import scipy.stats\n",
    "\n",
    "# Linear Regression\n",
    "from sklearn.linear_model import LinearRegression\n",
    "from sklearn import linear_model\n",
    "from sklearn import metrics\n",
    "import statsmodels.api as sms\n",
    "\n",
    "# Random Forest Regression\n",
    "from sklearn.ensemble import RandomForestRegressor\n",
    "\n",
    "# Support Vector Regression\n",
    "from sklearn.svm import SVR\n",
    "\n",
    "# KNN\n",
    "from sklearn import neighbors\n",
    "from sklearn.metrics import mean_squared_error \n",
    "\n",
    "# ANN Keras\n",
    "from keras.models import Sequential\n",
    "from keras.layers import Dense\n",
    "from keras.wrappers.scikit_learn import KerasRegressor\n",
    "# ANN MLP\n",
    "from sklearn.neural_network import MLPRegressor\n",
    "\n",
    "from utils import paths\n",
    "\n",
    "%matplotlib inline\n",
    "\n",
    "#####ADDED TO SUPPRESS WARNINGS\n",
    "import warnings\n",
    "warnings.filterwarnings(\"ignore\")\n",
    "#####ADDED TO SUPPRESS WARNINGS\n"
   ]
  },
  {
   "cell_type": "code",
   "execution_count": 10,
   "metadata": {},
   "outputs": [],
   "source": [
    "# Global variables\n",
    "FeatureFile = '.\\Data\\SF401OUT_V2.xlsx'\n",
    "random_state = 1234 "
   ]
  },
  {
   "cell_type": "code",
   "execution_count": 11,
   "metadata": {},
   "outputs": [],
   "source": [
    "# Read feature file\n",
    "featureDF_all = pd.read_pickle(paths.TRC_ML+\"/C138.csv\")\n",
    "\n",
    "# Drop rows with Nan\n",
    "featureDF = featureDF_all.dropna()\n",
    "\n",
    "#featureDF"
   ]
  },
  {
   "cell_type": "markdown",
   "metadata": {},
   "source": [
    "## Initial Model Params"
   ]
  },
  {
   "cell_type": "code",
   "execution_count": 4,
   "metadata": {},
   "outputs": [],
   "source": [
    "## The following columns are not included as features\n",
    "# METRAGE = not a predictor of defect\n",
    "# Start Km = not a predictor of defect\n",
    "# End Km = not a predictor of defect\n",
    "# SDTopLeft4 = the 4th (most recent) TRC data used as a predictor, so assume not available to train\n",
    "# SDTopRight4 = the 4th (most recent) TRC data used as a predictor, so assume not available to train\n",
    "# SDTwist104 = the 4th (most recent) TRC data used as a predictor, so assume not available to train\n",
    "# SDTwist34 = the 4th (most recent) TRC data used as a predictor, so assume not available to train\n",
    "# SDVersL4 = the 4th (most recent) TRC data used as a predictor, so assume not available to train\n",
    "# SDVersR4 = the 4th (most recent) TRC data used as a predictor, so assume not available to train\n",
    "# Combined1 = derived from other predictors (eg SDTwist3)\n",
    "# Combined2 = derived from other predictors (eg SDTwist3)\n",
    "# Combined3 = derived from other predictors (eg SDTwist3)\n",
    "# Combined4 = response\n",
    "\n",
    "## The following are predictors\n",
    "# PVCLeft\n",
    "# PVCCentre\n",
    "# PVCRight\n",
    "# LRILeft\n",
    "# LRICentre\n",
    "# LRIRight\n",
    "# BTILeft\n",
    "# BTICentre\n",
    "# BTIRight\n",
    "# MLILeft\n",
    "# MLICentre\n",
    "# MLIRight\n",
    "# SMLILeft\n",
    "# SMLICentre\n",
    "# SMLIRight\n",
    "# FDLLeft\n",
    "# FDLCentre\n",
    "# FDLRight\n",
    "# CTQILeft\n",
    "# CTQICentre\n",
    "# CTQIRight\n",
    "# BVMLeftVolume\n",
    "# BVMLeftCategory\n",
    "# BVMCentreVolume\n",
    "# BVMCentreCategory\n",
    "# BVMRightVolume\n",
    "# BVMRightCategory\n",
    "# SMI\n",
    "# SDTopLeft1\n",
    "# SDTopLeft2\n",
    "# SDTopLeft3\n",
    "# SDTopRight1\n",
    "# SDTopRight2\n",
    "# SDTopRight3\n",
    "# SDTwist101\n",
    "# SDTwist102\n",
    "# SDTwist103\n",
    "# SDTwist31\n",
    "# SDTwist32\n",
    "# SDTwist33\n",
    "# SDVersL1\n",
    "# SDVersL2\n",
    "# SDVersL3\n",
    "# SDVersR1\n",
    "# SDVersR2\n",
    "# SDVersR3\n",
    "\n",
    "## Response variable\n",
    "# Combined4 = response\n"
   ]
  },
  {
   "cell_type": "code",
   "execution_count": 15,
   "metadata": {},
   "outputs": [],
   "source": [
    "# Create train and test datsets\n",
    "dates = featureDF.columns.values\n",
    "sorted_dates = sorted(dates, key=lambda d:tuple(map(int, d.split('-'))))\n",
    "test_proportion = 0.25\n",
    "nSamples = featureDF.shape[0] # number of observations\n",
    "non_features = ['METRAGE', 'Start Km', 'End Km', 'SDTopLeft4', 'SDTopRight4', 'Combined1','SDTwist104', \n",
    "                'SDTwist34','SDVersL4', 'SDVersR4', 'Combined1', 'Combined2', 'Combined3', 'Combined4']\n",
    "\n",
    "indices = range(nSamples)\n",
    "response_variable = sorted_dates[-1]\n",
    "X_train, X_test, y_train, y_test, indices_train, indices_test = train_test_split(featureDF, featureDF[response_variable],\n",
    "                            indices, test_size=test_proportion, random_state = random_state)\n",
    "\n",
    "# print(X_test)\n",
    "\n",
    "\n",
    "X_train = X_train.drop(response_variable, axis=1)\n",
    "X_test = X_test.drop(response_variable, axis=1)\n",
    "nFeatures = X_train.shape[1] # number of features\n",
    "\n",
    "# For use in cross validation - do not split training and test\n",
    "X = featureDF.drop(response_variable, axis=1)\n",
    "y = featureDF[response_variable]\n",
    "\n",
    "# Get mean of y_test for model assessment\n",
    "y_test_mean = np.mean(y_test)\n",
    "\n",
    "# Normalise features\n",
    "scaler = preprocessing.StandardScaler()\n",
    "X_train_scaled = scaler.fit_transform(X_train)\n",
    "X_train_scaled = pd.DataFrame(X_train_scaled, columns=X_train.columns)\n",
    "X_test_scaled = scaler.fit_transform(X_test)\n",
    "X_test_scaled = pd.DataFrame(X_test_scaled, columns=X_train.columns)\n",
    "X_scaled = scaler.fit_transform(X)\n",
    "X_scaled = pd.DataFrame(X_scaled, columns=X_train.columns)\n"
   ]
  },
  {
   "cell_type": "markdown",
   "metadata": {},
   "source": [
    "### Linear Regression \n"
   ]
  },
  {
   "cell_type": "markdown",
   "metadata": {},
   "source": [
    "#### Not Normalised"
   ]
  },
  {
   "cell_type": "code",
   "execution_count": 17,
   "metadata": {},
   "outputs": [
    {
     "name": "stdout",
     "output_type": "stream",
     "text": [
      "Coefficient of determination: 0.9285\n",
      "LR accuracy: 98.1 %.\n"
     ]
    },
    {
     "data": {
      "text/html": [
       "<div>\n",
       "<style scoped>\n",
       "    .dataframe tbody tr th:only-of-type {\n",
       "        vertical-align: middle;\n",
       "    }\n",
       "\n",
       "    .dataframe tbody tr th {\n",
       "        vertical-align: top;\n",
       "    }\n",
       "\n",
       "    .dataframe thead th {\n",
       "        text-align: right;\n",
       "    }\n",
       "</style>\n",
       "<table border=\"1\" class=\"dataframe\">\n",
       "  <thead>\n",
       "    <tr style=\"text-align: right;\">\n",
       "      <th></th>\n",
       "      <th>Coefficient</th>\n",
       "    </tr>\n",
       "  </thead>\n",
       "  <tbody>\n",
       "    <tr>\n",
       "      <th>2014-01-31</th>\n",
       "      <td>0.050761</td>\n",
       "    </tr>\n",
       "    <tr>\n",
       "      <th>2014-02-11</th>\n",
       "      <td>-0.054302</td>\n",
       "    </tr>\n",
       "    <tr>\n",
       "      <th>2014-02-14</th>\n",
       "      <td>0.004622</td>\n",
       "    </tr>\n",
       "    <tr>\n",
       "      <th>2014-05-16</th>\n",
       "      <td>-0.084217</td>\n",
       "    </tr>\n",
       "    <tr>\n",
       "      <th>2014-06-04</th>\n",
       "      <td>0.089277</td>\n",
       "    </tr>\n",
       "    <tr>\n",
       "      <th>2014-10-04</th>\n",
       "      <td>0.054817</td>\n",
       "    </tr>\n",
       "    <tr>\n",
       "      <th>2014-10-31</th>\n",
       "      <td>-0.057435</td>\n",
       "    </tr>\n",
       "    <tr>\n",
       "      <th>2015-01-20</th>\n",
       "      <td>-0.006771</td>\n",
       "    </tr>\n",
       "    <tr>\n",
       "      <th>2015-02-05</th>\n",
       "      <td>0.003811</td>\n",
       "    </tr>\n",
       "    <tr>\n",
       "      <th>2015-02-06</th>\n",
       "      <td>0.000072</td>\n",
       "    </tr>\n",
       "    <tr>\n",
       "      <th>2015-02-10</th>\n",
       "      <td>0.006523</td>\n",
       "    </tr>\n",
       "    <tr>\n",
       "      <th>2015-05-15</th>\n",
       "      <td>-0.008852</td>\n",
       "    </tr>\n",
       "    <tr>\n",
       "      <th>2015-05-25</th>\n",
       "      <td>0.011566</td>\n",
       "    </tr>\n",
       "    <tr>\n",
       "      <th>2015-10-02</th>\n",
       "      <td>-0.082393</td>\n",
       "    </tr>\n",
       "    <tr>\n",
       "      <th>2015-11-09</th>\n",
       "      <td>0.082905</td>\n",
       "    </tr>\n",
       "    <tr>\n",
       "      <th>2016-01-30</th>\n",
       "      <td>0.002176</td>\n",
       "    </tr>\n",
       "    <tr>\n",
       "      <th>2016-02-02</th>\n",
       "      <td>0.060381</td>\n",
       "    </tr>\n",
       "    <tr>\n",
       "      <th>2016-02-29</th>\n",
       "      <td>-0.061752</td>\n",
       "    </tr>\n",
       "    <tr>\n",
       "      <th>2016-05-16</th>\n",
       "      <td>0.003755</td>\n",
       "    </tr>\n",
       "    <tr>\n",
       "      <th>2016-05-30</th>\n",
       "      <td>-0.078510</td>\n",
       "    </tr>\n",
       "    <tr>\n",
       "      <th>2016-06-03</th>\n",
       "      <td>0.076920</td>\n",
       "    </tr>\n",
       "    <tr>\n",
       "      <th>2016-09-09</th>\n",
       "      <td>-0.001141</td>\n",
       "    </tr>\n",
       "    <tr>\n",
       "      <th>2016-09-27</th>\n",
       "      <td>0.013463</td>\n",
       "    </tr>\n",
       "    <tr>\n",
       "      <th>2016-10-10</th>\n",
       "      <td>-0.090117</td>\n",
       "    </tr>\n",
       "    <tr>\n",
       "      <th>2016-10-11</th>\n",
       "      <td>0.074454</td>\n",
       "    </tr>\n",
       "    <tr>\n",
       "      <th>2017-01-20</th>\n",
       "      <td>0.005783</td>\n",
       "    </tr>\n",
       "    <tr>\n",
       "      <th>2017-01-31</th>\n",
       "      <td>-0.002300</td>\n",
       "    </tr>\n",
       "    <tr>\n",
       "      <th>2017-02-09</th>\n",
       "      <td>0.004152</td>\n",
       "    </tr>\n",
       "    <tr>\n",
       "      <th>2017-06-22</th>\n",
       "      <td>0.001410</td>\n",
       "    </tr>\n",
       "    <tr>\n",
       "      <th>2017-07-04</th>\n",
       "      <td>-0.082220</td>\n",
       "    </tr>\n",
       "    <tr>\n",
       "      <th>2017-07-13</th>\n",
       "      <td>0.078266</td>\n",
       "    </tr>\n",
       "    <tr>\n",
       "      <th>2017-10-17</th>\n",
       "      <td>0.047145</td>\n",
       "    </tr>\n",
       "    <tr>\n",
       "      <th>2017-10-25</th>\n",
       "      <td>-0.043071</td>\n",
       "    </tr>\n",
       "    <tr>\n",
       "      <th>2018-01-19</th>\n",
       "      <td>0.004741</td>\n",
       "    </tr>\n",
       "    <tr>\n",
       "      <th>2018-01-30</th>\n",
       "      <td>0.006022</td>\n",
       "    </tr>\n",
       "    <tr>\n",
       "      <th>2018-02-10</th>\n",
       "      <td>-0.009920</td>\n",
       "    </tr>\n",
       "    <tr>\n",
       "      <th>2018-06-14</th>\n",
       "      <td>-0.000347</td>\n",
       "    </tr>\n",
       "    <tr>\n",
       "      <th>2018-06-19</th>\n",
       "      <td>0.142771</td>\n",
       "    </tr>\n",
       "    <tr>\n",
       "      <th>2018-06-26</th>\n",
       "      <td>-0.143883</td>\n",
       "    </tr>\n",
       "    <tr>\n",
       "      <th>2018-09-29</th>\n",
       "      <td>-0.004958</td>\n",
       "    </tr>\n",
       "    <tr>\n",
       "      <th>2018-10-03</th>\n",
       "      <td>0.004564</td>\n",
       "    </tr>\n",
       "    <tr>\n",
       "      <th>2018-10-12</th>\n",
       "      <td>0.001349</td>\n",
       "    </tr>\n",
       "    <tr>\n",
       "      <th>2018-10-23</th>\n",
       "      <td>0.000843</td>\n",
       "    </tr>\n",
       "    <tr>\n",
       "      <th>2019-01-17</th>\n",
       "      <td>0.007588</td>\n",
       "    </tr>\n",
       "    <tr>\n",
       "      <th>2019-01-30</th>\n",
       "      <td>0.239859</td>\n",
       "    </tr>\n",
       "    <tr>\n",
       "      <th>2019-02-06</th>\n",
       "      <td>-0.258639</td>\n",
       "    </tr>\n",
       "    <tr>\n",
       "      <th>2019-02-07</th>\n",
       "      <td>0.978285</td>\n",
       "    </tr>\n",
       "  </tbody>\n",
       "</table>\n",
       "</div>"
      ],
      "text/plain": [
       "            Coefficient\n",
       "2014-01-31     0.050761\n",
       "2014-02-11    -0.054302\n",
       "2014-02-14     0.004622\n",
       "2014-05-16    -0.084217\n",
       "2014-06-04     0.089277\n",
       "2014-10-04     0.054817\n",
       "2014-10-31    -0.057435\n",
       "2015-01-20    -0.006771\n",
       "2015-02-05     0.003811\n",
       "2015-02-06     0.000072\n",
       "2015-02-10     0.006523\n",
       "2015-05-15    -0.008852\n",
       "2015-05-25     0.011566\n",
       "2015-10-02    -0.082393\n",
       "2015-11-09     0.082905\n",
       "2016-01-30     0.002176\n",
       "2016-02-02     0.060381\n",
       "2016-02-29    -0.061752\n",
       "2016-05-16     0.003755\n",
       "2016-05-30    -0.078510\n",
       "2016-06-03     0.076920\n",
       "2016-09-09    -0.001141\n",
       "2016-09-27     0.013463\n",
       "2016-10-10    -0.090117\n",
       "2016-10-11     0.074454\n",
       "2017-01-20     0.005783\n",
       "2017-01-31    -0.002300\n",
       "2017-02-09     0.004152\n",
       "2017-06-22     0.001410\n",
       "2017-07-04    -0.082220\n",
       "2017-07-13     0.078266\n",
       "2017-10-17     0.047145\n",
       "2017-10-25    -0.043071\n",
       "2018-01-19     0.004741\n",
       "2018-01-30     0.006022\n",
       "2018-02-10    -0.009920\n",
       "2018-06-14    -0.000347\n",
       "2018-06-19     0.142771\n",
       "2018-06-26    -0.143883\n",
       "2018-09-29    -0.004958\n",
       "2018-10-03     0.004564\n",
       "2018-10-12     0.001349\n",
       "2018-10-23     0.000843\n",
       "2019-01-17     0.007588\n",
       "2019-01-30     0.239859\n",
       "2019-02-06    -0.258639\n",
       "2019-02-07     0.978285"
      ]
     },
     "execution_count": 17,
     "metadata": {},
     "output_type": "execute_result"
    }
   ],
   "source": [
    "# Create linear regression model\n",
    "LRmodel = LinearRegression(fit_intercept = True, normalize = False)\n",
    "LRmodel.fit(X_train, y_train)\n",
    "\n",
    "r2 = LRmodel.score(X_train, y_train)\n",
    "print('Coefficient of determination:', round(r2,4))\n",
    "\n",
    "# Generate predictions and assess accuracy\n",
    "LR_pred = LRmodel.predict(X_test)\n",
    "LRerrors = abs(LR_pred - y_test)\n",
    "\n",
    "# Calculate mean absolute percentage error (MAPE)\n",
    "LRmape = 100 * (LRerrors / y_test).replace([np.inf, -np.inf])\n",
    "LRaccuracy = 100 - np.mean(LRmape)\n",
    "print('LR accuracy:', round(LRaccuracy, 2), '%.')\n",
    "\n",
    "# Obtain coefficients\n",
    "coeff_df = pd.DataFrame(LRmodel.coef_, X_train.columns, columns=['Coefficient'])  \n",
    "coeff_df"
   ]
  },
  {
   "cell_type": "markdown",
   "metadata": {},
   "source": [
    "#### Normalised"
   ]
  },
  {
   "cell_type": "code",
   "execution_count": 18,
   "metadata": {},
   "outputs": [
    {
     "name": "stdout",
     "output_type": "stream",
     "text": [
      "LR coefficient of determination: 0.9285\n",
      "LR accuracy: 98.68 %.\n"
     ]
    }
   ],
   "source": [
    "# Create linear regression model\n",
    "LRmodel_scaled = LinearRegression(fit_intercept = True, normalize = True)\n",
    "LRmodel_scaled.fit(X_train_scaled, y_train)\n",
    "\n",
    "r2 = LRmodel_scaled.score(X_train_scaled, y_train)\n",
    "print('LR coefficient of determination:', round(r2,4))\n",
    "\n",
    "# Generate predictions and assess accuracy\n",
    "LR_pred_scaled = LRmodel_scaled.predict(X_test_scaled)\n",
    "LRerrors = abs(LR_pred_scaled - y_test)\n",
    "\n",
    "# Calculate mean absolute percentage error (MAPE)\n",
    "LRmape = 100 * (LRerrors / y_test).replace([np.inf, -np.inf])\n",
    "LRaccuracy = 100 - np.mean(LRmape)\n",
    "print('LR accuracy:', round(LRaccuracy, 2), '%.')"
   ]
  },
  {
   "cell_type": "markdown",
   "metadata": {},
   "source": [
    "#### Plot predicted vs. actual"
   ]
  },
  {
   "cell_type": "code",
   "execution_count": 19,
   "metadata": {},
   "outputs": [
    {
     "data": {
      "image/png": "[encoded data removed]",
      "text/plain": [
       "<Figure size 432x288 with 1 Axes>"
      ]
     },
     "metadata": {
      "needs_background": "light"
     },
     "output_type": "display_data"
    }
   ],
   "source": [
    "plt.scatter(LR_pred, y_test)\n",
    "plt.title('Linear Regression (unscaled): predicted vs. actual', fontsize=12)\n",
    "plt.xlabel('Predicted (test)', fontsize=10)\n",
    "plt.ylabel('Actual (test)', fontsize=10)\n",
    "\n",
    "# Plot line of best fit\n",
    "plt.plot(np.unique(LR_pred), np.poly1d(np.polyfit(LR_pred, y_test, 1))(np.unique(LR_pred)), color='red')\n",
    "slope, intercept, r_value, p_value, std_err = scipy.stats.linregress(LR_pred, y_test)\n",
    "M_string = 'M = ' + str(round(slope,2)) + ', R = ' + str(round(r_value,2))# Extract gradient ~1.0\n",
    "plt.text(4,7,M_string, color='red')               \n",
    "plt.show()"
   ]
  },
  {
   "cell_type": "code",
   "execution_count": 20,
   "metadata": {},
   "outputs": [
    {
     "name": "stdout",
     "output_type": "stream",
     "text": [
      "                                 OLS Regression Results                                \n",
      "=======================================================================================\n",
      "Dep. Variable:             2019-03-04   R-squared (uncentered):                   0.928\n",
      "Model:                            OLS   Adj. R-squared (uncentered):              0.928\n",
      "Method:                 Least Squares   F-statistic:                              8259.\n",
      "Date:                Sun, 17 Nov 2019   Prob (F-statistic):                        0.00\n",
      "Time:                        15:14:59   Log-Likelihood:                         -24788.\n",
      "No. Observations:               29959   AIC:                                  4.967e+04\n",
      "Df Residuals:                   29912   BIC:                                  5.006e+04\n",
      "Df Model:                          47                                                  \n",
      "Covariance Type:            nonrobust                                                  \n",
      "==============================================================================\n",
      "                 coef    std err          t      P>|t|      [0.025      0.975]\n",
      "------------------------------------------------------------------------------\n",
      "2014-01-31     0.0504      0.006      8.232      0.000       0.038       0.062\n",
      "2014-02-11    -0.0547      0.006     -8.914      0.000      -0.067      -0.043\n",
      "2014-02-14     0.0047      0.002      2.853      0.004       0.001       0.008\n",
      "2014-05-16    -0.0855      0.006    -13.958      0.000      -0.098      -0.074\n",
      "2014-06-04     0.0897      0.006     14.548      0.000       0.078       0.102\n",
      "2014-10-04     0.0566      0.006      9.690      0.000       0.045       0.068\n",
      "2014-10-31    -0.0592      0.006    -10.021      0.000      -0.071      -0.048\n",
      "2015-01-20    -0.0057      0.002     -2.570      0.010      -0.010      -0.001\n",
      "2015-02-05     0.0051      0.002      2.600      0.009       0.001       0.009\n",
      "2015-02-06     0.0016      0.002      0.841      0.400      -0.002       0.005\n",
      "2015-02-10     0.0042      0.002      2.075      0.038       0.000       0.008\n",
      "2015-05-15    -0.0100      0.002     -4.474      0.000      -0.014      -0.006\n",
      "2015-05-25     0.0107      0.002      4.897      0.000       0.006       0.015\n",
      "2015-10-02    -0.0836      0.006    -15.164      0.000      -0.094      -0.073\n",
      "2015-11-09     0.0825      0.006     14.883      0.000       0.072       0.093\n",
      "2016-01-30     0.0018      0.002      0.794      0.427      -0.003       0.006\n",
      "2016-02-02     0.0607      0.011      5.323      0.000       0.038       0.083\n",
      "2016-02-29    -0.0631      0.011     -5.564      0.000      -0.085      -0.041\n",
      "2016-05-16     0.0036      0.009      0.404      0.686      -0.014       0.021\n",
      "2016-05-30    -0.0788      0.008     -9.381      0.000      -0.095      -0.062\n",
      "2016-06-03     0.0776      0.010      7.557      0.000       0.058       0.098\n",
      "2016-09-09    -0.0019      0.002     -1.120      0.263      -0.005       0.001\n",
      "2016-09-27     0.0141      0.011      1.285      0.199      -0.007       0.036\n",
      "2016-10-10    -0.0914      0.010     -9.356      0.000      -0.111      -0.072\n",
      "2016-10-11     0.0750      0.009      8.153      0.000       0.057       0.093\n",
      "2017-01-20     0.0054      0.002      3.039      0.002       0.002       0.009\n",
      "2017-01-31    -0.0026      0.002     -1.568      0.117      -0.006       0.001\n",
      "2017-02-09     0.0033      0.002      1.934      0.053   -4.43e-05       0.007\n",
      "2017-06-22     0.0011      0.009      0.126      0.900      -0.017       0.019\n",
      "2017-07-04    -0.0823      0.012     -7.080      0.000      -0.105      -0.059\n",
      "2017-07-13     0.0784      0.007     10.778      0.000       0.064       0.093\n",
      "2017-10-17     0.0472      0.007      6.496      0.000       0.033       0.061\n",
      "2017-10-25    -0.0437      0.007     -6.006      0.000      -0.058      -0.029\n",
      "2018-01-19     0.0047      0.002      2.007      0.045       0.000       0.009\n",
      "2018-01-30     0.0057      0.002      2.739      0.006       0.002       0.010\n",
      "2018-02-10    -0.0094      0.003     -3.684      0.000      -0.014      -0.004\n",
      "2018-06-14    -0.0005      0.003     -0.209      0.834      -0.006       0.004\n",
      "2018-06-19     0.1413      0.008     18.824      0.000       0.127       0.156\n",
      "2018-06-26    -0.1432      0.008    -18.887      0.000      -0.158      -0.128\n",
      "2018-09-29    -0.0045      0.003     -1.788      0.074      -0.010       0.000\n",
      "2018-10-03     0.0037      0.002      1.617      0.106      -0.001       0.008\n",
      "2018-10-12    -0.0007      0.003     -0.245      0.807      -0.006       0.005\n",
      "2018-10-23     0.0027      0.002      1.141      0.254      -0.002       0.007\n",
      "2019-01-17     0.0041      0.002      1.883      0.060      -0.000       0.008\n",
      "2019-01-30     0.2401      0.006     37.884      0.000       0.228       0.253\n",
      "2019-02-06    -0.2589      0.006    -40.094      0.000      -0.272      -0.246\n",
      "2019-02-07     0.9782      0.002    609.935      0.000       0.975       0.981\n",
      "==============================================================================\n",
      "Omnibus:                    24008.684   Durbin-Watson:                   2.004\n",
      "Prob(Omnibus):                  0.000   Jarque-Bera (JB):          9772881.766\n",
      "Skew:                           2.801   Prob(JB):                         0.00\n",
      "Kurtosis:                      91.304   Cond. No.                         29.9\n",
      "==============================================================================\n",
      "\n",
      "Warnings:\n",
      "[1] Standard Errors assume that the covariance matrix of the errors is correctly specified.\n"
     ]
    }
   ],
   "source": [
    "# Rerun using OLS to obtain P-values\n",
    "X_train_features = sms.add_constant(X_train) # Ensure an intercept is provided\n",
    "OLSmodel = sms.OLS(y_train, X_train)\n",
    "OLSresults = OLSmodel.fit()\n",
    "print(OLSresults.summary())"
   ]
  },
  {
   "cell_type": "markdown",
   "metadata": {},
   "source": [
    "#### Cross validation score all features"
   ]
  },
  {
   "cell_type": "code",
   "execution_count": 21,
   "metadata": {},
   "outputs": [
    {
     "name": "stdout",
     "output_type": "stream",
     "text": [
      "LR 10 fold CV average score: 91.41 %\n"
     ]
    }
   ],
   "source": [
    "# Cross Validation\n",
    "k_folds = 10\n",
    "LRmodel_scaled_CV = LinearRegression(fit_intercept = True, normalize = True)\n",
    "LRmodel_scaled_CV.fit(X_scaled, y)\n",
    "\n",
    "LRscores = cross_val_score(LRmodel_scaled_CV, X=X_scaled, y=y, cv=k_folds)\n",
    "print('LR',k_folds,'fold CV average score:', round(np.mean(LRscores)*100,2),'%')"
   ]
  },
  {
   "cell_type": "markdown",
   "metadata": {},
   "source": [
    "#### LASSO"
   ]
  },
  {
   "cell_type": "code",
   "execution_count": 23,
   "metadata": {},
   "outputs": [
    {
     "name": "stdout",
     "output_type": "stream",
     "text": [
      "\n",
      "alpha: 1e-06\n",
      "LASSO accuracy: 98.1 %.\n",
      "LASSO test score: 0.914\n",
      "LASSO coefficients used: 47\n",
      "\n",
      "alpha: 1e-05\n",
      "LASSO accuracy: 98.1 %.\n",
      "LASSO test score: 0.914\n",
      "LASSO coefficients used: 47\n",
      "\n",
      "alpha: 0.0001\n",
      "LASSO accuracy: 98.1 %.\n",
      "LASSO test score: 0.914\n",
      "LASSO coefficients used: 46\n",
      "\n",
      "alpha: 0.01\n",
      "LASSO accuracy: 98.18 %.\n",
      "LASSO test score: 0.91\n",
      "LASSO coefficients used: 29\n",
      "\n",
      "alpha: 0.1\n",
      "LASSO accuracy: 99.43 %.\n",
      "LASSO test score: 0.901\n",
      "LASSO coefficients used: 1\n",
      "\n",
      "alpha: 0.5\n",
      "LASSO accuracy: 100.0 %.\n",
      "LASSO test score: 0.889\n",
      "LASSO coefficients used: 1\n",
      "\n",
      "alpha: 1.0\n",
      "LASSO accuracy: 99.8 %.\n",
      "LASSO test score: 0.849\n",
      "LASSO coefficients used: 1\n",
      "\n",
      "alpha: 5.0\n",
      "LASSO accuracy: 97.65 %.\n",
      "LASSO test score: -0.0\n",
      "LASSO coefficients used: 0\n",
      "\n",
      "alpha: 10\n",
      "LASSO accuracy: 97.65 %.\n",
      "LASSO test score: -0.0\n",
      "LASSO coefficients used: 0\n",
      "\n",
      "alpha: 50\n",
      "LASSO accuracy: 97.65 %.\n",
      "LASSO test score: -0.0\n",
      "LASSO coefficients used: 0\n",
      "\n",
      "alpha: 100\n",
      "LASSO accuracy: 97.65 %.\n",
      "LASSO test score: -0.0\n",
      "LASSO coefficients used: 0\n"
     ]
    }
   ],
   "source": [
    "# Vary alpha to optimise LASSO NB alpha=0 = OLS\n",
    "alpha_array = [1e-6, 1e-5, 0.0001, 0.01, 0.1, 0.5, 1.0, 5.0, 10, 50, 100]\n",
    "LASSO_array = [] # array will store alpha, test accuracy, test score and # params\n",
    "\n",
    "for alpha_iter in alpha_array:\n",
    "    print('\\nalpha:', alpha_iter)\n",
    "    \n",
    "    # Create LASSO model\n",
    "    LASSOmodel = linear_model.Lasso(alpha=alpha_iter, max_iter=10e5)\n",
    "    LASSOmodel.fit(X_train, y_train)\n",
    "    LASSOtrain_score = LASSOmodel.score(X_train, y_train)\n",
    "\n",
    "    # Generate predictions and assess accuracy\n",
    "    LASSO_pred = LASSOmodel.predict(X_test)\n",
    "    LASSOerrors = abs(LASSO_pred - y_test)\n",
    "\n",
    "    # Calculate mean absolute percentage error (MAPE)\n",
    "    LASSOmape = 100 * (LASSOerrors / y_test).replace([np.inf, -np.inf])\n",
    "    LASSOaccuracy = 100 - np.mean(LASSOmape)\n",
    "    print('LASSO accuracy:', round(LASSOaccuracy, 2), '%.')\n",
    "\n",
    "    # Obtain test score\n",
    "    LASSOtest_score = LASSOmodel.score(X_test, y_test)\n",
    "    LASSOcoeff_used = np.sum(LASSOmodel.coef_!=0)\n",
    "    print('LASSO test score:', round(LASSOtest_score, 3))\n",
    "    print('LASSO coefficients used:', LASSOcoeff_used)\n",
    "    LASSO_array.append([alpha_iter, LASSOaccuracy, LASSOtest_score, LASSOcoeff_used])\n",
    "\n",
    "LASSO_array = np.asarray(LASSO_array)    "
   ]
  },
  {
   "cell_type": "code",
   "execution_count": 25,
   "metadata": {},
   "outputs": [
    {
     "data": {
      "image/png": "[encoded data removed]",
      "text/plain": [
       "<Figure size 432x288 with 1 Axes>"
      ]
     },
     "metadata": {
      "needs_background": "light"
     },
     "output_type": "display_data"
    }
   ],
   "source": [
    "# Plot alpha vs test scores\n",
    "plt.scatter(LASSO_array[:,0], LASSO_array[:,2])\n",
    "plt.title('LASSO Test Scores', fontsize=12)\n",
    "plt.xlabel('alpha', fontsize=10)\n",
    "plt.ylabel('Test score', fontsize=10)\n",
    "plt.show()"
   ]
  },
  {
   "cell_type": "code",
   "execution_count": 26,
   "metadata": {},
   "outputs": [
    {
     "name": "stdout",
     "output_type": "stream",
     "text": [
      "Optimal alpha based on test accuracy and score: 1e-06\n",
      "Optimal alpha based on test accuracy and #coefficents: 0.01\n"
     ]
    }
   ],
   "source": [
    "# Consider optimal alpha as test accuracy x test score\n",
    "LASSO_optimal_index = np.where(LASSO_array[:,1]*LASSO_array[:,2] ==np.max(LASSO_array[:,1]*LASSO_array[:,2]))[0][0]\n",
    "LASSO_optimal_alpha = LASSO_array[LASSO_optimal_index, 0]\n",
    "print('Optimal alpha based on test accuracy and score:',LASSO_optimal_alpha)\n",
    "\n",
    "# Consider optimal alpha as test accuracy x test score / # coefficients\n",
    "LASSO_min_score = 0.6 # minimum test score to qualify\n",
    "LASSO_min_coef = 6 # minimum number of coefficients\n",
    "LASSO_best_score = 0 # Initialise score\n",
    "for LASSO_iter in range(LASSO_array.shape[0]):\n",
    "        if ((LASSO_array[LASSO_iter, 2] >= LASSO_min_score) & (LASSO_array[LASSO_iter, 3] >= LASSO_min_coef)):\n",
    "            LASSO_working = LASSO_array[LASSO_iter,1]*LASSO_array[LASSO_iter,2]/LASSO_array[LASSO_iter,3] \n",
    "            if (LASSO_working > LASSO_best_score):\n",
    "                LASSO_best_score = LASSO_working\n",
    "                LASSO_best_alpha = LASSO_array[LASSO_iter,0]\n",
    "print('Optimal alpha based on test accuracy and #coefficents:',LASSO_best_alpha)"
   ]
  },
  {
   "cell_type": "code",
   "execution_count": 27,
   "metadata": {
    "scrolled": true
   },
   "outputs": [
    {
     "name": "stdout",
     "output_type": "stream",
     "text": [
      "LASSO coefficients with alpha: 1e-06\n",
      "LASSO coefficients used: 47\n",
      "            Coefficient\n",
      "2014-01-31     0.050751\n",
      "2014-02-11    -0.054292\n",
      "2014-02-14     0.004622\n",
      "2014-05-16    -0.084206\n",
      "2014-06-04     0.089266\n",
      "2014-10-04     0.054808\n",
      "2014-10-31    -0.057426\n",
      "2015-01-20    -0.006771\n",
      "2015-02-05     0.003811\n",
      "2015-02-06     0.000072\n",
      "2015-02-10     0.006523\n",
      "2015-05-15    -0.008851\n",
      "2015-05-25     0.011566\n",
      "2015-10-02    -0.082388\n",
      "2015-11-09     0.082900\n",
      "2016-01-30     0.002175\n",
      "2016-02-02     0.060354\n",
      "2016-02-29    -0.061725\n",
      "2016-05-16     0.003743\n",
      "2016-05-30    -0.078496\n",
      "2016-06-03     0.076918\n",
      "2016-09-09    -0.001140\n",
      "2016-09-27     0.013450\n",
      "2016-10-10    -0.090097\n",
      "2016-10-11     0.074448\n",
      "2017-01-20     0.005782\n",
      "2017-01-31    -0.002299\n",
      "2017-02-09     0.004152\n",
      "2017-06-22     0.001393\n",
      "2017-07-04    -0.082194\n",
      "2017-07-13     0.078256\n",
      "2017-10-17     0.047137\n",
      "2017-10-25    -0.043063\n",
      "2018-01-19     0.004741\n",
      "2018-01-30     0.006022\n",
      "2018-02-10    -0.009920\n",
      "2018-06-14    -0.000346\n",
      "2018-06-19     0.142759\n",
      "2018-06-26    -0.143871\n",
      "2018-09-29    -0.004957\n",
      "2018-10-03     0.004564\n",
      "2018-10-12     0.001349\n",
      "2018-10-23     0.000842\n",
      "2019-01-17     0.007588\n",
      "2019-01-30     0.239849\n",
      "2019-02-06    -0.258629\n",
      "2019-02-07     0.978285\n"
     ]
    }
   ],
   "source": [
    "# Investigate coefficients\n",
    "# Using highest test score and test accuracy\n",
    "LASSOmodel = linear_model.Lasso(alpha=LASSO_optimal_alpha, max_iter=10e5)\n",
    "LASSOmodel.fit(X_train, y_train)\n",
    "print('LASSO coefficients with alpha:', LASSO_optimal_alpha)\n",
    "LASSOcoeff_used = np.sum(LASSOmodel.coef_!=0)\n",
    "print('LASSO coefficients used:', LASSOcoeff_used)\n",
    "print(pd.DataFrame(LASSOmodel.coef_, X_train.columns, columns=['Coefficient']))\n",
    "\n",
    "# Generate predictions and assess accuracy\n",
    "LASSO_pred = LASSOmodel.predict(X_test)\n"
   ]
  },
  {
   "cell_type": "markdown",
   "metadata": {},
   "source": [
    "#### Plot predicted vs. actual"
   ]
  },
  {
   "cell_type": "code",
   "execution_count": 28,
   "metadata": {},
   "outputs": [
    {
     "data": {
      "image/png": "[encoded data removed]",
      "text/plain": [
       "<Figure size 432x288 with 1 Axes>"
      ]
     },
     "metadata": {
      "needs_background": "light"
     },
     "output_type": "display_data"
    }
   ],
   "source": [
    "plt.scatter(LASSO_pred, y_test)\n",
    "LASSO_title = 'LASSO: predicted vs. actual. Alpha:'+str(LASSO_optimal_alpha)\n",
    "plt.title(LASSO_title, fontsize=12)\n",
    "plt.xlabel('Predicted (test)', fontsize=10)\n",
    "plt.ylabel('Actual (test)', fontsize=10)\n",
    "\n",
    "# Plot line of best fit\n",
    "plt.plot(np.unique(LASSO_pred), np.poly1d(np.polyfit(LASSO_pred, y_test, 1))(np.unique(LASSO_pred)), color='red')\n",
    "slope, intercept, r_value, p_value, std_err = scipy.stats.linregress(LASSO_pred, y_test)\n",
    "M_string = 'M = ' + str(round(slope,2)) + ', R = ' + str(round(r_value,2))# Extract gradient ~1.0\n",
    "plt.text(4,7,M_string, color='red')               \n",
    "plt.show()"
   ]
  },
  {
   "cell_type": "code",
   "execution_count": 29,
   "metadata": {
    "scrolled": true
   },
   "outputs": [
    {
     "name": "stdout",
     "output_type": "stream",
     "text": [
      "\n",
      "LASSO coefficients with alpha: 0.01\n",
      "LASSO coefficients used: 29\n",
      "            Coefficient\n",
      "2014-01-31     0.000000\n",
      "2014-02-11    -0.000117\n",
      "2014-02-14     0.001672\n",
      "2014-05-16    -0.001958\n",
      "2014-06-04     0.007409\n",
      "2014-10-04     0.000000\n",
      "2014-10-31    -0.000717\n",
      "2015-01-20    -0.004864\n",
      "2015-02-05     0.002365\n",
      "2015-02-06     0.000000\n",
      "2015-02-10     0.005120\n",
      "2015-05-15    -0.003646\n",
      "2015-05-25     0.005478\n",
      "2015-10-02    -0.025699\n",
      "2015-11-09     0.026665\n",
      "2016-01-30     0.000000\n",
      "2016-02-02     0.000000\n",
      "2016-02-29    -0.000000\n",
      "2016-05-16     0.000000\n",
      "2016-05-30    -0.000000\n",
      "2016-06-03     0.000418\n",
      "2016-09-09    -0.000000\n",
      "2016-09-27    -0.000000\n",
      "2016-10-10    -0.000575\n",
      "2016-10-11     0.000000\n",
      "2017-01-20     0.003021\n",
      "2017-01-31     0.000000\n",
      "2017-02-09     0.002349\n",
      "2017-06-22    -0.000000\n",
      "2017-07-04    -0.001916\n",
      "2017-07-13     0.000000\n",
      "2017-10-17     0.003175\n",
      "2017-10-25    -0.000000\n",
      "2018-01-19     0.002113\n",
      "2018-01-30     0.003900\n",
      "2018-02-10    -0.006031\n",
      "2018-06-14    -0.000000\n",
      "2018-06-19     0.023411\n",
      "2018-06-26    -0.024484\n",
      "2018-09-29    -0.002874\n",
      "2018-10-03     0.003175\n",
      "2018-10-12     0.000000\n",
      "2018-10-23     0.000000\n",
      "2019-01-17     0.004554\n",
      "2019-01-30     0.157210\n",
      "2019-02-06    -0.174243\n",
      "2019-02-07     0.973016\n"
     ]
    }
   ],
   "source": [
    "# Investigate coefficients\n",
    "# Using highest test score and test accuracy / # coefficients\n",
    "LASSOmodel = linear_model.Lasso(alpha=LASSO_best_alpha, max_iter=10e5)\n",
    "LASSOmodel.fit(X_train, y_train)\n",
    "print('\\nLASSO coefficients with alpha:', LASSO_best_alpha)\n",
    "LASSOcoeff_used = np.sum(LASSOmodel.coef_!=0)\n",
    "print('LASSO coefficients used:', LASSOcoeff_used)\n",
    "print(pd.DataFrame(LASSOmodel.coef_, X_train.columns, columns=['Coefficient']))\n",
    "\n",
    "# Generate predictions and assess accuracy\n",
    "LASSO_pred = LASSOmodel.predict(X_test)\n"
   ]
  },
  {
   "cell_type": "markdown",
   "metadata": {},
   "source": [
    "#### Plot predicted vs. actual"
   ]
  },
  {
   "cell_type": "code",
   "execution_count": 30,
   "metadata": {},
   "outputs": [
    {
     "data": {
      "image/png": "[encoded data removed]",
      "text/plain": [
       "<Figure size 432x288 with 1 Axes>"
      ]
     },
     "metadata": {
      "needs_background": "light"
     },
     "output_type": "display_data"
    }
   ],
   "source": [
    "plt.scatter(LASSO_pred, y_test)\n",
    "LASSO_title = 'LASSO: predicted vs. actual. Alpha:'+str(LASSO_best_alpha)\n",
    "plt.title(LASSO_title, fontsize=12)\n",
    "plt.xlabel('Predicted (test)', fontsize=10)\n",
    "plt.ylabel('Actual (test)', fontsize=10)\n",
    "\n",
    "# Plot line of best fit\n",
    "plt.plot(np.unique(LASSO_pred), np.poly1d(np.polyfit(LASSO_pred, y_test, 1))(np.unique(LASSO_pred)), color='red')\n",
    "slope, intercept, r_value, p_value, std_err = scipy.stats.linregress(LASSO_pred, y_test)\n",
    "M_string = 'M = ' + str(round(slope,2)) + ', R = ' + str(round(r_value,2))# Extract gradient ~1.0\n",
    "plt.text(4,7,M_string, color='red')               \n",
    "plt.show()"
   ]
  },
  {
   "cell_type": "code",
   "execution_count": 31,
   "metadata": {
    "scrolled": true
   },
   "outputs": [
    {
     "name": "stdout",
     "output_type": "stream",
     "text": [
      "\n",
      "LASSO coefficients with alpha: 0.01\n",
      "LASSO coefficients used: 29\n",
      "            Coefficient\n",
      "2014-01-31     0.000000\n",
      "2014-02-11    -0.000117\n",
      "2014-02-14     0.001672\n",
      "2014-05-16    -0.001958\n",
      "2014-06-04     0.007409\n",
      "2014-10-04     0.000000\n",
      "2014-10-31    -0.000717\n",
      "2015-01-20    -0.004864\n",
      "2015-02-05     0.002365\n",
      "2015-02-06     0.000000\n",
      "2015-02-10     0.005120\n",
      "2015-05-15    -0.003646\n",
      "2015-05-25     0.005478\n",
      "2015-10-02    -0.025699\n",
      "2015-11-09     0.026665\n",
      "2016-01-30     0.000000\n",
      "2016-02-02     0.000000\n",
      "2016-02-29    -0.000000\n",
      "2016-05-16     0.000000\n",
      "2016-05-30    -0.000000\n",
      "2016-06-03     0.000418\n",
      "2016-09-09    -0.000000\n",
      "2016-09-27    -0.000000\n",
      "2016-10-10    -0.000575\n",
      "2016-10-11     0.000000\n",
      "2017-01-20     0.003021\n",
      "2017-01-31     0.000000\n",
      "2017-02-09     0.002349\n",
      "2017-06-22    -0.000000\n",
      "2017-07-04    -0.001916\n",
      "2017-07-13     0.000000\n",
      "2017-10-17     0.003175\n",
      "2017-10-25    -0.000000\n",
      "2018-01-19     0.002113\n",
      "2018-01-30     0.003900\n",
      "2018-02-10    -0.006031\n",
      "2018-06-14    -0.000000\n",
      "2018-06-19     0.023411\n",
      "2018-06-26    -0.024484\n",
      "2018-09-29    -0.002874\n",
      "2018-10-03     0.003175\n",
      "2018-10-12     0.000000\n",
      "2018-10-23     0.000000\n",
      "2019-01-17     0.004554\n",
      "2019-01-30     0.157210\n",
      "2019-02-06    -0.174243\n",
      "2019-02-07     0.973016\n"
     ]
    }
   ],
   "source": [
    "# Investigate coefficients\n",
    "# Using alpha = 0.01\n",
    "LASSOmodel = linear_model.Lasso(alpha=0.01, max_iter=10e5)\n",
    "LASSOmodel.fit(X_train, y_train)\n",
    "print('\\nLASSO coefficients with alpha:', LASSO_best_alpha)\n",
    "LASSOcoeff_used = np.sum(LASSOmodel.coef_!=0)\n",
    "print('LASSO coefficients used:', LASSOcoeff_used)\n",
    "print(pd.DataFrame(LASSOmodel.coef_, X_train.columns, columns=['Coefficient']))\n",
    "\n",
    "\n",
    "# Generate predictions and assess accuracy\n",
    "LASSO_pred = LASSOmodel.predict(X_test)"
   ]
  },
  {
   "cell_type": "markdown",
   "metadata": {},
   "source": [
    "#### Plot pedicted vs. actual"
   ]
  },
  {
   "cell_type": "code",
   "execution_count": 32,
   "metadata": {},
   "outputs": [
    {
     "data": {
      "image/png": "[encoded data removed]",
      "text/plain": [
       "<Figure size 432x288 with 1 Axes>"
      ]
     },
     "metadata": {
      "needs_background": "light"
     },
     "output_type": "display_data"
    }
   ],
   "source": [
    "plt.scatter(LASSO_pred, y_test)\n",
    "LASSO_title = 'LASSO: predicted vs. actual. Alpha: 0.01'\n",
    "plt.title(LASSO_title, fontsize=12)\n",
    "plt.xlabel('Predicted (test)', fontsize=10)\n",
    "plt.ylabel('Actual (test)', fontsize=10)\n",
    "\n",
    "# Plot line of best fit\n",
    "plt.plot(np.unique(LASSO_pred), np.poly1d(np.polyfit(LASSO_pred, y_test, 1))(np.unique(LASSO_pred)), color='red')\n",
    "slope, intercept, r_value, p_value, std_err = scipy.stats.linregress(LASSO_pred, y_test)\n",
    "M_string = 'M = ' + str(round(slope,2)) + ', R = ' + str(round(r_value,2))# Extract gradient ~1.0\n",
    "plt.text(4,7,M_string, color='red')               \n",
    "plt.show()"
   ]
  },
  {
   "cell_type": "markdown",
   "metadata": {},
   "source": [
    "#### Create subset of features based on LASSO"
   ]
  },
  {
   "cell_type": "code",
   "execution_count": 33,
   "metadata": {},
   "outputs": [
    {
     "ename": "KeyError",
     "evalue": "\"['LRILeft' 'LRICentre' 'LRIRight' 'BTILeft' 'BTICentre' 'BTIRight'\\n 'MLILeft' 'MLICentre' 'MLIRight' 'SMLILeft' 'SMLICentre' 'SMLIRight'\\n 'BVMCentreVolume' 'BVMCentreCategory' 'SMI' 'SDTwist101' 'SDTwist102'\\n 'FDLLeft' 'FDLCentre' 'FDLRight' 'CTQILeft' 'CTQICentre' 'CTQIRight'\\n 'BVMLeftVolume' 'BVMLeftCategory' 'BVMCentreVolume' 'BVMCentreCategory'\\n 'BVMRightVolume' 'BVMRightCategory' 'SMI' 'SDTwist101' 'SDTwist102'\\n 'SDTwist31' 'SDVersL1' 'SDVersR1' 'SDVersR2' 'SDVersR3'] not found in axis\"",
     "output_type": "error",
     "traceback": [
      "\u001b[0;31m---------------------------------------------------------------------------\u001b[0m",
      "\u001b[0;31mKeyError\u001b[0m                                  Traceback (most recent call last)",
      "\u001b[0;32m<ipython-input-33-4a4f7a90b862>\u001b[0m in \u001b[0;36m<module>\u001b[0;34m\u001b[0m\n\u001b[1;32m      8\u001b[0m                           \u001b[0;34m'BVMRightVolume'\u001b[0m\u001b[0;34m,\u001b[0m \u001b[0;34m'BVMRightCategory'\u001b[0m\u001b[0;34m,\u001b[0m \u001b[0;34m'SMI'\u001b[0m\u001b[0;34m,\u001b[0m \u001b[0;34m'SDTwist101'\u001b[0m\u001b[0;34m,\u001b[0m \u001b[0;34m'SDTwist102'\u001b[0m\u001b[0;34m,\u001b[0m\u001b[0;34m\u001b[0m\u001b[0;34m\u001b[0m\u001b[0m\n\u001b[1;32m      9\u001b[0m                           'SDTwist31','SDVersL1', 'SDVersR1', 'SDVersR2', 'SDVersR3']\n\u001b[0;32m---> 10\u001b[0;31m \u001b[0mX_train_14\u001b[0m \u001b[0;34m=\u001b[0m \u001b[0mX_train\u001b[0m\u001b[0;34m.\u001b[0m\u001b[0mdrop\u001b[0m\u001b[0;34m(\u001b[0m\u001b[0mLASSO_drop_features_14\u001b[0m\u001b[0;34m,\u001b[0m \u001b[0maxis\u001b[0m\u001b[0;34m=\u001b[0m\u001b[0;36m1\u001b[0m\u001b[0;34m)\u001b[0m\u001b[0;34m\u001b[0m\u001b[0;34m\u001b[0m\u001b[0m\n\u001b[0m\u001b[1;32m     11\u001b[0m \u001b[0mX_test_14\u001b[0m \u001b[0;34m=\u001b[0m \u001b[0mX_test\u001b[0m\u001b[0;34m.\u001b[0m\u001b[0mdrop\u001b[0m\u001b[0;34m(\u001b[0m\u001b[0mLASSO_drop_features_14\u001b[0m\u001b[0;34m,\u001b[0m \u001b[0maxis\u001b[0m\u001b[0;34m=\u001b[0m\u001b[0;36m1\u001b[0m\u001b[0;34m)\u001b[0m\u001b[0;34m\u001b[0m\u001b[0;34m\u001b[0m\u001b[0m\n\u001b[1;32m     12\u001b[0m \u001b[0mX_14\u001b[0m \u001b[0;34m=\u001b[0m \u001b[0mX\u001b[0m\u001b[0;34m.\u001b[0m\u001b[0mdrop\u001b[0m\u001b[0;34m(\u001b[0m\u001b[0mLASSO_drop_features_14\u001b[0m\u001b[0;34m,\u001b[0m \u001b[0maxis\u001b[0m\u001b[0;34m=\u001b[0m\u001b[0;36m1\u001b[0m\u001b[0;34m)\u001b[0m\u001b[0;34m\u001b[0m\u001b[0;34m\u001b[0m\u001b[0m\n",
      "\u001b[0;32m/usr/local/lib/python3.7/site-packages/pandas/core/frame.py\u001b[0m in \u001b[0;36mdrop\u001b[0;34m(self, labels, axis, index, columns, level, inplace, errors)\u001b[0m\n\u001b[1;32m   4115\u001b[0m             \u001b[0mlevel\u001b[0m\u001b[0;34m=\u001b[0m\u001b[0mlevel\u001b[0m\u001b[0;34m,\u001b[0m\u001b[0;34m\u001b[0m\u001b[0;34m\u001b[0m\u001b[0m\n\u001b[1;32m   4116\u001b[0m             \u001b[0minplace\u001b[0m\u001b[0;34m=\u001b[0m\u001b[0minplace\u001b[0m\u001b[0;34m,\u001b[0m\u001b[0;34m\u001b[0m\u001b[0;34m\u001b[0m\u001b[0m\n\u001b[0;32m-> 4117\u001b[0;31m             \u001b[0merrors\u001b[0m\u001b[0;34m=\u001b[0m\u001b[0merrors\u001b[0m\u001b[0;34m,\u001b[0m\u001b[0;34m\u001b[0m\u001b[0;34m\u001b[0m\u001b[0m\n\u001b[0m\u001b[1;32m   4118\u001b[0m         )\n\u001b[1;32m   4119\u001b[0m \u001b[0;34m\u001b[0m\u001b[0m\n",
      "\u001b[0;32m/usr/local/lib/python3.7/site-packages/pandas/core/generic.py\u001b[0m in \u001b[0;36mdrop\u001b[0;34m(self, labels, axis, index, columns, level, inplace, errors)\u001b[0m\n\u001b[1;32m   3912\u001b[0m         \u001b[0;32mfor\u001b[0m \u001b[0maxis\u001b[0m\u001b[0;34m,\u001b[0m \u001b[0mlabels\u001b[0m \u001b[0;32min\u001b[0m \u001b[0maxes\u001b[0m\u001b[0;34m.\u001b[0m\u001b[0mitems\u001b[0m\u001b[0;34m(\u001b[0m\u001b[0;34m)\u001b[0m\u001b[0;34m:\u001b[0m\u001b[0;34m\u001b[0m\u001b[0;34m\u001b[0m\u001b[0m\n\u001b[1;32m   3913\u001b[0m             \u001b[0;32mif\u001b[0m \u001b[0mlabels\u001b[0m \u001b[0;32mis\u001b[0m \u001b[0;32mnot\u001b[0m \u001b[0;32mNone\u001b[0m\u001b[0;34m:\u001b[0m\u001b[0;34m\u001b[0m\u001b[0;34m\u001b[0m\u001b[0m\n\u001b[0;32m-> 3914\u001b[0;31m                 \u001b[0mobj\u001b[0m \u001b[0;34m=\u001b[0m \u001b[0mobj\u001b[0m\u001b[0;34m.\u001b[0m\u001b[0m_drop_axis\u001b[0m\u001b[0;34m(\u001b[0m\u001b[0mlabels\u001b[0m\u001b[0;34m,\u001b[0m \u001b[0maxis\u001b[0m\u001b[0;34m,\u001b[0m \u001b[0mlevel\u001b[0m\u001b[0;34m=\u001b[0m\u001b[0mlevel\u001b[0m\u001b[0;34m,\u001b[0m \u001b[0merrors\u001b[0m\u001b[0;34m=\u001b[0m\u001b[0merrors\u001b[0m\u001b[0;34m)\u001b[0m\u001b[0;34m\u001b[0m\u001b[0;34m\u001b[0m\u001b[0m\n\u001b[0m\u001b[1;32m   3915\u001b[0m \u001b[0;34m\u001b[0m\u001b[0m\n\u001b[1;32m   3916\u001b[0m         \u001b[0;32mif\u001b[0m \u001b[0minplace\u001b[0m\u001b[0;34m:\u001b[0m\u001b[0;34m\u001b[0m\u001b[0;34m\u001b[0m\u001b[0m\n",
      "\u001b[0;32m/usr/local/lib/python3.7/site-packages/pandas/core/generic.py\u001b[0m in \u001b[0;36m_drop_axis\u001b[0;34m(self, labels, axis, level, errors)\u001b[0m\n\u001b[1;32m   3944\u001b[0m                 \u001b[0mnew_axis\u001b[0m \u001b[0;34m=\u001b[0m \u001b[0maxis\u001b[0m\u001b[0;34m.\u001b[0m\u001b[0mdrop\u001b[0m\u001b[0;34m(\u001b[0m\u001b[0mlabels\u001b[0m\u001b[0;34m,\u001b[0m \u001b[0mlevel\u001b[0m\u001b[0;34m=\u001b[0m\u001b[0mlevel\u001b[0m\u001b[0;34m,\u001b[0m \u001b[0merrors\u001b[0m\u001b[0;34m=\u001b[0m\u001b[0merrors\u001b[0m\u001b[0;34m)\u001b[0m\u001b[0;34m\u001b[0m\u001b[0;34m\u001b[0m\u001b[0m\n\u001b[1;32m   3945\u001b[0m             \u001b[0;32melse\u001b[0m\u001b[0;34m:\u001b[0m\u001b[0;34m\u001b[0m\u001b[0;34m\u001b[0m\u001b[0m\n\u001b[0;32m-> 3946\u001b[0;31m                 \u001b[0mnew_axis\u001b[0m \u001b[0;34m=\u001b[0m \u001b[0maxis\u001b[0m\u001b[0;34m.\u001b[0m\u001b[0mdrop\u001b[0m\u001b[0;34m(\u001b[0m\u001b[0mlabels\u001b[0m\u001b[0;34m,\u001b[0m \u001b[0merrors\u001b[0m\u001b[0;34m=\u001b[0m\u001b[0merrors\u001b[0m\u001b[0;34m)\u001b[0m\u001b[0;34m\u001b[0m\u001b[0;34m\u001b[0m\u001b[0m\n\u001b[0m\u001b[1;32m   3947\u001b[0m             \u001b[0mresult\u001b[0m \u001b[0;34m=\u001b[0m \u001b[0mself\u001b[0m\u001b[0;34m.\u001b[0m\u001b[0mreindex\u001b[0m\u001b[0;34m(\u001b[0m\u001b[0;34m**\u001b[0m\u001b[0;34m{\u001b[0m\u001b[0maxis_name\u001b[0m\u001b[0;34m:\u001b[0m \u001b[0mnew_axis\u001b[0m\u001b[0;34m}\u001b[0m\u001b[0;34m)\u001b[0m\u001b[0;34m\u001b[0m\u001b[0;34m\u001b[0m\u001b[0m\n\u001b[1;32m   3948\u001b[0m \u001b[0;34m\u001b[0m\u001b[0m\n",
      "\u001b[0;32m/usr/local/lib/python3.7/site-packages/pandas/core/indexes/base.py\u001b[0m in \u001b[0;36mdrop\u001b[0;34m(self, labels, errors)\u001b[0m\n\u001b[1;32m   5338\u001b[0m         \u001b[0;32mif\u001b[0m \u001b[0mmask\u001b[0m\u001b[0;34m.\u001b[0m\u001b[0many\u001b[0m\u001b[0;34m(\u001b[0m\u001b[0;34m)\u001b[0m\u001b[0;34m:\u001b[0m\u001b[0;34m\u001b[0m\u001b[0;34m\u001b[0m\u001b[0m\n\u001b[1;32m   5339\u001b[0m             \u001b[0;32mif\u001b[0m \u001b[0merrors\u001b[0m \u001b[0;34m!=\u001b[0m \u001b[0;34m\"ignore\"\u001b[0m\u001b[0;34m:\u001b[0m\u001b[0;34m\u001b[0m\u001b[0;34m\u001b[0m\u001b[0m\n\u001b[0;32m-> 5340\u001b[0;31m                 \u001b[0;32mraise\u001b[0m \u001b[0mKeyError\u001b[0m\u001b[0;34m(\u001b[0m\u001b[0;34m\"{} not found in axis\"\u001b[0m\u001b[0;34m.\u001b[0m\u001b[0mformat\u001b[0m\u001b[0;34m(\u001b[0m\u001b[0mlabels\u001b[0m\u001b[0;34m[\u001b[0m\u001b[0mmask\u001b[0m\u001b[0;34m]\u001b[0m\u001b[0;34m)\u001b[0m\u001b[0;34m)\u001b[0m\u001b[0;34m\u001b[0m\u001b[0;34m\u001b[0m\u001b[0m\n\u001b[0m\u001b[1;32m   5341\u001b[0m             \u001b[0mindexer\u001b[0m \u001b[0;34m=\u001b[0m \u001b[0mindexer\u001b[0m\u001b[0;34m[\u001b[0m\u001b[0;34m~\u001b[0m\u001b[0mmask\u001b[0m\u001b[0;34m]\u001b[0m\u001b[0;34m\u001b[0m\u001b[0;34m\u001b[0m\u001b[0m\n\u001b[1;32m   5342\u001b[0m         \u001b[0;32mreturn\u001b[0m \u001b[0mself\u001b[0m\u001b[0;34m.\u001b[0m\u001b[0mdelete\u001b[0m\u001b[0;34m(\u001b[0m\u001b[0mindexer\u001b[0m\u001b[0;34m)\u001b[0m\u001b[0;34m\u001b[0m\u001b[0;34m\u001b[0m\u001b[0m\n",
      "\u001b[0;31mKeyError\u001b[0m: \"['LRILeft' 'LRICentre' 'LRIRight' 'BTILeft' 'BTICentre' 'BTIRight'\\n 'MLILeft' 'MLICentre' 'MLIRight' 'SMLILeft' 'SMLICentre' 'SMLIRight'\\n 'BVMCentreVolume' 'BVMCentreCategory' 'SMI' 'SDTwist101' 'SDTwist102'\\n 'FDLLeft' 'FDLCentre' 'FDLRight' 'CTQILeft' 'CTQICentre' 'CTQIRight'\\n 'BVMLeftVolume' 'BVMLeftCategory' 'BVMCentreVolume' 'BVMCentreCategory'\\n 'BVMRightVolume' 'BVMRightCategory' 'SMI' 'SDTwist101' 'SDTwist102'\\n 'SDTwist31' 'SDVersL1' 'SDVersR1' 'SDVersR2' 'SDVersR3'] not found in axis\""
     ]
    }
   ],
   "source": [
    "# Highly reduced based on optimal alpha\n",
    "# Retained some features where there was a corresponding Right/Left\n",
    "LASSO_drop_features_14 = ['LRILeft', 'LRICentre', 'LRIRight', 'BTILeft', 'BTICentre', 'BTIRight',\n",
    "                          'MLILeft', 'MLICentre', 'MLIRight', 'SMLILeft', 'SMLICentre', 'SMLIRight',\n",
    "                          'BVMCentreVolume', 'BVMCentreCategory', 'SMI', 'SDTwist101', 'SDTwist102', \n",
    "                          'FDLLeft', 'FDLCentre', 'FDLRight', 'CTQILeft', 'CTQICentre', 'CTQIRight',\n",
    "                          'BVMLeftVolume', 'BVMLeftCategory', 'BVMCentreVolume', 'BVMCentreCategory',\n",
    "                          'BVMRightVolume', 'BVMRightCategory', 'SMI', 'SDTwist101', 'SDTwist102', \n",
    "                          'SDTwist31','SDVersL1', 'SDVersR1', 'SDVersR2', 'SDVersR3']\n",
    "X_train_14 = X_train.drop(LASSO_drop_features_14, axis=1) \n",
    "X_test_14 = X_test.drop(LASSO_drop_features_14, axis=1) \n",
    "X_14 = X.drop(LASSO_drop_features_14, axis=1) \n",
    "X_train_scaled_14 = X_train_scaled.drop(LASSO_drop_features_14, axis=1) \n",
    "X_test_scaled_14 = X_test_scaled.drop(LASSO_drop_features_14, axis=1) \n",
    "X_scaled_14 = X_scaled.drop(LASSO_drop_features_14, axis=1) "
   ]
  },
  {
   "cell_type": "code",
   "execution_count": 21,
   "metadata": {},
   "outputs": [],
   "source": [
    "# Slightly reduced based on balance between performance and retaining features\n",
    "LASSO_drop_features_36 = ['BVMCentreVolume', 'BVMCentreCategory', 'SMI', 'SDTwist101', 'SDTwist102', \n",
    "                          'SDTwist31', 'SDVersL1', 'SDVersR1', 'SDVersR2', 'SDVersR3']\n",
    "X_train_36 = X_train.drop(LASSO_drop_features_36, axis=1) \n",
    "X_test_36 = X_test.drop(LASSO_drop_features_36, axis=1) \n",
    "X_36 = X.drop(LASSO_drop_features_36, axis=1) \n",
    "X_train_scaled_36 = X_train_scaled.drop(LASSO_drop_features_36, axis=1) \n",
    "X_test_scaled_36 = X_test_scaled.drop(LASSO_drop_features_36, axis=1) \n",
    "X_scaled_36 = X_scaled.drop(LASSO_drop_features_36, axis=1) "
   ]
  },
  {
   "cell_type": "markdown",
   "metadata": {},
   "source": [
    "#### Linear Regression Cross validation score reduced features"
   ]
  },
  {
   "cell_type": "code",
   "execution_count": 22,
   "metadata": {},
   "outputs": [
    {
     "name": "stdout",
     "output_type": "stream",
     "text": [
      "LR 10 fold CV average score: 63.38 %\n"
     ]
    }
   ],
   "source": [
    "# Cross Validation\n",
    "k_folds = 10\n",
    "LRmodel_scaled_CV_14 = LinearRegression(fit_intercept = True, normalize = True)\n",
    "LRmodel_scaled_CV_14.fit(X_scaled_14, y)\n",
    "\n",
    "LRscores = cross_val_score(LRmodel_scaled_CV_14, X=X_scaled_14, y=y, cv=k_folds)\n",
    "print('LR',k_folds,'fold CV average score:', round(np.mean(LRscores)*100,2),'%')"
   ]
  },
  {
   "cell_type": "markdown",
   "metadata": {},
   "source": [
    "#### Elastic Net"
   ]
  },
  {
   "cell_type": "code",
   "execution_count": 23,
   "metadata": {},
   "outputs": [
    {
     "name": "stdout",
     "output_type": "stream",
     "text": [
      "Optimal Elastic Net paramaters: {'alpha': 0.01, 'l1_ratio': 0.2}\n"
     ]
    }
   ],
   "source": [
    "ENmodel = linear_model.ElasticNet(random_state = random_state)\n",
    "ENmodel.fit(X_train, y_train) \n",
    "ENsearch = GridSearchCV(estimator=ENmodel, \n",
    "                        param_grid={'alpha':np.logspace(-5,2,8),'l1_ratio':[.2,.4,.6,.8]},\n",
    "                        scoring='neg_mean_squared_error',n_jobs=1,refit=True,cv=10)\n",
    "ENsearch.fit(X_train, y_train)\n",
    "print('Optimal Elastic Net paramaters:', ENsearch.best_params_)"
   ]
  },
  {
   "cell_type": "code",
   "execution_count": 24,
   "metadata": {},
   "outputs": [
    {
     "name": "stdout",
     "output_type": "stream",
     "text": [
      "Elastic Net accuracy: 84.84 %.\n",
      "Elastic Net test score: 0.753\n",
      "Elastic Net coefficients used: 37\n",
      "\n",
      "Elastic Net coefficients with alpha: 0.01 and L1 ratio: 0.2\n",
      "                   Coefficient\n",
      "PVCLeft               0.000089\n",
      "PVCCentre            -0.000247\n",
      "PVCRight             -0.000241\n",
      "LRILeft              -0.000000\n",
      "LRICentre             0.020092\n",
      "LRIRight              0.024266\n",
      "BTILeft              -0.059212\n",
      "BTICentre             0.029813\n",
      "BTIRight             -0.005748\n",
      "MLILeft               0.064081\n",
      "MLICentre            -0.073111\n",
      "MLIRight              0.000000\n",
      "SMLILeft             -0.052045\n",
      "SMLICentre            0.092748\n",
      "SMLIRight            -0.000000\n",
      "FDLLeft               0.002893\n",
      "FDLCentre             0.103140\n",
      "FDLRight              0.037452\n",
      "CTQILeft              0.000000\n",
      "CTQICentre           -0.096023\n",
      "CTQIRight             0.098852\n",
      "BVMLeftVolume         0.024527\n",
      "BVMLeftCategory       0.072384\n",
      "BVMCentreVolume      -0.000000\n",
      "BVMCentreCategory    -0.000000\n",
      "BVMRightVolume        0.014993\n",
      "BVMRightCategory      0.093998\n",
      "SMI                  -0.000000\n",
      "SDTopLeft1            0.079718\n",
      "SDTopLeft2            0.104064\n",
      "SDTopLeft3            0.100802\n",
      "SDTopRight1           0.037665\n",
      "SDTopRight2          -0.053642\n",
      "SDTopRight3           0.564330\n",
      "SDTwist101            0.000000\n",
      "SDTwist102           -0.044988\n",
      "SDTwist103            0.065210\n",
      "SDTwist31            -0.000000\n",
      "SDTwist32             0.477405\n",
      "SDTwist33             0.428975\n",
      "SDVersL1             -0.054965\n",
      "SDVersL2              0.021595\n",
      "SDVersL3             -0.043280\n",
      "SDVersR1              0.014211\n",
      "SDVersR2              0.026377\n",
      "SDVersR3              0.058551\n"
     ]
    }
   ],
   "source": [
    "# Refit using optimal paramaters\n",
    "EN_optimal_alpha = ENsearch.best_params_['alpha']\n",
    "EN_optimal_l1_ratio = ENsearch.best_params_['l1_ratio']\n",
    "ENmodel = linear_model.ElasticNet(alpha=EN_optimal_alpha, l1_ratio=EN_optimal_l1_ratio, random_state = random_state)\n",
    "ENmodel.fit(X_train, y_train) \n",
    "\n",
    "# Generate predictions and assess accuracy\n",
    "EN_pred =ENmodel.predict(X_test)\n",
    "ENerrors = abs(EN_pred - y_test)\n",
    "\n",
    "# Calculate mean absolute percentage error (MAPE)\n",
    "ENmape = 100 * (ENerrors / y_test)\n",
    "ENaccuracy = 100 - np.mean(ENmape)\n",
    "print('Elastic Net accuracy:', round(ENaccuracy, 2), '%.')\n",
    "\n",
    "# Obtain test score\n",
    "ENtest_score = ENmodel.score(X_test, y_test)\n",
    "ENcoeff_used = np.sum(ENmodel.coef_!=0)\n",
    "print('Elastic Net test score:', round(ENtest_score, 3))\n",
    "print('Elastic Net coefficients used:', ENcoeff_used)\n",
    "\n",
    "# Investigate coefficients used\n",
    "print('\\nElastic Net coefficients with alpha:', EN_optimal_alpha, 'and L1 ratio:', EN_optimal_l1_ratio)\n",
    "print(pd.DataFrame(ENmodel.coef_, X_train.columns, columns=['Coefficient']))\n"
   ]
  },
  {
   "cell_type": "markdown",
   "metadata": {},
   "source": [
    "#### Plot predicted vs. actual"
   ]
  },
  {
   "cell_type": "code",
   "execution_count": 25,
   "metadata": {},
   "outputs": [
    {
     "data": {
      "image/png": "[encoded data removed]",
      "text/plain": [
       "<Figure size 432x288 with 1 Axes>"
      ]
     },
     "metadata": {
      "needs_background": "light"
     },
     "output_type": "display_data"
    }
   ],
   "source": [
    "plt.scatter(EN_pred, y_test)\n",
    "plt.title('Elastic Net: predicted vs. actual', fontsize=12)\n",
    "plt.xlabel('Predicted (test)', fontsize=10)\n",
    "plt.ylabel('Actual (test)', fontsize=10)\n",
    "\n",
    "# Plot line of best fit\n",
    "plt.plot(np.unique(EN_pred), np.poly1d(np.polyfit(EN_pred, y_test, 1))(np.unique(EN_pred)), color='red')\n",
    "slope, intercept, r_value, p_value, std_err = scipy.stats.linregress(EN_pred, y_test)\n",
    "M_string = 'M = ' + str(round(slope,2)) + ', R = ' + str(round(r_value,2))# Extract gradient ~1.0\n",
    "plt.text(4,7,M_string, color='red')               \n",
    "plt.show()"
   ]
  },
  {
   "cell_type": "markdown",
   "metadata": {},
   "source": [
    "## Linear Regression with reduced features"
   ]
  },
  {
   "cell_type": "markdown",
   "metadata": {},
   "source": [
    "#### Reduced features: 14"
   ]
  },
  {
   "cell_type": "code",
   "execution_count": 26,
   "metadata": {},
   "outputs": [
    {
     "name": "stdout",
     "output_type": "stream",
     "text": [
      "LR coefficient of determination (features= 14 ) 0.7851\n",
      "LR accuracy: 84.71 %.\n"
     ]
    }
   ],
   "source": [
    "# Create linear regression model\n",
    "LRmodel_scaled_14 = LinearRegression(fit_intercept = True, normalize = True)\n",
    "LRmodel_scaled_14.fit(X_train_scaled_14, y_train)\n",
    "\n",
    "r2 = LRmodel_scaled_14.score(X_train_scaled_14, y_train)\n",
    "print('LR coefficient of determination (features=', X_14.shape[1],')',round(r2,4))\n",
    "\n",
    "# Generate predictions and assess accuracy\n",
    "LR_pred_scaled_14 = LRmodel_scaled_14.predict(X_test_scaled_14)\n",
    "LRerrors = abs(LR_pred_scaled_14 - y_test)\n",
    "\n",
    "# Calculate mean absolute percentage error (MAPE)\n",
    "LRmape = 100 * (LRerrors / y_test)\n",
    "LRaccuracy = 100 - np.mean(LRmape)\n",
    "print('LR accuracy:', round(LRaccuracy, 2), '%.')"
   ]
  },
  {
   "cell_type": "markdown",
   "metadata": {},
   "source": [
    "#### Reduced features: 36"
   ]
  },
  {
   "cell_type": "code",
   "execution_count": 27,
   "metadata": {},
   "outputs": [
    {
     "name": "stdout",
     "output_type": "stream",
     "text": [
      "LR coefficient of determination (features= 36 ) 0.8065\n",
      "LR accuracy: 84.68 %.\n"
     ]
    }
   ],
   "source": [
    "# Create linear regression model\n",
    "LRmodel_scaled_36 = LinearRegression(fit_intercept = True, normalize = True)\n",
    "LRmodel_scaled_36.fit(X_train_scaled_36, y_train)\n",
    "\n",
    "r2 = LRmodel_scaled_36.score(X_train_scaled_36, y_train)\n",
    "print('LR coefficient of determination (features=', X_36.shape[1],')',round(r2,4))\n",
    "\n",
    "# Generate predictions and assess accuracy\n",
    "LR_pred_scaled_36 = LRmodel_scaled_36.predict(X_test_scaled_36)\n",
    "LRerrors = abs(LR_pred_scaled_36 - y_test)\n",
    "\n",
    "# Calculate mean absolute percentage error (MAPE)\n",
    "LRmape = 100 * (LRerrors / y_test)\n",
    "LRaccuracy = 100 - np.mean(LRmape)\n",
    "print('LR accuracy:', round(LRaccuracy, 2), '%.')"
   ]
  },
  {
   "cell_type": "markdown",
   "metadata": {},
   "source": [
    "### Random Forest Regression"
   ]
  },
  {
   "cell_type": "markdown",
   "metadata": {},
   "source": [
    "#### Unscaled"
   ]
  },
  {
   "cell_type": "code",
   "execution_count": 35,
   "metadata": {},
   "outputs": [
    {
     "name": "stdout",
     "output_type": "stream",
     "text": [
      "RF accuracy (unscaled features): 98.28 %.\n",
      "RF test score: 0.905\n",
      "Out of bag score: 0.9191\n"
     ]
    }
   ],
   "source": [
    "num_trees = 1000\n",
    "# Instantiate model with num_trees decision trees\n",
    "RFmodel = RandomForestRegressor(n_estimators = num_trees, oob_score = True, random_state = random_state)\n",
    "\n",
    "# Train the model on training data\n",
    "RFmodel.fit(X_train, y_train)\n",
    "\n",
    "# Generate predictions to assess performance\n",
    "RF_pred = RFmodel.predict(X_test)# Calculate the absolute errors\n",
    "RFerrors = abs(RF_pred - y_test)\n",
    "\n",
    "# Calculate mean absolute percentage error (MAPE)\n",
    "RFmape = 100 * (RFerrors / y_test).replace([np.inf, -np.inf])\n",
    "RFaccuracy = 100 - np.mean(RFmape)\n",
    "print('RF accuracy (unscaled features):', round(RFaccuracy, 2), '%.')\n",
    "RFtest_score = RFmodel.score(X_test, y_test)\n",
    "print('RF test score:', round(RFtest_score, 3))\n",
    "print('Out of bag score:', round(RFmodel.oob_score_,4))"
   ]
  },
  {
   "cell_type": "markdown",
   "metadata": {},
   "source": [
    "#### Scaled"
   ]
  },
  {
   "cell_type": "code",
   "execution_count": 37,
   "metadata": {},
   "outputs": [
    {
     "name": "stdout",
     "output_type": "stream",
     "text": [
      "RF accuracy (scaled features): 98.47 %.\n",
      "RF test score: 0.906\n",
      "Out of bag score: 0.9193\n"
     ]
    }
   ],
   "source": [
    "num_trees = 1000\n",
    "# Instantiate model with num_trees decision trees\n",
    "RFmodel = RandomForestRegressor(n_estimators = num_trees, oob_score = True, random_state = random_state)\n",
    "\n",
    "# Train the model on training data\n",
    "RFmodel.fit(X_train_scaled, y_train)\n",
    "\n",
    "# Generate predictions to assess performance\n",
    "RF_pred = RFmodel.predict(X_test_scaled)# Calculate the absolute errors\n",
    "RFerrors = abs(RF_pred - y_test)\n",
    "\n",
    "# Calculate mean absolute percentage error (MAPE)\n",
    "RFmape = 100 * (RFerrors / y_test).replace([np.inf, -np.inf])\n",
    "RFaccuracy = 100 - np.mean(RFmape)\n",
    "print('RF accuracy (scaled features):', round(RFaccuracy, 2), '%.')\n",
    "RFtest_score = RFmodel.score(X_test_scaled, y_test)\n",
    "print('RF test score:', round(RFtest_score, 3))\n",
    "print('Out of bag score:', round(RFmodel.oob_score_,4))"
   ]
  },
  {
   "cell_type": "markdown",
   "metadata": {},
   "source": [
    "#### Cross validation score"
   ]
  },
  {
   "cell_type": "code",
   "execution_count": 38,
   "metadata": {},
   "outputs": [
    {
     "name": "stdout",
     "output_type": "stream",
     "text": [
      "RF 10 fold CV average score: 90.29 %\n"
     ]
    }
   ],
   "source": [
    "# Cross Validation\n",
    "num_trees = 1000\n",
    "# Instantiate model with num_trees decision trees\n",
    "RFmodel_CV = RandomForestRegressor(n_estimators = num_trees, oob_score = True, random_state = random_state)\n",
    "\n",
    "# Train the model on training data\n",
    "RFmodel_CV.fit(X_train, y_train)\n",
    "\n",
    "k_folds = 10\n",
    "RFscores = cross_val_score(RFmodel, X, y, cv=k_folds)\n",
    "print('RF',k_folds,'fold CV average score:', round(np.mean(RFscores)*100,2),'%')"
   ]
  },
  {
   "cell_type": "markdown",
   "metadata": {},
   "source": [
    "#### Plot predicted and test"
   ]
  },
  {
   "cell_type": "code",
   "execution_count": 39,
   "metadata": {},
   "outputs": [
    {
     "data": {
      "image/png": "[encoded data removed]",
      "text/plain": [
       "<Figure size 432x288 with 1 Axes>"
      ]
     },
     "metadata": {
      "needs_background": "light"
     },
     "output_type": "display_data"
    }
   ],
   "source": [
    "plt.scatter(RF_pred, y_test)\n",
    "plt.title('Random Forest: predicted vs. actual', fontsize=12)\n",
    "plt.xlabel('Predicted (test)', fontsize=10)\n",
    "plt.ylabel('Actual (test)', fontsize=10)\n",
    "\n",
    "# Plot line of best fit\n",
    "plt.plot(np.unique(RF_pred), np.poly1d(np.polyfit(RF_pred, y_test, 1))(np.unique(RF_pred)), color='red')\n",
    "slope, intercept, r_value, p_value, std_err = scipy.stats.linregress(RF_pred, y_test)\n",
    "M_string = 'M = ' + str(round(slope,2)) + ', R = ' + str(round(r_value,2))# Extract gradient ~1.0\n",
    "plt.text(4,7,M_string, color='red')               \n",
    "plt.show()"
   ]
  },
  {
   "cell_type": "markdown",
   "metadata": {},
   "source": [
    "#### RF with reduced features"
   ]
  },
  {
   "cell_type": "code",
   "execution_count": 32,
   "metadata": {},
   "outputs": [
    {
     "name": "stdout",
     "output_type": "stream",
     "text": [
      "RF accuracy (unscaled, reduced features): 86.55 %.\n",
      "RF test score: 0.797\n",
      "Out of bag score: 0.8166\n"
     ]
    }
   ],
   "source": [
    "num_trees = 1000\n",
    "# Instantiate model with num_trees decision trees\n",
    "RFmodel_reduced = RandomForestRegressor(n_estimators = num_trees, oob_score = True, random_state = random_state)\n",
    "\n",
    "# Train the model on training data\n",
    "RFmodel_reduced.fit(X_train_14, y_train)\n",
    "\n",
    "# Generate predictions to assess performance\n",
    "RF_pred_reduced = RFmodel_reduced.predict(X_test_14)# Calculate the absolute errors\n",
    "RFerrors = abs(RF_pred_reduced - y_test)\n",
    "\n",
    "# Calculate mean absolute percentage error (MAPE)\n",
    "RFmape = 100 * (RFerrors / y_test).replace([np.inf, -np.inf])\n",
    "RFaccuracy = 100 - np.mean(RFmape)\n",
    "print('RF accuracy (unscaled, reduced features):', round(RFaccuracy, 2), '%.')\n",
    "RFtest_score = RFmodel_reduced.score(X_test_14, y_test)\n",
    "print('RF test score:', round(RFtest_score, 3))\n",
    "print('Out of bag score:', round(RFmodel_reduced.oob_score_,4))"
   ]
  },
  {
   "cell_type": "markdown",
   "metadata": {},
   "source": [
    "### Support Vector Regression"
   ]
  },
  {
   "cell_type": "markdown",
   "metadata": {},
   "source": [
    "#### RBF Kernel"
   ]
  },
  {
   "cell_type": "code",
   "execution_count": 40,
   "metadata": {},
   "outputs": [
    {
     "name": "stdout",
     "output_type": "stream",
     "text": [
      "\n",
      "C: 0.01\n",
      "SVR accuracy: 97.62 %.\n",
      "SVR test score: 0.606\n",
      "\n",
      "C: 0.1\n",
      "SVR accuracy: 98.38 %.\n",
      "SVR test score: 0.751\n",
      "\n",
      "C: 1.0\n",
      "SVR accuracy: 98.41 %.\n",
      "SVR test score: 0.866\n",
      "\n",
      "C: 10\n",
      "SVR accuracy: 98.75 %.\n",
      "SVR test score: 0.903\n",
      "\n",
      "C: 100\n",
      "SVR accuracy: 98.32 %.\n",
      "SVR test score: 0.9\n",
      "\n",
      "C: 1000\n",
      "SVR accuracy: 97.39 %.\n",
      "SVR test score: 0.882\n"
     ]
    }
   ],
   "source": [
    "# Vary C to optimise SVR NB C=0 = no penalty\n",
    "C_array = [0.01, 0.1, 1.0, 10, 100, 1000]\n",
    "SVR_array = [] # array will store C, test accuracy and test score\n",
    "\n",
    "for C_iter in C_array:\n",
    "    print('\\nC:', C_iter)\n",
    "\n",
    "    SVRmodel = SVR(C=C_iter, kernel='rbf', gamma='auto', epsilon=0.01)\n",
    "    SVRmodel.fit(X_train_scaled,y_train)\n",
    "\n",
    "    # Generate predictions to assess performance\n",
    "    SVR_pred = SVRmodel.predict(X_test_scaled)# Calculate the absolute errors\n",
    "    SVRerrors = abs(SVR_pred - y_test)\n",
    "\n",
    "    # Calculate mean absolute percentage error (MAPE)\n",
    "    SVRmape = 100 * (SVRerrors / y_test).replace([np.inf, -np.inf])\n",
    "    SVRaccuracy = 100 - np.mean(SVRmape)\n",
    "    print('SVR accuracy:', round(SVRaccuracy, 2), '%.')\n",
    "    SVRtest_score = SVRmodel.score(X_test_scaled, y_test)\n",
    "    print('SVR test score:', round(SVRtest_score, 3))\n",
    "    SVR_array.append([C_iter, SVRaccuracy, SVRtest_score])\n",
    "\n",
    "SVR_array = np.asarray(SVR_array)    "
   ]
  },
  {
   "cell_type": "code",
   "execution_count": 34,
   "metadata": {},
   "outputs": [],
   "source": [
    "# Refit using optimal params\n",
    "SVR_best_C = 10\n",
    "SVR_best_epsilon = 0.01\n",
    "\n",
    "SVRmodel = SVR(C=SVR_best_C, kernel='rbf', gamma='auto', epsilon=SVR_best_epsilon)\n",
    "SVRmodel.fit(X_train_scaled,y_train)\n",
    "\n",
    "# Generate predictions to plot predicted and actuals\n",
    "SVR_pred = SVRmodel.predict(X_test_scaled)"
   ]
  },
  {
   "cell_type": "markdown",
   "metadata": {},
   "source": [
    "#### Plot predicted vs. actual"
   ]
  },
  {
   "cell_type": "code",
   "execution_count": 35,
   "metadata": {},
   "outputs": [
    {
     "data": {
      "image/png": "[encoded data removed]",
      "text/plain": [
       "<Figure size 432x288 with 1 Axes>"
      ]
     },
     "metadata": {
      "needs_background": "light"
     },
     "output_type": "display_data"
    }
   ],
   "source": [
    "plt.scatter(SVR_pred, y_test)\n",
    "plt.title('Support Vector Regression: predicted vs. actual', fontsize=12)\n",
    "plt.xlabel('Predicted (test)', fontsize=10)\n",
    "plt.ylabel('Actual (test)', fontsize=10)\n",
    "\n",
    "# Plot line of best fit\n",
    "plt.plot(np.unique(SVR_pred), np.poly1d(np.polyfit(SVR_pred, y_test, 1))(np.unique(SVR_pred)), color='red')\n",
    "slope, intercept, r_value, p_value, std_err = scipy.stats.linregress(SVR_pred, y_test)\n",
    "M_string = 'M = ' + str(round(slope,2)) + ', R = ' + str(round(r_value,2))# Extract gradient ~1.0\n",
    "plt.text(4,7,M_string, color='red')               \n",
    "plt.show()"
   ]
  },
  {
   "cell_type": "markdown",
   "metadata": {},
   "source": [
    "#### Reduced features 14"
   ]
  },
  {
   "cell_type": "code",
   "execution_count": 36,
   "metadata": {},
   "outputs": [
    {
     "name": "stdout",
     "output_type": "stream",
     "text": [
      "SVR accuracy (features= 14 ): 86.39 %.\n",
      "SVR test score: 0.764\n"
     ]
    }
   ],
   "source": [
    "# Refit using optimal params\n",
    "SVR_best_C = 10\n",
    "SVR_best_epsilon = 0.01\n",
    "\n",
    "SVRmodel_reduced = SVR(C=SVR_best_C, kernel='rbf', gamma='auto', epsilon=SVR_best_epsilon)\n",
    "SVRmodel_reduced.fit(X_train_scaled_14, y_train)\n",
    "\n",
    "# Generate predictions to plot predicted and actuals\n",
    "SVR_pred_reduced = SVRmodel_reduced.predict(X_test_scaled_14)\n",
    "SVRerrors = abs(SVR_pred_reduced - y_test)\n",
    "\n",
    "# Calculate mean absolute percentage error (MAPE)\n",
    "SVRmape = 100 * (SVRerrors / y_test)\n",
    "SVRaccuracy = 100 - np.mean(SVRmape)\n",
    "print('SVR accuracy (features=', X_14.shape[1],'):', round(SVRaccuracy, 2), '%.')\n",
    "SVRtest_score = SVRmodel_reduced.score(X_test_scaled_14, y_test)\n",
    "print('SVR test score:', round(SVRtest_score, 3))"
   ]
  },
  {
   "cell_type": "markdown",
   "metadata": {},
   "source": [
    "#### Reduced features 36"
   ]
  },
  {
   "cell_type": "code",
   "execution_count": 37,
   "metadata": {},
   "outputs": [
    {
     "name": "stdout",
     "output_type": "stream",
     "text": [
      "SVR accuracy (features= 36 ): 87.98 %.\n",
      "SVR test score: 0.797\n"
     ]
    }
   ],
   "source": [
    "# Refit using optimal params\n",
    "SVR_best_C = 10\n",
    "SVR_best_epsilon = 0.01\n",
    "\n",
    "SVRmodel_reduced = SVR(C=SVR_best_C, kernel='rbf', gamma='auto', epsilon=SVR_best_epsilon)\n",
    "SVRmodel_reduced.fit(X_train_scaled_36, y_train)\n",
    "\n",
    "# Generate predictions to plot predicted and actuals\n",
    "SVR_pred_reduced = SVRmodel_reduced.predict(X_test_scaled_36)\n",
    "SVRerrors = abs(SVR_pred_reduced - y_test)\n",
    "\n",
    "# Calculate mean absolute percentage error (MAPE)\n",
    "SVRmape = 100 * (SVRerrors / y_test)\n",
    "SVRaccuracy = 100 - np.mean(SVRmape)\n",
    "print('SVR accuracy (features=', X_36.shape[1],'):', round(SVRaccuracy, 2), '%.')\n",
    "SVRtest_score = SVRmodel_reduced.score(X_test_scaled_36, y_test)\n",
    "print('SVR test score:', round(SVRtest_score, 3))"
   ]
  },
  {
   "cell_type": "markdown",
   "metadata": {},
   "source": [
    "#### Sigmoid Kernel"
   ]
  },
  {
   "cell_type": "code",
   "execution_count": 38,
   "metadata": {},
   "outputs": [
    {
     "name": "stdout",
     "output_type": "stream",
     "text": [
      "\n",
      "C: 0.01\n",
      "SVR accuracy: 80.64 %.\n",
      "SVR test score: 0.594\n",
      "\n",
      "C: 0.1\n",
      "SVR accuracy: 77.85 %.\n",
      "SVR test score: -0.193\n",
      "\n",
      "C: 1.0\n",
      "SVR accuracy: -60.35 %.\n",
      "SVR test score: -180.0\n",
      "\n",
      "C: 10\n",
      "SVR accuracy: -1496.73 %.\n",
      "SVR test score: -18649.935\n",
      "\n",
      "C: 100\n",
      "SVR accuracy: -15883.89 %.\n",
      "SVR test score: -1868641.421\n",
      "\n",
      "C: 1000\n",
      "SVR accuracy: -159779.95 %.\n",
      "SVR test score: -186895435.672\n"
     ]
    }
   ],
   "source": [
    "# Vary C to optimise SVR NB C=0 = no penalty\n",
    "C_array = [0.01, 0.1, 1.0, 10, 100, 1000]\n",
    "SVR_array = [] # array will store C, test accuracy and test score\n",
    "\n",
    "for C_iter in C_array:\n",
    "    print('\\nC:', C_iter)\n",
    "\n",
    "    SVRmodel = SVR(C=C_iter, kernel='sigmoid', gamma='auto', epsilon=0.01)\n",
    "    SVRmodel.fit(X_train_scaled,y_train)\n",
    "\n",
    "    # Generate predictions to assess performance\n",
    "    SVR_pred = SVRmodel.predict(X_test_scaled)# Calculate the absolute errors\n",
    "    SVRerrors = abs(SVR_pred - y_test)\n",
    "\n",
    "    # Calculate mean absolute percentage error (MAPE)\n",
    "    SVRmape = 100 * (SVRerrors / y_test)\n",
    "    SVRaccuracy = 100 - np.mean(SVRmape)\n",
    "    print('SVR accuracy:', round(SVRaccuracy, 2), '%.')\n",
    "    SVRtest_score = SVRmodel.score(X_test_scaled, y_test)\n",
    "    print('SVR test score:', round(SVRtest_score, 3))\n",
    "    SVR_array.append([C_iter, SVRaccuracy, SVRtest_score])\n",
    "\n",
    "SVR_array = np.asarray(SVR_array) "
   ]
  },
  {
   "cell_type": "markdown",
   "metadata": {},
   "source": [
    "#### Polynomial Kernel"
   ]
  },
  {
   "cell_type": "code",
   "execution_count": 39,
   "metadata": {},
   "outputs": [
    {
     "name": "stdout",
     "output_type": "stream",
     "text": [
      "\n",
      "C: 0.01\n",
      "SVR accuracy: 73.26 %.\n",
      "SVR test score: 0.323\n",
      "\n",
      "C: 0.1\n",
      "SVR accuracy: 79.01 %.\n",
      "SVR test score: 0.467\n",
      "\n",
      "C: 1.0\n",
      "SVR accuracy: 83.89 %.\n",
      "SVR test score: 0.513\n",
      "\n",
      "C: 10\n",
      "SVR accuracy: 83.35 %.\n",
      "SVR test score: -0.593\n",
      "\n",
      "C: 100\n",
      "SVR accuracy: 80.44 %.\n",
      "SVR test score: -2.144\n",
      "\n",
      "C: 1000\n",
      "SVR accuracy: 80.19 %.\n",
      "SVR test score: -2.022\n"
     ]
    }
   ],
   "source": [
    "# Vary C to optimise SVR NB C=0 = no penalty\n",
    "C_array = [0.01, 0.1, 1.0, 10, 100, 1000]\n",
    "SVR_array = [] # array will store C, test accuracy and test score\n",
    "\n",
    "for C_iter in C_array:\n",
    "    print('\\nC:', C_iter)\n",
    "\n",
    "    SVRmodel = SVR(C=C_iter, kernel='poly', degree=3, gamma='auto', epsilon=0.1)\n",
    "    SVRmodel.fit(X_train_scaled,y_train)\n",
    "\n",
    "    # Generate predictions to assess performance\n",
    "    SVR_pred = SVRmodel.predict(X_test_scaled)# Calculate the absolute errors\n",
    "    SVRerrors = abs(SVR_pred - y_test)\n",
    "\n",
    "    # Calculate mean absolute percentage error (MAPE)\n",
    "    SVRmape = 100 * (SVRerrors / y_test)\n",
    "    SVRaccuracy = 100 - np.mean(SVRmape)\n",
    "    print('SVR accuracy:', round(SVRaccuracy, 2), '%.')\n",
    "    SVRtest_score = SVRmodel.score(X_test_scaled, y_test)\n",
    "    print('SVR test score:', round(SVRtest_score, 3))\n",
    "    SVR_array.append([C_iter, SVRaccuracy, SVRtest_score])\n",
    "\n",
    "SVR_array = np.asarray(SVR_array) "
   ]
  },
  {
   "cell_type": "markdown",
   "metadata": {},
   "source": [
    "### Replace time-series TRC features with gradient type measure"
   ]
  },
  {
   "cell_type": "markdown",
   "metadata": {},
   "source": [
    "#### Reduced features 14"
   ]
  },
  {
   "cell_type": "code",
   "execution_count": 40,
   "metadata": {},
   "outputs": [],
   "source": [
    "# Replace 3 prior TRC with trend\n",
    "# \n",
    "# num_TRC_periods_delta = 3\n",
    "delta_decay = 0.0 # rate at which changes in periods prior to last in training set\n"
   ]
  },
  {
   "cell_type": "code",
   "execution_count": 41,
   "metadata": {},
   "outputs": [],
   "source": [
    "# Calculate the change in TRC metrics between most recent feature (ie excluding the predictor period)\n",
    "# and prior TRC periods for num_TRC_periods_delta, NB for SF401 this is only 3 periods\n",
    "SDTopLeftDelta_train = (1.0*(X_train['SDTopLeft3']-X_train['SDTopLeft2'])+delta_decay*\n",
    "                  (X_train['SDTopLeft2']-X_train['SDTopLeft1']))/(1+delta_decay)\n",
    "SDTopRightDelta_train = (1.0*(X_train['SDTopRight3']-X_train['SDTopRight2'])+delta_decay*\n",
    "                   (X_train['SDTopRight2']-X_train['SDTopRight1']))/(1+delta_decay)\n",
    "SDTwist10Delta_train = (1.0*(X_train['SDTwist103']-X_train['SDTwist102'])+delta_decay*\n",
    "                  (X_train['SDTwist102']-X_train['SDTwist101']))/(1+delta_decay)\n",
    "SDTwist3Delta_train = (1.0*(X_train['SDTwist33']-X_train['SDTwist32'])+delta_decay*\n",
    "                 (X_train['SDTwist32']-X_train['SDTwist31']))/(1+delta_decay)\n",
    "SDVersLDelta_train = (1.0*(X_train['SDVersL3']-X_train['SDVersL2'])+delta_decay*\n",
    "                (X_train['SDVersL2']-X_train['SDVersL1']))/(1+delta_decay)\n",
    "\n",
    "delta_drop_features_13 = ['SDTopLeft1', 'SDTopLeft2', 'SDTopRight1', 'SDTopRight2', 'SDTwist32', 'SDVersL2']\n",
    "X_train_13 = X_train_14.drop(delta_drop_features_13, axis=1)\n",
    "X_train_13['SDTopLeftDelta'] = SDTopLeftDelta_train\n",
    "X_train_13['SDTopRightDelta'] = SDTopRightDelta_train\n",
    "X_train_13['SDTwist10Delta'] = SDTwist10Delta_train\n",
    "X_train_13['SDTwist3Delta'] = SDTwist3Delta_train\n",
    "X_train_13['SDVersLDelta'] = SDVersLDelta_train\n"
   ]
  },
  {
   "cell_type": "code",
   "execution_count": 42,
   "metadata": {},
   "outputs": [],
   "source": [
    "# Test data\n",
    "SDTopLeftDelta_test = (1.0*(X_test['SDTopLeft3']-X_test['SDTopLeft2'])+delta_decay*\n",
    "                  (X_test['SDTopLeft2']-X_test['SDTopLeft1']))/(1+delta_decay)\n",
    "SDTopRightDelta_test = (1.0*(X_test['SDTopRight3']-X_test['SDTopRight2'])+delta_decay*\n",
    "                   (X_test['SDTopRight2']-X_test['SDTopRight1']))/(1+delta_decay)\n",
    "SDTwist10Delta_test = (1.0*(X_test['SDTwist103']-X_test['SDTwist102'])+delta_decay*\n",
    "                  (X_test['SDTwist102']-X_test['SDTwist101']))/(1+delta_decay)\n",
    "SDTwist3Delta_test = (1.0*(X_test['SDTwist33']-X_test['SDTwist32'])+delta_decay*\n",
    "                 (X_test['SDTwist32']-X_test['SDTwist31']))/(1+delta_decay)\n",
    "SDVersLDelta_test = (1.0*(X_test['SDVersL3']-X_test['SDVersL2'])+delta_decay*\n",
    "                (X_test['SDVersL2']-X_test['SDVersL1']))/(1+delta_decay)\n",
    "\n",
    "X_test_13 = X_test_14.drop(delta_drop_features_13, axis=1)\n",
    "X_test_13['SDTopLeftDelta'] = SDTopLeftDelta_test\n",
    "X_test_13['SDTopRightDelta'] = SDTopRightDelta_test\n",
    "X_test_13['SDTwist10Delta'] = SDTwist10Delta_test\n",
    "X_test_13['SDTwist3Delta'] = SDTwist3Delta_test\n",
    "X_test_13['SDVersLDelta'] = SDVersLDelta_test\n"
   ]
  },
  {
   "cell_type": "code",
   "execution_count": 43,
   "metadata": {},
   "outputs": [],
   "source": [
    "# Train and scaled\n",
    "SDTopLeftDelta_train_scaled = (1.0*(X_train_scaled['SDTopLeft3']-X_train_scaled['SDTopLeft2'])+delta_decay*\n",
    "                  (X_train_scaled['SDTopLeft2']-X_train_scaled['SDTopLeft1']))/(1+delta_decay)\n",
    "SDTopRightDelta_train_scaled = (1.0*(X_train_scaled['SDTopRight3']-X_train_scaled['SDTopRight2'])+delta_decay*\n",
    "                   (X_train_scaled['SDTopRight2']-X_train_scaled['SDTopRight1']))/(1+delta_decay)\n",
    "SDTwist10Delta_train_scaled = (1.0*(X_train_scaled['SDTwist103']-X_train_scaled['SDTwist102'])+delta_decay*\n",
    "                  (X_train_scaled['SDTwist102']-X_train_scaled['SDTwist101']))/(1+delta_decay)\n",
    "SDTwist3Delta_train_scaled = (1.0*(X_train_scaled['SDTwist33']-X_train_scaled['SDTwist32'])+delta_decay*\n",
    "                 (X_train_scaled['SDTwist32']-X_train_scaled['SDTwist31']))/(1+delta_decay)\n",
    "SDVersLDelta_train_scaled = (1.0*(X_train_scaled['SDVersL3']-X_train_scaled['SDVersL2'])+delta_decay*\n",
    "                (X_train_scaled['SDVersL2']-X_train_scaled['SDVersL1']))/(1+delta_decay)\n",
    "\n",
    "X_train_scaled_13 = X_train_scaled_14.drop(delta_drop_features_13, axis=1)\n",
    "X_train_scaled_13['SDTopLeftDelta'] = SDTopLeftDelta_train_scaled\n",
    "X_train_scaled_13['SDTopRightDelta'] = SDTopRightDelta_train_scaled\n",
    "X_train_scaled_13['SDTwist10Delta'] = SDTwist10Delta_train_scaled\n",
    "X_train_scaled_13['SDTwist3Delta'] = SDTwist3Delta_train_scaled\n",
    "X_train_scaled_13['SDVersLDelta'] = SDVersLDelta_train_scaled\n"
   ]
  },
  {
   "cell_type": "code",
   "execution_count": 44,
   "metadata": {},
   "outputs": [],
   "source": [
    "# Test and scaled\n",
    "SDTopLeftDelta_test_scaled = (1.0*(X_test_scaled['SDTopLeft3']-X_test_scaled['SDTopLeft2'])+delta_decay*\n",
    "                  (X_test_scaled['SDTopLeft2']-X_test_scaled['SDTopLeft1']))/(1+delta_decay)\n",
    "SDTopRightDelta_test_scaled = (1.0*(X_test_scaled['SDTopRight3']-X_test_scaled['SDTopRight2'])+delta_decay*\n",
    "                   (X_test_scaled['SDTopRight2']-X_test_scaled['SDTopRight1']))/(1+delta_decay)\n",
    "SDTwist10Delta_test_scaled = (1.0*(X_test_scaled['SDTwist103']-X_test_scaled['SDTwist102'])+delta_decay*\n",
    "                  (X_test_scaled['SDTwist102']-X_test_scaled['SDTwist101']))/(1+delta_decay)\n",
    "SDTwist3Delta_test_scaled = (1.0*(X_test_scaled['SDTwist33']-X_test_scaled['SDTwist32'])+delta_decay*\n",
    "                 (X_test_scaled['SDTwist32']-X_test_scaled['SDTwist31']))/(1+delta_decay)\n",
    "SDVersLDelta_test_scaled = (1.0*(X_test_scaled['SDVersL3']-X_test_scaled['SDVersL2'])+delta_decay*\n",
    "                (X_test_scaled['SDVersL2']-X_test_scaled['SDVersL1']))/(1+delta_decay)\n",
    "\n",
    "X_test_scaled_13 = X_test_scaled_14.drop(delta_drop_features_13, axis=1)\n",
    "X_test_scaled_13['SDTopLeftDelta'] = SDTopLeftDelta_test_scaled\n",
    "X_test_scaled_13['SDTopRightDelta'] = SDTopRightDelta_test_scaled\n",
    "X_test_scaled_13['SDTwist10Delta'] = SDTwist10Delta_test_scaled\n",
    "X_test_scaled_13['SDTwist3Delta'] = SDTwist3Delta_test_scaled\n",
    "X_test_scaled_13['SDVersLDelta'] = SDVersLDelta_test_scaled\n"
   ]
  },
  {
   "cell_type": "code",
   "execution_count": 45,
   "metadata": {},
   "outputs": [],
   "source": [
    "# X_13\n",
    "SDTopLeftDelta = (1.0*(X['SDTopLeft3']-X['SDTopLeft2'])+delta_decay*\n",
    "                  (X_train['SDTopLeft2']-X['SDTopLeft1']))/(1+delta_decay)\n",
    "SDTopRightDelta = (1.0*(X['SDTopRight3']-X['SDTopRight2'])+delta_decay*\n",
    "                   (X['SDTopRight2']-X['SDTopRight1']))/(1+delta_decay)\n",
    "SDTwist10Delta = (1.0*(X['SDTwist103']-X['SDTwist102'])+delta_decay*\n",
    "                  (X['SDTwist102']-X['SDTwist101']))/(1+delta_decay)\n",
    "SDTwist3Delta = (1.0*(X['SDTwist33']-X['SDTwist32'])+delta_decay*\n",
    "                 (X_train['SDTwist32']-X_train['SDTwist31']))/(1+delta_decay)\n",
    "SDVersLDelta = (1.0*(X['SDVersL3']-X['SDVersL2'])+delta_decay*\n",
    "                (X['SDVersL2']-X['SDVersL1']))/(1+delta_decay)\n",
    "\n",
    "X_13 = X_36.drop(delta_drop_features_13, axis=1)\n",
    "X_13['SDTopLeftDelta'] = SDTopLeftDelta\n",
    "X_13['SDTopRightDelta'] = SDTopRightDelta\n",
    "X_13['SDTwist10Delta'] = SDTwist10Delta\n",
    "X_13['SDTwist3Delta'] = SDTwist3Delta\n",
    "X_13['SDVersLDelta'] = SDVersLDelta\n",
    "\n",
    "# X_scaled_13\n",
    "SDTopLeftDelta_scaled = (1.0*(X_scaled['SDTopLeft3']-X_scaled['SDTopLeft2'])+delta_decay*\n",
    "                  (X_scaled['SDTopLeft2']-X_scaled['SDTopLeft1']))/(1+delta_decay)\n",
    "SDTopRightDelta_scaled = (1.0*(X_scaled['SDTopRight3']-X_scaled['SDTopRight2'])+delta_decay*\n",
    "                   (X_scaled['SDTopRight2']-X_scaled['SDTopRight1']))/(1+delta_decay)\n",
    "SDTwist10Delta_scaled = (1.0*(X_scaled['SDTwist103']-X_scaled['SDTwist102'])+delta_decay*\n",
    "                  (X_scaled['SDTwist102']-X_scaled['SDTwist101']))/(1+delta_decay)\n",
    "SDTwist3Delta_scaled = (1.0*(X_scaled['SDTwist33']-X_scaled['SDTwist32'])+delta_decay*\n",
    "                 (X_scaled['SDTwist32']-X_scaled['SDTwist31']))/(1+delta_decay)\n",
    "SDVersLDelta_scaled = (1.0*(X_scaled['SDVersL3']-X_scaled['SDVersL2'])+delta_decay*\n",
    "                (X_scaled['SDVersL2']-X_scaled['SDVersL1']))/(1+delta_decay)\n",
    "\n",
    "X_scaled_13 = X_scaled_14.drop(delta_drop_features_13, axis=1)\n",
    "X_scaled_13['SDTopLeftDelta'] = SDTopLeftDelta_scaled\n",
    "X_scaled_13['SDTopRightDelta'] = SDTopRightDelta_scaled\n",
    "X_scaled_13['SDTwist10Delta'] = SDTwist10Delta_scaled\n",
    "X_scaled_13['SDTwist3Delta'] = SDTwist3Delta_scaled\n",
    "X_scaled_13['SDVersLDelta'] = SDVersLDelta_scaled"
   ]
  },
  {
   "cell_type": "markdown",
   "metadata": {},
   "source": [
    "#### Reduced features 36"
   ]
  },
  {
   "cell_type": "code",
   "execution_count": 46,
   "metadata": {},
   "outputs": [],
   "source": [
    "# Training data\n",
    "delta_drop_features_35 = ['SDTopLeft1', 'SDTopLeft2', 'SDTopRight1', 'SDTopRight2', 'SDTwist32', 'SDVersL2']\n",
    "X_train_35 = X_train_36.drop(delta_drop_features_35, axis=1)\n",
    "X_train_35['SDTopLeftDelta'] = SDTopLeftDelta_train\n",
    "X_train_35['SDTopRightDelta'] = SDTopRightDelta_train\n",
    "X_train_35['SDTwist10Delta'] = SDTwist10Delta_train\n",
    "X_train_35['SDTwist3Delta'] = SDTwist3Delta_train\n",
    "X_train_35['SDVersLDelta'] = SDVersLDelta_train\n",
    "\n",
    "# Testing data\n",
    "X_test_35 = X_test_36.drop(delta_drop_features_35, axis=1)\n",
    "X_test_35['SDTopLeftDelta'] = SDTopLeftDelta_test\n",
    "X_test_35['SDTopRightDelta'] = SDTopRightDelta_test\n",
    "X_test_35['SDTwist10Delta'] = SDTwist10Delta_test\n",
    "X_test_35['SDTwist3Delta'] = SDTwist3Delta_test\n",
    "X_test_35['SDVersLDelta'] = SDVersLDelta_test\n",
    "\n",
    "# Train and scaled\n",
    "X_train_scaled_35 = X_train_scaled_36.drop(delta_drop_features_35, axis=1)\n",
    "X_train_scaled_35['SDTopLeftDelta'] = SDTopLeftDelta_train_scaled\n",
    "X_train_scaled_35['SDTopRightDelta'] = SDTopRightDelta_train_scaled\n",
    "X_train_scaled_35['SDTwist10Delta'] = SDTwist10Delta_train_scaled\n",
    "X_train_scaled_35['SDTwist3Delta'] = SDTwist3Delta_train_scaled\n",
    "X_train_scaled_35['SDVersLDelta'] = SDVersLDelta_train_scaled\n",
    "\n",
    "# Test and scaled\n",
    "X_test_scaled_35 = X_test_scaled_36.drop(delta_drop_features_35, axis=1)\n",
    "X_test_scaled_35['SDTopLeftDelta'] = SDTopLeftDelta_test_scaled\n",
    "X_test_scaled_35['SDTopRightDelta'] = SDTopRightDelta_test_scaled\n",
    "X_test_scaled_35['SDTwist10Delta'] = SDTwist10Delta_test_scaled\n",
    "X_test_scaled_35['SDTwist3Delta'] = SDTwist3Delta_test_scaled\n",
    "X_test_scaled_35['SDVersLDelta'] = SDVersLDelta_test_scaled\n",
    "\n",
    "# X_35\n",
    "SDTopLeftDelta = (1.0*(X['SDTopLeft3']-X['SDTopLeft2'])+delta_decay*\n",
    "                  (X_train['SDTopLeft2']-X['SDTopLeft1']))/(1+delta_decay)\n",
    "SDTopRightDelta = (1.0*(X['SDTopRight3']-X['SDTopRight2'])+delta_decay*\n",
    "                   (X['SDTopRight2']-X['SDTopRight1']))/(1+delta_decay)\n",
    "SDTwist10Delta = (1.0*(X['SDTwist103']-X['SDTwist102'])+delta_decay*\n",
    "                  (X['SDTwist102']-X['SDTwist101']))/(1+delta_decay)\n",
    "SDTwist3Delta = (1.0*(X['SDTwist33']-X['SDTwist32'])+delta_decay*\n",
    "                 (X_train['SDTwist32']-X_train['SDTwist31']))/(1+delta_decay)\n",
    "SDVersLDelta = (1.0*(X['SDVersL3']-X['SDVersL2'])+delta_decay*\n",
    "                (X['SDVersL2']-X['SDVersL1']))/(1+delta_decay)\n",
    "\n",
    "X_35 = X_36.drop(delta_drop_features_35, axis=1)\n",
    "X_35['SDTopLeftDelta'] = SDTopLeftDelta\n",
    "X_35['SDTopRightDelta'] = SDTopRightDelta\n",
    "X_35['SDTwist10Delta'] = SDTwist10Delta\n",
    "X_35['SDTwist3Delta'] = SDTwist3Delta\n",
    "X_35['SDVersLDelta'] = SDVersLDelta\n",
    "\n",
    "# X_scaled_35\n",
    "SDTopLeftDelta_scaled = (1.0*(X_scaled['SDTopLeft3']-X_scaled['SDTopLeft2'])+delta_decay*\n",
    "                  (X_scaled['SDTopLeft2']-X_scaled['SDTopLeft1']))/(1+delta_decay)\n",
    "SDTopRightDelta_scaled = (1.0*(X_scaled['SDTopRight3']-X_scaled['SDTopRight2'])+delta_decay*\n",
    "                   (X_scaled['SDTopRight2']-X_scaled['SDTopRight1']))/(1+delta_decay)\n",
    "SDTwist10Delta_scaled = (1.0*(X_scaled['SDTwist103']-X_scaled['SDTwist102'])+delta_decay*\n",
    "                  (X_scaled['SDTwist102']-X_scaled['SDTwist101']))/(1+delta_decay)\n",
    "SDTwist3Delta_scaled = (1.0*(X_scaled['SDTwist33']-X_scaled['SDTwist32'])+delta_decay*\n",
    "                 (X_scaled['SDTwist32']-X_scaled['SDTwist31']))/(1+delta_decay)\n",
    "SDVersLDelta_scaled = (1.0*(X_scaled['SDVersL3']-X_scaled['SDVersL2'])+delta_decay*\n",
    "                (X_scaled['SDVersL2']-X_scaled['SDVersL1']))/(1+delta_decay)\n",
    "\n",
    "X_scaled_35 = X_scaled_36.drop(delta_drop_features_35, axis=1)\n",
    "X_scaled_35['SDTopLeftDelta'] = SDTopLeftDelta_scaled\n",
    "X_scaled_35['SDTopRightDelta'] = SDTopRightDelta_scaled\n",
    "X_scaled_35['SDTwist10Delta'] = SDTwist10Delta_scaled\n",
    "X_scaled_35['SDTwist3Delta'] = SDTwist3Delta_scaled\n",
    "X_scaled_35['SDVersLDelta'] = SDVersLDelta_scaled\n"
   ]
  },
  {
   "cell_type": "markdown",
   "metadata": {},
   "source": [
    "#### Random Forest using delta feature"
   ]
  },
  {
   "cell_type": "code",
   "execution_count": 47,
   "metadata": {},
   "outputs": [
    {
     "name": "stdout",
     "output_type": "stream",
     "text": [
      "RF accuracy (unscaled, reduced features): 86.85 %.\n",
      "RF test score: 0.798\n",
      "Out of bag score: 0.8261\n"
     ]
    }
   ],
   "source": [
    "# Using 35 features\n",
    "num_trees = 1000\n",
    "# Instantiate model with num_trees decision trees\n",
    "RFmodel_reduced = RandomForestRegressor(n_estimators = num_trees, oob_score = True, random_state = random_state)\n",
    "\n",
    "# Train the model on training data\n",
    "RFmodel_reduced.fit(X_train_35, y_train)\n",
    "\n",
    "# Generate predictions to assess performance\n",
    "RF_pred_reduced = RFmodel_reduced.predict(X_test_35)# Calculate the absolute errors\n",
    "RFerrors = abs(RF_pred_reduced - y_test)\n",
    "\n",
    "# Calculate mean absolute percentage error (MAPE)\n",
    "RFmape = 100 * (RFerrors / y_test)\n",
    "RFaccuracy = 100 - np.mean(RFmape)\n",
    "print('RF accuracy (unscaled, reduced features):', round(RFaccuracy, 2), '%.')\n",
    "RFtest_score = RFmodel_reduced.score(X_test_35, y_test)\n",
    "print('RF test score:', round(RFtest_score, 3))\n",
    "print('Out of bag score:', round(RFmodel_reduced.oob_score_,4))"
   ]
  },
  {
   "cell_type": "code",
   "execution_count": 48,
   "metadata": {},
   "outputs": [
    {
     "data": {
      "image/png": "[encoded data removed]",
      "text/plain": [
       "<Figure size 432x288 with 1 Axes>"
      ]
     },
     "metadata": {
      "needs_background": "light"
     },
     "output_type": "display_data"
    }
   ],
   "source": [
    "plt.scatter(RF_pred_reduced, y_test)\n",
    "plt.title('Random Forest: predicted vs. actual (delta feature)', fontsize=12)\n",
    "plt.xlabel('Predicted (test)', fontsize=10)\n",
    "plt.ylabel('Actual (test)', fontsize=10)\n",
    "\n",
    "# Plot line of best fit\n",
    "plt.plot(np.unique(RF_pred_reduced), np.poly1d(np.polyfit(RF_pred_reduced, y_test, 1))(np.unique(RF_pred_reduced)),\n",
    "         color='red')\n",
    "slope, intercept, r_value, p_value, std_err = scipy.stats.linregress(RF_pred_reduced, y_test)\n",
    "M_string = 'M = ' + str(round(slope,2)) + ', R = ' + str(round(r_value,2))# Extract gradient ~1.0\n",
    "plt.text(4,7,M_string, color='red')               \n",
    "plt.show()"
   ]
  },
  {
   "cell_type": "code",
   "execution_count": 49,
   "metadata": {},
   "outputs": [
    {
     "name": "stdout",
     "output_type": "stream",
     "text": [
      "RF accuracy (unscaled, reduced features): 86.06 %.\n",
      "RF test score: 0.779\n",
      "Out of bag score: 0.8045\n"
     ]
    }
   ],
   "source": [
    "# Using 13 features\n",
    "num_trees = 1000\n",
    "# Instantiate model with num_trees decision trees\n",
    "RFmodel_reduced = RandomForestRegressor(n_estimators = num_trees, oob_score = True, random_state = random_state)\n",
    "\n",
    "# Train the model on training data\n",
    "RFmodel_reduced.fit(X_train_13, y_train)\n",
    "\n",
    "# Generate predictions to assess performance\n",
    "RF_pred_reduced = RFmodel_reduced.predict(X_test_13)# Calculate the absolute errors\n",
    "RFerrors = abs(RF_pred_reduced - y_test)\n",
    "\n",
    "# Calculate mean absolute percentage error (MAPE)\n",
    "RFmape = 100 * (RFerrors / y_test)\n",
    "RFaccuracy = 100 - np.mean(RFmape)\n",
    "print('RF accuracy (unscaled, reduced features):', round(RFaccuracy, 2), '%.')\n",
    "RFtest_score = RFmodel_reduced.score(X_test_13, y_test)\n",
    "print('RF test score:', round(RFtest_score, 3))\n",
    "print('Out of bag score:', round(RFmodel_reduced.oob_score_,4))"
   ]
  },
  {
   "cell_type": "code",
   "execution_count": 50,
   "metadata": {},
   "outputs": [
    {
     "data": {
      "image/png": "[encoded data removed]",
      "text/plain": [
       "<Figure size 432x288 with 1 Axes>"
      ]
     },
     "metadata": {
      "needs_background": "light"
     },
     "output_type": "display_data"
    }
   ],
   "source": [
    "plt.scatter(RF_pred_reduced, y_test)\n",
    "plt.title('Random Forest: predicted vs. actual (delta feature)', fontsize=12)\n",
    "plt.xlabel('Predicted (test)', fontsize=10)\n",
    "plt.ylabel('Actual (test)', fontsize=10)\n",
    "\n",
    "# Plot line of best fit\n",
    "plt.plot(np.unique(RF_pred_reduced), np.poly1d(np.polyfit(RF_pred_reduced, y_test, 1))(np.unique(RF_pred_reduced)),\n",
    "         color='red')\n",
    "slope, intercept, r_value, p_value, std_err = scipy.stats.linregress(RF_pred_reduced, y_test)\n",
    "M_string = 'M = ' + str(round(slope,2)) + ', R = ' + str(round(r_value,2))# Extract gradient ~1.0\n",
    "plt.text(4,7,M_string, color='red')               \n",
    "plt.show()"
   ]
  },
  {
   "cell_type": "markdown",
   "metadata": {},
   "source": [
    "#### SVR using delta feature"
   ]
  },
  {
   "cell_type": "code",
   "execution_count": 51,
   "metadata": {},
   "outputs": [
    {
     "name": "stdout",
     "output_type": "stream",
     "text": [
      "SVR accuracy (features= 35 ): 88.02 %.\n",
      "SVR test score: 0.79\n"
     ]
    }
   ],
   "source": [
    "# Using 35 features\n",
    "# Fit using optimal params\n",
    "SVR_best_C = 10\n",
    "SVR_best_epsilon = 0.01\n",
    "\n",
    "SVRmodel_reduced = SVR(C=SVR_best_C, kernel='rbf', gamma='auto', epsilon=SVR_best_epsilon)\n",
    "SVRmodel_reduced.fit(X_train_scaled_35, y_train)\n",
    "\n",
    "# Generate predictions to plot predicted and actuals\n",
    "SVR_pred_reduced = SVRmodel_reduced.predict(X_test_scaled_35)\n",
    "SVRerrors = abs(SVR_pred_reduced - y_test)\n",
    "\n",
    "# Calculate mean absolute percentage error (MAPE)\n",
    "SVRmape = 100 * (SVRerrors / y_test)\n",
    "SVRaccuracy = 100 - np.mean(SVRmape)\n",
    "print('SVR accuracy (features=', X_train_scaled_35.shape[1],'):', round(SVRaccuracy, 2), '%.')\n",
    "SVRtest_score = SVRmodel_reduced.score(X_test_scaled_35, y_test)\n",
    "print('SVR test score:', round(SVRtest_score, 3))"
   ]
  },
  {
   "cell_type": "code",
   "execution_count": 52,
   "metadata": {},
   "outputs": [
    {
     "data": {
      "image/png": "[encoded data removed]",
      "text/plain": [
       "<Figure size 432x288 with 1 Axes>"
      ]
     },
     "metadata": {
      "needs_background": "light"
     },
     "output_type": "display_data"
    }
   ],
   "source": [
    "plt.scatter(SVR_pred_reduced, y_test)\n",
    "plt.title('Support Vector Regression: predicted vs. actual (delta feature)', fontsize=12)\n",
    "plt.xlabel('Predicted (test)', fontsize=10)\n",
    "plt.ylabel('Actual (test)', fontsize=10)\n",
    "\n",
    "# Plot line of best fit\n",
    "plt.plot(np.unique(SVR_pred_reduced), np.poly1d(np.polyfit(SVR_pred_reduced, y_test, 1))(np.unique(SVR_pred_reduced)), color='red')\n",
    "slope, intercept, r_value, p_value, std_err = scipy.stats.linregress(SVR_pred_reduced, y_test)\n",
    "M_string = 'M = ' + str(round(slope,2)) + ', R = ' + str(round(r_value,2))# Extract gradient ~1.0\n",
    "plt.text(4,7,M_string, color='red')               \n",
    "plt.show()"
   ]
  },
  {
   "cell_type": "code",
   "execution_count": 53,
   "metadata": {},
   "outputs": [
    {
     "name": "stdout",
     "output_type": "stream",
     "text": [
      "SVR accuracy (features= 13 ): 86.14 %.\n",
      "SVR test score: 0.731\n"
     ]
    }
   ],
   "source": [
    "# Using 13 features\n",
    "# Fit using optimal params\n",
    "SVR_best_C = 10\n",
    "SVR_best_epsilon = 0.01\n",
    "\n",
    "SVRmodel_reduced = SVR(C=SVR_best_C, kernel='rbf', gamma='auto', epsilon=SVR_best_epsilon)\n",
    "SVRmodel_reduced.fit(X_train_scaled_13, y_train)\n",
    "\n",
    "# Generate predictions to plot predicted and actuals\n",
    "SVR_pred_reduced = SVRmodel_reduced.predict(X_test_scaled_13)\n",
    "SVRerrors = abs(SVR_pred_reduced - y_test)\n",
    "\n",
    "# Calculate mean absolute percentage error (MAPE)\n",
    "SVRmape = 100 * (SVRerrors / y_test)\n",
    "SVRaccuracy = 100 - np.mean(SVRmape)\n",
    "print('SVR accuracy (features=', X_train_scaled_13.shape[1],'):', round(SVRaccuracy, 2), '%.')\n",
    "SVRtest_score = SVRmodel_reduced.score(X_test_scaled_13, y_test)\n",
    "print('SVR test score:', round(SVRtest_score, 3))"
   ]
  },
  {
   "cell_type": "code",
   "execution_count": 54,
   "metadata": {},
   "outputs": [
    {
     "data": {
      "image/png": "[encoded data removed]",
      "text/plain": [
       "<Figure size 432x288 with 1 Axes>"
      ]
     },
     "metadata": {
      "needs_background": "light"
     },
     "output_type": "display_data"
    }
   ],
   "source": [
    "plt.scatter(SVR_pred_reduced, y_test)\n",
    "plt.title('Support Vector Regression: predicted vs. actual (delta feature)', fontsize=12)\n",
    "plt.xlabel('Predicted (test)', fontsize=10)\n",
    "plt.ylabel('Actual (test)', fontsize=10)\n",
    "\n",
    "# Plot line of best fit\n",
    "plt.plot(np.unique(SVR_pred_reduced), np.poly1d(np.polyfit(SVR_pred_reduced, y_test, 1))(np.unique(SVR_pred_reduced)), color='red')\n",
    "slope, intercept, r_value, p_value, std_err = scipy.stats.linregress(SVR_pred_reduced, y_test)\n",
    "M_string = 'M = ' + str(round(slope,2)) + ', R = ' + str(round(r_value,2))# Extract gradient ~1.0\n",
    "plt.text(4,7,M_string, color='red')               \n",
    "plt.show()"
   ]
  },
  {
   "cell_type": "markdown",
   "metadata": {},
   "source": [
    "### KNN"
   ]
  },
  {
   "cell_type": "markdown",
   "metadata": {},
   "source": [
    "#### NB given use of distance metrics, KNN must use scaled data"
   ]
  },
  {
   "cell_type": "code",
   "execution_count": 55,
   "metadata": {},
   "outputs": [
    {
     "data": {
      "image/png": "[encoded data removed]",
      "text/plain": [
       "<Figure size 432x288 with 1 Axes>"
      ]
     },
     "metadata": {
      "needs_background": "light"
     },
     "output_type": "display_data"
    }
   ],
   "source": [
    "KNNrmse_array = [] #to store rmse values for different k\n",
    "K_min = 5 # Min K value\n",
    "K_max = 250 # Max K value\n",
    "K_inc = 5 # Increment in K search\n",
    "\n",
    "for K in range(K_min, K_max, K_inc):\n",
    "    KNNmodel_35 = neighbors.KNeighborsRegressor(n_neighbors = K)\n",
    "\n",
    "    KNNmodel_35.fit(X_train_scaled_35, y_train)  #fit the model\n",
    "    KNNpred_35 = KNNmodel_35.predict(X_test_scaled_35) #make prediction on test set\n",
    "    KNNrmse = (mean_squared_error(y_test, KNNpred_35))**0.5 #calculate rmse\n",
    "    KNNrmse_array.append([K,KNNrmse]) #store rmse values\n",
    "\n",
    "# Plot RMSE vs. K\n",
    "KNNelbow = pd.DataFrame(KNNrmse_array) #elbow curve \n",
    "plt.plot(KNNelbow.loc[:,0], KNNelbow.loc[:,1], '.b-')\n",
    "plt.title('KNN Test eror vs. K')\n",
    "plt.xlabel('K')\n",
    "plt.ylabel('Test RMSE')\n",
    "ax = plt.gca()\n",
    "plt.show()\n"
   ]
  },
  {
   "cell_type": "code",
   "execution_count": 56,
   "metadata": {},
   "outputs": [
    {
     "name": "stdout",
     "output_type": "stream",
     "text": [
      "Optimal K: 5\n",
      "KNN accuracy (features= 35 ): 83.74 %.\n",
      "KNN test score: 0.711\n"
     ]
    }
   ],
   "source": [
    "# Extract optimal K\n",
    "KNN_opt_ix = KNNelbow.loc[:,1].idxmin(axis=1)\n",
    "K_opt = KNNelbow.iloc[KNN_opt_ix, 0]\n",
    "\n",
    "# Refit using optimal K\n",
    "KNNmodel_35 = neighbors.KNeighborsRegressor(n_neighbors = K_opt)\n",
    "\n",
    "KNNmodel_35.fit(X_train_scaled_35, y_train)  #fit the model\n",
    "\n",
    "# Generate predictions to plot predicted and actuals\n",
    "KNN_pred_35 = KNNmodel_35.predict(X_test_scaled_35)\n",
    "KNNerrors_35 = abs(KNN_pred_35 - y_test)\n",
    "\n",
    "# Calculate mean absolute percentage error (MAPE)\n",
    "KNNmape_35 = 100 * (KNNerrors_35 / y_test)\n",
    "KNNaccuracy_35 = 100 - np.mean(KNNmape_35)\n",
    "print('Optimal K:', K_opt)\n",
    "print('KNN accuracy (features=', X_train_scaled_35.shape[1],'):', round(KNNaccuracy_35, 2), '%.')\n",
    "KNNtest_score_35 = KNNmodel_35.score(X_test_scaled_35, y_test)\n",
    "print('KNN test score:', round(KNNtest_score_35, 3))\n"
   ]
  },
  {
   "cell_type": "code",
   "execution_count": 57,
   "metadata": {},
   "outputs": [
    {
     "data": {
      "image/png": "[encoded data removed]",
      "text/plain": [
       "<Figure size 432x288 with 1 Axes>"
      ]
     },
     "metadata": {
      "needs_background": "light"
     },
     "output_type": "display_data"
    }
   ],
   "source": [
    "plt.scatter(KNN_pred_35, y_test)\n",
    "plt.title('KNN Regression: predicted vs. actual (delta feature)', fontsize=12)\n",
    "plt.xlabel('Predicted (test)', fontsize=10)\n",
    "plt.ylabel('Actual (test)', fontsize=10)\n",
    "\n",
    "# Plot line of best fit\n",
    "plt.plot(np.unique(KNN_pred_35), np.poly1d(np.polyfit(KNN_pred_35, y_test, 1))(np.unique(KNN_pred_35)), color='red')\n",
    "slope, intercept, r_value, p_value, std_err = scipy.stats.linregress(KNN_pred_35, y_test)\n",
    "M_string = 'M = ' + str(round(slope,2)) + ', R = ' + str(round(r_value,2))# Extract gradient ~1.0\n",
    "plt.text(4,7,M_string, color='red')               \n",
    "plt.show()"
   ]
  },
  {
   "cell_type": "markdown",
   "metadata": {},
   "source": [
    "#### Tune params 35"
   ]
  },
  {
   "cell_type": "code",
   "execution_count": 58,
   "metadata": {},
   "outputs": [
    {
     "name": "stdout",
     "output_type": "stream",
     "text": [
      "Optimal KNN paramaters: {'algorithm': 'ball_tree', 'metric': 'manhattan', 'n_neighbors': 5, 'p': 1, 'weights': 'distance'}\n"
     ]
    }
   ],
   "source": [
    "GS_CV = 10 # K-fold CV\n",
    "K_min = 5 # Min K value\n",
    "K_max = 50 # Max K value\n",
    "K_inc = 5 # Increment in K search\n",
    "\n",
    "KNNgrid_params = {\n",
    "    'n_neighbors': np.array(range(K_min,K_max,K_inc)),\n",
    "    'weights': ['uniform', 'distance'],\n",
    "    'metric': ['euclidean', 'manhattan'],\n",
    "    'algorithm': ['ball_tree', 'kd_tree', 'brute', 'auto'],\n",
    "    'p': [1, 2, 3, 1000] }\n",
    "\n",
    "KNNsearch_35 = GridSearchCV(neighbors.KNeighborsRegressor(), KNNgrid_params, cv=GS_CV)\n",
    "KNNsearch_35.fit(X_train_scaled_35, y_train)\n",
    "print('Optimal KNN paramaters:', KNNsearch_35.best_params_)\n"
   ]
  },
  {
   "cell_type": "code",
   "execution_count": 59,
   "metadata": {},
   "outputs": [
    {
     "name": "stdout",
     "output_type": "stream",
     "text": [
      "Optimal K: 5\n",
      "KNN accuracy (features= 35 ): 85.34 %.\n",
      "KNN test score: 0.742\n"
     ]
    }
   ],
   "source": [
    "# Refit using optimal paramaters\n",
    "KNNopt_algorithm = KNNsearch_35.best_params_['algorithm']\n",
    "KNNopt_metric = KNNsearch_35.best_params_['metric']\n",
    "KNNopt_n_neighbors = KNNsearch_35.best_params_['n_neighbors']\n",
    "KNNopt_p = KNNsearch_35.best_params_['p']\n",
    "KNNopt_weights = KNNsearch_35.best_params_['weights']\n",
    "\n",
    "KNNmodel_35 = neighbors.KNeighborsRegressor(algorithm = KNNopt_algorithm, metric=KNNopt_metric, \n",
    "                                            n_neighbors = KNNopt_n_neighbors, p=KNNopt_p, weights=KNNopt_weights)\n",
    "\n",
    "KNNmodel_35.fit(X_train_scaled_35, y_train)  #fit the model\n",
    "\n",
    "# Generate predictions to plot predicted and actuals\n",
    "KNN_pred_35 = KNNmodel_35.predict(X_test_scaled_35)\n",
    "KNNerrors_35 = abs(KNN_pred_35 - y_test)\n",
    "\n",
    "# Calculate mean absolute percentage error (MAPE)\n",
    "KNNmape_35 = 100 * (KNNerrors_35 / y_test)\n",
    "KNNaccuracy_35 = 100 - np.mean(KNNmape_35)\n",
    "print('Optimal K:', K_opt)\n",
    "print('KNN accuracy (features=', X_train_35.shape[1],'):', round(KNNaccuracy_35, 2), '%.')\n",
    "KNNtest_score_35 = KNNmodel_35.score(X_test_scaled_35, y_test)\n",
    "print('KNN test score:', round(KNNtest_score_35, 3))\n"
   ]
  },
  {
   "cell_type": "code",
   "execution_count": 60,
   "metadata": {},
   "outputs": [
    {
     "data": {
      "image/png": "[encoded data removed]",
      "text/plain": [
       "<Figure size 432x288 with 1 Axes>"
      ]
     },
     "metadata": {
      "needs_background": "light"
     },
     "output_type": "display_data"
    }
   ],
   "source": [
    "plt.scatter(KNN_pred_35, y_test)\n",
    "plt.title('KNN Regression: predicted vs. actual (delta feature)', fontsize=12)\n",
    "plt.xlabel('Predicted (test)', fontsize=10)\n",
    "plt.ylabel('Actual (test)', fontsize=10)\n",
    "\n",
    "# Plot line of best fit\n",
    "plt.plot(np.unique(KNN_pred_35), np.poly1d(np.polyfit(KNN_pred_35, y_test, 1))(np.unique(KNN_pred_35)), color='red')\n",
    "slope, intercept, r_value, p_value, std_err = scipy.stats.linregress(KNN_pred_35, y_test)\n",
    "M_string = 'M = ' + str(round(slope,2)) + ', R = ' + str(round(r_value,2))# Extract gradient ~1.0\n",
    "plt.text(4,7,M_string, color='red')               \n",
    "plt.show()"
   ]
  },
  {
   "cell_type": "markdown",
   "metadata": {},
   "source": [
    "#### Tune params 13"
   ]
  },
  {
   "cell_type": "code",
   "execution_count": 61,
   "metadata": {},
   "outputs": [
    {
     "name": "stdout",
     "output_type": "stream",
     "text": [
      "Optimal KNN paramaters: {'algorithm': 'ball_tree', 'metric': 'euclidean', 'n_neighbors': 5, 'p': 1, 'weights': 'distance'}\n",
      "Optimal K: 5\n",
      "KNN accuracy (features= 13 ): 85.58 %.\n",
      "KNN test score: 0.726\n"
     ]
    },
    {
     "data": {
      "image/png": "[encoded data removed]",
      "text/plain": [
       "<Figure size 432x288 with 1 Axes>"
      ]
     },
     "metadata": {
      "needs_background": "light"
     },
     "output_type": "display_data"
    }
   ],
   "source": [
    "KNNsearch_13 = GridSearchCV(neighbors.KNeighborsRegressor(), KNNgrid_params, cv=GS_CV)\n",
    "KNNsearch_13.fit(X_train_scaled_13, y_train)\n",
    "print('Optimal KNN paramaters:', KNNsearch_13.best_params_)\n",
    "\n",
    "# Refit using optimal paramaters\n",
    "KNNopt_algorithm = KNNsearch_13.best_params_['algorithm']\n",
    "KNNopt_metric = KNNsearch_13.best_params_['metric']\n",
    "KNNopt_n_neighbors = KNNsearch_13.best_params_['n_neighbors']\n",
    "KNNopt_p = KNNsearch_13.best_params_['p']\n",
    "KNNopt_weights = KNNsearch_13.best_params_['weights']\n",
    "\n",
    "KNNmodel_13 = neighbors.KNeighborsRegressor(algorithm = KNNopt_algorithm, metric=KNNopt_metric, \n",
    "                                            n_neighbors = KNNopt_n_neighbors, p=KNNopt_p, weights=KNNopt_weights)\n",
    "\n",
    "KNNmodel_13.fit(X_train_scaled_13, y_train)  #fit the model\n",
    "\n",
    "# Generate predictions to plot predicted and actuals\n",
    "KNN_pred_13 = KNNmodel_13.predict(X_test_scaled_13)\n",
    "KNNerrors_13 = abs(KNN_pred_13 - y_test)\n",
    "\n",
    "# Calculate mean absolute percentage error (MAPE)\n",
    "KNNmape_13 = 100 * (KNNerrors_13 / y_test)\n",
    "KNNaccuracy_13 = 100 - np.mean(KNNmape_13)\n",
    "print('Optimal K:', K_opt)\n",
    "print('KNN accuracy (features=', X_train_13.shape[1],'):', round(KNNaccuracy_13, 2), '%.')\n",
    "KNNtest_score_13 = KNNmodel_13.score(X_test_scaled_13, y_test)\n",
    "print('KNN test score:', round(KNNtest_score_13, 3))\n",
    "\n",
    "plt.scatter(KNN_pred_13, y_test)\n",
    "plt.title('KNN Regression: predicted vs. actual (delta feature)', fontsize=12)\n",
    "plt.xlabel('Predicted (test)', fontsize=10)\n",
    "plt.ylabel('Actual (test)', fontsize=10)\n",
    "\n",
    "# Plot line of best fit\n",
    "plt.plot(np.unique(KNN_pred_13), np.poly1d(np.polyfit(KNN_pred_13, y_test, 1))(np.unique(KNN_pred_13)), color='red')\n",
    "slope, intercept, r_value, p_value, std_err = scipy.stats.linregress(KNN_pred_13, y_test)\n",
    "M_string = 'M = ' + str(round(slope,2)) + ', R = ' + str(round(r_value,2))# Extract gradient ~1.0\n",
    "plt.text(4,7,M_string, color='red')               \n",
    "plt.show()"
   ]
  },
  {
   "cell_type": "markdown",
   "metadata": {},
   "source": [
    "### Artificial Neural Network"
   ]
  },
  {
   "cell_type": "markdown",
   "metadata": {},
   "source": [
    "#### Use scaled 35"
   ]
  },
  {
   "cell_type": "code",
   "execution_count": 62,
   "metadata": {},
   "outputs": [
    {
     "name": "stdout",
     "output_type": "stream",
     "text": [
      "Baseline: -24.64 (4.64) MSE\n"
     ]
    }
   ],
   "source": [
    "# Key variables\n",
    "n_epochs = 1000 # iterations\n",
    "ANNbatch = 100 # batches of training samples to propogate to optimise memory\n",
    "ANN_CV = 10 #kfold CV\n",
    "\n",
    "# Specify the keras model\n",
    "def ANNbase_model():\n",
    "    ANNmodel = Sequential()\n",
    "    ANNmodel.add(Dense(28, input_dim=X_train_scaled_35.shape[1], activation='relu'))\n",
    "    ANNmodel.add(Dense(24, kernel_initializer='random_uniform',bias_initializer='zeros', activation='relu'))\n",
    "    ANNmodel.add(Dense(16, kernel_initializer='random_uniform',bias_initializer='zeros',activation='relu'))\n",
    "    ANNmodel.add(Dense(12, kernel_initializer='random_uniform',bias_initializer='zeros',activation='relu'))\n",
    "    ANNmodel.add(Dense(8, kernel_initializer='random_uniform',bias_initializer='zeros',activation='relu'))\n",
    "    ANNmodel.add(Dense(4, kernel_initializer='random_uniform',bias_initializer='zeros',activation='relu'))\n",
    "    ANNmodel.add(Dense(1, activation='linear'))\n",
    "\n",
    "    # compile the keras model\n",
    "    ANNmodel.compile(loss='mean_absolute_percentage_error', optimizer='adam', metrics=['accuracy'])\n",
    "    \n",
    "    return ANNmodel\n",
    "\n",
    "# Evalate ANN\n",
    "ANNestimator = KerasRegressor(build_fn=ANNbase_model, epochs=n_epochs, batch_size=ANNbatch, verbose=0)\n",
    "ANNkfold = KFold(n_splits=ANN_CV)\n",
    "ANNresults = cross_val_score(ANNestimator, X_scaled_35, y, cv=ANNkfold)\n",
    "print(\"Baseline: %.2f (%.2f) MSE\" % (ANNresults.mean(), ANNresults.std()))\n"
   ]
  },
  {
   "cell_type": "code",
   "execution_count": 63,
   "metadata": {},
   "outputs": [
    {
     "name": "stdout",
     "output_type": "stream",
     "text": [
      "Baseline: -24.72 (3.56) MSE\n"
     ]
    }
   ],
   "source": [
    "# Key variables\n",
    "n_epochs = 1000 # iterations\n",
    "ANNbatch = 100 # batches of training samples to propogate to optimise memory\n",
    "ANN_CV = 10 #kfold CV\n",
    "\n",
    "# Specify the keras model\n",
    "def ANNbase_model():\n",
    "    ANNmodel = Sequential()\n",
    "    ANNmodel.add(Dense(128, input_dim=X_train_scaled_35.shape[1], activation='relu'))\n",
    "    ANNmodel.add(Dense(64, kernel_initializer='random_uniform',bias_initializer='zeros', activation='relu'))\n",
    "    ANNmodel.add(Dense(32, kernel_initializer='random_uniform',bias_initializer='zeros',activation='relu'))\n",
    "    ANNmodel.add(Dense(16, kernel_initializer='random_uniform',bias_initializer='zeros',activation='relu'))\n",
    "    ANNmodel.add(Dense(8, kernel_initializer='random_uniform',bias_initializer='zeros',activation='relu'))\n",
    "    ANNmodel.add(Dense(4, kernel_initializer='random_uniform',bias_initializer='zeros',activation='relu'))\n",
    "    ANNmodel.add(Dense(1, activation='linear'))\n",
    "\n",
    "    # compile the keras model\n",
    "    ANNmodel.compile(loss='mean_absolute_percentage_error', optimizer='adam', metrics=['accuracy'])\n",
    "    \n",
    "    return ANNmodel\n",
    "\n",
    "# Evalate ANN\n",
    "ANNestimator = KerasRegressor(build_fn=ANNbase_model, epochs=n_epochs, batch_size=ANNbatch, verbose=0)\n",
    "ANNkfold = KFold(n_splits=ANN_CV)\n",
    "ANNresults = cross_val_score(ANNestimator, X_scaled_35, y, cv=ANNkfold)\n",
    "print(\"Baseline: %.2f (%.2f) MSE\" % (ANNresults.mean(), ANNresults.std()))\n"
   ]
  },
  {
   "cell_type": "code",
   "execution_count": 64,
   "metadata": {},
   "outputs": [
    {
     "name": "stdout",
     "output_type": "stream",
     "text": [
      "ANN accuracy (features= 35 ): 85.89 %.\n",
      "ANN test score: -14.106\n"
     ]
    },
    {
     "data": {
      "image/png": "[encoded data removed]",
      "text/plain": [
       "<Figure size 432x288 with 1 Axes>"
      ]
     },
     "metadata": {
      "needs_background": "light"
     },
     "output_type": "display_data"
    }
   ],
   "source": [
    "# Evaluate test acuracy\n",
    "ANNestimator.fit(X_train_scaled_35, y_train)\n",
    "ANN_pred_35 = ANNestimator.predict(X_test_scaled_35)\n",
    "ANNerrors_35 = abs(ANN_pred_35 - y_test)\n",
    "\n",
    "# Calculate mean absolute percentage error (MAPE)\n",
    "ANNmape_35 = 100 * (ANNerrors_35 / y_test)\n",
    "ANNaccuracy_35 = 100 - np.mean(ANNmape_35)\n",
    "print('ANN accuracy (features=', X_train_scaled_35.shape[1],'):', round(ANNaccuracy_35, 2), '%.')\n",
    "ANNtest_score_35 = ANNestimator.score(X_test_scaled_35, y_test)\n",
    "print('ANN test score:', round(ANNtest_score_35, 3))\n",
    "\n",
    "plt.scatter(ANN_pred_35, y_test)\n",
    "plt.title('ANN Regression: predicted vs. actual (delta feature)', fontsize=12)\n",
    "plt.xlabel('Predicted (test)', fontsize=10)\n",
    "plt.ylabel('Actual (test)', fontsize=10)\n",
    "\n",
    "# Plot line of best fit\n",
    "plt.plot(np.unique(ANN_pred_35), np.poly1d(np.polyfit(ANN_pred_35, y_test, 1))(np.unique(ANN_pred_35)), color='red')\n",
    "slope, intercept, r_value, p_value, std_err = scipy.stats.linregress(ANN_pred_35, y_test)\n",
    "M_string = 'M = ' + str(round(slope,2)) + ', R = ' + str(round(r_value,2))# Extract gradient ~1.0\n",
    "plt.text(4,7,M_string, color='red')               \n",
    "plt.show()"
   ]
  },
  {
   "cell_type": "markdown",
   "metadata": {},
   "source": [
    "### MLP"
   ]
  },
  {
   "cell_type": "code",
   "execution_count": 66,
   "metadata": {},
   "outputs": [
    {
     "name": "stdout",
     "output_type": "stream",
     "text": [
      "MLP accuracy (features= 35 ): 86.71 %.\n",
      "MLP test score: 0.799\n"
     ]
    },
    {
     "data": {
      "image/png": "[encoded data removed]",
      "text/plain": [
       "<Figure size 432x288 with 1 Axes>"
      ]
     },
     "metadata": {
      "needs_background": "light"
     },
     "output_type": "display_data"
    }
   ],
   "source": [
    "# Define MLP\n",
    "MLPbatch = int(X_train_scaled_35.shape[0]/2)\n",
    "MLPmodel_35 = MLPRegressor(hidden_layer_sizes=(256, 128, 64, 32, 16, 8, 4, 1), activation= 'relu', solver= 'lbfgs', \n",
    "                           alpha=1e-2, batch_size= MLPbatch, learning_rate= 'invscaling', learning_rate_init=1e-6, \n",
    "                           power_t=0.5, max_iter=10000, shuffle=True, random_state=None, tol=0.0001, \n",
    "                           verbose=False, warm_start=False, momentum=0.9, nesterovs_momentum=True, \n",
    "                           early_stopping=False, validation_fraction=0.1, beta_1=0.9, beta_2=0.999, \n",
    "                           epsilon=1e-10, n_iter_no_change=50)\n",
    "\n",
    "MLPmodel_35.fit(X_train_scaled_35, y_train)\n",
    "MLP_pred_35 = MLPmodel_35.predict(X_test_scaled_35)\n",
    "\n",
    "MLPerrors_35 = abs(MLP_pred_35 - y_test)\n",
    "\n",
    "# Calculate mean absolute percentage error (MAPE)\n",
    "MLPmape_35 = 100 * (MLPerrors_35 / y_test)\n",
    "MLPaccuracy_35 = 100 - np.mean(MLPmape_35)\n",
    "print('MLP accuracy (features=', X_train_scaled_35.shape[1],'):', round(MLPaccuracy_35, 2), '%.')\n",
    "MLPtest_score_35 = MLPmodel_35.score(X_test_scaled_35, y_test)\n",
    "print('MLP test score:', round(MLPtest_score_35, 3))\n",
    "\n",
    "plt.scatter(MLP_pred_35, y_test)\n",
    "plt.title('MLP Regression: predicted vs. actual (delta feature)', fontsize=12)\n",
    "plt.xlabel('Predicted (test)', fontsize=10)\n",
    "plt.ylabel('Actual (test)', fontsize=10)\n",
    "\n",
    "# Plot line of best fit\n",
    "plt.plot(np.unique(MLP_pred_35), np.poly1d(np.polyfit(MLP_pred_35, y_test, 1))(np.unique(MLP_pred_35)), color='red')\n",
    "slope, intercept, r_value, p_value, std_err = scipy.stats.linregress(MLP_pred_35, y_test)\n",
    "M_string = 'M = ' + str(round(slope,2)) + ', R = ' + str(round(r_value,2))# Extract gradient ~1.0\n",
    "plt.text(4,7,M_string, color='red')               \n",
    "plt.show()\n"
   ]
  },
  {
   "cell_type": "code",
   "execution_count": null,
   "metadata": {},
   "outputs": [],
   "source": []
  }
 ],
 "metadata": {
  "kernelspec": {
   "display_name": "Python 3",
   "language": "python",
   "name": "python3"
  },
  "language_info": {
   "codemirror_mode": {
    "name": "ipython",
    "version": 3
   },
   "file_extension": ".py",
   "mimetype": "text/x-python",
   "name": "python",
   "nbconvert_exporter": "python",
   "pygments_lexer": "ipython3",
   "version": "3.7.4"
  }
 },
 "nbformat": 4,
 "nbformat_minor": 2
}
